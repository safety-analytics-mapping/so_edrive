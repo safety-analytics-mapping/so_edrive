{
 "cells": [
  {
   "cell_type": "markdown",
   "metadata": {},
   "source": [
    "### Speed Humps Analysis (2011-2017)\n",
    "\n",
    "#### Database: DOTDEVRHPGSQL01\n",
    "#### Tables: speed_humps\n",
    "\n",
    "#### 1. Year with most speed humps\n",
    "#### 2. All mfts with either sip corridor or intersection projects of study year range\n",
    "#### 3. Writing all sip project mfts of study year range from sip database to crash database\n",
    "#### 4. Sipless Single Year MFT Speed Humps of study year\n",
    "#### 5. Control Group: All mfts with no sips, no Speed humps and outside of study year range \n",
    "#### 6. All Injuries by node from FORMS and TAMS Data\n",
    "#### 7. Before-Afters for control and study group\n",
    "\n",
    "\n"
   ]
  },
  {
   "cell_type": "code",
   "execution_count": 49,
   "metadata": {},
   "outputs": [
    {
     "name": "stdout",
     "output_type": "stream",
     "text": [
      "Notebook run: 2020-03-02 16:42\n",
      "E:\\RIS\\Staff Folders\\Samuel\\Requests\\AG\\Speed Humps\n"
     ]
    }
   ],
   "source": [
    "from ris import pysqldb\n",
    "from IPython.display import clear_output\n",
    "from collections import defaultdict\n",
    "from collections import defaultdict, namedtuple\n",
    "import datetime \n",
    "import pandas as pd\n",
    "import numpy as np\n",
    "import os\n",
    "from sqlalchemy import create_engine\n",
    "\n",
    "clear_output()\n",
    "timestamp = datetime.datetime.now().strftime('%Y-%m-%d %H:%M')\n",
    "ts = datetime.datetime.now().strftime('%Y-%m-%d')\n",
    "\n",
    "print 'Notebook run: {}'.format(timestamp)\n",
    "print os.getcwd()"
   ]
  },
  {
   "cell_type": "code",
   "execution_count": 3,
   "metadata": {},
   "outputs": [
    {
     "name": "stdout",
     "output_type": "stream",
     "text": [
      "\n",
      "Additional database connection details required:\n",
      "User name (crashdata):soge\n",
      "Password (crashdata)········\n",
      "Database connection (PG) to CRASHDATA on DOTDEVRHPGSQL01 - user: soge \n",
      "Connection established 2020-03-02 15:05:04\n",
      "\n",
      "Additional database connection details required:\n",
      "User name (sip):soge\n",
      "Password (sip)········\n",
      "Database connection (PG) to sip on dotpgsql01 - user: soge \n",
      "Connection established 2020-03-02 15:05:08\n",
      "Warning:\n",
      "\tMissing SQL Server Native Client 10.0                 datetime2 will not be interpreted correctly\n",
      "\n",
      "Database connection (MS) to forms on dot55sql01 - user: arcgis \n",
      "Connection established 2020-03-02 15:05:09\n",
      "Query run in 25000 microseconds\n",
      "Warning:\n",
      "\tMissing SQL Server Native Client 10.0                 datetime2 will not be interpreted correctly\n",
      "\n"
     ]
    }
   ],
   "source": [
    "#Database connection\n",
    "cdb = pysqldb.DbConnect(server='DOTDEVRHPGSQL01', database='CRASHDATA', type='PG')\n",
    "sdb = pysqldb.DbConnect(server='dotpgsql01', database='sip', type='PG')\n",
    "sqldb = pysqldb.DbConnect(server='dot55sql01', database='forms', type='MS', user = 'arcgis', password = 'arcgis')"
   ]
  },
  {
   "cell_type": "code",
   "execution_count": 4,
   "metadata": {},
   "outputs": [],
   "source": [
    "my_study_year = 2014\n",
    "study_year_min = my_study_year-3\n",
    "study_year_max = my_study_year+3"
   ]
  },
  {
   "cell_type": "markdown",
   "metadata": {},
   "source": [
    "### 1. Year with most speed humps"
   ]
  },
  {
   "cell_type": "code",
   "execution_count": 5,
   "metadata": {},
   "outputs": [],
   "source": [
    "result = cdb.dfquery(\"\"\"    \n",
    "\n",
    "SELECT left(date_installed::text,4) as year, count(distinct lion.mft)\n",
    "FROM public.speed_humps sh\n",
    "join archive.\"18d.2019-11-13_lion\" lion\n",
    "on sh.segmentid = lion.segmentid \n",
    "where left(date_installed::text,4)::int between 2008 and 2014\n",
    "group by year\n",
    "order by year\n",
    "\n",
    "\"\"\")"
   ]
  },
  {
   "cell_type": "code",
   "execution_count": 6,
   "metadata": {
    "scrolled": true
   },
   "outputs": [
    {
     "data": {
      "text/html": [
       "<div>\n",
       "<style scoped>\n",
       "    .dataframe tbody tr th:only-of-type {\n",
       "        vertical-align: middle;\n",
       "    }\n",
       "\n",
       "    .dataframe tbody tr th {\n",
       "        vertical-align: top;\n",
       "    }\n",
       "\n",
       "    .dataframe thead th {\n",
       "        text-align: right;\n",
       "    }\n",
       "</style>\n",
       "<table border=\"1\" class=\"dataframe\">\n",
       "  <thead>\n",
       "    <tr style=\"text-align: right;\">\n",
       "      <th></th>\n",
       "      <th>year</th>\n",
       "      <th>count</th>\n",
       "    </tr>\n",
       "  </thead>\n",
       "  <tbody>\n",
       "    <tr>\n",
       "      <th>0</th>\n",
       "      <td>2008</td>\n",
       "      <td>129</td>\n",
       "    </tr>\n",
       "    <tr>\n",
       "      <th>1</th>\n",
       "      <td>2009</td>\n",
       "      <td>85</td>\n",
       "    </tr>\n",
       "    <tr>\n",
       "      <th>2</th>\n",
       "      <td>2010</td>\n",
       "      <td>153</td>\n",
       "    </tr>\n",
       "    <tr>\n",
       "      <th>3</th>\n",
       "      <td>2011</td>\n",
       "      <td>106</td>\n",
       "    </tr>\n",
       "    <tr>\n",
       "      <th>4</th>\n",
       "      <td>2012</td>\n",
       "      <td>221</td>\n",
       "    </tr>\n",
       "    <tr>\n",
       "      <th>5</th>\n",
       "      <td>2013</td>\n",
       "      <td>265</td>\n",
       "    </tr>\n",
       "    <tr>\n",
       "      <th>6</th>\n",
       "      <td>2014</td>\n",
       "      <td>361</td>\n",
       "    </tr>\n",
       "  </tbody>\n",
       "</table>\n",
       "</div>"
      ],
      "text/plain": [
       "   year  count\n",
       "0  2008    129\n",
       "1  2009     85\n",
       "2  2010    153\n",
       "3  2011    106\n",
       "4  2012    221\n",
       "5  2013    265\n",
       "6  2014    361"
      ]
     },
     "execution_count": 6,
     "metadata": {},
     "output_type": "execute_result"
    }
   ],
   "source": [
    "result"
   ]
  },
  {
   "cell_type": "markdown",
   "metadata": {},
   "source": [
    "### 2. All mfts with either sip corridor or intersection projects of study year range"
   ]
  },
  {
   "cell_type": "code",
   "execution_count": 7,
   "metadata": {},
   "outputs": [],
   "source": [
    "sip_projs = sdb.dfquery(\"\"\"\n",
    "\n",
    "--All corr/itx mfts with completed sips btwn {study_year_min}-{study_year_max}\n",
    "\n",
    "select * from (\n",
    "\n",
    "--All geometries that have mfts with completed sips between {study_year_min}-{study_year_max}\n",
    "SELECT distinct coalesce(lion.mft,0)::text mft, coalesce(masteridfr,0)::text masteridfrom, coalesce(masteridto,0)::text masteridto, lion.geom\n",
    "FROM public.sip_projects sp\n",
    "join public.sip_projects_geo spg\n",
    "on sp.pid=spg.pid_fk\n",
    "join clion lion\n",
    "on spg.segmentid::int = lion.segmentid::int\n",
    "where sp.status= '15'\n",
    "and spg.nodeid=0\n",
    "and left(sip_year::text,4)::int between {study_year_min} and {study_year_max}\n",
    "and left(end_date::text,4)::int between {study_year_min} and {study_year_max}\n",
    "\n",
    ") sip_corr_mfts\n",
    "\n",
    "\n",
    "union \n",
    "\n",
    "select * from (\n",
    "\n",
    "\n",
    "--Completed Sip masterids to mft/geometries between {study_year_min}-{study_year_max}\n",
    "with data as(\n",
    "\n",
    "\n",
    "SELECT sp.pid, sp.pjct_name, sp.pm, sp.sip_year, sp.start_date, sp.end_date, spg.nodeid, st_setsrid(spg.geom,2263) geom\n",
    "FROM public.sip_projects sp\n",
    "join public.sip_projects_geo spg\n",
    "on sp.pid=spg.pid_fk\n",
    "where sp.status= '15'\n",
    "and spg.segmentid=0\n",
    "and left(sp.sip_year::text,4)::int between {study_year_min} and {study_year_max}\n",
    "and left(sp.end_date::text,4)::int between {study_year_min} and {study_year_max}\n",
    ")\n",
    "\n",
    "\n",
    "SELECT distinct coalesce(clfr.mft,0)::text mft, coalesce(masteridfr,0)::text masteridfrom, coalesce(masteridto,0)::text masteridto, clfr.geom from data\n",
    "left join clion_node cln\n",
    "on data.nodeid::int = cln.nodeid::int\n",
    "left join  clion clfr\n",
    "on cln.masterid = clfr.masteridfr\n",
    "\n",
    "union \n",
    "\n",
    "SELECT distinct coalesce(clto.mft,0)::text mft, coalesce(masteridfr,0)::text masteridfrom, coalesce(masteridto,0)::text masteridto, clto.geom from data\n",
    "left join clion_node cln\n",
    "on data.nodeid::int = cln.nodeid::int\n",
    "left join clion clto\n",
    "on cln.masterid = clto.masteridto\n",
    "\n",
    "\n",
    ") sip_itx_mfts\n",
    "\n",
    "\"\"\".format(study_year_min=study_year_min,study_year_max=study_year_max) \n",
    "                       )"
   ]
  },
  {
   "cell_type": "markdown",
   "metadata": {},
   "source": [
    "### 3. Writing all sip project mfts of study year range from sip database to crash database"
   ]
  },
  {
   "cell_type": "markdown",
   "metadata": {},
   "source": [
    "#### Runtime 5 mins"
   ]
  },
  {
   "cell_type": "code",
   "execution_count": 8,
   "metadata": {},
   "outputs": [
    {
     "name": "stdout",
     "output_type": "stream",
     "text": [
      "Database connection (PG) to CRASHDATA on DOTDEVRHPGSQL01 - user: soge \n",
      "Connection established 2020-03-02 15:06:27\n"
     ]
    },
    {
     "data": {
      "text/plain": [
       "[['mft', 'varchar (500)'],\n",
       " ['masteridfrom', 'varchar (500)'],\n",
       " ['masteridto', 'varchar (500)'],\n",
       " ['geom', 'varchar (500)']]"
      ]
     },
     "execution_count": 8,
     "metadata": {},
     "output_type": "execute_result"
    }
   ],
   "source": [
    "cdb.connect()\n",
    "cdb.dataframe_to_table_schema(sip_projs, 'sip_projs', schema='working', overwrite = True)"
   ]
  },
  {
   "cell_type": "code",
   "execution_count": 11,
   "metadata": {
    "collapsed": true
   },
   "outputs": [
    {
     "name": "stdout",
     "output_type": "stream",
     "text": [
      "Database connection (PG) to CRASHDATA on DOTDEVRHPGSQL01 - user: soge \n",
      "Connection established 2020-03-02 15:12:18\n",
      "Reading data into Database\n",
      "\n"
     ]
    },
    {
     "name": "stderr",
     "output_type": "stream",
     "text": [
      "85it [00:01, 43.26it/s]"
     ]
    },
    {
     "name": "stdout",
     "output_type": "stream",
     "text": [
      "Failure:\n",
      "\n",
      "- Query run 2020-03-02 15:12:20.686000\n",
      "\t\n",
      "                INSERT INTO working.sip_projs (\"mft\", \"masteridfrom\", \"masteridto\", \"geom\")\n",
      "                VALUES ('0', '0', '0', '0105000020D70800000100000001020000000F0000000004B7EB6F462E410032EEBE099D05410050BC4E67462E41001670A1969C0541B9CCB33F4B462E41E2B2E0C84E9B05410F96587D2A462E415C6F89FD0D9A0541802CD42305462E41004C3153D5980541FEFE334CEA452E41AD7BBE0B029805414B85A32FD2452E4163E6F88F29970541F95339DEBC452E4197D252704C96054180D22E66AA452E41002057406B950541BCA7A2069A452E41BAB81DB1949405418ADD19548C452E4157D92527BB93054100492E5781452E410080082BDF920541175359D57C452E41553D15931192054156AEA3087C452E41866A81374391054180AA1CF27E452E410000CC2975900541')\n",
      "            \n",
      "Database connection (PG) to CRASHDATA on DOTDEVRHPGSQL01 - user: soge \n",
      "Connection closed 2020-03-02 15:12:20\n",
      "Database connection (PG) to CRASHDATA on DOTDEVRHPGSQL01 - user: soge \n",
      "Connection established 2020-03-02 15:12:20\n"
     ]
    },
    {
     "name": "stderr",
     "output_type": "stream",
     "text": [
      "406it [00:09, 43.89it/s]"
     ]
    },
    {
     "name": "stdout",
     "output_type": "stream",
     "text": [
      "Failure:\n",
      "\n",
      "- Query run 2020-03-02 15:12:27.809000\n",
      "\t\n",
      "                INSERT INTO working.sip_projs (\"mft\", \"masteridfrom\", \"masteridto\", \"geom\")\n",
      "                VALUES ('0', '0', '0', '0105000020D70800000100000001020000000F00000000A483D245B62E410028E0CCE40F0C4158D77B3712B62E41B17739726F0F0C413C07B088DCB52E41259C87170A0F0C41F3A05915A5B52E418A5A5E52B50E0C4175EC4D2F6CB52E4140F8D79F710E0C41BF47852A32B52E41EA9ADC633F0E0C41CA3A9F5CF7B42E4180D78EE81E0E0C41001B641CBCB42E41004ADE5D100E0C41B93940C180B42E418F2A45D9130E0C417236D1A245B42E41E4859E55290E0C41CF4E56180BB42E41450035B3500E0C4147673478D1B32E414F33F0B7890E0C41468B761799B32E41806AAA0FD40E0C41AF6B504962B32E4139D2AC4C2F0F0C410095A35E2DB32E41006251E89A0F0C41')\n",
      "            \n",
      "Database connection (PG) to CRASHDATA on DOTDEVRHPGSQL01 - user: soge \n",
      "Connection closed 2020-03-02 15:12:27\n",
      "Database connection (PG) to CRASHDATA on DOTDEVRHPGSQL01 - user: soge \n",
      "Connection established 2020-03-02 15:12:27\n"
     ]
    },
    {
     "name": "stderr",
     "output_type": "stream",
     "text": [
      "684it [00:14, 46.69it/s]"
     ]
    },
    {
     "name": "stdout",
     "output_type": "stream",
     "text": [
      "Failure:\n",
      "\n",
      "- Query run 2020-03-02 15:12:33.560000\n",
      "\t\n",
      "                INSERT INTO working.sip_projs (\"mft\", \"masteridfrom\", \"masteridto\", \"geom\")\n",
      "                VALUES ('106947', '43466', '43572', '0105000020D70800000100000001020000001A00000000D62120F9942E4100AE74B1F4E30D418086BE6240952E41004AE74C65E50D4180947C7340952E4100F625A465E50D4100C6F38040952E4100A48F0266E50D4180E189D37E952E410036EA8800E70D41807E9BD87E952E41001A4CAA00E70D4180E492DD7E952E41002670D200E70D410059CA26B2952E4100A06C1EC0E80D41006F3434B2952E4100E6B390C0E80D4100049A3CB2952E4100BEC602C1E80D4180A785AED8952E41005AE7F69DEA0D41809B91E1F0952E4100AE34AE8FEC0D418015FAF2F9952E41003C931B8BEE0D4100D6C4F4F9952E41002A32588BEE0D4100D6C4F4F9952E4100CE33948BEE0D41808896B5F3952E410080988285F00D41001AF3B3F3952E41007249D385F00D4180EB84B0F3952E410040381D86F00D418081FE97DE952E41005A271A74F20D4100135B96DE952E410042B44274F20D4180E4EC92DE952E41004CD86A74F20D41802BDBADBB952E410050F9CD4CF40D41002D0C968C952E4100D03BBF06F60D410085458A8C952E4100828C2A07F60D4180E52A7B8C952E4100A0119607F60D41800F640F53952E41006A98F09CF70D41')\n",
      "            \n",
      "Database connection (PG) to CRASHDATA on DOTDEVRHPGSQL01 - user: soge \n",
      "Connection closed 2020-03-02 15:12:33\n",
      "Database connection (PG) to CRASHDATA on DOTDEVRHPGSQL01 - user: soge \n",
      "Connection established 2020-03-02 15:12:33\n",
      "Failure:\n",
      "\n",
      "- Query run 2020-03-02 15:12:33.619000\n",
      "\t\n",
      "                INSERT INTO working.sip_projs (\"mft\", \"masteridfrom\", \"masteridto\", \"geom\")\n",
      "                VALUES ('106956', '44224', '44225', '0105000020D7080000010000000102000000140000008017EB2786C72E41006AAF07506A0E4100A0D4CE99C72E4100164854B06A0E410006CCF399C72E4100948709B16A0E41809D3A069AC72E41005E4BCCB16A0E4100DFC3C7A6C72E4100142DC73B6B0E4100F52DD5A6C72E41001814543C6B0E4100F52DD5A6C72E4100A4CDBF3C6B0E410090F2B5A5C72E4100A8167FE26B0E41003D5CB4A5C72E4100C67063E36B0E4100DA6D99A5C72E4100BC0841E46B0E4100286C3D93C72E410060A94A806C0E4180C47D2293C72E4100EA0C28816C0E41808AEBF692C72E410082EABB816C0E41003C1EBB73C72E410096CED0EE6C0E41801253AA73C72E4100826D0DEF6C0E41009C038C73C72E41008E9135EF6C0E4100CBEDD050C72E4100E2D4D11F6D0E4100C5DB9C50C72E4100408F1B206D0E4180A0B35E50C72E4100408F1B206D0E41004D435031C72E41007887DE206D0E41')\n",
      "            \n",
      "Database connection (PG) to CRASHDATA on DOTDEVRHPGSQL01 - user: soge \n",
      "Connection closed 2020-03-02 15:12:33\n",
      "Database connection (PG) to CRASHDATA on DOTDEVRHPGSQL01 - user: soge \n",
      "Connection established 2020-03-02 15:12:33\n",
      "Failure:\n",
      "\n",
      "- Query run 2020-03-02 15:12:33.659000\n",
      "\t\n",
      "                INSERT INTO working.sip_projs (\"mft\", \"masteridfrom\", \"masteridto\", \"geom\")\n",
      "                VALUES ('106956', '44224', '44225', '0105000020D70800000100000001020000001700000000AF71A0D4C72E41000AD8EC4A660E4100618B51B1C72E4100F0F13D68660E41005E8227B1C72E410042885F68660E4100F88A02B1C72E41007CABA968660E41806DC5638CC72E4100340DDCB3660E418007CE3E8CC72E41004C552CB4660E41009C33278CC72E41008C8A8AB4660E41007475966BC72E41007676DC34670E4100D45A876BC72E410064151935670E41802C947B6BC72E410010547035670E4100DDABE155C72E41006AE6CCE1670E41801E7BC855C72E41005A6C96E2670E418013C6C155C72E410078C67AE3670E41008F7DA24FC72E4100623295A2680E410029869D4FC72E4100AC8B1BA3680E41008F7DA24FC72E4100F2D28DA3680E41801635C358C72E4100FA2BB656690E41807C2CC858C72E41003C8C1B57690E4180C104D958C72E4100A66A8D57690E41006E16BE6CC72E41002CEECDE7690E418034F3D36CC72E4100EA8D68E8690E41008789F56CC72E410036E7EEE8690E418017EB2786C72E41006AAF07506A0E41')\n",
      "            \n",
      "Database connection (PG) to CRASHDATA on DOTDEVRHPGSQL01 - user: soge \n",
      "Connection closed 2020-03-02 15:12:33\n",
      "Database connection (PG) to CRASHDATA on DOTDEVRHPGSQL01 - user: soge \n",
      "Connection established 2020-03-02 15:12:33\n"
     ]
    },
    {
     "name": "stderr",
     "output_type": "stream",
     "text": [
      "\r",
      "689it [00:15, 36.64it/s]"
     ]
    },
    {
     "name": "stdout",
     "output_type": "stream",
     "text": [
      "Failure:\n",
      "\n",
      "- Query run 2020-03-02 15:12:33.777000\n",
      "\t\n",
      "                INSERT INTO working.sip_projs (\"mft\", \"masteridfrom\", \"masteridto\", \"geom\")\n",
      "                VALUES ('106962', '44430', '44468', '0105000020D70800000100000001020000000F000000001CB5845CAB2E4100E08BB2B9BE0E41003AA8D320AB2E41001636B587BF0E410095C0D7D9AA2E4100DA3EE13FC00E4100C8E4EE87AA2E4100A4D502D6C00E41806F6A782CAA2E41007AB84A3DC10E410091C9FFC9A92E4100669E0A6AC10E410093CE2264A92E4100820CAE53C10E418080B63CFFA82E4100D09CBDF6C00E4180730DD89FA82E4100066EBE55C00E4180F102014AA82E410032D63E79BF0E4100DADDBA00A82E4100880F516EBE0E418069ECB6C5A72E410054585D44BD0E4100C3BC4A99A72E41000C86CB0ABC0E4180B79CB87AA72E410030573BCFBA0E41003D247E68A72E41000099689CB90E41')\n",
      "            \n",
      "Database connection (PG) to CRASHDATA on DOTDEVRHPGSQL01 - user: soge \n",
      "Connection closed 2020-03-02 15:12:33\n",
      "Database connection (PG) to CRASHDATA on DOTDEVRHPGSQL01 - user: soge \n",
      "Connection established 2020-03-02 15:12:33\n"
     ]
    },
    {
     "name": "stderr",
     "output_type": "stream",
     "text": [
      "704it [00:15, 38.44it/s]"
     ]
    },
    {
     "name": "stdout",
     "output_type": "stream",
     "text": [
      "Failure:\n",
      "\n",
      "- Query run 2020-03-02 15:12:34.173000\n",
      "\t\n",
      "                INSERT INTO working.sip_projs (\"mft\", \"masteridfrom\", \"masteridto\", \"geom\")\n",
      "                VALUES ('107411', '54680', '54808', '0105000020D7080000010000000102000000170000000073A94EB2772F4100C28ED28DE90841002B5805FC772F41008A2828BBE7084100619AB450782F4100387F61FEE50841800B6ACA50782F4100F437EFFDE5084100E5A7E350782F4100AEF07CFDE5084100EFD8FCAF782F41003ABE745CE4084180159B03B0782F4100A0B5595CE408410005430AB0782F41009AA3455CE40841006692B918792F41006A8048DCE208418021BAC818792F41007CE10BDCE2084100B928DB18792F41002439D6DBE20841005B79D789792F410084A06782E10841802C0BF489792F4100D8611082E1084100C782108A792F41009E3EC681E1084100504E21027A2F410038AAAD52E0084100E5B329027A2F410032989952E0084180E7BC33027A2F4100501D8552E00841807B09DA7F7A2F41002A05CE50DF08410008C3E57F7A2F410090FCB250DF084180947CF17F7A2F41008AEA9E50DF084180C1EA85017B2F41008A41697EDE084100F36193017B2F41003EBD5B7EDE08418027737A857B2F4100E2ED63DCDD0841')\n",
      "            \n",
      "Database connection (PG) to CRASHDATA on DOTDEVRHPGSQL01 - user: soge \n",
      "Connection closed 2020-03-02 15:12:34\n",
      "Database connection (PG) to CRASHDATA on DOTDEVRHPGSQL01 - user: soge \n",
      "Connection established 2020-03-02 15:12:34\n",
      "Failure:\n",
      "\n",
      "- Query run 2020-03-02 15:12:34.221000\n",
      "\t\n",
      "                INSERT INTO working.sip_projs (\"mft\", \"masteridfrom\", \"masteridto\", \"geom\")\n",
      "                VALUES ('107411', '54680', '54808', '0105000020D70800000100000001020000000F0000008027737A857B2F4100E2ED63DCDD084180D35D1F007C2F41009879AE63DD0841006BCC31007C2F410092679A63DD084100798A42007C2F4100D4C77F63DD08418056CA37797C2F41002AE3FBBEDC084100107C17EF7C2F4100E04637EFDB084180C0F965607D2F4100BC47F3F5DA084180B5A5B3CB7D2F4100DE140DD6D90841006075C9CB7D2F4100CCDED0D5D90841808194DDCB7D2F410028B28DD5D9084100C4450E307E2F41003ED76092D8084180ACF11B8C7E2F4100AA5B3B30D7084100E91D308C7E2F4100B8AAEA2FD7084100818C428C7E2F41009E37932FD70841804A125DDF7E2F4100F0CB56B3D50841')\n",
      "            \n",
      "Database connection (PG) to CRASHDATA on DOTDEVRHPGSQL01 - user: soge \n",
      "Connection closed 2020-03-02 15:12:34\n",
      "Database connection (PG) to CRASHDATA on DOTDEVRHPGSQL01 - user: soge \n",
      "Connection established 2020-03-02 15:12:34\n"
     ]
    },
    {
     "name": "stderr",
     "output_type": "stream",
     "text": [
      "715it [00:15, 39.95it/s]"
     ]
    },
    {
     "name": "stdout",
     "output_type": "stream",
     "text": [
      "Failure:\n",
      "\n",
      "- Query run 2020-03-02 15:12:34.430000\n",
      "\t\n",
      "                INSERT INTO working.sip_projs (\"mft\", \"masteridfrom\", \"masteridto\", \"geom\")\n",
      "                VALUES ('108007', '48713', '48778', '0105000020D708000001000000010200000014000000804F80D9CFDE2E410026F92661A40F41002B848006DF2E41009477D5BFA50F418063DA8E48DF2E4100C2A0530CA70F41001CF99348DF2E41005CA96E0CA70F4100AEBA7C95DF2E4100D404423EA80F418010F323ECDF2E41008418344DA90F410037B52AECDF2E41008A2A484DA90F41805D7731ECDF2E410022085C4DA90F4180B9CFEA4AE02E410010702032AA0F41009EC20A4BE02E410002217132AA0F4100F1582C4BE02E41001457AD32AA0F41005EB310B0E02E41007A3F18E8AA0F418019DB1FB0E02E410038DF32E8AA0F4180D4022FB0E02E41001A5A47E8AA0F410070E42919E12E4100C676326BAB0F4180374DBB83E12E410074D639BAAB0F41007479CF83E12E4100E6F146BAAB0F4100B1A5E383E12E41007AE84DBAAB0F4180A0FBC2EDE12E410076B970D6AB0F418093F4F454E22E4100586AC1C2AB0F41')\n",
      "            \n",
      "Database connection (PG) to CRASHDATA on DOTDEVRHPGSQL01 - user: soge \n",
      "Connection closed 2020-03-02 15:12:34\n",
      "Database connection (PG) to CRASHDATA on DOTDEVRHPGSQL01 - user: soge \n",
      "Connection established 2020-03-02 15:12:34\n"
     ]
    },
    {
     "name": "stderr",
     "output_type": "stream",
     "text": [
      "743it [00:16, 47.31it/s]"
     ]
    },
    {
     "name": "stdout",
     "output_type": "stream",
     "text": [
      "Failure:\n",
      "\n",
      "- Query run 2020-03-02 15:12:34.994000\n",
      "\t\n",
      "                INSERT INTO working.sip_projs (\"mft\", \"masteridfrom\", \"masteridto\", \"geom\")\n",
      "                VALUES ('108835', '49192', '49203', '0105000020D708000001000000010200000018000000002195023C162F410082DAB3479D0F4100CD1A9D69162F410044D2BAC29E0F4180F9E1B78C162F41007E1E145AA00F4180FCEAC18C162F41007CF38C5AA00F41803EBAC88C162F41000EBF0C5BA00F41801263EDA3162F410094EAB507A20F41808006EFA3162F4100A00EDE07A20F4180EEA9F0A3162F4100889B0608A20F4100700219AE162F4100288E6AC1A30F410083631CAE162F4100C67D12C2A30F4100DEA51AAE162F410018E9ACC2A30F4180C154C0AA162F4100D089587FA50F4180C154C0AA162F410076B69B7FA50F4180AEF3BCAA162F4100B0D9E57FA50F4100FA0AF499162F410008F45836A70F4180705AF299162F4100F6929536A70F41800A63ED99162F41009CBFD836A70F418014F1627C162F4100B22E0DDDA80F41807F8B5A7C162F410068918CDDA80F4180D7C44E7C162F410042CF05DEA80F418052892F53162F4100D8E7BC6BAA0F41804F802553162F4100AAE81A6CAA0F4180A7B91953162F41005627726CAA0F4100F1B2E91F162F41005C1288DBAB0F41')\n",
      "            \n",
      "Database connection (PG) to CRASHDATA on DOTDEVRHPGSQL01 - user: soge \n",
      "Connection closed 2020-03-02 15:12:34\n",
      "Database connection (PG) to CRASHDATA on DOTDEVRHPGSQL01 - user: soge \n",
      "Connection established 2020-03-02 15:12:35\n"
     ]
    },
    {
     "name": "stderr",
     "output_type": "stream",
     "text": [
      "821it [00:17, 50.82it/s]"
     ]
    },
    {
     "name": "stdout",
     "output_type": "stream",
     "text": [
      "Failure:\n",
      "\n",
      "- Query run 2020-03-02 15:12:36.530000\n",
      "\t\n",
      "                INSERT INTO working.sip_projs (\"mft\", \"masteridfrom\", \"masteridto\", \"geom\")\n",
      "                VALUES ('110803', '5577', '5717', '0105000020D70800000100000001020000000F000000000EBE6610EB2C41005E35B9848B0241BEAF93CDC8EA2C413230088BAC8B02416747CBE581EA2C4154E534CEE48B024132A9C2EB3BEA2C412C1AD5522D8C0241E73F0D1BF7E92C416A7F2BDB858C0241585441AEB3E92C41C669D81BEE8C02414F2CC6DE71E92C41B2FD19BC658D0241802BA3E431E92C4100C01756EC8D0241469351F6F3E82C41ADBC3A77818E02418EC58948B8E82C418C388AA0248F024164C01A0E7FE82C416E341D47D58F0241B067BD7748E82C41D5B28ED492900241320AEBB314E82C4162C27DA75C9102418CD0B5EEE3E72C4154E21614329202410038A351B6E72C41004CA66412930241')\n",
      "            \n",
      "Database connection (PG) to CRASHDATA on DOTDEVRHPGSQL01 - user: soge \n",
      "Connection closed 2020-03-02 15:12:36\n",
      "Database connection (PG) to CRASHDATA on DOTDEVRHPGSQL01 - user: soge \n",
      "Connection established 2020-03-02 15:12:36\n"
     ]
    },
    {
     "name": "stderr",
     "output_type": "stream",
     "text": [
      "877it [00:19, 46.44it/s]"
     ]
    },
    {
     "name": "stdout",
     "output_type": "stream",
     "text": [
      "Failure:\n",
      "\n",
      "- Query run 2020-03-02 15:12:37.751000\n",
      "\t\n",
      "                INSERT INTO working.sip_projs (\"mft\", \"masteridfrom\", \"masteridto\", \"geom\")\n",
      "                VALUES ('111263', '44430', '44431', '0105000020D7080000010000000102000000190000008042CC0484A72E4100D06B5A0EAB0E4100C9445FA5A72E4100D4C70BE7AB0E41002F3C64A5A72E4100E0EB33E7AB0E4180429D67A5A72E4100A0B655E7AB0E41808F51F0BDA72E41002EFA02E4AC0E4100925AFABDA72E4100E04A6EE4AC0E41006686FFBDA72E4100D80DD3E4AC0E410094AE9DCAA72E410044C8BEFCAD0E418015B3A2CAA72E4100880F31FDAD0E418015B3A2CAA72E4100F418AAFDAD0E4180FC8C0FC9A72E4100DA541A23AF0E4180FC8C0FC9A72E410030D24823AF0E4180E92B0CC9A72E4100D2177F23AF0E4100B1A475B8A72E41002010E444B00E4180D45D72B8A72E410098680C45B00E4100B9E5E699A72E41001E6DF34FB10E4100A37BD999A72E4100F6AA6C50B10E41800B0DC799A72E41003AC7D750B10E41802CBAF06FA72E4100C6F3BC36B20E41001FFCDF6FA72E410098F41A37B20E4180B361C86FA72E410042337237B20E41809785303EA72E4100E07917F0B20E4180A7DD293EA72E41000C4E32F0B20E41802E85213EA72E4100809446F0B20E4100843C8208A72E41007CE83A79B30E41')\n",
      "            \n",
      "Database connection (PG) to CRASHDATA on DOTDEVRHPGSQL01 - user: soge \n",
      "Connection closed 2020-03-02 15:12:37\n",
      "Database connection (PG) to CRASHDATA on DOTDEVRHPGSQL01 - user: soge \n",
      "Connection established 2020-03-02 15:12:37\n"
     ]
    },
    {
     "name": "stderr",
     "output_type": "stream",
     "text": [
      "938it [00:20, 52.11it/s]"
     ]
    },
    {
     "name": "stdout",
     "output_type": "stream",
     "text": [
      "Failure:\n",
      "\n",
      "- Query run 2020-03-02 15:12:39.062000\n",
      "\t\n",
      "                INSERT INTO working.sip_projs (\"mft\", \"masteridfrom\", \"masteridto\", \"geom\")\n",
      "                VALUES ('113665', '45069', '49368', '0105000020D70800000100000001020000001100000080877D2D27D52E4100B61C260D73104100D3CAA000D52E4100A62DDCB772104100833D8900D52E41004D85A6B77210418004426E00D52E4100D42C7EB77210418061BE1ECFD42E4100DE266C6E7210418071A6B894D42E4100E4BF163972104100F84D9094D42E4100B5E2F1387210418010526694D42E41008B17E13872104100C8C51B54D42E41006D6B441D7210418087325212D42E410027D74D1E72104180BE4C3212D42E410027D74D1E7210418010741212D42E4100745B5B1E721041001E3A6FD3D32E4100DC35F73A7210410088CABE9BD32E410033C6976E721041005CF6A39BD32E41008353AF6E721041809DC58A9BD32E4100B330D46E721041805BFC246DD32E41009C1BC8B2721041')\n",
      "            \n",
      "Database connection (PG) to CRASHDATA on DOTDEVRHPGSQL01 - user: soge \n",
      "Connection closed 2020-03-02 15:12:39\n",
      "Database connection (PG) to CRASHDATA on DOTDEVRHPGSQL01 - user: soge \n",
      "Connection established 2020-03-02 15:12:39\n"
     ]
    },
    {
     "name": "stderr",
     "output_type": "stream",
     "text": [
      "995it [00:21, 52.86it/s]"
     ]
    },
    {
     "name": "stdout",
     "output_type": "stream",
     "text": [
      "Failure:\n",
      "\n",
      "- Query run 2020-03-02 15:12:40.095000\n",
      "\t\n",
      "                INSERT INTO working.sip_projs (\"mft\", \"masteridfrom\", \"masteridto\", \"geom\")\n",
      "                VALUES ('115193', '18726', '9034013', '0105000020D70800000100000001020000001700000080DD79CBF04B2E4100E20B31077006412BA2DB20244C2E41BCDC40BFA96F064154C5DD67554C2E41C5B80C033C6F0641371BF44D844C2E416F6D42B4BE6E064189828E84B04C2E41C21ECBA4326E06418B7F9CC1D94C2E41187B46BF986D0641E24D09C0FF4C2E41C8B28105F26C06416D992F40224D2E413D9CC78E3F6C06413C1C4408414D2E41DED70C86826B0641046FB6E45B4D2E419803FB27BC6A0641EC6987A8724D2E41E944DEC0ED6906410085942D854D2E4100A278AA18690641266BD854934D2E412EB5A2493E68064186BE9B069D4D2E41637E490C60670641CF20A132A24D2E418ADFB6667F6606410C9D3ED0A24D2E41EA013DD19D650641172B6CDE9E4D2E419DEFBFC5BC640641E969C563964D2E41C98B3CBDDD630641D88D7E6E894D2E411B0E512D0263064156954C14784D2E415523CB852B6206410EEC4072624D2E4172CB3F2E5B61064141B998AC484D2E4177FDB08392600641002B80EE2A4D2E41000245D6D25F0641')\n",
      "            \n",
      "Database connection (PG) to CRASHDATA on DOTDEVRHPGSQL01 - user: soge \n",
      "Connection closed 2020-03-02 15:12:40\n",
      "Database connection (PG) to CRASHDATA on DOTDEVRHPGSQL01 - user: soge \n",
      "Connection established 2020-03-02 15:12:40\n"
     ]
    },
    {
     "name": "stderr",
     "output_type": "stream",
     "text": [
      "\r",
      "1001it [00:21, 48.80it/s]"
     ]
    },
    {
     "name": "stdout",
     "output_type": "stream",
     "text": [
      "Failure:\n",
      "\n",
      "- Query run 2020-03-02 15:12:40.220000\n",
      "\t\n",
      "                INSERT INTO working.sip_projs (\"mft\", \"masteridfrom\", \"masteridto\", \"geom\")\n",
      "                VALUES ('115193', '18726', '9034013', '0105000020D70800000100000001020000000F0000000084CA7E00502E410002544C293C06414A0CB26247502E4188C11E62583B064189E608C58B502E410BE23F817A3A0641BF75E97FCD502E412922AD2490390641CAA7E66E0C512E41C63C47CE993806411B25206F48512E4158EF9106983706419CA4555F81512E41AB52685C8B3606410059F91FB7512E4100B0AD647435064134B13D93E9512E4168D1FAB9533406416624319D18522E41BAC349FC293306411054C22344522E41FCD09AD0F7310641964CD20E6C522E41DA2B9AE0BD30064148E3414890522E415AE841DA7C2F0641C6F8FDBBB0522E41DF91796F352E064100990A58CD522E410094B355E82C0641')\n",
      "            \n",
      "Database connection (PG) to CRASHDATA on DOTDEVRHPGSQL01 - user: soge \n",
      "Connection closed 2020-03-02 15:12:40\n",
      "Database connection (PG) to CRASHDATA on DOTDEVRHPGSQL01 - user: soge \n",
      "Connection established 2020-03-02 15:12:40\n"
     ]
    },
    {
     "name": "stderr",
     "output_type": "stream",
     "text": [
      "1034it [00:22, 48.62it/s]"
     ]
    },
    {
     "name": "stdout",
     "output_type": "stream",
     "text": [
      "Failure:\n",
      "\n",
      "- Query run 2020-03-02 15:12:40.984000\n",
      "\t\n",
      "                INSERT INTO working.sip_projs (\"mft\", \"masteridfrom\", \"masteridto\", \"geom\")\n",
      "                VALUES ('115894', '37342', '37342', '0105000020D7080000010000000102000000390000000072FE7F6CD22F4100740DDBB1430841000F4B5572D22F410068E9B2B143084100E3B12A78D22F4100BEAA5BB14308410080FEFF7DD22F41009813DCB043084100C208D783D22F4100B2B13AB04308418072B6AF89D22F41009C696AAF430841807DA6868FD22F41000AC971AE430841002E545F95D22F410000D050AD43084100151C389BD22F4100EAB207AC43084180C5C910A1D22F4100EE0896AA43084180D0B9E7A6D22F4100526FFCA843084180B781C0ACD22F41003C5233A743084100682F99B2D22F410040D348A543084100731F70B8D22F4100A6392FA34308418023CD48BED22F4100B809F4A04308418065D71FC4D22F410096F3899E430841800224F5C9D22F41009050F79B43084180D68ACACFD22F41007C893C994308418073D79FD5D22F4100CCD2599643084180A28073DBD22F41000ECD4793430841002C6C45E1D22F4100B293139043084100ED7117E7D22F41007011B18C4308418008BAE7ECD22F4100FE8F2C8943084180B55EB6F2D22F41005A287985430841002CE984F8D22F410018D19D8143084180C62C50FED22F4100CC11A07D43084180F2CC1904D32F41009809747943084180E752E309D32F4100A00B1F75430841000092A90FD32F41007A52A2704308418073136E15D32F41006C0CFD6B430841000B4E2F1BD32F4100BCAB2867430841006B6EF020D32F41002AE9326243084100EF47AE26D32F4100AE99145D4308410060C0682CD32F4100BCF1CD57430841802B7B2132D32F41004EF15E52430841008992D837D32F4100D6CCC74C4308410065A58A3DD32F4100E44F08474308410041B83C43D32F41000C7127414308418064ACE948D32F41009477173B430841001AFD944ED32F410036F1DE34430841004E493B54D32F410086D4842E4308410014F2DF59D32F4100C893022843084180C639815FD32F4100B89157214308418065201F65D32F410076D4841A43084180F1A5B96AD32F4100744C901343084180FC264F70D32F4100D2A96C0C4308410062EAE275D32F4100DC702705430841007DC3717BD32F4100266DC0FD42084180DF7DFB80D32F4100ACB72AF642084100D4948386D32F4100723773EE42084100108D068CD32F4100C0899AE642084180CA808491D32F4100DEB198DE42084100A92DFF96D32F41003A536FD642084100CFBB749CD32F4100D42924CE420841801803E7A1D32F4100F6A7B0C542084180A92B54A7D32F4100C48F1BBD42084180B94FBCACD32F4100647864B4420841')\n",
      "            \n",
      "Database connection (PG) to CRASHDATA on DOTDEVRHPGSQL01 - user: soge \n",
      "Connection closed 2020-03-02 15:12:40\n",
      "Database connection (PG) to CRASHDATA on DOTDEVRHPGSQL01 - user: soge \n",
      "Connection established 2020-03-02 15:12:41\n"
     ]
    },
    {
     "name": "stderr",
     "output_type": "stream",
     "text": [
      "1049it [00:22, 45.52it/s]"
     ]
    },
    {
     "name": "stdout",
     "output_type": "stream",
     "text": [
      "Failure:\n",
      "\n",
      "- Query run 2020-03-02 15:12:41.377000\n",
      "\t\n",
      "                INSERT INTO working.sip_projs (\"mft\", \"masteridfrom\", \"masteridto\", \"geom\")\n",
      "                VALUES ('116364', '44228', '44744', '0105000020D70800000100000001020000001700000000678B064BCA2E410078D193527A0E4180E74B9147CA2E4100148BB2F07B0E4180E74B9147CA2E4100BAB7F5F07B0E41808C099347CA2E4100A85632F17B0E4180768DB14ECA2E4100D095AB947D0E41801B4BB34ECA2E41001AEF31957D0E41009D4FB84ECA2E41006648B8957D0E410075A4B960CA2E4100E47361387F0E41008805BD60CA2E41004459B2387F0E4180090AC260CA2E4100CAD502397F0E41003BCA9D7DCA2E4100003245D4800E4180CF2FA67DCA2E4100FE06BED4800E418040DCB17DCA2E4100FCDB36D5800E410041E804A5CA2E41007CD72462820E4100B29410A5CA2E41007AAC9D62820E41006DBC1FA5CA2E4100C0F30F63820E4100ACE232D6CA2E4100C8CC91DB830E4180D5AD43D6CA2E41005C9811DC830E410012DA57D6CA2E41005A6D8ADC830E4100807E3710CB2E410048817C3B850E4180A6403E10CB2E410054A5A43B850E41803BA64610CB2E410060C9CC3B850E4100269AC451CB2E4100FC8EED7C860E41')\n",
      "            \n",
      "Database connection (PG) to CRASHDATA on DOTDEVRHPGSQL01 - user: soge \n",
      "Connection closed 2020-03-02 15:12:41\n",
      "Database connection (PG) to CRASHDATA on DOTDEVRHPGSQL01 - user: soge \n",
      "Connection established 2020-03-02 15:12:41\n"
     ]
    },
    {
     "name": "stderr",
     "output_type": "stream",
     "text": [
      "1086it [00:23, 40.37it/s]"
     ]
    },
    {
     "name": "stdout",
     "output_type": "stream",
     "text": [
      "Failure:\n",
      "\n",
      "- Query run 2020-03-02 15:12:42.227000\n",
      "\t\n",
      "                INSERT INTO working.sip_projs (\"mft\", \"masteridfrom\", \"masteridto\", \"geom\")\n",
      "                VALUES ('118687', '18181', '9034013', '0105000020D70800000100000001020000000F00000000FF428B53592E410032489657BF05410828553753592E41B84A2A1FB1BE05412C67C3EA57592E4169FF76B70BBE0541A22AEF9361592E41236C22CB69BD0541F0C5A20E70592E4106BD13B9CDBC05418929992483592E41B37342CA39BC0541444B498E9A592E41CEE42529B0BB05415445F2F3B5592E41360797D932BB0541D03EE4EED4592E41560243B1C3BA0541F64C010BF7592E411CCACA5064BA0541B0AA70C81B5A2E41E38EA91D16BA054100E77D9D425A2E4100DEF83CDAB905411CE17D647E5A2E41E733EA3A86B905415D182E5EB85A2E4167EA41FE1FB9054100E5C431F05A2E4100BE9223A8B80541')\n",
      "            \n",
      "Database connection (PG) to CRASHDATA on DOTDEVRHPGSQL01 - user: soge \n",
      "Connection closed 2020-03-02 15:12:42\n",
      "Database connection (PG) to CRASHDATA on DOTDEVRHPGSQL01 - user: soge \n",
      "Connection established 2020-03-02 15:12:42\n"
     ]
    },
    {
     "name": "stderr",
     "output_type": "stream",
     "text": [
      "1430it [00:30, 54.06it/s]"
     ]
    },
    {
     "name": "stdout",
     "output_type": "stream",
     "text": [
      "Failure:\n",
      "\n",
      "- Query run 2020-03-02 15:12:49.066000\n",
      "\t\n",
      "                INSERT INTO working.sip_projs (\"mft\", \"masteridfrom\", \"masteridto\", \"geom\")\n",
      "                VALUES ('131088', '50095', '9040167', '0105000020D7080000010000000102000000140000008051E488594B2F410086AAB228BA084100AAAA94F54A2F4100BA34D25DBA0841009CEC83F54A2F41004E2BD95DBA084180047E71F54A2F41004E2BD95DBA084100E25A368F4A2F41003094D966BA0841800514138F4A2F41003094D966BA084180B27DF18E4A2F4100E40FCC66BA084100586233284A2F4100160CE541BA084100F26A0E284A2F4100CA87D741BA0841009FD4EC274A2F41000AE8BC41BA0841802E027DC2492F410012F4BEEEB9084100FA8165C2492F41000CE2AAEEB9084180CDAD4AC2492F4100BA4B89EEB908410021F32060492F4100C0E5006FB9084180102C0660492F41006C4FDF6EB908410052FBEC5F492F4100CC34B06EB908410091CDCB02492F41002E7DDEC5B808410012D2B002492F41009062AFC5B80841806FAE9702492F41007E2C73C5B8084100C8CD7AC4482F410048E03B3BB80841')\n",
      "            \n",
      "Database connection (PG) to CRASHDATA on DOTDEVRHPGSQL01 - user: soge \n",
      "Connection closed 2020-03-02 15:12:49\n",
      "Database connection (PG) to CRASHDATA on DOTDEVRHPGSQL01 - user: soge \n",
      "Connection established 2020-03-02 15:12:49\n"
     ]
    },
    {
     "name": "stderr",
     "output_type": "stream",
     "text": [
      "1647it [00:34, 52.48it/s]"
     ]
    },
    {
     "name": "stdout",
     "output_type": "stream",
     "text": [
      "Failure:\n",
      "\n",
      "- Query run 2020-03-02 15:12:53.236000\n",
      "\t\n",
      "                INSERT INTO working.sip_projs (\"mft\", \"masteridfrom\", \"masteridto\", \"geom\")\n",
      "                VALUES ('15378', '11255', '68047', '0105000020D708000001000000010200000012000000009C095B28542D4100CED6A35083044100982CE5DA532D4100F43EF1DF80044100F065D9DA532D410048009ADF80044180B642CFDA532D410008CB3BDF80044180D9EAC497532D41009E62D5577E0441001EC3B597532D41009A7B48577E044100AD16AA97532D4100BA2BBB567E0441001FE4945F532D41007ECD2BBC7B0441802F3C8E5F532D410044AAE1BB7B044100771D895F532D41002C6291BB7B044180C7D2DE32532D41008E394F1279044180D72AD832532D4100E0CFF011790441801F0CD332532D4100E60C8C117904410078E3E511532D410060943C5E760441005335DEFC522D4100185AD5A5730441803FD4DAFC522D410026A984A573044180D130D9FC522D41007A6A2DA573044100E481B3F3522D41003230C6EC700441')\n",
      "            \n",
      "Database connection (PG) to CRASHDATA on DOTDEVRHPGSQL01 - user: soge \n",
      "Connection closed 2020-03-02 15:12:53\n",
      "Database connection (PG) to CRASHDATA on DOTDEVRHPGSQL01 - user: soge \n",
      "Connection established 2020-03-02 15:12:53\n"
     ]
    },
    {
     "name": "stderr",
     "output_type": "stream",
     "text": [
      "2598it [00:52, 56.77it/s]"
     ]
    },
    {
     "name": "stdout",
     "output_type": "stream",
     "text": [
      "Failure:\n",
      "\n",
      "- Query run 2020-03-02 15:13:11.257000\n",
      "\t\n",
      "                INSERT INTO working.sip_projs (\"mft\", \"masteridfrom\", \"masteridto\", \"geom\")\n",
      "                VALUES ('169624', '32915', '32943', '0105000020D70800000100000001020000001300000000BCEBE7427D2F410020E7755B610241EB08DE992E7D2F41A79AF9B82B610241F54FAD94187D2F411F2D124C0A6102416A4F5C78017D2F416EBC1322F8600241EB0BDAECE97C2F41F18BFBBEF56002416B853D9DD27C2F410F23223403610241FC7CEA32BC7C2F410F42BD1F206102415295C250A77C2F41E679A6AF4B61024126BE858E947C2F417C3B52A78461024100838374847C2F410006CC68C9610241DD6BBB77777C2F4126B7710018620241ABE78DF66D7C2F419BD130336E62024110AF0B36687C2F412901AD8EC962024168C30060667C2F411EC70C7B2763024110B7C481687C2F41AB59D14D8563024112BAD98B6E7C2F417800365DE0630241C72B5D52787C2F4123298A1336640241717F468E857C2F41CD94F9018464024180666BDF957C2F4100243AF2C7640241')\n",
      "            \n",
      "Database connection (PG) to CRASHDATA on DOTDEVRHPGSQL01 - user: soge \n",
      "Connection closed 2020-03-02 15:13:11\n",
      "Database connection (PG) to CRASHDATA on DOTDEVRHPGSQL01 - user: soge \n",
      "Connection established 2020-03-02 15:13:11\n"
     ]
    },
    {
     "name": "stderr",
     "output_type": "stream",
     "text": [
      "3606it [01:11, 55.43it/s]"
     ]
    },
    {
     "name": "stdout",
     "output_type": "stream",
     "text": [
      "Failure:\n",
      "\n",
      "- Query run 2020-03-02 15:13:30.005000\n",
      "\t\n",
      "                INSERT INTO working.sip_projs (\"mft\", \"masteridfrom\", \"masteridto\", \"geom\")\n",
      "                VALUES ('182635', '63062', '63065', '0105000020D70800000100000001020000001800000040449F333B3830410080143FCCE9094100BDBA804438304100A46FF08CE90941C0EE318E4438304100643A928CE9094180D77A9C4438304100C00D4F8CE9094140FE38ED6338304100202041F7E8094140F39873873830410076EF168CE8094180C0D48187383041008E62EE8BE80941C07F528F87383041008850DA8BE80941C02BEADDAD383041002861A154E80941C07FCDE3AD38304100946A9A54E80941C08A82EAAD38304100946A9A54E809414013F22AD538304100A24AC856E80941C0894139D538304100A24AC856E80941802DB246D538304100A85CDC56E80941C041DB72FB38304100D4754F92E80941C09C1D81FB38304100DA876392E8094140136D8FFB383041007AA29292E8094180BDE2E01E39304100D45E9801E90941003FE7E51E3930410020E3A501E9094140091AEA1E3930410026F5B901E90941000551F43D393041000C90319AE9094140C4CE013E39304100B0BC749AE909414023670E3E393041005CFBCB9AE9094100668A28493930410016EE7CE8E90941')\n",
      "            \n",
      "Database connection (PG) to CRASHDATA on DOTDEVRHPGSQL01 - user: soge \n",
      "Connection closed 2020-03-02 15:13:30\n",
      "Database connection (PG) to CRASHDATA on DOTDEVRHPGSQL01 - user: soge \n",
      "Connection established 2020-03-02 15:13:30\n"
     ]
    },
    {
     "name": "stderr",
     "output_type": "stream",
     "text": [
      "3793it [01:14, 52.44it/s]"
     ]
    },
    {
     "name": "stdout",
     "output_type": "stream",
     "text": [
      "Failure:\n",
      "\n",
      "- Query run 2020-03-02 15:13:33.449000\n",
      "\t\n",
      "                INSERT INTO working.sip_projs (\"mft\", \"masteridfrom\", \"masteridto\", \"geom\")\n",
      "                VALUES ('185027', '37667', '37754', '0105000020D70800000100000001020000003000000080D173DF49FA2F4100F6A9215A35084180A79F444CFA2F41002480E74C350841002AE8C34FFA2F410098D1303A350841007BB95553FA2F4100D0D4A82735084100775AFD56FA2F41003CE95615350841804184B75AFA2F4100B4212D033508418011C0855EFA2F4100606B39F134084180B0846662FA2F4100645D7BDF340841008C755B66FA2F41007A85F9CD34084100FFD4626AFA2F410030C8A6BC3408418040BD7C6EFA2F410068A097AB340841807456A772FA2F41001CB8BD9A340841007778E476FA2F41005265278A340841004823347BFA2F41009848CD79340841809DDB927FFA2F41008658B66934084180C11C0484FA2F41006007DC5934084180696B8488FA2F41002C67524A340841803B85158DFA2F41000AFD043B34084100C8C6B591FA2F410020B6012C3408418010306596FA2F41002C204F1D34084100DDA6239BFA2F4100004EDF0E34084180BF87EF9FFA2F4100A295C000340841805D90CAA4FA2F4100A497EBF233084100A35FB1A9FA2F4100984A67E53308410036B3A5AEFA2F41007EAE33D8330841008D49A7B3FA2F41000E2650CB33084100541DB3B8FA2F41006EB7BDBE33084180164ECCBDFA2F41002C2E7CB2330841006DE4EDC2FA2F41004E4691A633084100DAE41CC8FA2F4100D06EFE9A330841806DA752CDFA2F4100DA13BC8F33084100A93094D2FA2F41004685D78433084180791FDED7FA2F4100A6A7437A3308410039B62EDDFA2F4100B208077033084100337089E2FA2F4100FC9E2866330841001CD2EAE7FA2F41003AE69A5C33084180BD5251EDFA2F4100B6626B5333084180A111C0F2FA2F4100E01D934A33084180066632F8FA2F41006CA51842330841004055ABFDFA2F410082D4F53933084180FA482903FB2F4100FACF303233084180C89DAA08FB2F4100F872C32A33084180A9532F0EFB2F4100A454AD23330841009E6AB713FB2F4100B202F51C3308418000254119FB2F41004A589416330841807640CE1EFB2F4100D645911033084180EC5B5B24FB2F4100C443E60A33084180D01AEA29FB2F4100F24B9205330841')\n",
      "            \n",
      "Database connection (PG) to CRASHDATA on DOTDEVRHPGSQL01 - user: soge \n",
      "Connection closed 2020-03-02 15:13:33\n",
      "Database connection (PG) to CRASHDATA on DOTDEVRHPGSQL01 - user: soge \n",
      "Connection established 2020-03-02 15:13:33\n"
     ]
    },
    {
     "name": "stderr",
     "output_type": "stream",
     "text": [
      "3925it [01:17, 49.57it/s]"
     ]
    },
    {
     "name": "stdout",
     "output_type": "stream",
     "text": [
      "Failure:\n",
      "\n",
      "- Query run 2020-03-02 15:13:36.420000\n",
      "\t\n",
      "                INSERT INTO working.sip_projs (\"mft\", \"masteridfrom\", \"masteridto\", \"geom\")\n",
      "                VALUES ('188016', '18671', '9046360', '0105000020D708000001000000010200000011000000807870F958472E41007C5C54B38C064180038C0679472E410082FC997B8A06418061461079472E4100E6C8F77A8A0641809C471D79472E410026BA5B7A8A0641001B8A1BA6472E4100A2FDA24C8806410016562AA6472E41009058E54B880641005C0C3EA6472E410036412E4B88064180CFC2F1DF472E4100E6D77A2D860641805136F8DF472E4100FA383E2D860641001DB600E0472E41003031012D860641002114CC25482E41007076042684064100241DD625482E41001278C025840641005EAFE125482E4100B6797C25840641003A74C276482E4100CC89213C82064100F60AD376482E4100428CBB3B82064180565FE576482E4100B8B95C3B8206410096822F7E482E41002AEB5314820641')\n",
      "            \n",
      "Database connection (PG) to CRASHDATA on DOTDEVRHPGSQL01 - user: soge \n",
      "Connection closed 2020-03-02 15:13:36\n",
      "Database connection (PG) to CRASHDATA on DOTDEVRHPGSQL01 - user: soge \n",
      "Connection established 2020-03-02 15:13:36\n"
     ]
    },
    {
     "name": "stderr",
     "output_type": "stream",
     "text": [
      "4728it [01:33, 52.14it/s]"
     ]
    },
    {
     "name": "stdout",
     "output_type": "stream",
     "text": [
      "Failure:\n",
      "\n",
      "- Query run 2020-03-02 15:13:52.085000\n",
      "\t\n",
      "                INSERT INTO working.sip_projs (\"mft\", \"masteridfrom\", \"masteridto\", \"geom\")\n",
      "                VALUES ('221153', '44224', '44228', '0105000020D708000001000000010200000014000000004D435031C72E41007887DE206D0E4100F695C617C72E4100FCAECBD46B0E4180E234C317C72E4100AA18AAD46B0E4180CFD3BF17C72E4100EA4D88D46B0E4100BDAA23F4C62E41008C2C47916A0E418028451BF4C62E4100543404916A0E418078D212F4C62E4100D4C9C7906A0E410022ECC3C6C62E41005275D35D690E4180771CAEC6C62E4100B8973F5D690E4100B9EB94C6C62E4100000AB95C690E41005D524A90C62E41007ECC8C40680E4100A22A3B90C62E4100FA4F3C40680E4180D3A12890C62E41009A95F23F680E418041BCF751C62E4100504C3340670E4180EC8BED51C62E4100FA8A0A40670E410060D2E151C62E4100EE66E23F670E4100D04B490DC62E410072E69961660E4100BAE13B0DC62E4100D2CB6A61660E4100AC232B0DC62E4100C6A74261660E4180B214CFC3C52E4100462A83A7650E41')\n",
      "            \n",
      "Database connection (PG) to CRASHDATA on DOTDEVRHPGSQL01 - user: soge \n",
      "Connection closed 2020-03-02 15:13:52\n",
      "Database connection (PG) to CRASHDATA on DOTDEVRHPGSQL01 - user: soge \n",
      "Connection established 2020-03-02 15:13:52\n"
     ]
    },
    {
     "name": "stderr",
     "output_type": "stream",
     "text": [
      "4860it [01:35, 56.75it/s]"
     ]
    },
    {
     "name": "stdout",
     "output_type": "stream",
     "text": [
      "Failure:\n",
      "\n",
      "- Query run 2020-03-02 15:13:54.545000\n",
      "\t\n",
      "                INSERT INTO working.sip_projs (\"mft\", \"masteridfrom\", \"masteridto\", \"geom\")\n",
      "                VALUES ('228242', '33283', '9026661', '0105000020D70800000100000001020000001300000080BBD93A74BA2F41009248847DB102417D568D2D79BA2F4126B0947838B102418A60AB537BBA2F4177322529F1B00241E4B1499F7ABA2F4147DFBA63A9B002413F4FF81477BA2F41427012F962B0024191DEA3CB70BA2F418C4623B11FB00241FF3501EC67BA2F4115EA963FE1AF024135C685AF5CBA2F416402C438A9AF0241DF8AF35E4FBA2F41B723740779AF024180EA815040BA2F4100AAB6E351AF024148A3ADE52FBA2F415195FDCA34AF0241C1EAC6881EBA2F410FE6B17922AF0241F5BC3BAA0CBA2F41FD1D70661BAF0241868EC1BDFAB92F41EBA208BF1FAF02416E0D6837E9B92F41101657672FAF02418499A988D8B92F41568EF8F949AF02412A778C1DC9B92F41B519DCCA6EAF02412352E759BBB92F417EEA9CEB9CAF024100C2DA96AFB92F4100028A31D3AF0241')\n",
      "            \n",
      "Database connection (PG) to CRASHDATA on DOTDEVRHPGSQL01 - user: soge \n",
      "Connection closed 2020-03-02 15:13:54\n",
      "Database connection (PG) to CRASHDATA on DOTDEVRHPGSQL01 - user: soge \n",
      "Connection established 2020-03-02 15:13:54\n"
     ]
    },
    {
     "name": "stderr",
     "output_type": "stream",
     "text": [
      "\r",
      "4866it [01:35, 50.29it/s]"
     ]
    },
    {
     "name": "stdout",
     "output_type": "stream",
     "text": [
      "Failure:\n",
      "\n",
      "- Query run 2020-03-02 15:13:54.715000\n",
      "\t\n",
      "                INSERT INTO working.sip_projs (\"mft\", \"masteridfrom\", \"masteridto\", \"geom\")\n",
      "                VALUES ('22842', '15043', '14303', '0105000020D70800000100000001020000001400000000CA9C786E342E41003050DCCBFD054180291E3D5B342E41000A18E43DFD05418010AB255B342E41008CD82E3DFD054100DF33185B342E4100E8D6723CFD0541809D5DB24F342E4100EEF55595FC0541002405AA4F342E4100A8AEE394FC0541002405AA4F342E410068798594FC05418006ABA54E342E41006AB306DFFB05418061EDA34E342E4100C6B14ADEFB05418009B4AF4E342E410068F780DDFB054180E0AB2359342E410010EF432AFB054180E3B42D59342E4100DE089529FB054100B23D4059342E410048560829FB05418042863F6E342E4100EA300288FA054180EA4C4B6E342E41001830A487FA054180951C616E342E4100206D3F87FA05418060E5178B342E410062AB9605FA054180840D368B342E4100CCF80905FA05410090C25C8B342E4100D20A9E04FA054100E75D52AC342E410026D848A7F90541')\n",
      "            \n",
      "Database connection (PG) to CRASHDATA on DOTDEVRHPGSQL01 - user: soge \n",
      "Connection closed 2020-03-02 15:13:54\n",
      "Database connection (PG) to CRASHDATA on DOTDEVRHPGSQL01 - user: soge \n",
      "Connection established 2020-03-02 15:13:54\n"
     ]
    },
    {
     "name": "stderr",
     "output_type": "stream",
     "text": [
      "\r",
      "4872it [01:36, 46.47it/s]"
     ]
    },
    {
     "name": "stdout",
     "output_type": "stream",
     "text": [
      "Failure:\n",
      "\n",
      "- Query run 2020-03-02 15:13:54.797000\n",
      "\t\n",
      "                INSERT INTO working.sip_projs (\"mft\", \"masteridfrom\", \"masteridto\", \"geom\")\n",
      "                VALUES ('22842', '18595', '14303', '0105000020D708000001000000010200000014000000808AE784B7352E4100886AA55DFA0541800432AFA0352E41007E2D79D7F9054180610E96A0352E41009CF6DED6F905418006CC77A0352E4100A00873D6F905418090AB367F352E41008EF27761F9054100C222247F352E4100A2533B61F905410072950C7F352E4100706D0C61F90541801C84D654352E410092A86B0FF9054100EDA6B154352E410034EE210FF9054100F5528E54352E4100081A070FF90541001A3D7325352E41007630E0EEF8054180E0194925352E4100B690C5EEF805410009761825352E41004E6ED9EEF80541005EAC83F6342E4100AEAEEC03F90541003D8D6FF6342E4100B0D9F303F9054100F8B45EF6342E41006E790E04F9054180F47D44CD342E410002125B46F9054180FC2921CD342E4100CAEE9046F905410057FDFDCC342E4100C2B1F546F9054100E75D52AC342E410026D848A7F90541')\n",
      "            \n",
      "Database connection (PG) to CRASHDATA on DOTDEVRHPGSQL01 - user: soge \n",
      "Connection closed 2020-03-02 15:13:54\n",
      "Database connection (PG) to CRASHDATA on DOTDEVRHPGSQL01 - user: soge \n",
      "Connection established 2020-03-02 15:13:54\n"
     ]
    },
    {
     "name": "stderr",
     "output_type": "stream",
     "text": [
      "5186it [01:42, 57.17it/s]"
     ]
    },
    {
     "name": "stdout",
     "output_type": "stream",
     "text": [
      "Failure:\n",
      "\n",
      "- Query run 2020-03-02 15:14:01.354000\n",
      "\t\n",
      "                INSERT INTO working.sip_projs (\"mft\", \"masteridfrom\", \"masteridto\", \"geom\")\n",
      "                VALUES ('248716', '9032869', '9032911', '0105000020D70800000100000001020000000F00000000B1BD40A0A32E41009C0DA8DC570B414EE11B0AB2A32E417C8AA78E40570B419D4FD49FC7A32E412A26EB51AC560B418E70F4CAE0A32E41F497346B21560B4197546A4BFDA32E4110E01B3CA1550B4197C1A7D81CA42E41D8B5F00A2D550B414DE65A223FA42E412CDB7BFFC5540B4180D13AD163A42E4100260E206D540B41D127E0878AA42E4153ABEB4E23540B41EFFAC2E3B2A42E413DAAF247E9530B414D0B267EDCA42E412A87DA9EBF530B41954F21ED06A52E41F7BBB0BDA6530B41128EAFC431A52E412DDFCAE39E530B41D657C1975CA52E41156A2525A8530B4180A952F986A52E4100D8306AC2530B41')\n",
      "            \n",
      "Database connection (PG) to CRASHDATA on DOTDEVRHPGSQL01 - user: soge \n",
      "Connection closed 2020-03-02 15:14:01\n",
      "Database connection (PG) to CRASHDATA on DOTDEVRHPGSQL01 - user: soge \n",
      "Connection established 2020-03-02 15:14:01\n"
     ]
    },
    {
     "name": "stderr",
     "output_type": "stream",
     "text": [
      "5621it [01:51, 53.54it/s]"
     ]
    },
    {
     "name": "stdout",
     "output_type": "stream",
     "text": [
      "Failure:\n",
      "\n",
      "- Query run 2020-03-02 15:14:10.231000\n",
      "\t\n",
      "                INSERT INTO working.sip_projs (\"mft\", \"masteridfrom\", \"masteridto\", \"geom\")\n",
      "                VALUES ('274509', '18193', '9034013', '0105000020D708000001000000010200000010000000805C6BF817592E41005A16B5BCDA054100BFA786D3592E410082498B01D4054124E630EFED592E41E162884668D20541C240BB51035A2E411E3B3057CAD0054110C13CA1135A2E4188B7A5B928CF0541806CC3D31E5A2E4100048C6C84CD0541B5C18FE31E5A2E4198C40FD00CCC05416968BD561A5A2E41615881A495CA0541E40A1C30115A2E41EC9DABD11FC90541CD035375035A2E41D778843EACC70541EEDFDD2EF1592E41E31F9ED03BC6054193200768DA592E41C446996BCFC40541AB41E12EBF592E415D7B98F067C305410B083E949F592E41340DB53D06C20541361DA4AB7B592E4122D5752DABC0054100FF428B53592E410032489657BF0541')\n",
      "            \n",
      "Database connection (PG) to CRASHDATA on DOTDEVRHPGSQL01 - user: soge \n",
      "Connection closed 2020-03-02 15:14:10\n",
      "Database connection (PG) to CRASHDATA on DOTDEVRHPGSQL01 - user: soge \n",
      "Connection established 2020-03-02 15:14:10\n"
     ]
    },
    {
     "name": "stderr",
     "output_type": "stream",
     "text": [
      "5632it [01:51, 46.21it/s]"
     ]
    },
    {
     "name": "stdout",
     "output_type": "stream",
     "text": [
      "Failure:\n",
      "\n",
      "- Query run 2020-03-02 15:14:10.446000\n",
      "\t\n",
      "                INSERT INTO working.sip_projs (\"mft\", \"masteridfrom\", \"masteridto\", \"geom\")\n",
      "                VALUES ('274630', '65628', '65628', '0105000020D70800000100000001020000000F00000080277A6DE23C2E41000C4EF3280F0641AD7E1D3C963C2E41DE569F7D790E0641AAB630C44C3C2E41C5A74E55B80D0641B4446547063C2E4194211327E60C06410C40C204C33B2E41C99DDCAE030C064174066C38833B2E415FA02BB7110B06413F756E1B473B2E41A9455C18110A064100E789E30E3B2E4100CCE4B702090641948A03C3DA3A2E4130217787E707064120A577E8AA3A2E41F5395C84C0060641F547B07E7F3A2E417F8F5EB68E050641CC0D7FAC583A2E412218EF2E53040641E1649A94363A2E4194C630080F030641F4847E55193A2E41CB42FC63C3010641002D5209013A2E4100BEDC6A71000641')\n",
      "            \n",
      "Database connection (PG) to CRASHDATA on DOTDEVRHPGSQL01 - user: soge \n",
      "Connection closed 2020-03-02 15:14:10\n",
      "Database connection (PG) to CRASHDATA on DOTDEVRHPGSQL01 - user: soge \n",
      "Connection established 2020-03-02 15:14:10\n"
     ]
    },
    {
     "name": "stderr",
     "output_type": "stream",
     "text": [
      "6238it [02:05, 40.70it/s]"
     ]
    },
    {
     "name": "stdout",
     "output_type": "stream",
     "text": [
      "Failure:\n",
      "\n",
      "- Query run 2020-03-02 15:14:24.293000\n",
      "\t\n",
      "                INSERT INTO working.sip_projs (\"mft\", \"masteridfrom\", \"masteridto\", \"geom\")\n",
      "                VALUES ('290759', '18598', '9043632', '0105000020D70800000100000001020000001200000080B7E615A5452E4100E63625283D0641807A85D270452E4100F013DB7B3D064100A02BDD3F452E410052AFB0A93D0641007FC4C7D9442E4100801686223E06410087DE679E442E41008A16062F3E0641008484723B442E4100581686F03D0641801184B2AB432E410034AF30843D0641808DDDE765432E4100D815064E3D064100B883323B432E410002AFB0453D06410048DD670E432E4100B6485BEC3D064180FAC247F2422E41000615DBD93E064100901CBDCB422E41002619867441064100B5C2C79A422E4100BEB2B0F5410641003B1C7D61422E4100C619863C42064100D882F221422E41003CB23053410641809982D2D3412E41001CB1B0E83F0641006F82B29E412E41009AB030463F064180A07CCF03412E41007A28EFA4400641')\n",
      "            \n",
      "Database connection (PG) to CRASHDATA on DOTDEVRHPGSQL01 - user: soge \n",
      "Connection closed 2020-03-02 15:14:24\n",
      "Database connection (PG) to CRASHDATA on DOTDEVRHPGSQL01 - user: soge \n",
      "Connection established 2020-03-02 15:14:24\n"
     ]
    },
    {
     "name": "stderr",
     "output_type": "stream",
     "text": [
      "6317it [02:07, 41.76it/s]"
     ]
    },
    {
     "name": "stdout",
     "output_type": "stream",
     "text": [
      "Failure:\n",
      "\n",
      "- Query run 2020-03-02 15:14:26.159000\n",
      "\t\n",
      "                INSERT INTO working.sip_projs (\"mft\", \"masteridfrom\", \"masteridto\", \"geom\")\n",
      "                VALUES ('292725', '9034013', '9034013', '0105000020D70800000100000001020000001500000080CB88B005592E410084AA624EBD05416ADA3D25D6582E41764D4E50C9BB05413EE073FEA1582E4164E2E5CD4DBA05410809DB5A69582E41F10BC3BADCB80541C182C75B2C582E4171AF13F076B705419EE01D25EB572E41370262401DB605411AFC3DDDA5572E419DA51877D0B405413360ECAC5C572E410EF40A5891B305411B4C3ABF0F572E41A3C5019F60B20541805B6C41BF562E4100F04CFF3EB10541D43BC80C70562E4133F592AC3BB0054117C0E5FC1D562E41C4345BF946AF0541BBE3ED3CC9552E41668A586661AE0541FE8673F971552E41CD40496C8BAD05416EFD5B6018552E419E90B77BC5AC05416DEAC6A0BC542E41D56FBEFC0FAC05415F78F5EA5E542E41D9D0D24E6BAB054199F73070FF532E41036E91C8D7AA05415DF2B0629E532E41FD3B91B755AA054190C380F53B532E41F19A3A60E5A9054100BE645CD8522E41005CA3FD86A90541')\n",
      "            \n",
      "Database connection (PG) to CRASHDATA on DOTDEVRHPGSQL01 - user: soge \n",
      "Connection closed 2020-03-02 15:14:26\n",
      "Database connection (PG) to CRASHDATA on DOTDEVRHPGSQL01 - user: soge \n",
      "Connection established 2020-03-02 15:14:26\n"
     ]
    },
    {
     "name": "stderr",
     "output_type": "stream",
     "text": [
      "6449it [02:10, 44.80it/s]"
     ]
    },
    {
     "name": "stdout",
     "output_type": "stream",
     "text": [
      "Failure:\n",
      "\n",
      "- Query run 2020-03-02 15:14:29.132000\n",
      "\t\n",
      "                INSERT INTO working.sip_projs (\"mft\", \"masteridfrom\", \"masteridto\", \"geom\")\n",
      "                VALUES ('295170', '35485', '9039435', '0105000020D708000001000000010200000029000000808BE5B7F5CF2F4100FADDD090EF02410027CE60E7CF2F41001C21ED82EF0241803A9E45E7CF2F41005E81D282EF024180C3940CD9CF2F4100543DD874EF024180EBA3F7D8CF2F41009859C374EF024180CE6DBBCACF2F4100A2329266EF024100537BAACACF2F41009EFE8066EF02410064666DBCCF2F41002C981A58EF024180644450BCCF2F410090B1FC57EF0241004C6422AECF2F4100CCD67149EF0241802CB6DA9FCF2F410014BA973AEF02418092ADBF9FCF2F4100E6767B3AEF024100B2349691CF2F41004EDF8C2BEF024180105E8191CF2F41002258762BEF024180F8EC5483CF2F410030A9501CEF024180B3144483CF2F4100983A3E1CEF0241801BEC1675CF2F41002A4CE30CEF024180A50BFA74CF2F41004459C30CEF0241808866DC66CF2F4100143145FDEE0241009B0DA558CF2F410016EF75EDEE0241808A468A58CF2F41009E9F57EDEE024100A865FE53CF2F4100703A3EE8EE024180570C184DCF2F4100E65776E0EE024180133D714ACF2F410008EF75DDEE024100C48D5C4ACF2F41004A2D5EDDEE0241001D04AC41CF2F410094077AD3EE0241002116803FCF2F4100B8EBFDD0EE024100F1F4403CCF2F410012C844CDEE024100AC1C303CCF2F4100C48731CDEE02410060D51D33CF2F41009AF9BBC2EE024100E20D142ECF2F4100EA4BE3BCEE024180BE54F72DCF2F410096B5C1BCEE02410054BCEA1FCF2F4100D6A850ACEE024180620DC511CF2F4100B6478D9BEE0241006D53AA11CF2F4100D2546D9BEE024100880C4706CF2F41009877C88DEE024100F2F3A203CF2F41006491998AEE024100A3448E03CF2F41001295808AEE024180E89DD4FCCE2F410094895C82EE02416BD9D1A590CE2F41C7C0F2E6F8ED024100F8C46325CE2F41003E8F4C64ED0241')\n",
      "            \n",
      "Database connection (PG) to CRASHDATA on DOTDEVRHPGSQL01 - user: soge \n",
      "Connection closed 2020-03-02 15:14:29\n",
      "Database connection (PG) to CRASHDATA on DOTDEVRHPGSQL01 - user: soge \n",
      "Connection established 2020-03-02 15:14:29\n"
     ]
    },
    {
     "name": "stderr",
     "output_type": "stream",
     "text": [
      "6714it [02:17, 41.17it/s]"
     ]
    },
    {
     "name": "stdout",
     "output_type": "stream",
     "text": [
      "Failure:\n",
      "\n",
      "- Query run 2020-03-02 15:14:36.108000\n",
      "\t\n",
      "                INSERT INTO working.sip_projs (\"mft\", \"masteridfrom\", \"masteridto\", \"geom\")\n",
      "                VALUES ('300155', '68942', '68987', '0105000020D70800000100000001020000000F000000000AA71F036E2E4100B0796191F40B410064EE911D6E2E41001EC38F38F50B4100B52370336E2E4100B4055F04F60B4100AB0667416E2E410018559FF4F60B41802AB59D436E2E410004516B03F80B41804DD67C366E2E4100224A2E23F90B4100E1F2D6176E2E4100BE25B93EFA0B418026FC0FE86D2E410012B59D3CFB0B4180F3D088AA6D2E41006EDDAC05FC0B4100FDC1EC646D2E410010B4728BFC0B410085FB8F1D6D2E41003C0856CBFC0B41002CB1D4D96C2E4100141B48CDFC0B410052BF419D6C2E41004AEE049FFC0B410094C87A696C2E41003CD4B34FFC0B418048FDA93E6C2E4100C6E6A5ECFB0B41')\n",
      "            \n",
      "Database connection (PG) to CRASHDATA on DOTDEVRHPGSQL01 - user: soge \n",
      "Connection closed 2020-03-02 15:14:36\n",
      "Database connection (PG) to CRASHDATA on DOTDEVRHPGSQL01 - user: soge \n",
      "Connection established 2020-03-02 15:14:36\n"
     ]
    },
    {
     "name": "stderr",
     "output_type": "stream",
     "text": [
      "\r",
      "6719it [02:17, 38.82it/s]"
     ]
    },
    {
     "name": "stdout",
     "output_type": "stream",
     "text": [
      "Failure:\n",
      "\n",
      "- Query run 2020-03-02 15:14:36.161000\n",
      "\t\n",
      "                INSERT INTO working.sip_projs (\"mft\", \"masteridfrom\", \"masteridto\", \"geom\")\n",
      "                VALUES ('300159', '23319', '68769', '0105000020D7080000010000000102000000130000008023BBF95B422E4100D021C7C9050B41005406E222422E4100542483E2060B41803D9CD422422E4100F850C6E2060B4100D50AC722422E41002E62FCE2060B4100BA5B61E0412E4100C62FC9E2070B4180EEDB58E0412E410084CFE3E2070B41007FCAC295412E4100DE49ABC2080B41003AF2B195412E41007E64DAC2080B41002C34A195412E410062C6FBC2080B41005B246744412E41000A06C27C090B418044BA5944412E4100CAD0E37C090B418089924A44412E41008A70FE7C090B4180D5A144EE402E410002D0960C0A0B41001A7A35EE402E41009CD8B10C0A0B41005F5226EE402E41007C28BF0C0A0B4100FE916A95402E4100F640D46F0A0B410053C25495402E4100B4E0EE6F0A0B41801E423D95402E41000265FC6F0A0B41005CBECD3B402E4100B84065A60A0B41')\n",
      "            \n",
      "Database connection (PG) to CRASHDATA on DOTDEVRHPGSQL01 - user: soge \n",
      "Connection closed 2020-03-02 15:14:36\n",
      "Database connection (PG) to CRASHDATA on DOTDEVRHPGSQL01 - user: soge \n",
      "Connection established 2020-03-02 15:14:36\n"
     ]
    },
    {
     "name": "stderr",
     "output_type": "stream",
     "text": [
      "6739it [02:17, 41.39it/s]"
     ]
    },
    {
     "name": "stdout",
     "output_type": "stream",
     "text": [
      "Failure:\n",
      "\n",
      "- Query run 2020-03-02 15:14:36.678000\n",
      "\t\n",
      "                INSERT INTO working.sip_projs (\"mft\", \"masteridfrom\", \"masteridto\", \"geom\")\n",
      "                VALUES ('300210', '23319', '23394', '0105000020D708000001000000010200000017000000005CBECD3B402E4100B84065A60A0B4100542A378A402E410004598B530B0B4180125B508A402E41005C01C1530B0B4100BD2A668A402E4100022E04540B0B4100029348D4402E41000AD739300C0B4180330A56D4402E4100F26362300C0B4180808E63D4402E4100244A91300C0B4180F4E53E17412E410014F2F9380D0B4100EF424C17412E410000662F390D0B41800D595617412E4100A2AB65390D0B41809089C050412E410082C3AD670E0B4100CDB5D450412E410056EF12680E0B4180F680E550412E4100C0CD84680E0B41806F640B7F412E41009C8B68B40F0B4180D55B107F412E410080ED89B40F0B410004CA137F412E4100D6AEB2B40F0B41002BCCBEA0412E41008849CC13110B4100C031C7A0412E410034B32A14110B41804136CCA0412E41002C4B8814110B4180A2A186B5412E410006309D7B120B41803FB38BB5412E4100B26EF47B120B4100C9638DB5412E410060D8527C120B41005AF2B1BD412E410098E632E1130B41')\n",
      "            \n",
      "Database connection (PG) to CRASHDATA on DOTDEVRHPGSQL01 - user: soge \n",
      "Connection closed 2020-03-02 15:14:36\n",
      "Database connection (PG) to CRASHDATA on DOTDEVRHPGSQL01 - user: soge \n",
      "Connection established 2020-03-02 15:14:36\n"
     ]
    },
    {
     "name": "stderr",
     "output_type": "stream",
     "text": [
      "6896it [02:21, 48.87it/s]"
     ]
    },
    {
     "name": "stdout",
     "output_type": "stream",
     "text": [
      "Failure:\n",
      "\n",
      "- Query run 2020-03-02 15:14:39.850000\n",
      "\t\n",
      "                INSERT INTO working.sip_projs (\"mft\", \"masteridfrom\", \"masteridto\", \"geom\")\n",
      "                VALUES ('303173', '104461', '9046360', '0105000020D708000001000000010200000012000000808F56B0534B2E410052CB5D9A900641806FE9991C4B2E410078C876A69106417A44AD17104B2E41787490F04992064153D90547004B2E41BC2538C4E892064155112C43ED4A2E41D3AF5CE08193064100E2DA2CD74A2E410056723D14940641540A353EC24A2E41F565F5107694064111644711AA4A2E4185314E17CB9406411B9A0F228F4A2E418CDC699C119506413CBFB1FA714A2E41D1EF9936489506417BCFB330534A2E416955D3CD6D950641A8D0FE61334A2E41AFA04AA18195064137EFB431134A2E4185DB504B8395064124D1EC44F3492E4174095DC37295064100E2623FD4492E4100EE375E50950641FD33B9CEB7492E41BB746ABB1B9506418188184B9D492E4187D65AEBD89406418052F72485492E4100C86D0989940641')\n",
      "            \n",
      "Database connection (PG) to CRASHDATA on DOTDEVRHPGSQL01 - user: soge \n",
      "Connection closed 2020-03-02 15:14:39\n",
      "Database connection (PG) to CRASHDATA on DOTDEVRHPGSQL01 - user: soge \n",
      "Connection established 2020-03-02 15:14:39\n"
     ]
    },
    {
     "name": "stderr",
     "output_type": "stream",
     "text": [
      "10125it [03:31, 50.14it/s]"
     ]
    },
    {
     "name": "stdout",
     "output_type": "stream",
     "text": [
      "Failure:\n",
      "\n",
      "- Query run 2020-03-02 15:15:50.601000\n",
      "\t\n",
      "                INSERT INTO working.sip_projs (\"mft\", \"masteridfrom\", \"masteridto\", \"geom\")\n",
      "                VALUES ('72382', '44305', '44306', '0105000020D708000001000000010200000011000000801416FBAACD2E4100C43371C4780E4100D459F55BCD2E4100E275D17F790E4100CE47E15BCD2E4100145C0080790E4180FFBECE5BCD2E410068F22180790E41001CA4DF06CD2E4100901886177A0E41002450BC06CD2E4100321AC2177A0E410050B59506CD2E4100D234F1177A0E4180DDBE3DADCC2E4100B4984E877A0E41000C2D21ADCC2E4100062F70877A0E41803A9B04ADCC2E41007A7584877A0E410060AD0751CC2E4100769634CC7A0E4180E654DF50CC2E4100A26A4FCC7A0E4100A416B750CC2E4100EEEE5CCC7A0E4100DEB404F4CB2E4100E03560E57A0E4180091ADEF3CB2E41002CBA6DE57A0E4180FE64B7F3CB2E410006F866E57A0E410095230698CB2E410004D894D37A0E41')\n",
      "            \n",
      "Database connection (PG) to CRASHDATA on DOTDEVRHPGSQL01 - user: soge \n",
      "Connection closed 2020-03-02 15:15:50\n",
      "Database connection (PG) to CRASHDATA on DOTDEVRHPGSQL01 - user: soge \n",
      "Connection established 2020-03-02 15:15:50\n"
     ]
    },
    {
     "name": "stderr",
     "output_type": "stream",
     "text": [
      "10622it [03:41, 50.65it/s]"
     ]
    },
    {
     "name": "stdout",
     "output_type": "stream",
     "text": [
      "Failure:\n",
      "\n",
      "- Query run 2020-03-02 15:16:00.260000\n",
      "\t\n",
      "                INSERT INTO working.sip_projs (\"mft\", \"masteridfrom\", \"masteridto\", \"geom\")\n",
      "                VALUES ('80664', '49200', '49201', '0105000020D70800000100000001020000000F00000080D1BB0DDF122F4100F68C46A6B00F41003EE2A049132F4100DE3716C6B00F4100E9B1B649132F410096C51CC6B00F4100393FCE49132F410096C51CC6B00F41804DDFA8B5132F41006A59A4BAB00F41008A0BBDB5132F41006A59A4BAB00F410035DBD2B5132F41008C0997BAB00F418035AB6821142F410012A70683B00F41005F767921142F410058190083B00F4100E3838821142F41000C95F282B00F41000F973A8B142F410040E6BB1FB00F4100769246F1142F41004682DE92AF0F4100D98061F1142F4100F4EBBC92AF0F4100F2F378F1142F41009E2A9492AF0F4180623E7452152F4100102A14DFAE0F41')\n",
      "            \n",
      "Database connection (PG) to CRASHDATA on DOTDEVRHPGSQL01 - user: soge \n",
      "Connection closed 2020-03-02 15:16:00\n",
      "Database connection (PG) to CRASHDATA on DOTDEVRHPGSQL01 - user: soge \n",
      "Connection established 2020-03-02 15:16:00\n"
     ]
    },
    {
     "name": "stderr",
     "output_type": "stream",
     "text": [
      "12250it [04:13, 50.03it/s]"
     ]
    },
    {
     "name": "stdout",
     "output_type": "stream",
     "text": [
      "Failure:\n",
      "\n",
      "- Query run 2020-03-02 15:16:32.543000\n",
      "\t\n",
      "                INSERT INTO working.sip_projs (\"mft\", \"masteridfrom\", \"masteridto\", \"geom\")\n",
      "                VALUES ('9008919', '58000', '58059', '0105000020D70800000100000001020000001100000000584DD0B9882F41001A4BF7C1B00F41F90CA16FBE882F41646389E77AB10F4108F701C9BE882F41614475C234B20F41B501AEDBBA882F417E187CF4EDB20F41AF2E2CB0B2882F41CFF979EBA4B30F418D113A58A6882F41D7F9221A58B40F41074AA5EE95882F41F3D561FB05B50F416950119781882F41E3D5A415ADB50F418012AA7D69882F4100AA11FE4BB60F41A0D8C3D64D882F413EB2915BE1B60F41D27B6ADE2E882F41447BD6E96BB70F4193E1DDD70C882F41FBA0027CEAB70F419E6E000DE8872F4164EB3EFF5BB80F418397B6CDC0872F41191B0F7DBFB80F417E65396F97872F416223691D14B90F412C685D4B6C872F41B6478A2859B90F4100A6CFBF3F872F41002286088EB90F41')\n",
      "            \n",
      "Database connection (PG) to CRASHDATA on DOTDEVRHPGSQL01 - user: soge \n",
      "Connection closed 2020-03-02 15:16:32\n",
      "Database connection (PG) to CRASHDATA on DOTDEVRHPGSQL01 - user: soge \n",
      "Connection established 2020-03-02 15:16:32\n"
     ]
    },
    {
     "name": "stderr",
     "output_type": "stream",
     "text": [
      "\r",
      "12256it [04:13, 43.97it/s]"
     ]
    },
    {
     "name": "stdout",
     "output_type": "stream",
     "text": [
      "Failure:\n",
      "\n",
      "- Query run 2020-03-02 15:16:32.603000\n",
      "\t\n",
      "                INSERT INTO working.sip_projs (\"mft\", \"masteridfrom\", \"masteridto\", \"geom\")\n",
      "                VALUES ('9008919', '58000', '58059', '0105000020D7080000010000000102000000110000000062690CF6882F41000E6E6370B10F416F96D598FB882F411BD505153CB20F419485A03DFC882F41BA0918F708B30F41A6FC45F9F7882F41AA420127D5B30F410E37D3D5EE882F41BBC6C1C39EB40F41AF30CFE8E0882F41BAA06AF263B50F41D0EF0753CE882F4190697CE222B60F41103E4540B7882F41177D2DD2D9B60F418086E1E69B882F4100888D1287B70F417B6C48877C882F4186A7780B29B80F41C53E636B59882F415363643FBEB80F41D490E6E532882F41137DD74E45B90F417DDC905109882F41655FA9FBBCB90F417ABE5410DD872F416398EF2B24BA0F41B83A728AAE872F41E4F395EC79BA0F410128812D7E872F41FF189B73BDBA0F4180056F6B4C872F410066EC21EEBA0F41')\n",
      "            \n",
      "Database connection (PG) to CRASHDATA on DOTDEVRHPGSQL01 - user: soge \n",
      "Connection closed 2020-03-02 15:16:32\n",
      "Database connection (PG) to CRASHDATA on DOTDEVRHPGSQL01 - user: soge \n",
      "Connection established 2020-03-02 15:16:32\n"
     ]
    },
    {
     "name": "stderr",
     "output_type": "stream",
     "text": [
      "12592it [04:20, 50.78it/s]"
     ]
    },
    {
     "name": "stdout",
     "output_type": "stream",
     "text": [
      "Failure:\n",
      "\n",
      "- Query run 2020-03-02 15:16:39.316000\n",
      "\t\n",
      "                INSERT INTO working.sip_projs (\"mft\", \"masteridfrom\", \"masteridto\", \"geom\")\n",
      "                VALUES ('94218', '57324', '57327', '0105000020D70800000100000001020000001C000000009863BBBB702F41008AA8D623CD0D41009B2B54E4702F41002050EA26CB0D4100AE8C57E4702F41005C9EBB26CB0D4180C734DE18712F41006EE27132C90D41800158E818712F4100E83A1A32C90D41800461F218712F4100D0F2C931C90D4100F5B34859712F410066869E4CC70D418089195159712F4100C0595B4CC70D4180C33C5B59712F4100D4BA1E4CC70D41800ED90EA5712F4100A2CC7F7CC50D4180C9001EA5712F41001A25287CC50D4100F3CB2EA5712F410004DDD77BC50D41802BCA83FB712F4100E2201FC8C30D4100B0D792FB712F4100EE6FCEC7C30D41807E60A5FB712F410090B584C7C30D4180343F975B722F4100182B4335C20D41005E0AA85B722F4100DE07F934C20D4180631CBC5B722F410038DBB534C20D41804AA401C4722F4100B2C0D3C8C00D410009D51AC4722F41002A197CC8C00D4100DA6637C4722F410014D12BC8C00D410097A25633732F41002CB28486BF0D4100EA387833732F4100EC7C2686BF0D410050309D33732F4100423ECF85BF0D41802A4E15A8732F410068B5DA70BE0D41807ADB2CA8732F4100100DA570BE0D4100DEC947A8732F4100DAFB6E70BE0D4180C2469820742F4100223F6989BD0D41')\n",
      "            \n",
      "Database connection (PG) to CRASHDATA on DOTDEVRHPGSQL01 - user: soge \n",
      "Connection closed 2020-03-02 15:16:39\n",
      "Database connection (PG) to CRASHDATA on DOTDEVRHPGSQL01 - user: soge \n",
      "Connection established 2020-03-02 15:16:39\n"
     ]
    },
    {
     "name": "stderr",
     "output_type": "stream",
     "text": [
      "12658it [04:22, 48.31it/s]\n"
     ]
    },
    {
     "name": "stdout",
     "output_type": "stream",
     "text": [
      "\n",
      "12615 rows added to working.sip_projs\n",
      "\n"
     ]
    }
   ],
   "source": [
    "cdb.connect()\n",
    "#input_schema = cdb.dataframe_to_table_schema(sip_projs, 'sip_projs', schema='working', overwrite = True)\n",
    "sh_sips = cdb.dataframe_to_table(sip_projs, 'sip_projs', schema= 'working', overwrite = True)\n"
   ]
  },
  {
   "cell_type": "markdown",
   "metadata": {},
   "source": [
    "### 4. Sipless Single Year MFT Speed Humps of Study Year"
   ]
  },
  {
   "cell_type": "code",
   "execution_count": 23,
   "metadata": {},
   "outputs": [
    {
     "name": "stdout",
     "output_type": "stream",
     "text": [
      "Database connection (PG) to CRASHDATA on DOTDEVRHPGSQL01 - user: soge \n",
      "Connection established 2020-03-02 15:23:01\n"
     ]
    }
   ],
   "source": [
    "cdb.connect()"
   ]
  },
  {
   "cell_type": "markdown",
   "metadata": {},
   "source": [
    "#### This query grabs all mfts that have dont have any sip projects and only have speed humps of the study year"
   ]
  },
  {
   "cell_type": "code",
   "execution_count": 24,
   "metadata": {},
   "outputs": [
    {
     "name": "stdout",
     "output_type": "stream",
     "text": [
      "Query run in 539000 microseconds\n"
     ]
    }
   ],
   "source": [
    "study_group = cdb.query(\"\"\"\n",
    "\n",
    "--All no sip {my_study_year} Data\n",
    "\n",
    "drop table if exists working.speed_hump_focus_group; \n",
    "\n",
    "create table working.speed_hump_focus_group as \n",
    "\n",
    "with data1 as(\n",
    "\n",
    "--selecting all speed hump data from {my_study_year}\n",
    "select distinct mft, masteridfrom, masteridto, date_installed, on_st,from_st, to_st, lion.geom, lion.segmentid \n",
    "from v_clean_speed_humps sh\n",
    "join archive.\"18d.2019-11-13_lion\" lion\n",
    "on sh.segmentid = lion.segmentid \n",
    "where left(date_installed::text,4)::int = {my_study_year}\n",
    ")\n",
    "\n",
    ", data2 as(\n",
    "\n",
    "select distinct coalesce(lion.mft,0) mft, coalesce(lion.masteridfrom,0) masteridfrom, coalesce(lion.masteridto,0) masteridto, lion.geom\n",
    "from v_clean_speed_humps sh\n",
    "join archive.\"18d.2019-11-13_lion\" lion\n",
    "on sh.segmentid = lion.segmentid \n",
    "where left(date_installed::text, 4)::int between {study_year_min} and {study_year_max}\n",
    "and left(date_installed::text, 4)::int != {my_study_year}\n",
    ")\n",
    "\n",
    "--selecting all data that does not intersect with any other data of other years. \n",
    "select distinct data1.mft \n",
    "                ,data1.masteridfrom \n",
    "                ,data1.masteridto\n",
    "                ,lion.segmentid::int \n",
    "                ,lion.nodeidfrom::int  \n",
    "                ,lion.nodeidto::int\n",
    "                ,on_st\n",
    "                ,from_st \n",
    "                ,to_st\n",
    "                ,lion.geom\n",
    "from data1 \n",
    "join archive.\"18d.2019-11-13_lion\" lion\n",
    "on data1.segmentid = lion.segmentid \n",
    "where data1.mft not in(select mft from data2)\n",
    "        and data1.masteridfrom not in ((select masteridfrom mid from data2)\n",
    "                      union \n",
    "                     (select masteridto mid from data2))\n",
    "        and data1.masteridto not in   ((select masteridfrom mid from data2)\n",
    "                      union \n",
    "                     (select masteridto mid from data2))\n",
    "        and data1.mft not in (select mft::int from working.sip_projs)\n",
    "        and data1.masteridfrom not in ((select masteridfrom::int from working.sip_projs)\n",
    "                      union \n",
    "                      (select masteridto::int from working.sip_projs))\n",
    "        and data1.masteridto not in   ((select masteridfrom::int from working.sip_projs)\n",
    "                      union \n",
    "                      (select masteridto::int from working.sip_projs));\n",
    "\n",
    "grant all on working.speed_hump_focus_group to public;\n",
    "\n",
    "--select * from working.speed_hump_focus_group; \n",
    "\n",
    "    \n",
    "    \"\"\".format(my_study_year=my_study_year,study_year_min=study_year_min,study_year_max=study_year_max) \n",
    "    )\n",
    "\n"
   ]
  },
  {
   "cell_type": "code",
   "execution_count": 20,
   "metadata": {},
   "outputs": [],
   "source": [
    "study_group"
   ]
  },
  {
   "cell_type": "markdown",
   "metadata": {},
   "source": [
    "### Study Group Nodeids"
   ]
  },
  {
   "cell_type": "code",
   "execution_count": 16,
   "metadata": {},
   "outputs": [
    {
     "name": "stdout",
     "output_type": "stream",
     "text": [
      "Database connection (PG) to CRASHDATA on DOTDEVRHPGSQL01 - user: soge \n",
      "Connection established 2020-03-02 15:18:39\n"
     ]
    }
   ],
   "source": [
    "cdb.connect()"
   ]
  },
  {
   "cell_type": "code",
   "execution_count": 17,
   "metadata": {},
   "outputs": [],
   "source": [
    "study_group_nodes = cdb.dfquery(\"\"\"\n",
    "\n",
    "select distinct nodeidfrom \"NODEID\" from working.speed_hump_study_group\n",
    "\n",
    "union \n",
    "\n",
    "select distinct nodeidto \"NODEID\" from working.speed_hump_study_group\n",
    "\n",
    "\"\"\"\n",
    ")"
   ]
  },
  {
   "cell_type": "code",
   "execution_count": null,
   "metadata": {},
   "outputs": [],
   "source": [
    "#study_group_nodes.to_csv('study_group_nodes.csv')"
   ]
  },
  {
   "cell_type": "markdown",
   "metadata": {},
   "source": [
    "### 5. Control Group: \n",
    "#### All mfts that do not intersect with any mfts that have speed humps installed within study year range"
   ]
  },
  {
   "cell_type": "code",
   "execution_count": 28,
   "metadata": {},
   "outputs": [
    {
     "name": "stdout",
     "output_type": "stream",
     "text": [
      "Database connection (PG) to CRASHDATA on DOTDEVRHPGSQL01 - user: soge \n",
      "Connection established 2020-03-02 15:26:33\n"
     ]
    }
   ],
   "source": [
    "cdb.connect()"
   ]
  },
  {
   "cell_type": "code",
   "execution_count": 29,
   "metadata": {},
   "outputs": [],
   "source": [
    "control_group = cdb.dfquery(\"\"\"\n",
    "\n",
    "\n",
    "\n",
    "--No sip control group\n",
    "\n",
    "drop table if exists working.speed_hump_control_group; \n",
    "\n",
    "create table working.speed_hump_control_group as \n",
    "\n",
    "with data as (\n",
    "\n",
    "\n",
    "select distinct coalesce(lion.mft,0) mft, coalesce(lion.masteridfrom,0) masteridfrom, coalesce(lion.masteridto,0) masteridto, lion.geom\n",
    "from v_clean_speed_humps sh\n",
    "join archive.\"18d.2019-11-13_lion\" lion\n",
    "on sh.segmentid = lion.segmentid \n",
    "where left(date_installed::text, 4)::int between {study_year_min} and {study_year_max}\n",
    "\n",
    ")\n",
    "\n",
    "\n",
    "\n",
    "select distinct mft\n",
    "               ,masteridfrom\n",
    "               ,masteridto\n",
    "               ,segmentid::int\n",
    "               ,nodeidfrom::int\n",
    "               ,nodeidto::int\n",
    "               ,lion.geom\n",
    "from archive.\"18d.2019-11-13_lion\" lion\n",
    "where mft not in (select mft from data)\n",
    "  and masteridfrom not in ((select masteridfrom mid from data)\n",
    "                            union \n",
    "                           (select masteridto mid from data))\n",
    "  and masteridto not in   ((select masteridfrom mid from data)\n",
    "                            union \n",
    "                           (select masteridto mid from data))\n",
    "  and mft not in (select mft::int from working.sip_projs)\n",
    "  and masteridfrom not in ((select masteridfrom::int from working.sip_projs)\n",
    "                            union \n",
    "                           (select masteridto::int from working.sip_projs))\n",
    "  and masteridto not in ((select masteridfrom::int from working.sip_projs)\n",
    "                            union \n",
    "                           (select masteridto::int from working.sip_projs));\n",
    "               \n",
    "grant all on working.speed_hump_control_group to public;               \n",
    "--select * from working.speed_hump_control_group\n",
    "\n",
    "\n",
    "\"\"\".format(study_year_min=study_year_min,study_year_max=study_year_max) \n",
    ")\n"
   ]
  },
  {
   "cell_type": "markdown",
   "metadata": {},
   "source": [
    "### Control Group Nodes\n"
   ]
  },
  {
   "cell_type": "code",
   "execution_count": 30,
   "metadata": {
    "scrolled": true
   },
   "outputs": [
    {
     "name": "stdout",
     "output_type": "stream",
     "text": [
      "Database connection (PG) to CRASHDATA on DOTDEVRHPGSQL01 - user: soge \n",
      "Connection established 2020-03-02 15:37:38\n"
     ]
    }
   ],
   "source": [
    "cdb.connect()"
   ]
  },
  {
   "cell_type": "code",
   "execution_count": 31,
   "metadata": {},
   "outputs": [],
   "source": [
    "control_group_nodes = cdb.dfquery(\"\"\"\n",
    "\n",
    "\n",
    "select distinct nodeidfrom \"NODEID\" from working.speed_hump_control_group\n",
    "\n",
    "union \n",
    "\n",
    "select distinct nodeidto \"NODEID\" from working.speed_hump_control_group\n",
    "\n",
    "\"\"\"\n",
    ")"
   ]
  },
  {
   "cell_type": "code",
   "execution_count": 32,
   "metadata": {},
   "outputs": [],
   "source": [
    "#control_group_nodes.to_csv('control_group_nodes.csv')"
   ]
  },
  {
   "cell_type": "markdown",
   "metadata": {},
   "source": [
    "### 6. All Injuries by node from FORMS and TAMS Data"
   ]
  },
  {
   "cell_type": "code",
   "execution_count": 18,
   "metadata": {},
   "outputs": [
    {
     "name": "stdout",
     "output_type": "stream",
     "text": [
      "Warning:\n",
      "\tMissing SQL Server Native Client 10.0                 datetime2 will not be interpreted correctly\n",
      "\n",
      "Database connection (MS) to forms on dot55sql01 - user: arcgis \n",
      "Connection established 2020-02-25 14:48:23\n"
     ]
    }
   ],
   "source": [
    "sqldb.connect()"
   ]
  },
  {
   "cell_type": "code",
   "execution_count": 45,
   "metadata": {},
   "outputs": [
    {
     "name": "stdout",
     "output_type": "stream",
     "text": [
      "Warning:\n",
      "\tMissing SQL Server Native Client 10.0                 datetime2 will not be interpreted correctly\n",
      "\n"
     ]
    }
   ],
   "source": [
    "node_inj = sqldb.dfquery(\"\"\"\n",
    "\n",
    "\n",
    "\n",
    "SELECT NODEID\n",
    "      ,CASE WHEN yr between {study_year_min} and {study_year_min} + 2 THEN 'before' \n",
    "            WHEN yr between {study_year_max} - 2 and {study_year_max} THEN 'after' \n",
    "            WHEN yr = {my_study_year} THEN 'study_year'\n",
    "            ELSE 'exclude' END AS PERIOD\n",
    "      ,coalesce(sum(CASE WHEN Mode = 'ped' THEN INJ END),0) PED\n",
    "      ,coalesce(sum(CASE WHEN Mode = 'bicycle' THEN INJ END),0) BI\n",
    "      ,coalesce(sum(CASE WHEN Mode = 'mvo' THEN INJ END),0) MVO\n",
    "      ,sum(INJ) INJURIES\n",
    "      ,yr\n",
    "FROM (  \n",
    "        SELECT nodeid\n",
    "              ,yr\n",
    "              ,CASE WHEN PED_NONPED = 'Pedestrian' THEN 'ped'\n",
    "                 WHEN PED_NONPED = 'Bicyclist' THEN 'bicycle'\n",
    "                 WHEN PED_NONPED = 'Occupant' THEN 'mvo' END as Mode\n",
    "              ,sum(CASE WHEN INJ_KILLED = 'Injured' THEN 1 else 0 END) AS INJ\n",
    "        FROM (SELECT coalesce(c.nodeid, lion_node_number) nodeid\n",
    "                    ,year(c.accident_dt) yr\n",
    "                    ,ped_nonped\n",
    "                    ,inj_killed \n",
    "              FROM [FORMS].[dbo].wc_accident_f c\n",
    "              LEFT JOIN FORMS.dbo.WC_ACCIDENT_VICTIM_F AS i\n",
    "              ON c.INTEGRATION_ID=i.ACCIDENT_ID\n",
    "              WHERE year(c.ACCIDENT_DT) > 2016 \n",
    "                and coalesce(c.VOID_STATUS_CD , 'N') = 'N'\n",
    "                and coalesce(nonmv, 0) = 0\n",
    "                and coalesce(nodeid, lion_node_number) is not null \n",
    "              --unioning all crashes with null nodeid\n",
    "\n",
    "              UNION\n",
    "\n",
    "              SELECT s.nodeid\n",
    "                    ,year(c.accident_dt) yr\n",
    "                    ,ped_nonped\n",
    "                    ,inj_killed  \n",
    "              FROM [FORMS].[dbo].wc_accident_f c\n",
    "              JOIN [FORMS].[dbo].[v_IntersectionStreetNames_Gen] s\n",
    "              ON lower(ltrim(rtrim(c.SRC_ON_STREET))) = lower(ltrim(rtrim(s.street_1))) \n",
    "              and\n",
    "              lower(ltrim(rtrim(c.SRC_cross_STREET))) = lower(ltrim(rtrim(s.street_2)))\n",
    "              and \n",
    "              CASE WHEN C.[SRC_POLICE_PRECINCT] BETWEEN 1 AND 34 THEN 1\n",
    "                   WHEN C.[SRC_POLICE_PRECINCT] BETWEEN 40 AND 52 THEN 2\n",
    "                   WHEN C.[SRC_POLICE_PRECINCT] BETWEEN 60 AND 94 THEN 3\n",
    "                   WHEN C.[SRC_POLICE_PRECINCT] BETWEEN 100 AND 115 THEN 4\n",
    "                   WHEN C.[SRC_POLICE_PRECINCT] BETWEEN 120 AND 123 THEN 5 END \n",
    "              in (left(b7sc_2, 1), left(b7sc_1, 1))\n",
    "              LEFT JOIN FORMS.dbo.WC_ACCIDENT_VICTIM_F AS i\n",
    "              ON c.INTEGRATION_ID=i.ACCIDENT_ID\n",
    "              WHERE year(c.ACCIDENT_DT) > 2016\n",
    "                and coalesce(c.VOID_STATUS_CD , 'N') = 'N'\n",
    "                and coalesce(nonmv, 0) = 0 \n",
    "                and coalesce(c.nodeid, lion_node_number) is null\n",
    "        ) all_forms\n",
    "        GROUP BY nodeid, yr,\n",
    "        CASE WHEN PED_NONPED = 'Pedestrian' THEN 'ped'\n",
    "             WHEN PED_NONPED = 'Bicyclist' THEN 'bicycle'\n",
    "             WHEN PED_NONPED = 'Occupant' THEN 'mvo' END\n",
    "\n",
    "        UNION \n",
    "\n",
    "        SELECT crashes.nodeid\n",
    "              ,crashes.yr\n",
    "              ,CASE WHEN v.PED_NONPED = 'P' THEN 'ped'\n",
    "                    WHEN v.PED_NONPED = 'B' THEN 'bicycle'\n",
    "                    WHEN v.PED_NONPED = 'N' THEN 'mvo' \n",
    "                    ELSE 'STUDY YEAR' END AS Mode \n",
    "              ,coalesce(sum(v.INJURED_COUNT),0) INJ\n",
    "        FROM(--selecting tams crashes\n",
    "             SELECT DISTINCT c.nodeid\n",
    "                            ,c.anum_pct\n",
    "                            ,c.anum_seq\n",
    "                            ,c.anum_yy\n",
    "                            ,yr\n",
    "             FROM (SELECT nodeid\n",
    "                          ,anum_pct\n",
    "                          ,anum_seq\n",
    "                          ,anum_yy\n",
    "                          ,year(occurrence_datetime) yr\n",
    "                    FROM DataWarehouse.dbo.AIS_PD_Core_F  \n",
    "                    WHERE (year(occurrence_datetime) between {study_year_min} and 2016)\n",
    "                       --and year(occurrence_datetime) != {my_study_year}\n",
    "                       and nodeid > 0\n",
    "                    ) AS c\n",
    "            JOIN DataWarehouse.dbo.AIS_PD_Locx_F AS l\n",
    "            ON c.ANUM_PCT = l.ANUM_PCT and c.ANUM_SEQ = l.ANUM_SEQ and c.ANUM_YY = l.ANUM_YY\n",
    "\n",
    "            UNION\n",
    "\n",
    "            --unioning to account for tams crashes with nodeid = 0/street name combos with multiple potential nodes\n",
    "            SELECT DISTINCT lu.nodeid, c.anum_pct, c.anum_seq, c.anum_yy, yr\n",
    "            FROM (SELECT anum_pct, anum_seq, anum_yy, year(occurrence_datetime) yr \n",
    "                  FROM DataWarehouse.dbo.AIS_PD_Core_F \n",
    "                  WHERE (year(occurrence_datetime) between {study_year_min} and 2016)\n",
    "                     --and year(occurrence_datetime) != {my_study_year}\n",
    "                  ) AS c\n",
    "            JOIN DataWarehouse.dbo.AIS_PD_Locx_F AS l\n",
    "            ON c.ANUM_PCT = l.ANUM_PCT and c.ANUM_SEQ = l.ANUM_SEQ and c.ANUM_YY = l.ANUM_YY\n",
    "            JOIN DataWarehouse.dbo.nypd_location_lookup_F AS lu\n",
    "            ON c.ANUM_PCT = lu.ANUM_PCT and l.ON_STREET in (lu.[ON_STREET], lu.CROSS_STREET) and l.CROSS_STREET in (lu.[ON_STREET], lu.CROSS_STREET)\n",
    "            ---AG changed above from: on c.ANUM_PCT = lu.ANUM_PCT and l.ON_STREET = lu.[ON_STREET] and l.CROSS_STREET = lu.CROSS_STREET\n",
    "        ) crashes\n",
    "        LEFT JOIN DataWarehouse.dbo.AIS_PD_Victim_F AS v\n",
    "        on crashes.ANUM_PCT = v.ANUM_PCT and crashes.ANUM_SEQ = v.ANUM_SEQ and crashes.ANUM_YY = v.ANUM_YY\n",
    "        GROUP BY crashes.nodeid\n",
    "                ,crashes.yr\n",
    "                ,CASE WHEN v.PED_NONPED = 'P' THEN 'ped'\n",
    "                      WHEN v.PED_NONPED = 'B' THEN 'bicycle'\n",
    "                      WHEN v.PED_NONPED = 'N' THEN 'mvo' \n",
    "                      ELSE 'STUDY YEAR' END \n",
    "\n",
    "        ) data \n",
    "\n",
    "GROUP BY NODEID\n",
    "        ,CASE WHEN yr between {study_year_min} and {study_year_min} + 2 THEN 'before' \n",
    "            WHEN  yr between {study_year_max} - 2 and {study_year_max} THEN 'after' ELSE 'exclude' END\n",
    "        ,yr\n",
    "\"\"\".format(my_study_year=my_study_year,study_year_min=study_year_min,study_year_max=study_year_max))\n"
   ]
  },
  {
   "cell_type": "code",
   "execution_count": 50,
   "metadata": {},
   "outputs": [
    {
     "name": "stdout",
     "output_type": "stream",
     "text": [
      "2020-03-02 16:42\n"
     ]
    }
   ],
   "source": [
    "print timestamp"
   ]
  },
  {
   "cell_type": "code",
   "execution_count": 118,
   "metadata": {},
   "outputs": [],
   "source": [
    "sg = node_inj.loc[node_inj['PERIOD']!='exclude']"
   ]
  },
  {
   "cell_type": "code",
   "execution_count": 121,
   "metadata": {},
   "outputs": [],
   "source": [
    "study_group_inj = study_group_nodes.merge(sg, on='NODEID', how='left')"
   ]
  },
  {
   "cell_type": "code",
   "execution_count": 123,
   "metadata": {},
   "outputs": [],
   "source": [
    "s = study_group_inj.groupby(['yr'])['INJURIES'].sum()"
   ]
  },
  {
   "cell_type": "code",
   "execution_count": 125,
   "metadata": {},
   "outputs": [],
   "source": [
    "cg = node_inj.loc[node_inj['PERIOD']!='exclude']"
   ]
  },
  {
   "cell_type": "code",
   "execution_count": 126,
   "metadata": {},
   "outputs": [],
   "source": [
    "control_group_inj = control_group_nodes.merge(cg, on='NODEID', how='left')"
   ]
  },
  {
   "cell_type": "code",
   "execution_count": 127,
   "metadata": {},
   "outputs": [],
   "source": [
    "c = control_group_inj.groupby(['yr'])['INJURIES'].sum()"
   ]
  },
  {
   "cell_type": "code",
   "execution_count": 128,
   "metadata": {},
   "outputs": [
    {
     "data": {
      "text/plain": [
       "yr\n",
       "2011.0    31792.0\n",
       "2012.0    31693.0\n",
       "2013.0    32202.0\n",
       "2014.0    29448.0\n",
       "2015.0    30304.0\n",
       "2016.0    33906.0\n",
       "2017.0    14924.0\n",
       "Name: INJURIES, dtype: float64"
      ]
     },
     "execution_count": 128,
     "metadata": {},
     "output_type": "execute_result"
    }
   ],
   "source": [
    "c"
   ]
  },
  {
   "cell_type": "code",
   "execution_count": 132,
   "metadata": {},
   "outputs": [],
   "source": [
    "c=pd.DataFrame(c)"
   ]
  },
  {
   "cell_type": "code",
   "execution_count": 133,
   "metadata": {},
   "outputs": [],
   "source": [
    "s= pd.DataFrame(s)"
   ]
  },
  {
   "cell_type": "code",
   "execution_count": 134,
   "metadata": {},
   "outputs": [],
   "source": [
    "tot= pd.concat([c,s], axis=0).sort_values('yr')"
   ]
  },
  {
   "cell_type": "code",
   "execution_count": 139,
   "metadata": {},
   "outputs": [],
   "source": [
    "total = pd.DataFrame(tot.groupby(['yr'])['INJURIES'].sum())"
   ]
  },
  {
   "cell_type": "code",
   "execution_count": 145,
   "metadata": {},
   "outputs": [],
   "source": [
    "writer = pd.ExcelWriter('speed_hump_analysis_302020.xlsx',engine = 'xlsxwriter') #opening new excel file to write data to"
   ]
  },
  {
   "cell_type": "code",
   "execution_count": 147,
   "metadata": {},
   "outputs": [],
   "source": [
    "s.to_excel(writer, sheet_name='study_group')\n",
    "c.to_excel(writer, sheet_name='control_group')\n",
    "total.to_excel(writer, sheet_name='total')\n",
    "writer.save() "
   ]
  },
  {
   "cell_type": "code",
   "execution_count": 135,
   "metadata": {},
   "outputs": [
    {
     "ename": "IOError",
     "evalue": "[Errno 13] Permission denied: 'speed_hump_analysis_302020.csv'",
     "output_type": "error",
     "traceback": [
      "\u001b[1;31m---------------------------------------------------------------------------\u001b[0m",
      "\u001b[1;31mIOError\u001b[0m                                   Traceback (most recent call last)",
      "\u001b[1;32m<ipython-input-135-f5c785c8c078>\u001b[0m in \u001b[0;36m<module>\u001b[1;34m()\u001b[0m\n\u001b[1;32m----> 1\u001b[1;33m \u001b[0mtot\u001b[0m\u001b[1;33m.\u001b[0m\u001b[0mto_csv\u001b[0m\u001b[1;33m(\u001b[0m\u001b[1;34m'speed_hump_analysis_302020.csv'\u001b[0m\u001b[1;33m)\u001b[0m\u001b[1;33m\u001b[0m\u001b[0m\n\u001b[0m",
      "\u001b[1;32mC:\\Python27\\ArcGIS10.4\\lib\\site-packages\\pandas\\core\\generic.pyc\u001b[0m in \u001b[0;36mto_csv\u001b[1;34m(self, path_or_buf, sep, na_rep, float_format, columns, header, index, index_label, mode, encoding, compression, quoting, quotechar, line_terminator, chunksize, tupleize_cols, date_format, doublequote, escapechar, decimal)\u001b[0m\n\u001b[0;32m   3018\u001b[0m                                  \u001b[0mdoublequote\u001b[0m\u001b[1;33m=\u001b[0m\u001b[0mdoublequote\u001b[0m\u001b[1;33m,\u001b[0m\u001b[1;33m\u001b[0m\u001b[0m\n\u001b[0;32m   3019\u001b[0m                                  escapechar=escapechar, decimal=decimal)\n\u001b[1;32m-> 3020\u001b[1;33m         \u001b[0mformatter\u001b[0m\u001b[1;33m.\u001b[0m\u001b[0msave\u001b[0m\u001b[1;33m(\u001b[0m\u001b[1;33m)\u001b[0m\u001b[1;33m\u001b[0m\u001b[0m\n\u001b[0m\u001b[0;32m   3021\u001b[0m \u001b[1;33m\u001b[0m\u001b[0m\n\u001b[0;32m   3022\u001b[0m         \u001b[1;32mif\u001b[0m \u001b[0mpath_or_buf\u001b[0m \u001b[1;32mis\u001b[0m \u001b[0mNone\u001b[0m\u001b[1;33m:\u001b[0m\u001b[1;33m\u001b[0m\u001b[0m\n",
      "\u001b[1;32mC:\\Python27\\ArcGIS10.4\\lib\\site-packages\\pandas\\io\\formats\\csvs.pyc\u001b[0m in \u001b[0;36msave\u001b[1;34m(self)\u001b[0m\n\u001b[0;32m    155\u001b[0m             f, handles = _get_handle(self.path_or_buf, self.mode,\n\u001b[0;32m    156\u001b[0m                                      \u001b[0mencoding\u001b[0m\u001b[1;33m=\u001b[0m\u001b[0mself\u001b[0m\u001b[1;33m.\u001b[0m\u001b[0mencoding\u001b[0m\u001b[1;33m,\u001b[0m\u001b[1;33m\u001b[0m\u001b[0m\n\u001b[1;32m--> 157\u001b[1;33m                                      compression=self.compression)\n\u001b[0m\u001b[0;32m    158\u001b[0m             \u001b[0mclose\u001b[0m \u001b[1;33m=\u001b[0m \u001b[0mTrue\u001b[0m\u001b[1;33m\u001b[0m\u001b[0m\n\u001b[0;32m    159\u001b[0m \u001b[1;33m\u001b[0m\u001b[0m\n",
      "\u001b[1;32mC:\\Python27\\ArcGIS10.4\\lib\\site-packages\\pandas\\io\\common.pyc\u001b[0m in \u001b[0;36m_get_handle\u001b[1;34m(path_or_buf, mode, encoding, compression, memory_map, is_text)\u001b[0m\n\u001b[0;32m    419\u001b[0m             \u001b[1;31m# Python 2\u001b[0m\u001b[1;33m\u001b[0m\u001b[1;33m\u001b[0m\u001b[0m\n\u001b[0;32m    420\u001b[0m             \u001b[0mmode\u001b[0m \u001b[1;33m=\u001b[0m \u001b[1;34m\"wb\"\u001b[0m \u001b[1;32mif\u001b[0m \u001b[0mmode\u001b[0m \u001b[1;33m==\u001b[0m \u001b[1;34m\"w\"\u001b[0m \u001b[1;32melse\u001b[0m \u001b[0mmode\u001b[0m\u001b[1;33m\u001b[0m\u001b[0m\n\u001b[1;32m--> 421\u001b[1;33m             \u001b[0mf\u001b[0m \u001b[1;33m=\u001b[0m \u001b[0mopen\u001b[0m\u001b[1;33m(\u001b[0m\u001b[0mpath_or_buf\u001b[0m\u001b[1;33m,\u001b[0m \u001b[0mmode\u001b[0m\u001b[1;33m)\u001b[0m\u001b[1;33m\u001b[0m\u001b[0m\n\u001b[0m\u001b[0;32m    422\u001b[0m         \u001b[1;32melif\u001b[0m \u001b[0mencoding\u001b[0m\u001b[1;33m:\u001b[0m\u001b[1;33m\u001b[0m\u001b[0m\n\u001b[0;32m    423\u001b[0m             \u001b[1;31m# Python 3 and encoding\u001b[0m\u001b[1;33m\u001b[0m\u001b[1;33m\u001b[0m\u001b[0m\n",
      "\u001b[1;31mIOError\u001b[0m: [Errno 13] Permission denied: 'speed_hump_analysis_302020.csv'"
     ]
    }
   ],
   "source": [
    "total.to_csv('speed_hump_analysis_302020.csv')"
   ]
  },
  {
   "cell_type": "code",
   "execution_count": 101,
   "metadata": {},
   "outputs": [
    {
     "data": {
      "text/html": [
       "<div>\n",
       "<style scoped>\n",
       "    .dataframe tbody tr th:only-of-type {\n",
       "        vertical-align: middle;\n",
       "    }\n",
       "\n",
       "    .dataframe tbody tr th {\n",
       "        vertical-align: top;\n",
       "    }\n",
       "\n",
       "    .dataframe thead th {\n",
       "        text-align: right;\n",
       "    }\n",
       "</style>\n",
       "<table border=\"1\" class=\"dataframe\">\n",
       "  <thead>\n",
       "    <tr style=\"text-align: right;\">\n",
       "      <th></th>\n",
       "      <th>INJURIES</th>\n",
       "    </tr>\n",
       "    <tr>\n",
       "      <th>yr</th>\n",
       "      <th></th>\n",
       "    </tr>\n",
       "  </thead>\n",
       "  <tbody>\n",
       "    <tr>\n",
       "      <th>2011.0</th>\n",
       "      <td>31792.0</td>\n",
       "    </tr>\n",
       "    <tr>\n",
       "      <th>2012.0</th>\n",
       "      <td>31693.0</td>\n",
       "    </tr>\n",
       "    <tr>\n",
       "      <th>2013.0</th>\n",
       "      <td>32202.0</td>\n",
       "    </tr>\n",
       "    <tr>\n",
       "      <th>2014.0</th>\n",
       "      <td>400.0</td>\n",
       "    </tr>\n",
       "    <tr>\n",
       "      <th>2015.0</th>\n",
       "      <td>30304.0</td>\n",
       "    </tr>\n",
       "    <tr>\n",
       "      <th>2016.0</th>\n",
       "      <td>33906.0</td>\n",
       "    </tr>\n",
       "    <tr>\n",
       "      <th>2017.0</th>\n",
       "      <td>14924.0</td>\n",
       "    </tr>\n",
       "  </tbody>\n",
       "</table>\n",
       "</div>"
      ],
      "text/plain": [
       "        INJURIES\n",
       "yr              \n",
       "2011.0   31792.0\n",
       "2012.0   31693.0\n",
       "2013.0   32202.0\n",
       "2014.0     400.0\n",
       "2015.0   30304.0\n",
       "2016.0   33906.0\n",
       "2017.0   14924.0"
      ]
     },
     "execution_count": 101,
     "metadata": {},
     "output_type": "execute_result"
    }
   ],
   "source": [
    "tot\n"
   ]
  },
  {
   "cell_type": "markdown",
   "metadata": {},
   "source": [
    "### 7. Before-Afters"
   ]
  },
  {
   "cell_type": "markdown",
   "metadata": {},
   "source": [
    "### All Study Group Injuries before and after Study Year"
   ]
  },
  {
   "cell_type": "code",
   "execution_count": null,
   "metadata": {},
   "outputs": [],
   "source": [
    "study_group_inj = study_group_nodes.merge(node_inj, on='NODEID', how='left')"
   ]
  },
  {
   "cell_type": "markdown",
   "metadata": {},
   "source": [
    "#### Before"
   ]
  },
  {
   "cell_type": "code",
   "execution_count": 70,
   "metadata": {},
   "outputs": [],
   "source": [
    "s_inj_b = study_group_inj.loc[study_group_inj['PERIOD'] == 'before'].INJURIES.sum()"
   ]
  },
  {
   "cell_type": "code",
   "execution_count": 71,
   "metadata": {},
   "outputs": [
    {
     "name": "stdout",
     "output_type": "stream",
     "text": [
      "0.0 injuries before 2014\n"
     ]
    }
   ],
   "source": [
    "print \"{} injuries before {}\".format(s_inj_b,my_study_year)"
   ]
  },
  {
   "cell_type": "markdown",
   "metadata": {},
   "source": [
    "#### After"
   ]
  },
  {
   "cell_type": "code",
   "execution_count": 33,
   "metadata": {},
   "outputs": [],
   "source": [
    "s_inj_a = study_group_inj.loc[study_group_inj['PERIOD'] == 'after'].INJURIES.sum()"
   ]
  },
  {
   "cell_type": "code",
   "execution_count": 34,
   "metadata": {},
   "outputs": [
    {
     "name": "stdout",
     "output_type": "stream",
     "text": [
      "978.0 injuries before 2014\n"
     ]
    }
   ],
   "source": [
    "print \"{} injuries before {}\".format(s_inj_a,my_study_year)"
   ]
  },
  {
   "cell_type": "code",
   "execution_count": 43,
   "metadata": {},
   "outputs": [
    {
     "data": {
      "text/html": [
       "<div>\n",
       "<style scoped>\n",
       "    .dataframe tbody tr th:only-of-type {\n",
       "        vertical-align: middle;\n",
       "    }\n",
       "\n",
       "    .dataframe tbody tr th {\n",
       "        vertical-align: top;\n",
       "    }\n",
       "\n",
       "    .dataframe thead th {\n",
       "        text-align: right;\n",
       "    }\n",
       "</style>\n",
       "<table border=\"1\" class=\"dataframe\">\n",
       "  <thead>\n",
       "    <tr style=\"text-align: right;\">\n",
       "      <th></th>\n",
       "      <th>Mode</th>\n",
       "      <th>2010-2013</th>\n",
       "      <th>2015-2017</th>\n",
       "      <th>% Change</th>\n",
       "    </tr>\n",
       "  </thead>\n",
       "  <tbody>\n",
       "    <tr>\n",
       "      <th>0</th>\n",
       "      <td>PED</td>\n",
       "      <td>340.0</td>\n",
       "      <td>267.0</td>\n",
       "      <td>-21.470588</td>\n",
       "    </tr>\n",
       "    <tr>\n",
       "      <th>1</th>\n",
       "      <td>BI</td>\n",
       "      <td>170.0</td>\n",
       "      <td>134.0</td>\n",
       "      <td>-21.176471</td>\n",
       "    </tr>\n",
       "    <tr>\n",
       "      <th>2</th>\n",
       "      <td>MVO</td>\n",
       "      <td>714.0</td>\n",
       "      <td>577.0</td>\n",
       "      <td>-19.187675</td>\n",
       "    </tr>\n",
       "  </tbody>\n",
       "</table>\n",
       "</div>"
      ],
      "text/plain": [
       "  Mode  2010-2013  2015-2017   % Change\n",
       "0  PED      340.0      267.0 -21.470588\n",
       "1   BI      170.0      134.0 -21.176471\n",
       "2  MVO      714.0      577.0 -19.187675"
      ]
     },
     "execution_count": 43,
     "metadata": {},
     "output_type": "execute_result"
    }
   ],
   "source": [
    "study = [['PED', study_group_inj.loc[study_group_inj['PERIOD'] == 'before'].PED.sum(), study_group_inj.loc[study_group_inj['PERIOD'] == 'after'].PED.sum()], \n",
    "         ['BI', study_group_inj.loc[study_group_inj['PERIOD'] == 'before'].BI.sum(), study_group_inj.loc[study_group_inj['PERIOD'] == 'after'].BI.sum()],\n",
    "         ['MVO', study_group_inj.loc[study_group_inj['PERIOD'] == 'before'].MVO.sum(), study_group_inj.loc[study_group_inj['PERIOD'] == 'after'].MVO.sum()]] \n",
    "  \n",
    "# Create the pandas DataFrame \n",
    "study_df = pd.DataFrame(study,columns = ['Mode', '2010-2013', '2015-2017'])\n",
    "study_df['% Change']  = ((study_df['2015-2017'] - study_df['2010-2013'])/study_df['2010-2013'])*100\n",
    "  \n",
    "# print dataframe. \n",
    "study_df"
   ]
  },
  {
   "cell_type": "markdown",
   "metadata": {},
   "source": [
    "### All Control Group Injuries before and after Study Year"
   ]
  },
  {
   "cell_type": "code",
   "execution_count": 36,
   "metadata": {},
   "outputs": [],
   "source": [
    "control_group_inj = control_group_nodes.merge(node_inj, on='NODEID', how='left')"
   ]
  },
  {
   "cell_type": "markdown",
   "metadata": {},
   "source": [
    "#### Before"
   ]
  },
  {
   "cell_type": "code",
   "execution_count": 37,
   "metadata": {},
   "outputs": [],
   "source": [
    "c_inj_b = control_group_inj.loc[control_group_inj['PERIOD'] == 'before'].INJURIES.sum()"
   ]
  },
  {
   "cell_type": "code",
   "execution_count": 38,
   "metadata": {},
   "outputs": [
    {
     "name": "stdout",
     "output_type": "stream",
     "text": [
      "95819.0 injuries before 2014\n"
     ]
    }
   ],
   "source": [
    "print \"{} injuries before {}\".format(c_inj_b,my_study_year)"
   ]
  },
  {
   "cell_type": "markdown",
   "metadata": {},
   "source": [
    "#### After"
   ]
  },
  {
   "cell_type": "code",
   "execution_count": 39,
   "metadata": {},
   "outputs": [],
   "source": [
    "c_inj_a = control_group_inj.loc[control_group_inj['PERIOD'] == 'after'].INJURIES.sum()"
   ]
  },
  {
   "cell_type": "code",
   "execution_count": 40,
   "metadata": {
    "scrolled": true
   },
   "outputs": [
    {
     "name": "stdout",
     "output_type": "stream",
     "text": [
      "79235.0 injuries before 2014\n"
     ]
    }
   ],
   "source": [
    "print \"{} injuries before {}\".format(c_inj_a,my_study_year)"
   ]
  },
  {
   "cell_type": "code",
   "execution_count": 42,
   "metadata": {},
   "outputs": [
    {
     "data": {
      "text/html": [
       "<div>\n",
       "<style scoped>\n",
       "    .dataframe tbody tr th:only-of-type {\n",
       "        vertical-align: middle;\n",
       "    }\n",
       "\n",
       "    .dataframe tbody tr th {\n",
       "        vertical-align: top;\n",
       "    }\n",
       "\n",
       "    .dataframe thead th {\n",
       "        text-align: right;\n",
       "    }\n",
       "</style>\n",
       "<table border=\"1\" class=\"dataframe\">\n",
       "  <thead>\n",
       "    <tr style=\"text-align: right;\">\n",
       "      <th></th>\n",
       "      <th>Mode</th>\n",
       "      <th>2010-2013</th>\n",
       "      <th>2015-2017</th>\n",
       "      <th>% Change</th>\n",
       "    </tr>\n",
       "  </thead>\n",
       "  <tbody>\n",
       "    <tr>\n",
       "      <th>0</th>\n",
       "      <td>PED</td>\n",
       "      <td>21810.0</td>\n",
       "      <td>17609.0</td>\n",
       "      <td>-19.261807</td>\n",
       "    </tr>\n",
       "    <tr>\n",
       "      <th>1</th>\n",
       "      <td>BI</td>\n",
       "      <td>7224.0</td>\n",
       "      <td>7497.0</td>\n",
       "      <td>3.779070</td>\n",
       "    </tr>\n",
       "    <tr>\n",
       "      <th>2</th>\n",
       "      <td>MVO</td>\n",
       "      <td>66785.0</td>\n",
       "      <td>54129.0</td>\n",
       "      <td>-18.950363</td>\n",
       "    </tr>\n",
       "  </tbody>\n",
       "</table>\n",
       "</div>"
      ],
      "text/plain": [
       "  Mode  2010-2013  2015-2017   % Change\n",
       "0  PED    21810.0    17609.0 -19.261807\n",
       "1   BI     7224.0     7497.0   3.779070\n",
       "2  MVO    66785.0    54129.0 -18.950363"
      ]
     },
     "execution_count": 42,
     "metadata": {},
     "output_type": "execute_result"
    }
   ],
   "source": [
    "control = [['PED', control_group_inj.loc[control_group_inj['PERIOD'] == 'before'].PED.sum(), control_group_inj.loc[control_group_inj['PERIOD'] == 'after'].PED.sum()], \n",
    "           ['BI', control_group_inj.loc[control_group_inj['PERIOD'] == 'before'].BI.sum(), control_group_inj.loc[control_group_inj['PERIOD'] == 'after'].BI.sum()],\n",
    "           ['MVO', control_group_inj.loc[control_group_inj['PERIOD'] == 'before'].MVO.sum(), control_group_inj.loc[control_group_inj['PERIOD'] == 'after'].MVO.sum()]] \n",
    "  \n",
    "# Create the pandas DataFrame \n",
    "control_df = pd.DataFrame(control, columns = ['Mode', '2010-2013', '2015-2017']) \n",
    "control_df['% Change']  = ((control_df['2015-2017'] - control_df['2010-2013'])/control_df['2010-2013'])*100\n",
    "# print dataframe. \n",
    "control_df"
   ]
  },
  {
   "cell_type": "code",
   "execution_count": null,
   "metadata": {},
   "outputs": [],
   "source": [
    "writer = pd.ExcelWriter('speed_hump_analysis.xlsx',engine = 'xlsxwriter') #opening new excel file to write data to"
   ]
  },
  {
   "cell_type": "code",
   "execution_count": null,
   "metadata": {},
   "outputs": [],
   "source": [
    "study_df.to_excel(writer, sheet_name='Sheet1', index = False)\n",
    "control_df.to_excel(writer, sheet_name='Sheet1', startrow=5, index = False)\n",
    "writer.save() "
   ]
  },
  {
   "cell_type": "code",
   "execution_count": null,
   "metadata": {},
   "outputs": [],
   "source": [
    "cdb.connect()"
   ]
  },
  {
   "cell_type": "code",
   "execution_count": null,
   "metadata": {},
   "outputs": [],
   "source": [
    "cdb.query(\"\"\"\n",
    "\n",
    "drop table if exists working.sip_projs; \n",
    "\n",
    "drop table if exists working.speed_hump_focus_group; \n",
    "\n",
    "drop table if exists working.speed_hump_control_group; \n",
    "\n",
    "drop table if exists working.speed_hump_control_group; \n",
    "\n",
    "\"\"\"\n",
    ")"
   ]
  }
 ],
 "metadata": {
  "kernelspec": {
   "display_name": "Python 2",
   "language": "python",
   "name": "python2"
  },
  "language_info": {
   "codemirror_mode": {
    "name": "ipython",
    "version": 2
   },
   "file_extension": ".py",
   "mimetype": "text/x-python",
   "name": "python",
   "nbconvert_exporter": "python",
   "pygments_lexer": "ipython2",
   "version": "2.7.16"
  }
 },
 "nbformat": 4,
 "nbformat_minor": 2
}
