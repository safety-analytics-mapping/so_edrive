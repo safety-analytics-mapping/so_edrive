{
 "cells": [
  {
   "cell_type": "markdown",
   "metadata": {},
   "source": [
    "# Request: PWA (Crashes) \n",
    "\n",
    "\n",
    "#### 1. Database Connections for DOTDEVRHPGSQL01, DOT55SQL01\n",
    "####     Tables: CRASHDATA, FORMS\n",
    "#### 2. \n",
    "#### 3."
   ]
  },
  {
   "cell_type": "code",
   "execution_count": 12,
   "metadata": {
    "scrolled": false
   },
   "outputs": [
    {
     "name": "stdout",
     "output_type": "stream",
     "text": [
      "Notebook run: 2019-08-15 11:36\n",
      "E:\\RIS\\Staff Folders\\Samuel\\Requests\\SH\\PWA\n"
     ]
    }
   ],
   "source": [
    "from ris import db2  #library designed for SQL database connection and querying\n",
    "from IPython.display import clear_output\n",
    "from collections import defaultdict\n",
    "from collections import defaultdict, namedtuple\n",
    "import datetime \n",
    "import pandas as pd\n",
    "import numpy as np\n",
    "import os\n",
    "from dateutil.relativedelta import relativedelta\n",
    "from sqlalchemy import create_engine\n",
    "\n",
    "clear_output()\n",
    "timestamp = datetime.datetime.now().strftime('%Y-%m-%d %H:%M')\n",
    "print 'Notebook run: {}'.format(timestamp)\n",
    "print os.getcwd()\n",
    "# %load_ext sql "
   ]
  },
  {
   "cell_type": "markdown",
   "metadata": {},
   "source": [
    "### Database connections"
   ]
  },
  {
   "cell_type": "code",
   "execution_count": 6,
   "metadata": {},
   "outputs": [
    {
     "name": "stdout",
     "output_type": "stream",
     "text": [
      "User name (CRASHDATA):SOGE\n",
      "Password (CRASHDATA)········\n"
     ]
    }
   ],
   "source": [
    "cdb = db2.PostgresDb('DOTDEVRHPGSQL01', 'CRASHDATA', quiet = True)\n",
    "fdb = db2.SqlDb('DOT55SQL01', 'forms', user='arcgis', db_pass='arcgis', quiet = True)"
   ]
  },
  {
   "cell_type": "code",
   "execution_count": 13,
   "metadata": {},
   "outputs": [],
   "source": [
    "def all_crashes():\n",
    "    \n",
    "    start = (datetime.datetime.now() - relativedelta(years=3)).strftime('%Y-%m-%d')\n",
    "    end = datetime.datetime.now().strftime('%Y-%m-%d') \n",
    "\n",
    "    crashes = db2.query_to_table(fdb,\"\"\"\n",
    "    \n",
    "        select coalesce(c.nodeid, c.lion_node_number) nodeid, \n",
    "        integration_id, cast(c.accident_dt as date) accident_dt\n",
    "        from forms.dbo.wc_accident_f c\n",
    "        where year(c.accident_dt) >= 2017\n",
    "        and accident_dt between '{start}' and '{end}'\n",
    "        and coalesce(c.nodeid, c.lion_node_number) is not null\n",
    "        union select min(s.nodeid) nodeid, integration_id, cast(c.accident_dt as date) accident_dt\n",
    "        from forms.dbo.wc_accident_f c\n",
    "        join [FORMS].[dbo].[v_IntersectionStreetNames_Gen] s\n",
    "        on \n",
    "        lower(ltrim(rtrim(c.SRC_ON_STREET))) = lower(ltrim(rtrim(s.street_1))) \n",
    "        and\n",
    "        lower(ltrim(rtrim(c.SRC_cross_STREET))) = lower(ltrim(rtrim(s.street_2)))\n",
    "        and \n",
    "        case WHEN C.[SRC_POLICE_PRECINCT] BETWEEN 1 AND 34 THEN 1\n",
    "            WHEN C.[SRC_POLICE_PRECINCT] BETWEEN 40 AND 52 THEN 2\n",
    "            WHEN C.[SRC_POLICE_PRECINCT] BETWEEN 60 AND 94 THEN 3\n",
    "            WHEN C.[SRC_POLICE_PRECINCT] BETWEEN 100 AND 115 THEN 4\n",
    "            WHEN C.[SRC_POLICE_PRECINCT] BETWEEN 120 AND 123 THEN 5 end \n",
    "        in (left(b7sc_2, 1), left(b7sc_1, 1))\n",
    "        where year(c.accident_dt) >= 2017\n",
    "        and accident_dt between '{start}' and '{end}'\n",
    "        and coalesce(c.nodeid, c.lion_node_number) is null\n",
    "        group by integration_id, cast(c.accident_dt as date)\n",
    "        order by nodeid, cast(c.accident_dt as date) desc\n",
    "        \n",
    "        \"\"\".format(start=start, end=end))\n",
    "    \n",
    "    return crashes"
   ]
  },
  {
   "cell_type": "code",
   "execution_count": 14,
   "metadata": {},
   "outputs": [],
   "source": [
    "crashes = all_crashes()"
   ]
  },
  {
   "cell_type": "code",
   "execution_count": 16,
   "metadata": {},
   "outputs": [],
   "source": [
    "#crashes"
   ]
  }
 ],
 "metadata": {
  "kernelspec": {
   "display_name": "Python 2",
   "language": "python",
   "name": "python2"
  },
  "language_info": {
   "codemirror_mode": {
    "name": "ipython",
    "version": 2
   },
   "file_extension": ".py",
   "mimetype": "text/x-python",
   "name": "python",
   "nbconvert_exporter": "python",
   "pygments_lexer": "ipython2",
   "version": "2.7.10"
  }
 },
 "nbformat": 4,
 "nbformat_minor": 2
}
