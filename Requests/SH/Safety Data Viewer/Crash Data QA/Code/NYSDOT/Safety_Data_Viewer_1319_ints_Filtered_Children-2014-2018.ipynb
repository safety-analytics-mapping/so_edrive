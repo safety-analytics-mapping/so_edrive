{
 "cells": [
  {
   "cell_type": "code",
   "execution_count": 1,
   "metadata": {},
   "outputs": [
    {
     "name": "stdout",
     "output_type": "stream",
     "text": [
      "Notebook run: 2020-08-10_17:43\n",
      "E:\\RIS\\Staff Folders\\Samuel\\Requests\\SH\\Safety_Data_Viewer\n"
     ]
    }
   ],
   "source": [
    "from ris import pysqldb\n",
    "from IPython.display import clear_output\n",
    "from collections import defaultdict\n",
    "from collections import defaultdict, namedtuple\n",
    "import datetime \n",
    "import pandas as pd\n",
    "import numpy as np\n",
    "import os\n",
    "from sqlalchemy import create_engine\n",
    "\n",
    "clear_output()\n",
    "timestamp = datetime.datetime.now().strftime('%Y-%m-%d_%H:%M')\n",
    "ts = datetime.datetime.now().strftime('%Y-%m-%d')\n",
    "\n",
    "print 'Notebook run: {}'.format(timestamp)\n",
    "print os.getcwd()"
   ]
  },
  {
   "cell_type": "code",
   "execution_count": 2,
   "metadata": {},
   "outputs": [
    {
     "name": "stdout",
     "output_type": "stream",
     "text": [
      "\n",
      "Additional database connection details required:\n",
      "User name (crashdata):soge\n",
      "Password (crashdata)········\n",
      "Database connection (PG) to CRASHDATA on DOTDEVRHPGSQL01 - user: soge \n",
      "Connection established 2020-08-10 17:43:14\n"
     ]
    }
   ],
   "source": [
    "#Database connection\n",
    "cdb = pysqldb.DbConnect(server='DOTDEVRHPGSQL01', database='CRASHDATA', type='PG')\n"
   ]
  },
  {
   "cell_type": "code",
   "execution_count": 3,
   "metadata": {
    "scrolled": true
   },
   "outputs": [
    {
     "name": "stdout",
     "output_type": "stream",
     "text": [
      "Database connection (PG) to CRASHDATA on DOTDEVRHPGSQL01 - user: soge \n",
      "Connection established 2020-08-10 17:43:15\n"
     ]
    }
   ],
   "source": [
    "cdb.connect()"
   ]
  },
  {
   "cell_type": "markdown",
   "metadata": {},
   "source": [
    "### Initial Table Containing All NYSDOT Information for Study Stretch. "
   ]
  },
  {
   "cell_type": "code",
   "execution_count": 5,
   "metadata": {},
   "outputs": [
    {
     "data": {
      "text/plain": [
       "\"\\n\\n--SIP 1319----------------------------------------------------------------------------------------------------------\\n\\nDROP TABLE IF EXISTS sam_crashes_1319; \\n\\nCREATE TABLE sam_crashes_1319 AS \\n\\n\\nWITH data AS(\\n\\nSELECT distinct nys_a.*\\nFROM public.nysdot_all nys_a\\nJOIN public.node lion\\non nys_a.nodeid::int = lion.nodeid::int\\nWHERE nys_a.case_yr>= 2014 and nys_a.case_yr<=2018\\nand lion.nodeid::int in(SELECT nodeid \\n                        FROM public.node\\n                        WHERE masterid in (SELECT masterid\\n                                           FROM public.node\\n                                           WHERE nodeid::int in (47444,100531,9031585,9031837)))\\n)\\n\\n,data2 AS (\\n\\nSELECT data.*, age\\nFROM data\\nLEFT JOIN (SELECT nys_v.crashid, age \\n           FROM (SELECT distinct crashid\\n                 FROM public.nysdot_vehicle\\n                 WHERE age between 1 and 17\\n                 and veh_typ in ('5','6')\\n                 GROUP by crashid\\n                 HAVING count(crashid) = 1\\n                 ) nys_v\\n           JOIN public.nysdot_vehicle nys_v_age\\n           on nys_v.crashid = nys_v_age.crashid\\n           WHERE veh_typ in ('5','6')\\n          ) ages\\non data.crashid = ages.crashid\\n\\n)\\n\\nSELECT * FROM\\ndata2\\nWHERE case_num in (SELECT DISTINCT case_num\\n                   FROM (SELECT DISTINCT case_num, count(case_num)c_id,accd_type_int, count(DISTINCT accd_type_int) c_ati\\n                         FROM data2\\n                         WHERE age is not null\\n                         GROUP BY case_num, accd_type_int) x\\n                   WHERE c_id = c_ati);\\n\\n\\n\\n\""
      ]
     },
     "execution_count": 5,
     "metadata": {},
     "output_type": "execute_result"
    }
   ],
   "source": [
    "\"\"\"\n",
    "\n",
    "--SIP 1319----------------------------------------------------------------------------------------------------------\n",
    "\n",
    "DROP TABLE IF EXISTS sam_crashes_1319; \n",
    "\n",
    "CREATE TABLE sam_crashes_1319 AS \n",
    "\n",
    "\n",
    "WITH data AS(\n",
    "\n",
    "SELECT distinct nys_a.*\n",
    "FROM public.nysdot_all nys_a\n",
    "JOIN public.node lion\n",
    "on nys_a.nodeid::int = lion.nodeid::int\n",
    "WHERE nys_a.case_yr>= 2014 and nys_a.case_yr<=2018\n",
    "and lion.nodeid::int in(SELECT nodeid \n",
    "                        FROM public.node\n",
    "                        WHERE masterid in (SELECT masterid\n",
    "                                           FROM public.node\n",
    "                                           WHERE nodeid::int in (47444,100531,9031585,9031837)))\n",
    ")\n",
    "\n",
    ",data2 AS (\n",
    "\n",
    "SELECT data.*, age\n",
    "FROM data\n",
    "LEFT JOIN (SELECT nys_v.crashid, age \n",
    "           FROM (SELECT distinct crashid\n",
    "                 FROM public.nysdot_vehicle\n",
    "                 WHERE age between 1 and 17\n",
    "                 and veh_typ in ('5','6')\n",
    "                 GROUP by crashid\n",
    "                 HAVING count(crashid) = 1\n",
    "                 ) nys_v\n",
    "           JOIN public.nysdot_vehicle nys_v_age\n",
    "           on nys_v.crashid = nys_v_age.crashid\n",
    "           WHERE veh_typ in ('5','6')\n",
    "          ) ages\n",
    "on data.crashid = ages.crashid\n",
    "\n",
    ")\n",
    "\n",
    "SELECT * FROM\n",
    "data2\n",
    "WHERE case_num in (SELECT DISTINCT case_num\n",
    "                   FROM (SELECT DISTINCT case_num, count(case_num)c_id,accd_type_int, count(DISTINCT accd_type_int) c_ati\n",
    "                         FROM data2\n",
    "                         WHERE age is not null\n",
    "                         GROUP BY case_num, accd_type_int) x\n",
    "                   WHERE c_id = c_ati);\n",
    "\n",
    "\n",
    "\n",
    "\"\"\""
   ]
  },
  {
   "cell_type": "markdown",
   "metadata": {},
   "source": [
    "### Initial Table Containing All Fatality Information for Study Stretch. "
   ]
  },
  {
   "cell_type": "code",
   "execution_count": 6,
   "metadata": {},
   "outputs": [
    {
     "data": {
      "text/plain": [
       "'\\n--Fatals---------------------------\\n\\nDROP TABLE IF EXISTS sam_fatalities_1319; \\n\\nCREATE TABLE sam_fatalities_1319 AS \\n\\nSELECT DISTINCT nodeid \\nFROM public.node\\nWHERE masterid in (SELECT masterid\\n                   FROM public.node\\n                   WHERE nodeid::int in (47444,100531,9031585,9031837))\\n'"
      ]
     },
     "execution_count": 6,
     "metadata": {},
     "output_type": "execute_result"
    }
   ],
   "source": [
    "\"\"\"\n",
    "--Fatals---------------------------\n",
    "\n",
    "DROP TABLE IF EXISTS sam_fatalities_1319; \n",
    "\n",
    "CREATE TABLE sam_fatalities_1319 AS \n",
    "\n",
    "SELECT DISTINCT nodeid \n",
    "FROM public.node\n",
    "WHERE masterid in (SELECT masterid\n",
    "                   FROM public.node\n",
    "                   WHERE nodeid::int in (47444,100531,9031585,9031837))\n",
    "\"\"\""
   ]
  },
  {
   "cell_type": "markdown",
   "metadata": {},
   "source": [
    "### 1. Sip 1319\n",
    "#### Created table in Pgsql containing all nysdot_all data for Sip: 1319 - 111TH ST to 108TH STT"
   ]
  },
  {
   "cell_type": "code",
   "execution_count": 7,
   "metadata": {},
   "outputs": [],
   "source": [
    "sip_1319 = cdb.dfquery(\"\"\"SELECT * FROM sam_crashes_1319\"\"\")"
   ]
  },
  {
   "cell_type": "code",
   "execution_count": 8,
   "metadata": {},
   "outputs": [
    {
     "name": "stdout",
     "output_type": "stream",
     "text": [
      "Database connection (PG) to CRASHDATA on DOTDEVRHPGSQL01 - user: soge \n",
      "Connection established 2020-08-10 17:35:29\n"
     ]
    }
   ],
   "source": [
    "cdb.connect()"
   ]
  },
  {
   "cell_type": "markdown",
   "metadata": {},
   "source": [
    "### Injury Summary"
   ]
  },
  {
   "cell_type": "code",
   "execution_count": null,
   "metadata": {},
   "outputs": [],
   "source": [
    "inj_sum = cdb.dfquery(\"\"\"\n",
    "\n",
    "\n",
    "\n",
    "WITH data as(\n",
    "SELECT \"Type\", sum(\"Total Injuries\") \"Total Injuries\", sum(\"Severe Injuries\") \"Severe Injuries\", sum(\"Fatalities\") \"Fatalities\", sum(\"Severe Injuries\"  + \"Fatalities\") as \"KSI\"\n",
    "FROM (\n",
    "    SELECT * FROM (\n",
    "    --Injuries/Severity By Mode\n",
    "    SELECT  CASE WHEN accd_type_int = 1 then '1. ped'\n",
    "                 WHEN accd_type_int = 2 then '2. bicycle'\n",
    "                 WHEN accd_type_int = 3 then '3. mvo' end as \"Type\"\n",
    "        ,sum(num_of_inj) as \"Total Injuries\"\n",
    "        ,sum(length(ext_of_inj::text) - length(replace(ext_of_inj::text, 'A'::text, ''::text))) as \"Severe Injuries\"\n",
    "        ,0 as \"Fatalities\"\n",
    "    FROM sam_crashes_1319\n",
    "    WHERE accd_type_int = 1\n",
    "    GROUP BY  accd_type_int\n",
    "    ORDER BY  accd_type_int\n",
    "    )injuries\n",
    "\n",
    "    UNION \n",
    "\n",
    "    SELECT * from (\n",
    "    SELECT CASE WHEN pos = 'PD' then '1. ped'\n",
    "                WHEN pos = 'BI' then '2. bicycle'\n",
    "                WHEN pos in ('MO','PS','DR') then '3. mvo' end as \"Type\"\n",
    "           ,0 as \"Total Injuries\"\n",
    "           ,0 as \"Severe Injuries\"\n",
    "           ,count(id_) as \"Fatalities\"\n",
    "    FROM public.fatality_nycdot_current fat\n",
    "    WHERE fat.nodeid::int in ( select * from sam_fatalities_1319)\n",
    "    and date_part('year',acdate) between 2014 and 2018\n",
    "    and pos = 'PD'\n",
    "    GROUP BY pos\n",
    "    )fatalities\n",
    "\n",
    ") inj_sum\n",
    "GROUP BY \"Type\"\n",
    ")\n",
    "\n",
    "\n",
    "SELECT * from (\n",
    "SELECT *\n",
    "FROM data\n",
    "\n",
    "UNION\n",
    "\n",
    "SELECT 'Total' as \"Type\", \"Total Injuries\",\"Severe Injuries\", \"Fatalities\", \"KSI\" \n",
    "FROM (select 'Total' as Year, \n",
    "      sum(data.\"Total Injuries\") \"Total Injuries\",\n",
    "      sum(data.\"Severe Injuries\") \"Severe Injuries\",\n",
    "      sum(data.\"Fatalities\") \"Fatalities\",\n",
    "      sum(data.\"KSI\") \"KSI\"\n",
    "      from data\n",
    "      ) tot\n",
    ")inj_summary\n",
    "ORDER BY \"Type\"\n",
    "\n",
    "\"\"\")"
   ]
  },
  {
   "cell_type": "code",
   "execution_count": null,
   "metadata": {},
   "outputs": [],
   "source": [
    "inj_sum"
   ]
  },
  {
   "cell_type": "markdown",
   "metadata": {},
   "source": [
    "### Fatalities by Mode"
   ]
  },
  {
   "cell_type": "code",
   "execution_count": null,
   "metadata": {},
   "outputs": [],
   "source": [
    "cdb.connect()"
   ]
  },
  {
   "cell_type": "code",
   "execution_count": 4,
   "metadata": {},
   "outputs": [
    {
     "name": "stdout",
     "output_type": "stream",
     "text": [
      "Failure:\n",
      "\n",
      "- Query run 2020-08-11 12:32:10.154000\n",
      "\t\n",
      "\n",
      "--Fatalities by mode-------------------------------------------------------------\n",
      "\n",
      "SELECT CASE WHEN pos = 'PD' then 'ped'\n",
      "            WHEN pos = 'BI' then 'bicycle'\n",
      "            WHEN pos in ('MO','PS','DR') then 'mvo' end as \"Type\"\n",
      "      ,count(case when date_part('year',acdate) between 2014 and 2018 then id_ end) as \"2014-2018 (5 Years)\"\n",
      "      ,count(case when date_part('year',acdate)>=2014 and acdate < '01-01-2020'::date then id_ end) as \"2014-01/01/2020 (7 Years)\"\n",
      "FROM public.fatality_nycdot_current fat\n",
      "WHERE  fat.nodeid::int in (select nodeid from sam_fatalities_1319)\n",
      "and pos = 'PD'\n",
      "GROUP BY pos\n",
      "\n",
      "\n",
      "\n"
     ]
    },
    {
     "ename": "SystemExit",
     "evalue": "",
     "output_type": "error",
     "traceback": [
      "An exception has occurred, use %tb to see the full traceback.\n",
      "\u001b[1;31mSystemExit\u001b[0m\n"
     ]
    },
    {
     "name": "stderr",
     "output_type": "stream",
     "text": [
      "C:\\Python27\\ArcGIS10.4\\lib\\site-packages\\IPython\\core\\interactiveshell.py:2886: UserWarning: To exit: use 'exit', 'quit', or Ctrl-D.\n",
      "  warn(\"To exit: use 'exit', 'quit', or Ctrl-D.\", stacklevel=1)\n"
     ]
    }
   ],
   "source": [
    "fat = cdb.dfquery(\"\"\"\n",
    "\n",
    "--Fatalities by mode-------------------------------------------------------------\n",
    "\n",
    "SELECT CASE WHEN pos = 'PD' then 'ped'\n",
    "            WHEN pos = 'BI' then 'bicycle'\n",
    "            WHEN pos in ('MO','PS','DR') then 'mvo' end as \"Type\"\n",
    "      ,count(case when date_part('year',acdate) between 2014 and 2018 then id_ end) as \"2014-2018 (5 Years)\"\n",
    "      ,count(case when date_part('year',acdate)>=2014 and acdate < '01-01-2020'::date then id_ end) as \"2014-01/01/2020 (7 Years)\"\n",
    "FROM public.fatality_nycdot_current fat\n",
    "WHERE  fat.nodeid::int in (select nodeid from sam_fatalities_1319)\n",
    "and pos = 'PD'\n",
    "GROUP BY pos\n",
    "\n",
    "\n",
    "\"\"\") \n"
   ]
  },
  {
   "cell_type": "code",
   "execution_count": null,
   "metadata": {},
   "outputs": [],
   "source": [
    "fat"
   ]
  },
  {
   "cell_type": "markdown",
   "metadata": {},
   "source": [
    "### Non-Fatal Injuries By Severity "
   ]
  },
  {
   "cell_type": "code",
   "execution_count": null,
   "metadata": {},
   "outputs": [],
   "source": [
    "cdb.connect()"
   ]
  },
  {
   "cell_type": "code",
   "execution_count": null,
   "metadata": {},
   "outputs": [],
   "source": [
    "non_fat_sev = cdb.dfquery(\"\"\"\n",
    "\n",
    "--NON-FATAL INJURIES BY SEVERITY---------------------------------------------------\n",
    "\n",
    "\n",
    "WITH data as(\n",
    "SELECT * \n",
    "FROM (  SELECT \n",
    "        '1. A' as Severity,\n",
    "        sum(CASE WHEN accd_type_int = 1 then length(ext_of_inj::text) - length(replace(ext_of_inj::text, 'A'::text, ''::text)) end) Pedestrian,\n",
    "        sum(CASE WHEN accd_type_int = 2 then length(ext_of_inj::text) - length(replace(ext_of_inj::text, 'A'::text, ''::text)) end) Bicyclist,\n",
    "        sum(CASE WHEN accd_type_int = 3 then length(ext_of_inj::text) - length(replace(ext_of_inj::text, 'A'::text, ''::text)) end) \"Motor Vehicle\",\n",
    "        sum(length(ext_of_inj::text) - length(replace(ext_of_inj::text, 'A'::text, ''::text))) as \"Total\"\n",
    "        FROM sam_crashes_1319\n",
    "        WHERE accd_type_int = 1\n",
    "\n",
    "        union\n",
    "\n",
    "        SELECT \n",
    "        '2. B' as Severity,\n",
    "        sum(CASE WHEN accd_type_int = 1 then length(ext_of_inj::text) - length(replace(ext_of_inj::text, 'B'::text, ''::text)) end) Pedestrian,\n",
    "        sum(CASE WHEN accd_type_int = 2 then length(ext_of_inj::text) - length(replace(ext_of_inj::text, 'B'::text, ''::text)) end) Bicyclist,\n",
    "        sum(CASE WHEN accd_type_int = 3 then length(ext_of_inj::text) - length(replace(ext_of_inj::text, 'B'::text, ''::text)) end) \"Motor Vehicle\",\n",
    "        sum(length(ext_of_inj::text) - length(replace(ext_of_inj::text, 'B'::text, ''::text))) as \"Total\"\n",
    "        FROM sam_crashes_1319\n",
    "        WHERE accd_type_int = 1\n",
    "\n",
    "        union\n",
    "\n",
    "        SELECT \n",
    "        '3. C' as Severity,\n",
    "        sum(CASE WHEN accd_type_int = 1 then length(ext_of_inj::text) - length(replace(ext_of_inj::text, 'C'::text, ''::text)) end) Pedestrian,\n",
    "        sum(CASE WHEN accd_type_int = 2 then length(ext_of_inj::text) - length(replace(ext_of_inj::text, 'C'::text, ''::text)) end) Bicyclist,\n",
    "        sum(CASE WHEN accd_type_int = 3 then length(ext_of_inj::text) - length(replace(ext_of_inj::text, 'C'::text, ''::text)) end) \"Motor Vehicle\",\n",
    "        sum(length(ext_of_inj::text) - length(replace(ext_of_inj::text, 'C'::text, ''::text))) as \"Total\"\n",
    "        FROM sam_crashes_1319\n",
    "        WHERE accd_type_int = 1\n",
    "\n",
    "        union\n",
    "\n",
    "\n",
    "        SELECT\n",
    "        '4. Unknown' as Severity,\n",
    "        sum(case when accd_type_int = 1 and coalesce(length(ext_of_inj::text),0) != num_of_inj then (num_of_inj + num_of_fat) - coalesce(length(ext_of_inj::text),0) end) Pedestrian,\n",
    "        sum(case when accd_type_int = 2 and coalesce(length(ext_of_inj::text),0) != num_of_inj then (num_of_inj + num_of_fat) - coalesce(length(ext_of_inj::text),0)  end) Bicyclist,\n",
    "        sum(case when accd_type_int = 3 and coalesce(length(ext_of_inj::text),0) != num_of_inj then (num_of_inj + num_of_fat) - coalesce(length(ext_of_inj::text),0)  end) \"Motor Vehicle\",\n",
    "        sum((num_of_inj + num_of_fat) - coalesce(length(ext_of_inj::text),0)) as \"Total\"\n",
    "        FROM sam_crashes_1319\n",
    "        WHERE accd_type_int = 1\n",
    "\n",
    "        )sev\n",
    "        ORDER BY severity\n",
    ")\n",
    "\n",
    "\n",
    "SELECT * \n",
    "FROM ( SELECT * \n",
    "       FROM data\n",
    "\n",
    "       UNION \n",
    "\n",
    "       SELECT '5. Total' as Severity, Pedestrian, Bicyclist, \"Motor Vehicle\", \"Total\"\n",
    "       FROM (SELECT 'Total' as Year\n",
    "            ,sum(data.Pedestrian) Pedestrian\n",
    "            ,sum(data.Bicyclist) Bicyclist\n",
    "            ,sum(data.\"Motor Vehicle\") \"Motor Vehicle\"\n",
    "            ,sum(data.\"Total\") \"Total\"\n",
    "            FROM data\n",
    "              ) tot\n",
    "        )non_fat_inj\n",
    "ORDER BY severity\n",
    "\n",
    "\n",
    "\n",
    "\n",
    "\"\"\")"
   ]
  },
  {
   "cell_type": "code",
   "execution_count": null,
   "metadata": {},
   "outputs": [],
   "source": [
    "non_fat_sev.fillna(0)"
   ]
  },
  {
   "cell_type": "markdown",
   "metadata": {},
   "source": [
    "### Injuries by Year"
   ]
  },
  {
   "cell_type": "code",
   "execution_count": null,
   "metadata": {},
   "outputs": [],
   "source": [
    "inj_year = cdb.dfquery(\"\"\"\n",
    "\n",
    "\n",
    "--Injuries by year---------------------------------------------------\n",
    "\n",
    "\n",
    "\n",
    "WITH data as (\n",
    "SELECT \n",
    "case_yr::text as Year\n",
    ",coalesce(sum(CASE WHEN accd_type_int = 1 THEN num_of_inj end),0) \"Pedestrian\" \n",
    ",coalesce(sum(CASE WHEN accd_type_int = 2 THEN num_of_inj end),0) \"Bicyclist\"\n",
    ",coalesce(sum(CASE WHEN accd_type_int = 3 THEN num_of_inj end),0) \"Motor Vehicle\"\n",
    "FROM sam_crashes_1319\n",
    "WHERE accd_type_int = 1\n",
    "GROUP by case_yr\n",
    "order by case_yr\n",
    ")\n",
    "\n",
    "SELECT * FROM ( SELECT data.*, \"Pedestrian\"+\"Bicyclist\"+\"Motor Vehicle\" Total\n",
    "                FROM data\n",
    "\n",
    "                UNION \n",
    "\n",
    "                SELECT tot.*, \"Pedestrian\"+\"Bicyclist\"+\"Motor Vehicle\" Total\n",
    "                FROM (SELECT 'Total' as Year, \n",
    "                      sum(data.\"Pedestrian\") \"Pedestrian\",\n",
    "                      sum(data.\"Bicyclist\") \"Bicyclist\",\n",
    "                      sum(data.\"Motor Vehicle\") \"Motor Vehicle\"\n",
    "                      FROM data\n",
    "                    ) tot\n",
    "               )inj_year\n",
    "ORDER BY year\n",
    "\n",
    "\"\"\")\n"
   ]
  },
  {
   "cell_type": "code",
   "execution_count": null,
   "metadata": {},
   "outputs": [],
   "source": [
    "inj_year"
   ]
  },
  {
   "cell_type": "markdown",
   "metadata": {},
   "source": [
    "### Injuries By Time of Day By Type"
   ]
  },
  {
   "cell_type": "code",
   "execution_count": null,
   "metadata": {},
   "outputs": [],
   "source": [
    "inj_tod = cdb.dfquery(\"\"\"\n",
    "\n",
    "\n",
    "--Injuries by time of day by type---------------------------------------------------\n",
    "\n",
    "\n",
    "WITH data as (\n",
    "SELECT \n",
    "CASE WHEN date_part('hour',accd_tme) = 0 and date_part('minute',accd_tme) = 0 THEN '9. Unknown'\n",
    "     WHEN date_part('hour',accd_tme) between 0 and 2 THEN '1. 00:00-03:00' \n",
    "     WHEN date_part('hour',accd_tme) between 3 and 5 THEN '2. 03:00-06:00' \n",
    "     WHEN date_part('hour',accd_tme) between 6 and 8 THEN '3. 06:00-09:00' \n",
    "     WHEN date_part('hour',accd_tme) between 9 and 11 THEN '4. 09:00-12:00' \n",
    "     WHEN date_part('hour',accd_tme) between 12 and 14 THEN '5. 12:00-15:00' \n",
    "     WHEN date_part('hour',accd_tme) between 15 and 17 THEN '6. 15:00-18:00' \n",
    "     WHEN date_part('hour',accd_tme) between 18 and 20 THEN '7. 18:00-21:00' \n",
    "     WHEN date_part('hour',accd_tme) between 21 and 23 THEN '8. 21:00-24:00' END as Time,\n",
    "coalesce(sum(CASE WHEN accd_type_int = 1 THEN num_of_inj END),0) \"Pedestrian\", \n",
    "coalesce(sum(CASE WHEN accd_type_int = 2 THEN num_of_inj END),0) \"Bicyclist\",\n",
    "coalesce(sum(CASE WHEN accd_type_int = 3 THEN num_of_inj END),0) \"Motor Vehicle\"\n",
    "FROM sam_crashes_1319\n",
    "WHERE accd_type_int = 1\n",
    "GROUP by CASE WHEN date_part('hour',accd_tme) = 0 and date_part('minute',accd_tme) = 0 THEN '9. Unknown'\n",
    "     WHEN date_part('hour',accd_tme) between 0 and 2 THEN '1. 00:00-03:00' \n",
    "     WHEN date_part('hour',accd_tme) between 3 and 5 THEN '2. 03:00-06:00' \n",
    "     WHEN date_part('hour',accd_tme) between 6 and 8 THEN '3. 06:00-09:00' \n",
    "     WHEN date_part('hour',accd_tme) between 9 and 11 THEN '4. 09:00-12:00' \n",
    "     WHEN date_part('hour',accd_tme) between 12 and 14 THEN '5. 12:00-15:00' \n",
    "     WHEN date_part('hour',accd_tme) between 15 and 17 THEN '6. 15:00-18:00' \n",
    "     WHEN date_part('hour',accd_tme) between 18 and 20 THEN '7. 18:00-21:00' \n",
    "     WHEN date_part('hour',accd_tme) between 21 and 23 THEN '8. 21:00-24:00' END\n",
    "ORDER BY case WHEN date_part('hour',accd_tme) = 0 and date_part('minute',accd_tme) = 0 THEN '9. Unknown'\n",
    "     WHEN date_part('hour',accd_tme) between 0 and 2 THEN '1. 00:00-03:00' \n",
    "     WHEN date_part('hour',accd_tme) between 3 and 5 THEN '2. 03:00-06:00' \n",
    "     WHEN date_part('hour',accd_tme) between 6 and 8 THEN '3. 06:00-09:00' \n",
    "     WHEN date_part('hour',accd_tme) between 9 and 11 THEN '4. 09:00-12:00' \n",
    "     WHEN date_part('hour',accd_tme) between 12 and 14 THEN '5. 12:00-15:00' \n",
    "     WHEN date_part('hour',accd_tme) between 15 and 17 THEN '6. 15:00-18:00' \n",
    "     WHEN date_part('hour',accd_tme) between 18 and 20 THEN '7. 18:00-21:00' \n",
    "     WHEN date_part('hour',accd_tme) between 21 and 23 THEN '8. 21:00-24:00' END)\n",
    "\n",
    "SELECT * FROM (SELECT data.*, \n",
    "                \"Pedestrian\"+\"Bicyclist\"+\"Motor Vehicle\" Total,\n",
    "                (round(((\"Pedestrian\"+\"Bicyclist\"+\"Motor Vehicle\")::float/(SELECT sum(num_of_inj) FROM sam_crashes_1319)::float)::numeric, 3)*100.0)::text as \"Percent of Known Injuries\"\n",
    "                FROM data\n",
    "                WHERE time != '9. Unknown'\n",
    "\n",
    "                UNION \n",
    "\n",
    "\n",
    "                SELECT * , \"Pedestrian\"+\"Bicyclist\"+\"Motor Vehicle\" Total, 'N/A' as \"Percent of Known Injuries\"\n",
    "                FROM data\n",
    "                WHERE data.time != '8. Unknown/Indeterminate'\n",
    "                and time = '9. Unknown'\n",
    "\n",
    "\n",
    "                UNION \n",
    "\n",
    "                SELECT tot.*, \"Pedestrian\"+\"Bicyclist\"+\"Motor Vehicle\" Total, 'N/A' as \"Percent of Known Injuries\"\n",
    "                FROM (SELECT 'Total' as Time, \n",
    "                      sum(data.\"Pedestrian\") \"Pedestrian\",\n",
    "                      sum(data.\"Bicyclist\") \"Bicyclist\",\n",
    "                      sum(data.\"Motor Vehicle\") \"Motor Vehicle\"\n",
    "                      FROM data\n",
    "                      ) tot\n",
    "                )inj_tod\n",
    "ORDER BY time\n",
    "\n",
    "\n",
    "\"\"\")"
   ]
  },
  {
   "cell_type": "code",
   "execution_count": null,
   "metadata": {},
   "outputs": [],
   "source": [
    "inj_tod"
   ]
  },
  {
   "cell_type": "markdown",
   "metadata": {},
   "source": [
    "### Pedestrian Injuries By Control And Pedestrian Action"
   ]
  },
  {
   "cell_type": "code",
   "execution_count": null,
   "metadata": {},
   "outputs": [],
   "source": [
    "ped_inj_con = cdb.dfquery(\"\"\"\n",
    "\n",
    "\n",
    "--Pedestrian Injuries By Control and Pedestrian Action---------------------------------------------------\n",
    "\n",
    "\n",
    "WITH data as (\n",
    "SELECT \n",
    "CASE WHEN TRAF_CNTL = '02' AND PED_ACTN = '01' AND PED_LOC = '1' THEN '1. Signalized Intersection: Crossing WITH Signal'\n",
    "     WHEN TRAF_CNTL = '02' AND PED_ACTN = '02' AND PED_LOC = '1' THEN '2. Signalized Intersection: Crossing Against Signal'\n",
    "     WHEN TRAF_CNTL = '03' AND PED_LOC = '1' THEN '3. Stop-Controlled Intersection / Crosswalk'\n",
    "     WHEN TRAF_CNTL = '01' AND PED_LOC = '1' THEN '4. Other Actions/Uncontrolled Intersection'\n",
    "     WHEN PED_LOC = '2' THEN '5. Midblock'\n",
    "     WHEN TRAF_CNTL = '20' AND PED_ACTN = '01' AND PED_LOC = '1' THEN '6. Other Control Types'\n",
    "     ELSE '8. Unknown/Indeterminate' END as \" \", \n",
    "coalesce(sum(num_of_inj),0) \"Number of Injuries\"\n",
    "FROM sam_crashes_1319\n",
    "WHERE accd_type_int = 1\n",
    "GROUP by CASE WHEN TRAF_CNTL = '02' AND PED_ACTN = '01' AND PED_LOC = '1' THEN '1. Signalized Intersection: Crossing WITH Signal'\n",
    "              WHEN TRAF_CNTL = '02' AND PED_ACTN = '02' AND PED_LOC = '1' THEN '2. Signalized Intersection: Crossing Against Signal'\n",
    "              WHEN TRAF_CNTL = '03' AND PED_LOC = '1' THEN '3. Stop-Controlled Intersection / Crosswalk'\n",
    "              WHEN TRAF_CNTL = '01' AND PED_LOC = '1' THEN '4. Other Actions/Uncontrolled Intersection'\n",
    "              WHEN PED_LOC = '2' THEN '5. Midblock'\n",
    "              WHEN TRAF_CNTL = '20' AND PED_ACTN = '01' AND PED_LOC = '1' THEN '6. Other Control Types'\n",
    "              ELSE '8. Unknown/Indeterminate' END\n",
    "\n",
    ")\n",
    "\n",
    "SELECT * FROM ( SELECT data.*, \n",
    "                (round(((\"Number of Injuries\")/(SELECT sum(\"Number of Injuries\") FROM data WHERE data.\" \" != '8. Unknown/Indeterminate')::float)::numeric, 3)*100.0)::text as \"Percent of Known Injuries\"\n",
    "                FROM data\n",
    "                WHERE data.\" \" != '8. Unknown/Indeterminate'\n",
    "\n",
    "                UNION\n",
    "\n",
    "                SELECT data.*, 'N/A' as \"Percent of Known Injuries\"\n",
    "                FROM data\n",
    "                WHERE data.\" \" = '8. Unknown/Indeterminate'\n",
    "\n",
    "                UNION\n",
    "\n",
    "                SELECT \n",
    "                '7. Total Known' as \" \" \n",
    "                , sum(\"Number of Injuries\") as \"Number of Injuries\"\n",
    "                , (round((sum(\"Number of Injuries\")/(SELECT sum(\"Number of Injuries\") FROM data WHERE data.\" \" != '8. Unknown/Indeterminate')::float)::numeric, 3)*100.0)::text as \"Percent of Known Injuries\"\n",
    "                FROM data\n",
    "                WHERE data.\" \" != '8. Unknown/Indeterminate'\n",
    "\n",
    "                UNION\n",
    "\n",
    "                SELECT \n",
    "                'Total' as \" \" \n",
    "                , sum(\"Number of Injuries\") as \"Number of Injuries\"\n",
    "                , 'N/A' as \"Percent of Known Injuries\"\n",
    "                FROM data\n",
    "                ) ped_inj_con\n",
    "ORDER BY \" \"\n",
    "\n",
    "\"\"\")"
   ]
  },
  {
   "cell_type": "code",
   "execution_count": null,
   "metadata": {},
   "outputs": [],
   "source": [
    "ped_inj_con"
   ]
  },
  {
   "cell_type": "markdown",
   "metadata": {},
   "source": [
    "### Bicycle Injuries By Intersection Control and Bicyclist Action"
   ]
  },
  {
   "cell_type": "code",
   "execution_count": null,
   "metadata": {},
   "outputs": [],
   "source": [
    "bi_inj_con = cdb.dfquery(\"\"\"\n",
    "\n",
    "\n",
    "--Bicycle Injuries By Intersection Control and Bicyclist Action---------------------------------------------------\n",
    "\n",
    "\n",
    "\n",
    "WITH data as (\n",
    "SELECT \n",
    "CASE WHEN TRAF_CNTL = '02' AND PED_ACTN = '01' AND PED_LOC = '1' THEN '1. Signalized Intersection: Crossing WITH Signal'\n",
    "     WHEN TRAF_CNTL = '02' AND PED_ACTN = '02' AND PED_LOC = '1' THEN '2. Signalized Intersection: Crossing Against Signal'\n",
    "     WHEN TRAF_CNTL = '03' AND PED_LOC = '1' THEN '3. Stop-Controlled Intersection / Crosswalk'\n",
    "     WHEN TRAF_CNTL = '01' AND PED_LOC = '1' THEN '4. Other Actions/Uncontrolled Intersection'\n",
    "     WHEN PED_LOC = '2' THEN '5. Midblock'\n",
    "     WHEN TRAF_CNTL = '20' AND PED_ACTN = '01' AND PED_LOC = '1' THEN '6. Other Control Types'\n",
    "     ELSE '8. Unknown/Indeterminate' END as \" \", \n",
    "coalesce(sum(num_of_inj),0) \"Number of Injuries\"\n",
    "FROM sam_crashes_1319\n",
    "WHERE accd_type_int = 2 and accd_type_int = 1\n",
    "GROUP by CASE WHEN TRAF_CNTL = '02' AND PED_ACTN = '01' AND PED_LOC = '1' THEN '1. Signalized Intersection: Crossing WITH Signal'\n",
    "     WHEN TRAF_CNTL = '02' AND PED_ACTN = '02' AND PED_LOC = '1' THEN '2. Signalized Intersection: Crossing Against Signal'\n",
    "     WHEN TRAF_CNTL = '03' AND PED_LOC = '1' THEN '3. Stop-Controlled Intersection / Crosswalk'\n",
    "     WHEN TRAF_CNTL = '01' AND PED_LOC = '1' THEN '4. Other Actions/Uncontrolled Intersection'\n",
    "     WHEN PED_LOC = '2' THEN '5. Midblock'\n",
    "     WHEN TRAF_CNTL = '20' AND PED_ACTN = '01' AND PED_LOC = '1' THEN '6. Other Control Types'\n",
    "     ELSE '8. Unknown/Indeterminate' END\n",
    "\n",
    ")\n",
    "\n",
    "SELECT * FROM ( SELECT data.*, \n",
    "                (round(((\"Number of Injuries\")/(SELECT sum(\"Number of Injuries\") FROM data WHERE data.\" \" != '8. Unknown/Indeterminate')::float)::numeric, 3)*100.0)::text as \"Percent of Known Injuries\"\n",
    "                FROM data\n",
    "                WHERE data.\" \" != '8. Unknown/Indeterminate'\n",
    "\n",
    "                UNION\n",
    "\n",
    "                SELECT data.*, 'N/A' as \"Percent of Known Injuries\"\n",
    "                FROM data\n",
    "                WHERE data.\" \" = '8. Unknown/Indeterminate'\n",
    "\n",
    "                UNION\n",
    "\n",
    "                SELECT \n",
    "                '7. Total Known' as \" \" \n",
    "                , sum(\"Number of Injuries\") as \"Number of Injuries\"\n",
    "                , (round((sum(\"Number of Injuries\")/(SELECT sum(\"Number of Injuries\") FROM data WHERE data.\" \" != '8. Unknown/Indeterminate')::float)::numeric, 3)*100.0)::text as \"Percent of Known Injuries\"\n",
    "                FROM data\n",
    "                WHERE data.\" \" != '8. Unknown/Indeterminate'\n",
    "\n",
    "                UNION\n",
    "\n",
    "\n",
    "                SELECT \n",
    "                'Total' as \" \" \n",
    "                , sum(\"Number of Injuries\") as \"Number of Injuries\"\n",
    "                , 'N/A' as \"Percent of Known Injuries\"\n",
    "                FROM data\n",
    "                ) bi_inj_con\n",
    "ORDER BY \" \" \n",
    "\n",
    "\"\"\")"
   ]
  },
  {
   "cell_type": "code",
   "execution_count": null,
   "metadata": {},
   "outputs": [],
   "source": [
    "bi_inj_con"
   ]
  },
  {
   "cell_type": "code",
   "execution_count": null,
   "metadata": {},
   "outputs": [],
   "source": [
    "mvo_inj_coll = cdb.dfquery(\"\"\"\n",
    "\n",
    "\n",
    "--Motor Vehicle Injuries By Collision Type---------------------------------------------------\n",
    "\n",
    "\n",
    "WITH data as(\n",
    "SELECT \n",
    "CASE WHEN collision_ in ('03','10') THEN '1. LEFT Turn'\n",
    "     WHEN collision_ in ('05','06') THEN '2. Right Turn'\n",
    "     WHEN collision_ = '01' THEN '3. Rear-End'\n",
    "     WHEN collision_ = '04' THEN '4. Right-Angle'\n",
    "     WHEN collision_ = '02' THEN '5. Sideswipe(Same Direction)'\n",
    "     WHEN collision_ = '07' THEN '6. Head-on'\n",
    "     WHEN collision_ = '08' THEN '7. Sideswipe(Opposite Direction)'\n",
    "     WHEN collision_ = '09' THEN '8. Other Known'\n",
    "     WHEN collision_ in ('00','ZZ') THEN 'Unknown' END as \" \",\n",
    "sum(num_of_inj) as \"Number of Injuries\"--, crashid\n",
    "FROM sam_crashes_1319\n",
    "WHERE accd_type_int = 3 and accd_type_int = 1\n",
    "GROUP by CASE WHEN collision_ in ('03','10') THEN '1. LEFT Turn'\n",
    "     WHEN collision_ in ('05','06') THEN '2. Right Turn'\n",
    "     WHEN collision_ = '01' THEN '3. Rear-End'\n",
    "     WHEN collision_ = '04' THEN '4. Right-Angle'\n",
    "     WHEN collision_ = '02' THEN '5. Sideswipe(Same Direction)'\n",
    "     WHEN collision_ = '07' THEN '6. Head-on'\n",
    "     WHEN collision_ = '08' THEN '7. Sideswipe(Opposite Direction)'\n",
    "     WHEN collision_ = '09' THEN '8. Other Known'\n",
    "     WHEN collision_ in ('00','ZZ') THEN 'Unknown' END--, crashid\n",
    "order by \" \"\n",
    ")\n",
    "\n",
    "SELECT * FROM ( SELECT data.*, \n",
    "                (round(((\"Number of Injuries\")/(SELECT sum(\"Number of Injuries\") FROM data WHERE data.\" \" != 'Unknown')::float)::numeric, 3)*100.0)::text as \"Percent of Known Injuries\"\n",
    "                FROM data\n",
    "                WHERE data.\" \" != 'Unknown'\n",
    "                \n",
    "\n",
    "                UNION\n",
    "\n",
    "                SELECT data.*, 'N/A' as \"Percent of Known Injuries\"\n",
    "                FROM data\n",
    "                WHERE data.\" \" = 'Unknown'\n",
    "\n",
    "                UNION\n",
    "\n",
    "                SELECT \n",
    "                '9. Total Known' as \" \" \n",
    "                , sum(\"Number of Injuries\") as \"Number of Injuries\"\n",
    "                , (round((sum(\"Number of Injuries\")/(SELECT sum(\"Number of Injuries\") FROM data WHERE data.\" \" != 'Unknown')::float)::numeric, 3)*100.0)::text as \"Percent of Known Injuries\"\n",
    "                FROM data\n",
    "                WHERE data.\" \" != 'Unknown'\n",
    "\n",
    "                UNION\n",
    "\n",
    "                SELECT \n",
    "                'Total' as \" \" \n",
    "                , sum(\"Number of Injuries\") as \"Number of Injuries\"\n",
    "                , 'N/A' as \"Percent of Known Injuries\"\n",
    "                FROM data\n",
    "                ) ped_inj_con\n",
    "ORDER BY \" \" \n",
    "\n",
    "\n",
    "\"\"\"\n",
    "                          )"
   ]
  },
  {
   "cell_type": "code",
   "execution_count": null,
   "metadata": {},
   "outputs": [],
   "source": [
    "mvo_inj_coll"
   ]
  },
  {
   "cell_type": "markdown",
   "metadata": {},
   "source": [
    "### Injuries By Age Group"
   ]
  },
  {
   "cell_type": "code",
   "execution_count": null,
   "metadata": {},
   "outputs": [],
   "source": [
    "cdb.connect()"
   ]
  },
  {
   "cell_type": "code",
   "execution_count": null,
   "metadata": {},
   "outputs": [],
   "source": [
    "inj_age = cdb.dfquery(\"\"\"\n",
    "\n",
    "\n",
    "--Injuries By Age GROUP---------------------------------------------------\n",
    "\n",
    "\n",
    "WITH data as(\n",
    "SELECT \n",
    "CASE WHEN ages.age::int between 1 and 17 and num_of_inj = 1 THEN '1. Children(1-17)'\n",
    "     WHEN ages.age::int between 18 and 29 and num_of_inj = 1 THEN '2. Young Adults(18-29)'\n",
    "     WHEN ages.age::int between 30 and 64 and num_of_inj = 1 THEN '3. Adults(30-64)'\n",
    "     WHEN ages.age::int between 65 and 120 and num_of_inj = 1 THEN '4. Seniors(65-120)'\n",
    "     WHEN ages.age is null or num_of_inj!=1 THEN '5. Unknown' End \"Age GROUP\",\n",
    "coalesce(sum(case when accd_type_int = 1 then num_of_inj end),0) \"Pedestrian\", \n",
    "coalesce(sum(case when accd_type_int = 2 then num_of_inj end),0) \"Bicyclist\" \n",
    "FROM sam_crashes_1319\n",
    "LEFT JOIN (SELECT nys_v.crashid, age \n",
    "           FROM (SELECT distinct crashid\n",
    "                 FROM public.nysdot_vehicle\n",
    "                 WHERE age between 1 and 120\n",
    "                 and veh_typ in ('5','6')\n",
    "                 GROUP by crashid\n",
    "                 HAVING count(crashid) =1\n",
    "                 ) nys_v\n",
    "           JOIN public.nysdot_vehicle nys_v_age\n",
    "           on nys_v.crashid = nys_v_age.crashid\n",
    "           WHERE veh_typ in ('5','6')\n",
    "          ) ages\n",
    "on sam_crashes_1319.crashid = ages.crashid\n",
    "WHERE accd_type_int = 1\n",
    "GROUP by CASE WHEN ages.age::int between 1 and 17 and num_of_inj = 1 THEN '1. Children(1-17)'\n",
    "              WHEN ages.age::int between 18 and 29 and num_of_inj = 1 THEN '2. Young Adults(18-29)'\n",
    "              WHEN ages.age::int between 30 and 64 and num_of_inj = 1 THEN '3. Adults(30-64)'\n",
    "              WHEN ages.age::int between 65 and 120 and num_of_inj = 1 THEN '4. Seniors(65-120)'\n",
    "              WHEN ages.age is null or num_of_inj!=1 THEN '5. Unknown' End\n",
    "ORDER BY \"Age GROUP\"\n",
    ")\n",
    "\n",
    "SELECT * FROM ( SELECT data.*, \"Pedestrian\"+\"Bicyclist\" Total\n",
    "                FROM data\n",
    "\n",
    "                UNION \n",
    "\n",
    "                SELECT tot.*, \"Pedestrian\"+\"Bicyclist\" Total\n",
    "                FROM (SELECT 'Total' as Year \n",
    "                     ,sum(data.\"Pedestrian\") \"Pedestrian\"\n",
    "                     ,sum(data.\"Bicyclist\") \"Bicyclist\"\n",
    "                     FROM data\n",
    "                      ) tot\n",
    "\n",
    "               ) inj_age\n",
    "                \n",
    "ORDER BY \"Age GROUP\"\n",
    "\n",
    "\"\"\")"
   ]
  },
  {
   "cell_type": "code",
   "execution_count": null,
   "metadata": {},
   "outputs": [],
   "source": [
    "inj_age"
   ]
  },
  {
   "cell_type": "code",
   "execution_count": null,
   "metadata": {},
   "outputs": [],
   "source": [
    "cdb.connect()"
   ]
  },
  {
   "cell_type": "markdown",
   "metadata": {},
   "source": [
    "### Ped Injuries By Veh Action And Pre Action"
   ]
  },
  {
   "cell_type": "code",
   "execution_count": null,
   "metadata": {},
   "outputs": [],
   "source": [
    "ped_veh_actn = cdb.dfquery(\"\"\"\n",
    "\n",
    "\n",
    "WITH data as(\n",
    "SELECT \n",
    "CASE WHEN pre_accd_actn = '03' THEN '1. Left Turn'\n",
    "     WHEN pre_accd_actn = '02' THEN '2. Right Turn'\n",
    "     WHEN pre_accd_actn = '01' THEN '3. Going Straight'\n",
    "     WHEN pre_accd_actn = '04' THEN '4. Making U Turn'\n",
    "     WHEN pre_accd_actn = '15' THEN '5. Backing'\n",
    "     WHEN pre_accd_actn not in ('01','02','03','04','15','??','YY','ZZ') THEN '6. Other'   \n",
    "     WHEN pre_accd_actn in ('??','YY','XX', 'ZZ') or single_veh.crashid is null THEN '7. Unknown' END as \" \",\n",
    "coalesce(sum(CASE WHEN ped_actn = '01' THEN num_of_inj END),0) as \"Crossing WITH Signal\",\n",
    "coalesce(sum(CASE WHEN ped_actn = '02' THEN num_of_inj END),0) as \"Crossing Against Signal\",\n",
    "coalesce(sum(CASE WHEN ped_actn = '03' THEN num_of_inj END),0) as \"Crossing No Signal Marked Crosswalk\",\n",
    "coalesce(sum(CASE WHEN ped_actn = '04' THEN num_of_inj END),0) as \"Crossing No Signal or Crosswalk\",\n",
    "coalesce(sum(CASE WHEN ped_actn not in ('01','02','03','04','??','YY','XX','ZZ') THEN num_of_inj END),0) as \"Others\",\n",
    "coalesce(sum(CASE WHEN ped_actn in ('??','YY','XX', 'ZZ') THEN num_of_inj END),0) as \"UnKnown\"\n",
    "FROM sam_crashes_1319\n",
    "LEFT JOIN (SELECT distinct crashid\n",
    "         FROM public.nysdot_vehicle\n",
    "         WHERE veh_typ = '6'\n",
    "         GROUP by crashid\n",
    "         HAVING count(crashid) = 1) single_ped\n",
    "     on sam_crashes_1319.crashid = single_ped.crashid\n",
    "LEFT JOIN (SELECT sv.crashid, sv2.pre_accd_actn\n",
    "       FROM (SELECT distinct crashid--, pre_accd_actn\n",
    "                 FROM public.nysdot_vehicle\n",
    "                 WHERE veh_typ not in ('5','6')\n",
    "                 GROUP by crashid--, pre_accd_actn\n",
    "                 HAVING count(crashid) = 1)sv\n",
    "         LEFT JOIN (SELECT distinct crashid, pre_accd_actn\n",
    "               FROM public.nysdot_vehicle\n",
    "               WHERE veh_typ not in ('5','6')\n",
    "               --WHERE pre_accd_actn not in ('??','YY','XX')\n",
    "               ) sv2\n",
    "            on sv.crashid = sv2.crashid) single_veh\n",
    "    on sam_crashes_1319.crashid = single_veh.crashid\n",
    "WHERE accd_type_int = 1\n",
    "GROUP by CASE WHEN pre_accd_actn = '03' THEN '1. Left Turn'\n",
    "          WHEN pre_accd_actn = '02' THEN '2. Right Turn'\n",
    "              WHEN pre_accd_actn = '01' THEN '3. Going Straight'\n",
    "          WHEN pre_accd_actn = '04' THEN '4. Making U Turn'\n",
    "          WHEN pre_accd_actn = '15' THEN '5. Backing'\n",
    "          WHEN pre_accd_actn not in ('01','02','03','04','15','??','YY','ZZ') THEN '6. Other'     \n",
    "          WHEN pre_accd_actn in ('??','YY','XX', 'ZZ') or single_veh.crashid is null THEN '7. Unknown' END\n",
    ")\n",
    "\n",
    "\n",
    "SELECT * FROM ( SELECT data.*, \"Crossing WITH Signal\" + \"Crossing Against Signal\" + \"Crossing No Signal Marked Crosswalk\" + \"Crossing No Signal or Crosswalk\" +  \"Others\" + \"UnKnown\" Total\n",
    "        FROM data\n",
    "\n",
    "        UNION \n",
    "\n",
    "        SELECT tot.*, \"Crossing WITH Signal\" + \"Crossing Against Signal\" + \"Crossing No Signal Marked Crosswalk\" + \"Crossing No Signal or Crosswalk\" +  \"Others\" + \"UnKnown\" Total\n",
    "        FROM (SELECT 'Total' as \" \", \n",
    "              sum(data.\"Crossing WITH Signal\") \"Crossing WITH Signal\",\n",
    "              sum(data.\"Crossing Against Signal\") \"Crossing Against Signal\",\n",
    "              sum(data.\"Crossing No Signal Marked Crosswalk\") \"Crossing No Signal Marked Crosswalk\",\n",
    "              sum(data.\"Crossing No Signal or Crosswalk\") \"Crossing No Signal or Crosswalk\",\n",
    "              sum(data.\"Others\") \"Others\",\n",
    "              sum(data.\"UnKnown\") \"UnKnown\"\n",
    "              FROM data\n",
    "            ) tot\n",
    "\n",
    "        ) ped_veh_actn\n",
    "ORDER BY \" \"\n",
    "\n",
    "\n",
    "\n",
    "\"\"\")"
   ]
  },
  {
   "cell_type": "code",
   "execution_count": null,
   "metadata": {
    "scrolled": false
   },
   "outputs": [],
   "source": [
    "ped_veh_actn"
   ]
  }
 ],
 "metadata": {
  "kernelspec": {
   "display_name": "Python 2",
   "language": "python",
   "name": "python2"
  },
  "language_info": {
   "codemirror_mode": {
    "name": "ipython",
    "version": 2
   },
   "file_extension": ".py",
   "mimetype": "text/x-python",
   "name": "python",
   "nbconvert_exporter": "python",
   "pygments_lexer": "ipython2",
   "version": "2.7.16"
  }
 },
 "nbformat": 4,
 "nbformat_minor": 2
}
