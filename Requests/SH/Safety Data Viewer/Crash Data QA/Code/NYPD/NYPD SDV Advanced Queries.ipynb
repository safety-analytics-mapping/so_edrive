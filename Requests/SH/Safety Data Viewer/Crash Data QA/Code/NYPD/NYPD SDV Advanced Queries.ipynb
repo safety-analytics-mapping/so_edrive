{
 "cells": [
  {
   "cell_type": "code",
   "execution_count": 1,
   "metadata": {},
   "outputs": [
    {
     "data": {
      "text/markdown": [
       "<strong>Notebook run on: 2020-05-19 12:09 | by soge | Using ris library version: 1.4.7 | File Location: E:\\RIS\\Staff Folders\\Samuel\\Requests\\SH\\High_Bike_Crashes"
      ],
      "text/plain": [
       "<IPython.core.display.Markdown object>"
      ]
     },
     "execution_count": 1,
     "metadata": {},
     "output_type": "execute_result"
    }
   ],
   "source": [
    "from ris import pysqldb\n",
    "from IPython.display import Markdown, clear_output\n",
    "from IPython.display import Image\n",
    "from sqlalchemy import create_engine\n",
    "import ris\n",
    "import getpass\n",
    "import datetime \n",
    "import pandas as pd\n",
    "import numpy as np\n",
    "import os\n",
    "import requests\n",
    "\n",
    "timestamp = datetime.datetime.now().strftime('%Y-%m-%d %H:%M')\n",
    "ts = datetime.datetime.now().strftime('%Y-%m-%d')\n",
    "\n",
    "Markdown('<strong>Notebook run on: {} | by {} | Using ris library version: {} | File Location: {}'.format(\n",
    "    timestamp, getpass.getuser(), ris.__version__, os.getcwd()\n",
    "))\n"
   ]
  },
  {
   "cell_type": "code",
   "execution_count": 2,
   "metadata": {
    "scrolled": true
   },
   "outputs": [
    {
     "name": "stdout",
     "output_type": "stream",
     "text": [
      "Warning:\n",
      "\tMissing SQL Server Native Client 10.0                 datetime2 will not be interpreted correctly\n",
      "\n",
      "Database connection (MS) to forms on dot55sql01 - user: arcgis \n",
      "Connection established 2020-05-19 12:09:43\n",
      "Query run in 31000 microseconds\n",
      "Warning:\n",
      "\tMissing SQL Server Native Client 10.0                 datetime2 will not be interpreted correctly\n",
      "\n",
      "\n",
      "Additional database connection details required:\n",
      "Warning:\n",
      "\tMissing SQL Server Native Client 10.0                 datetime2 will not be interpreted correctly\n",
      "\n",
      "Database connection (MS) to SafetyMap2 on dotdevgissql01 - user: None \n",
      "Connection established 2020-05-19 12:09:43\n",
      "Query run in 19000 microseconds\n",
      "\n",
      "Additional database connection details required:\n",
      "Warning:\n",
      "\tMissing SQL Server Native Client 10.0                 datetime2 will not be interpreted correctly\n",
      "\n"
     ]
    }
   ],
   "source": [
    "try: \n",
    "    db.params['user']\n",
    "    db2.params['user']\n",
    "except:\n",
    "    db = pysqldb.DbConnect(type='MS', server='dot55sql01', database='forms', user = 'arcgis', password = 'arcgis')\n",
    "    db2 = pysqldb.DbConnect(type='MS', server='dotdevgissql01', database='SafetyMap2', ldap=True)"
   ]
  },
  {
   "cell_type": "markdown",
   "metadata": {},
   "source": [
    "### Lion SIP 1697\n"
   ]
  },
  {
   "cell_type": "code",
   "execution_count": 3,
   "metadata": {},
   "outputs": [
    {
     "name": "stdout",
     "output_type": "stream",
     "text": [
      "\n",
      "Additional database connection details required:\n",
      "Warning:\n",
      "\tMissing SQL Server Native Client 10.0                 datetime2 will not be interpreted correctly\n",
      "\n",
      "Database connection (MS) to SafetyMap2 on dotdevgissql01 - user: None \n",
      "Connection established 2020-05-19 12:09:45\n"
     ]
    }
   ],
   "source": [
    "db2.connect()"
   ]
  },
  {
   "cell_type": "code",
   "execution_count": 4,
   "metadata": {},
   "outputs": [
    {
     "name": "stdout",
     "output_type": "stream",
     "text": [
      "\n",
      "Additional database connection details required:\n",
      "Warning:\n",
      "\tMissing SQL Server Native Client 10.0                 datetime2 will not be interpreted correctly\n",
      "\n"
     ]
    }
   ],
   "source": [
    "lion_1697 = db2.dfquery(\"\"\"\n",
    "\n",
    "\n",
    "SELECT DISTINCT nodeidfrom, nodeidto, masteridfrom, masteridto\n",
    "FROM [SafetyMap2].[dbo].[lion]\n",
    "WHERE nodeidfrom in (48959,48966,48968,49038)\n",
    "or nodeidto in (48959,48966,48968,49038)\n",
    "\n",
    "\n",
    "\"\"\"\n",
    ")"
   ]
  },
  {
   "cell_type": "code",
   "execution_count": 5,
   "metadata": {},
   "outputs": [
    {
     "data": {
      "text/plain": [
       "array([  48891,   48902,   48957,   48959,   48964,   48966,   48968,\n",
       "         49038, 9053023, 9053031], dtype=int64)"
      ]
     },
     "execution_count": 5,
     "metadata": {},
     "output_type": "execute_result"
    }
   ],
   "source": [
    "lion_1697.nodeidfrom.unique()"
   ]
  },
  {
   "cell_type": "code",
   "execution_count": 6,
   "metadata": {},
   "outputs": [
    {
     "data": {
      "text/plain": [
       "array([48891, 48902, 48957, 48959, 48964, 48966, 48968, 49024, 48952,\n",
       "       48955], dtype=int64)"
      ]
     },
     "execution_count": 6,
     "metadata": {},
     "output_type": "execute_result"
    }
   ],
   "source": [
    "lion_1697.masteridfrom.unique()"
   ]
  },
  {
   "cell_type": "markdown",
   "metadata": {},
   "source": [
    "### All Injury Crashes on SIP 1697"
   ]
  },
  {
   "cell_type": "code",
   "execution_count": 7,
   "metadata": {},
   "outputs": [
    {
     "name": "stdout",
     "output_type": "stream",
     "text": [
      "Warning:\n",
      "\tMissing SQL Server Native Client 10.0                 datetime2 will not be interpreted correctly\n",
      "\n"
     ]
    }
   ],
   "source": [
    "sip_1697 = db.dfquery(\"\"\"\n",
    "\n",
    "\n",
    "WITH data AS (\n",
    "\n",
    "SELECT DATEPART(YEAR,c.ACCIDENT_DT) 'Year', nodeid, masterid\n",
    ",coalesce(sum(CASE WHEN i.PED_NONPED = 'Pedestrian' THEN 1 END),0) PED  \n",
    ",coalesce(sum(CASE WHEN i.PED_NONPED = 'Bicyclist' THEN 1 END),0) BI \n",
    ",coalesce(sum(CASE WHEN i.PED_NONPED = 'Occupant' THEN 1 END),0) MVO \n",
    "FROM [FORMS].[dbo].[WC_ACCIDENT_F] as c\n",
    "JOIN FORMS.dbo.WC_ACCIDENT_VICTIM_F as i\n",
    "ON c.INTEGRATION_ID=i.ACCIDENT_ID\n",
    "WHERE year(c.ACCIDENT_DT) between 2017 and 2019\n",
    "AND i.INJ_KILLED = 'Injured'\n",
    "AND coalesce(c.VOID_STATUS_CD , 'N') = 'N'\n",
    "AND coalesce(nonmv, 0) = 0\n",
    "AND nodeid in (48959,48966,48968,49038)\n",
    "GROUP BY DATEPART(YEAR,c.ACCIDENT_DT),nodeid, masterid\n",
    ")\n",
    "\n",
    ",data2 AS (\n",
    "SELECT CAST(d.Year as varchar) 'YEAR', SUM(PED) PED, SUM(BI) BI, SUM(MVO) MVO\n",
    "FROM data d\n",
    "GROUP BY d.YEAR\n",
    ")\n",
    "\n",
    "\n",
    "\n",
    "SELECT * FROM ( SELECT data2.*, PED + BI + MVO Total\n",
    "                FROM data2\n",
    "\n",
    "                UNION \n",
    "\n",
    "                SELECT tot.*, PED + BI + MVO Total\n",
    "                FROM (SELECT 'Total' as 'Year', \n",
    "                      sum(data2.PED) PED,\n",
    "                      sum(data2.BI) BI,\n",
    "                      sum(data2.MVO) MVO\n",
    "                      FROM data2\n",
    "                    ) tot\n",
    "               )inj_year\n",
    "ORDER BY inj_year.year\n",
    "\n",
    "\n",
    "\n",
    "\n",
    "\"\"\")"
   ]
  },
  {
   "cell_type": "code",
   "execution_count": 8,
   "metadata": {},
   "outputs": [
    {
     "data": {
      "text/html": [
       "<div>\n",
       "<style scoped>\n",
       "    .dataframe tbody tr th:only-of-type {\n",
       "        vertical-align: middle;\n",
       "    }\n",
       "\n",
       "    .dataframe tbody tr th {\n",
       "        vertical-align: top;\n",
       "    }\n",
       "\n",
       "    .dataframe thead th {\n",
       "        text-align: right;\n",
       "    }\n",
       "</style>\n",
       "<table border=\"1\" class=\"dataframe\">\n",
       "  <thead>\n",
       "    <tr style=\"text-align: right;\">\n",
       "      <th></th>\n",
       "      <th>YEAR</th>\n",
       "      <th>PED</th>\n",
       "      <th>BI</th>\n",
       "      <th>MVO</th>\n",
       "      <th>Total</th>\n",
       "    </tr>\n",
       "  </thead>\n",
       "  <tbody>\n",
       "    <tr>\n",
       "      <th>0</th>\n",
       "      <td>2017</td>\n",
       "      <td>3</td>\n",
       "      <td>1</td>\n",
       "      <td>10</td>\n",
       "      <td>14</td>\n",
       "    </tr>\n",
       "    <tr>\n",
       "      <th>1</th>\n",
       "      <td>2018</td>\n",
       "      <td>5</td>\n",
       "      <td>1</td>\n",
       "      <td>14</td>\n",
       "      <td>20</td>\n",
       "    </tr>\n",
       "    <tr>\n",
       "      <th>2</th>\n",
       "      <td>2019</td>\n",
       "      <td>2</td>\n",
       "      <td>0</td>\n",
       "      <td>20</td>\n",
       "      <td>22</td>\n",
       "    </tr>\n",
       "    <tr>\n",
       "      <th>3</th>\n",
       "      <td>Total</td>\n",
       "      <td>10</td>\n",
       "      <td>2</td>\n",
       "      <td>44</td>\n",
       "      <td>56</td>\n",
       "    </tr>\n",
       "  </tbody>\n",
       "</table>\n",
       "</div>"
      ],
      "text/plain": [
       "    YEAR  PED  BI  MVO  Total\n",
       "0   2017    3   1   10     14\n",
       "1   2018    5   1   14     20\n",
       "2   2019    2   0   20     22\n",
       "3  Total   10   2   44     56"
      ]
     },
     "execution_count": 8,
     "metadata": {},
     "output_type": "execute_result"
    }
   ],
   "source": [
    "sip_1697"
   ]
  },
  {
   "cell_type": "markdown",
   "metadata": {},
   "source": [
    "### All Crashes on SIP 1697"
   ]
  },
  {
   "cell_type": "code",
   "execution_count": 9,
   "metadata": {},
   "outputs": [
    {
     "name": "stdout",
     "output_type": "stream",
     "text": [
      "Warning:\n",
      "\tMissing SQL Server Native Client 10.0                 datetime2 will not be interpreted correctly\n",
      "\n"
     ]
    }
   ],
   "source": [
    "sip_1697_tot= db.dfquery(\"\"\"\n",
    "\n",
    "SELECT DATEPART(YEAR,c.ACCIDENT_DT) 'Year', nodeid, masterid, c.INTEGRATION_ID\n",
    "FROM [FORMS].[dbo].[WC_ACCIDENT_F] as c\n",
    "JOIN FORMS.dbo.WC_ACCIDENT_VICTIM_F as i\n",
    "ON c.INTEGRATION_ID=i.ACCIDENT_ID\n",
    "WHERE year(c.ACCIDENT_DT) between 2017 and 2019\n",
    "AND coalesce(c.VOID_STATUS_CD , 'N') = 'N'\n",
    "AND coalesce(nonmv, 0) = 0\n",
    "AND nodeid in (48959,48966,48968,49038)\n",
    "GROUP BY DATEPART(YEAR,c.ACCIDENT_DT),nodeid, masterid, c.INTEGRATION_ID\n",
    "\n",
    "\n",
    "\"\"\")"
   ]
  },
  {
   "cell_type": "code",
   "execution_count": 10,
   "metadata": {},
   "outputs": [],
   "source": [
    "a_1697=(map(int,list(sip_1697_tot.INTEGRATION_ID)))"
   ]
  },
  {
   "cell_type": "markdown",
   "metadata": {},
   "source": [
    "### SIP 1697 Excel Output"
   ]
  },
  {
   "cell_type": "code",
   "execution_count": 11,
   "metadata": {},
   "outputs": [],
   "source": [
    "b_1697 = \"\"\"225719048\n",
    "225719048\n",
    "214419048\n",
    "214419048\n",
    "214019048\n",
    "212719048\n",
    "211719048\n",
    "212019048\n",
    "210319048\n",
    "209919048\n",
    "209719048\n",
    "202019048\n",
    "200719048\n",
    "196819048\n",
    "190919048\n",
    "178919048\n",
    "178419048\n",
    "175019048\n",
    "174719048\n",
    "174319048\n",
    "168819048\n",
    "167619048\n",
    "165219048\n",
    "163119048\n",
    "158019048\n",
    "149819048\n",
    "149819048\n",
    "139119048\n",
    "135319048\n",
    "131419048\n",
    "130619048\n",
    "123619048\n",
    "123119048\n",
    "120919048\n",
    "120119048\n",
    "115919048\n",
    "113419048\n",
    "112519048\n",
    "111119048\n",
    "108719048\n",
    "105819048\n",
    "103619048\n",
    "103619048\n",
    "91619048\n",
    "88519048\n",
    "88219048\n",
    "76119048\n",
    "76119048\n",
    "76119048\n",
    "67419048\n",
    "67419048\n",
    "65819048\n",
    "64519048\n",
    "63319048\n",
    "60919048\n",
    "56319048\n",
    "56219048\n",
    "55719048\n",
    "51019048\n",
    "45219048\n",
    "45219048\n",
    "35919048\n",
    "28819048\n",
    "24719048\n",
    "19819048\n",
    "18019048\n",
    "16819048\n",
    "10019048\n",
    "258618048\n",
    "256118048\n",
    "255118048\n",
    "251618048\n",
    "244418048\n",
    "242118048\n",
    "240418048\n",
    "240118048\n",
    "239118048\n",
    "236118048\n",
    "235818048\n",
    "234918048\n",
    "230318048\n",
    "230018048\n",
    "220118048\n",
    "218318048\n",
    "204318048\n",
    "204318048\n",
    "204318048\n",
    "203018048\n",
    "200318048\n",
    "199818048\n",
    "196718048\n",
    "192218048\n",
    "192318048\n",
    "194418048\n",
    "187218048\n",
    "182418048\n",
    "181518048\n",
    "180918048\n",
    "178818048\n",
    "178518048\n",
    "178518048\n",
    "175718048\n",
    "175618048\n",
    "173618048\n",
    "173218048\n",
    "171718048\n",
    "171118048\n",
    "171018048\n",
    "167718048\n",
    "165718048\n",
    "164918048\n",
    "159518048\n",
    "158118048\n",
    "155118048\n",
    "154318048\n",
    "149418048\n",
    "147118048\n",
    "146918048\n",
    "146918048\n",
    "146918048\n",
    "144518048\n",
    "142218048\n",
    "136318048\n",
    "135218048\n",
    "127118048\n",
    "125818048\n",
    "123318048\n",
    "121118048\n",
    "120618048\n",
    "114218048\n",
    "110818048\n",
    "108818048\n",
    "108018048\n",
    "108318048\n",
    "100718048\n",
    "94618048\n",
    "92318048\n",
    "91218048\n",
    "89518048\n",
    "86318048\n",
    "80918048\n",
    "76118048\n",
    "72918048\n",
    "73418048\n",
    "72318048\n",
    "71218048\n",
    "67318048\n",
    "65218048\n",
    "67518048\n",
    "59718048\n",
    "51518048\n",
    "47718048\n",
    "46618048\n",
    "46118048\n",
    "46018048\n",
    "45618048\n",
    "44518048\n",
    "44218048\n",
    "35918048\n",
    "33218048\n",
    "29618048\n",
    "28518048\n",
    "24518048\n",
    "10418048\n",
    "9118048\n",
    "7018048\n",
    "3618048\n",
    "2818048\n",
    "1518048\n",
    "273817048\n",
    "269517048\n",
    "268817048\n",
    "268517048\n",
    "262717048\n",
    "257217048\n",
    "255117048\n",
    "254117048\n",
    "253017048\n",
    "251717048\n",
    "224417048\n",
    "220717048\n",
    "220717048\n",
    "221617048\n",
    "215417048\n",
    "213117048\n",
    "211517048\n",
    "204417048\n",
    "194717048\n",
    "185717048\n",
    "184817048\n",
    "184617048\n",
    "182617048\n",
    "180917048\n",
    "161917048\n",
    "159617048\n",
    "154517048\n",
    "151917048\n",
    "151317048\n",
    "146117048\n",
    "143117048\n",
    "143117048\n",
    "137017048\n",
    "136217048\n",
    "136217048\n",
    "133917048\n",
    "130317048\n",
    "130117048\n",
    "128017048\n",
    "121617048\n",
    "117317048\n",
    "110317048\n",
    "101117048\n",
    "99917048\n",
    "97517048\n",
    "96517048\n",
    "95617048\n",
    "88617048\n",
    "83617048\n",
    "83017048\n",
    "75017048\n",
    "70017048\n",
    "66817048\n",
    "66617048\n",
    "65017048\n",
    "62217048\n",
    "62317048\n",
    "57017048\n",
    "53417048\n",
    "50617048\n",
    "45217048\n",
    "40017048\n",
    "40117048\n",
    "38917048\n",
    "37017048\n",
    "30017048\n",
    "29517048\n",
    "26617048\n",
    "25517048\n",
    "23317048\n",
    "22917048\n",
    "19217048\n",
    "16917048\n",
    "10817048\n",
    "2117048\n",
    "\"\"\""
   ]
  },
  {
   "cell_type": "code",
   "execution_count": 12,
   "metadata": {},
   "outputs": [],
   "source": [
    "b_1697 =map(int,b_1697.splitlines())"
   ]
  },
  {
   "cell_type": "code",
   "execution_count": 13,
   "metadata": {},
   "outputs": [
    {
     "data": {
      "text/plain": [
       "[]"
      ]
     },
     "execution_count": 13,
     "metadata": {},
     "output_type": "execute_result"
    }
   ],
   "source": [
    "[item for item in set(b_1697) if item not in set(a_1697)]"
   ]
  },
  {
   "cell_type": "markdown",
   "metadata": {},
   "source": [
    "### Lion SIP 1651"
   ]
  },
  {
   "cell_type": "code",
   "execution_count": 14,
   "metadata": {},
   "outputs": [
    {
     "name": "stdout",
     "output_type": "stream",
     "text": [
      "\n",
      "Additional database connection details required:\n",
      "Warning:\n",
      "\tMissing SQL Server Native Client 10.0                 datetime2 will not be interpreted correctly\n",
      "\n"
     ]
    }
   ],
   "source": [
    "lion_1651 = db2.dfquery(\"\"\"\n",
    "\n",
    "\n",
    "\n",
    "SELECT * FROM (SELECT DISTINCT STREET\n",
    "                   ,NODEIDFROM nodeid\n",
    "                   ,masteridfrom masterid\n",
    "               FROM [SafetyMap2].[dbo].[lion]\n",
    "               WHERE mft in (SELECT mft\n",
    "                             FROM [SafetyMap2].[dbo].[lion] lion\n",
    "                             WHERE lion.segmentid in (75132,75142,76571,76701,119305))\n",
    "               AND mft is not null\n",
    "               ) nf\n",
    "\n",
    "               UNION \n",
    "\n",
    "SELECT * FROM(SELECT DISTINCT STREET\n",
    "                   ,NODEIDTO nodeid\n",
    "                   ,masteridto masterid\n",
    "              FROM [SafetyMap2].[dbo].[lion]\n",
    "              WHERE mft in (SELECT mft\n",
    "                                 FROM [SafetyMap2].[dbo].[lion] lion\n",
    "                                 WHERE lion.segmentid in (75132,75142,76571,76701,119305))\n",
    "              AND mft is not null\n",
    "              ) nt\n",
    "\n",
    "\n",
    "\"\"\"\n",
    ")"
   ]
  },
  {
   "cell_type": "code",
   "execution_count": 15,
   "metadata": {},
   "outputs": [
    {
     "data": {
      "text/plain": [
       "array([45922, 45923, 46024, 46031, 46816, 46884, 46887, 70242, 46817],\n",
       "      dtype=int64)"
      ]
     },
     "execution_count": 15,
     "metadata": {},
     "output_type": "execute_result"
    }
   ],
   "source": [
    "lion_1651.nodeid.unique()"
   ]
  },
  {
   "cell_type": "code",
   "execution_count": 16,
   "metadata": {},
   "outputs": [
    {
     "data": {
      "text/plain": [
       "array([45922, 45923, 46024, 46031, 46884, 46887], dtype=int64)"
      ]
     },
     "execution_count": 16,
     "metadata": {},
     "output_type": "execute_result"
    }
   ],
   "source": [
    "lion_1651.masterid.unique()"
   ]
  },
  {
   "cell_type": "markdown",
   "metadata": {},
   "source": [
    "### All Injury Crashes on SIP 1651"
   ]
  },
  {
   "cell_type": "code",
   "execution_count": 17,
   "metadata": {},
   "outputs": [
    {
     "name": "stdout",
     "output_type": "stream",
     "text": [
      "Warning:\n",
      "\tMissing SQL Server Native Client 10.0                 datetime2 will not be interpreted correctly\n",
      "\n"
     ]
    }
   ],
   "source": [
    "sip_1651 = db.dfquery(\"\"\"\n",
    "\n",
    "\n",
    "WITH data as(\n",
    "\n",
    "\n",
    "SELECT DISTINCT Year, nodeid, masterid, INTEGRATION_ID, PED, BI, MVO \n",
    "FROM(\n",
    "\n",
    "SELECT DATEPART(YEAR,c.ACCIDENT_DT) 'Year', nodeid, masterid, c.INTEGRATION_ID\n",
    ",coalesce(sum(CASE WHEN i.PED_NONPED = 'Pedestrian' THEN 1 END),0) PED  \n",
    ",coalesce(sum(CASE WHEN i.PED_NONPED = 'Bicyclist' THEN 1 END),0) BI \n",
    ",coalesce(sum(CASE WHEN i.PED_NONPED = 'Occupant' THEN 1 END),0) MVO \n",
    "FROM [FORMS].[dbo].[WC_ACCIDENT_F] as c\n",
    "JOIN FORMS.dbo.WC_ACCIDENT_VICTIM_F as i\n",
    "ON c.INTEGRATION_ID=i.ACCIDENT_ID\n",
    "WHERE year(c.ACCIDENT_DT) between 2017 and 2019\n",
    "AND i.INJ_KILLED = 'Injured'\n",
    "AND coalesce(c.VOID_STATUS_CD , 'N') = 'N'\n",
    "AND coalesce(nonmv, 0) = 0\n",
    "AND nodeid in (45922, 45923, 46024, 46031, 46816, 46884, 46887, 70242, 46817)\n",
    "GROUP BY DATEPART(YEAR,c.ACCIDENT_DT),nodeid, masterid, c.INTEGRATION_ID\n",
    ") nodes\n",
    "\n",
    "UNION\n",
    "SELECT * FROM (\n",
    "SELECT DATEPART(YEAR,c.ACCIDENT_DT) 'Year', nodeid, masterid, c.INTEGRATION_ID\n",
    ",coalesce(sum(CASE WHEN i.PED_NONPED = 'Pedestrian' THEN 1 END),0) PED  \n",
    ",coalesce(sum(CASE WHEN i.PED_NONPED = 'Bicyclist' THEN 1 END),0) BI \n",
    ",coalesce(sum(CASE WHEN i.PED_NONPED = 'Occupant' THEN 1 END),0) MVO \n",
    "FROM [FORMS].[dbo].[WC_ACCIDENT_F] as c\n",
    "JOIN FORMS.dbo.WC_ACCIDENT_VICTIM_F as i\n",
    "ON c.INTEGRATION_ID=i.ACCIDENT_ID\n",
    "WHERE year(c.ACCIDENT_DT) between 2017 and 2019\n",
    "AND i.INJ_KILLED = 'Injured'\n",
    "AND coalesce(c.VOID_STATUS_CD , 'N') = 'N'\n",
    "AND coalesce(nonmv, 0) = 0\n",
    "AND masterid in (45922, 45923, 46024, 46031, 46884, 46887)\n",
    "GROUP BY DATEPART(YEAR,c.ACCIDENT_DT),nodeid, masterid, c.INTEGRATION_ID\n",
    ") masters\n",
    ")\n",
    "\n",
    "\n",
    "\n",
    ",data2 AS (\n",
    "SELECT CAST(d.Year as varchar) 'YEAR', SUM(PED) PED, SUM(BI) BI, SUM(MVO) MVO\n",
    "FROM data d\n",
    "GROUP BY d.YEAR\n",
    ")\n",
    "\n",
    "\n",
    "\n",
    "SELECT * FROM ( SELECT data2.*, PED + BI + MVO Total\n",
    "                FROM data2\n",
    "\n",
    "                UNION \n",
    "\n",
    "                SELECT tot.*, PED + BI + MVO Total\n",
    "                FROM (SELECT 'Total' as 'Year', \n",
    "                      sum(data2.PED) PED,\n",
    "                      sum(data2.BI) BI,\n",
    "                      sum(data2.MVO) MVO\n",
    "                      FROM data2\n",
    "                    ) tot\n",
    "               )inj_year\n",
    "ORDER BY inj_year.year\n",
    "\n",
    "\n",
    "\n",
    "\"\"\")"
   ]
  },
  {
   "cell_type": "code",
   "execution_count": 18,
   "metadata": {
    "scrolled": true
   },
   "outputs": [
    {
     "data": {
      "text/html": [
       "<div>\n",
       "<style scoped>\n",
       "    .dataframe tbody tr th:only-of-type {\n",
       "        vertical-align: middle;\n",
       "    }\n",
       "\n",
       "    .dataframe tbody tr th {\n",
       "        vertical-align: top;\n",
       "    }\n",
       "\n",
       "    .dataframe thead th {\n",
       "        text-align: right;\n",
       "    }\n",
       "</style>\n",
       "<table border=\"1\" class=\"dataframe\">\n",
       "  <thead>\n",
       "    <tr style=\"text-align: right;\">\n",
       "      <th></th>\n",
       "      <th>YEAR</th>\n",
       "      <th>PED</th>\n",
       "      <th>BI</th>\n",
       "      <th>MVO</th>\n",
       "      <th>Total</th>\n",
       "    </tr>\n",
       "  </thead>\n",
       "  <tbody>\n",
       "    <tr>\n",
       "      <th>0</th>\n",
       "      <td>2017</td>\n",
       "      <td>3</td>\n",
       "      <td>0</td>\n",
       "      <td>2</td>\n",
       "      <td>5</td>\n",
       "    </tr>\n",
       "    <tr>\n",
       "      <th>1</th>\n",
       "      <td>2018</td>\n",
       "      <td>6</td>\n",
       "      <td>1</td>\n",
       "      <td>0</td>\n",
       "      <td>7</td>\n",
       "    </tr>\n",
       "    <tr>\n",
       "      <th>2</th>\n",
       "      <td>2019</td>\n",
       "      <td>4</td>\n",
       "      <td>0</td>\n",
       "      <td>2</td>\n",
       "      <td>6</td>\n",
       "    </tr>\n",
       "    <tr>\n",
       "      <th>3</th>\n",
       "      <td>Total</td>\n",
       "      <td>13</td>\n",
       "      <td>1</td>\n",
       "      <td>4</td>\n",
       "      <td>18</td>\n",
       "    </tr>\n",
       "  </tbody>\n",
       "</table>\n",
       "</div>"
      ],
      "text/plain": [
       "    YEAR  PED  BI  MVO  Total\n",
       "0   2017    3   0    2      5\n",
       "1   2018    6   1    0      7\n",
       "2   2019    4   0    2      6\n",
       "3  Total   13   1    4     18"
      ]
     },
     "execution_count": 18,
     "metadata": {},
     "output_type": "execute_result"
    }
   ],
   "source": [
    "sip_1651"
   ]
  },
  {
   "cell_type": "markdown",
   "metadata": {},
   "source": [
    "### All crashes on SIP 1651"
   ]
  },
  {
   "cell_type": "code",
   "execution_count": 19,
   "metadata": {},
   "outputs": [
    {
     "name": "stdout",
     "output_type": "stream",
     "text": [
      "Warning:\n",
      "\tMissing SQL Server Native Client 10.0                 datetime2 will not be interpreted correctly\n",
      "\n"
     ]
    }
   ],
   "source": [
    "sip_1651_tot = db.dfquery(\"\"\"\n",
    "\n",
    "\n",
    "\n",
    "WITH data as(\n",
    "\n",
    "\n",
    "SELECT DISTINCT Year, nodeid, masterid, INTEGRATION_ID\n",
    "FROM(\n",
    "\n",
    "SELECT DATEPART(YEAR,c.ACCIDENT_DT) 'Year', nodeid, masterid, c.INTEGRATION_ID\n",
    "FROM [FORMS].[dbo].[WC_ACCIDENT_F] as c\n",
    "JOIN FORMS.dbo.WC_ACCIDENT_VICTIM_F as i\n",
    "ON c.INTEGRATION_ID=i.ACCIDENT_ID\n",
    "WHERE year(c.ACCIDENT_DT) between 2017 and 2019\n",
    "AND coalesce(c.VOID_STATUS_CD , 'N') = 'N'\n",
    "AND coalesce(nonmv, 0) = 0\n",
    "AND nodeid in (45922, 45923, 46024, 46031, 46816, 46884, 46887, 70242, 46817)\n",
    "GROUP BY DATEPART(YEAR,c.ACCIDENT_DT),nodeid, masterid, c.INTEGRATION_ID\n",
    ") nodes\n",
    "\n",
    "UNION\n",
    "\n",
    "SELECT * FROM (\n",
    "SELECT DATEPART(YEAR,c.ACCIDENT_DT) 'Year', nodeid, masterid, c.INTEGRATION_ID\n",
    "FROM [FORMS].[dbo].[WC_ACCIDENT_F] as c\n",
    "JOIN FORMS.dbo.WC_ACCIDENT_VICTIM_F as i\n",
    "ON c.INTEGRATION_ID=i.ACCIDENT_ID\n",
    "WHERE year(c.ACCIDENT_DT) between 2017 and 2019\n",
    "AND coalesce(c.VOID_STATUS_CD , 'N') = 'N'\n",
    "AND coalesce(nonmv, 0) = 0\n",
    "AND masterid in (45922, 45923, 46024, 46031, 46884, 46887)\n",
    "GROUP BY DATEPART(YEAR,c.ACCIDENT_DT),nodeid, masterid, c.INTEGRATION_ID\n",
    ") masters\n",
    ")\n",
    "\n",
    "SELECT * FROM data\n",
    "\n",
    "\n",
    "\"\"\")"
   ]
  },
  {
   "cell_type": "code",
   "execution_count": 20,
   "metadata": {},
   "outputs": [],
   "source": [
    "a_1651=(map(int,list(sip_1651_tot.INTEGRATION_ID)))"
   ]
  },
  {
   "cell_type": "markdown",
   "metadata": {},
   "source": [
    "### SIP 1651 Excel Output"
   ]
  },
  {
   "cell_type": "code",
   "execution_count": 21,
   "metadata": {},
   "outputs": [],
   "source": [
    "b_1651 = \"\"\"354119110\n",
    "328219110\n",
    "304919110\n",
    "282319110\n",
    "282119110\n",
    "274119110\n",
    "261819110\n",
    "142619110\n",
    "128219110\n",
    "121019110\n",
    "121119110\n",
    "90819110\n",
    "45619110\n",
    "5719110\n",
    "370018110\n",
    "352818110\n",
    "338718110\n",
    "333418110\n",
    "327418110\n",
    "282918110\n",
    "282018110\n",
    "262718110\n",
    "166518110\n",
    "21218110\n",
    "338217110\n",
    "323217110\n",
    "323217110\n",
    "303017110\n",
    "281117110\n",
    "280817110\n",
    "270017110\n",
    "210817110\n",
    "153317110\n",
    "149517110\n",
    "114017110\n",
    "56217110\n",
    "50317110\n",
    "44617110\n",
    "\"\"\""
   ]
  },
  {
   "cell_type": "code",
   "execution_count": 23,
   "metadata": {},
   "outputs": [],
   "source": [
    "b_1651 =map(int,b_1651.splitlines())"
   ]
  },
  {
   "cell_type": "code",
   "execution_count": 24,
   "metadata": {},
   "outputs": [
    {
     "data": {
      "text/plain": [
       "[]"
      ]
     },
     "execution_count": 24,
     "metadata": {},
     "output_type": "execute_result"
    }
   ],
   "source": [
    "[item for item in set(b_1651) if item not in set(a_1651)]"
   ]
  }
 ],
 "metadata": {
  "kernelspec": {
   "display_name": "Python 2",
   "language": "python",
   "name": "python2"
  },
  "language_info": {
   "codemirror_mode": {
    "name": "ipython",
    "version": 2
   },
   "file_extension": ".py",
   "mimetype": "text/x-python",
   "name": "python",
   "nbconvert_exporter": "python",
   "pygments_lexer": "ipython2",
   "version": "2.7.16"
  }
 },
 "nbformat": 4,
 "nbformat_minor": 2
}
