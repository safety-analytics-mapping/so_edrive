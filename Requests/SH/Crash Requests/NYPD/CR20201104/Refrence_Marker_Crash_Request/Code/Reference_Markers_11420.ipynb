{
 "cells": [
  {
   "cell_type": "code",
   "execution_count": 1,
   "metadata": {},
   "outputs": [
    {
     "name": "stdout",
     "output_type": "stream",
     "text": [
      "Notebook run: 2020-02-10_17:48\n",
      "E:\\RIS\\Staff Folders\\Samuel\\Requests\\SH\\Refrence_Marker_Crash_Request\n"
     ]
    }
   ],
   "source": [
    "from ris import pysqldb\n",
    "from IPython.display import clear_output\n",
    "from collections import defaultdict\n",
    "from collections import defaultdict, namedtuple\n",
    "import datetime \n",
    "import pandas as pd\n",
    "import numpy as np\n",
    "import os\n",
    "from sqlalchemy import create_engine\n",
    "\n",
    "clear_output()\n",
    "timestamp = datetime.datetime.now().strftime('%Y-%m-%d_%H:%M')\n",
    "ts = datetime.datetime.now().strftime('%Y-%m-%d')\n",
    "\n",
    "print 'Notebook run: {}'.format(timestamp)\n",
    "print os.getcwd()"
   ]
  },
  {
   "cell_type": "code",
   "execution_count": 2,
   "metadata": {},
   "outputs": [
    {
     "name": "stdout",
     "output_type": "stream",
     "text": [
      "Database connection (MS) to forms on dot55sql01 - user: arcgis \n",
      "Connection established 2020-02-10 17:48:03\n",
      "Query run in 2000 microseconds\n"
     ]
    }
   ],
   "source": [
    "sqldb = pysqldb.DbConnect(server='dot55sql01', database='forms', type='MS', user = 'arcgis', password = 'arcgis')"
   ]
  },
  {
   "cell_type": "code",
   "execution_count": 3,
   "metadata": {},
   "outputs": [
    {
     "name": "stdout",
     "output_type": "stream",
     "text": [
      "Database connection (MS) to forms on dot55sql01 - user: arcgis \n",
      "Connection established 2020-02-10 17:48:04\n"
     ]
    }
   ],
   "source": [
    "sqldb.connect()"
   ]
  },
  {
   "cell_type": "markdown",
   "metadata": {},
   "source": [
    "### Retrieving all Crash and Vehicular Data within Reference Marker Study Area"
   ]
  },
  {
   "cell_type": "code",
   "execution_count": 4,
   "metadata": {
    "scrolled": true
   },
   "outputs": [],
   "source": [
    "data = sqldb.dfquery(\"\"\"    \n",
    "\n",
    "\n",
    "WITH data AS(\n",
    "--Retrieving all vehicle level data (Vehicle Type, State of registration, Number of Occupants, Drivers Age, Sex, \n",
    "--Direction of Travel, Public Property Damage, Pre-Accident Action and Apparent Factors. \n",
    "Select core.OFF_STREET\n",
    "      ,core.integration_id\n",
    "      ,core.ACCIDENT_DT \n",
    "      ,row_number() OVER (PARTITION BY core.INTEGRATION_ID ORDER BY core.ACCIDENT_DT) AS VEH -- Assigning a row number for vehicle per crash\n",
    "      ,veh.[ST_OF_REG]\n",
    "      ,veh.VEHICLE_TYPE_CODE\n",
    "      ,veh.[VEH_OCCUPANTS]\n",
    "      ,veh.VICTIM_AGE DRIVER_AGE\n",
    "      ,veh.[DRIVER_SEX]\n",
    "      ,veh.[VIOLATION]\n",
    "      ,veh.[DIRECTION_OF_TRAVEL]\n",
    "      ,veh.[PROPERTY_DAMAGED_DESC]\n",
    "      ,veh.[CONTRIBUTING_FACTOR]\n",
    "      ,veh.[CONTRIBUTING_FACTOR_2]\n",
    "      ,veh.[PRE_ACDNT_ACTION]\n",
    "FROM [FORMS].[dbo].[WC_ACCIDENT_F] core\n",
    "JOIN (SELECT DISTINCT veh.*,vic.VICTIM_AGE \n",
    "      FROM FORMS.dbo.WC_ACCIDENT_VEHICLE_F veh \n",
    "      --Joining to Victim Table to retrieve victim ages\n",
    "      LEFT JOIN (SELECT ACCIDENT_ID, VEHICLE_NUM, VICTIM_AGE   \n",
    "                 FROM WC_ACCIDENT_VICTIM_F vic\n",
    "                 WHERE PERSON_ROLE_CODE = 'Driver' -- Only interested in injured driver's age\n",
    "                ) vic\n",
    "      ON veh.ACCIDENT_ID = vic.ACCIDENT_ID and veh.VEHICLE_NUM = vic.VEHICLE_NUM) veh\n",
    "ON core.integration_id = veh.accident_id\n",
    "WHERE core.OFF_STREET in( '907LX4M12094') --Reference marker study area\n",
    "and YEAR(core.ACCIDENT_DT) between 2017 and 2019 \n",
    ")\n",
    "\n",
    "SELECT core_data.*\n",
    "      ,veh_data.INTEGRATION_ID\n",
    "      ,veh_data.VEH\n",
    "      ,veh_data.[ST_OF_REG]\n",
    "      ,veh_data.[VEHICLE_TYPE_CODE]\n",
    "      ,veh_data.[VEH_OCCUPANTS]\n",
    "      ,veh_data.DRIVER_AGE\n",
    "      ,veh_data.[DRIVER_SEX]\n",
    "      ,veh_data.[VIOLATION]\n",
    "      ,veh_data.[DIRECTION_OF_TRAVEL]\n",
    "      ,veh_data.[PROPERTY_DAMAGED_DESC]\n",
    "      ,veh_data.[CONTRIBUTING_FACTOR]\n",
    "      ,veh_data.[CONTRIBUTING_FACTOR_2]\n",
    "      ,veh_data.[PRE_ACDNT_ACTION]\n",
    "FROM (--Retrieving all crash level data (Reference Marker, Street, Accident Date, Time, Injured count, Accident Class, Number of Vehicles, Manner of Collision, Traffic Control   \n",
    "      --Road Surface Condition, Road Character, Light Condition. \n",
    "      SELECT core.OFF_STREET\n",
    "            ,core.integration_id\n",
    "            ,row_number() OVER (PARTITION BY core.OFF_STREET ORDER BY core.integration_id) AS case_num -- Giving a row number to each distinct integration id \n",
    "            ,core.ACCIDENT_DT\n",
    "            ,left(stuff(STUFF(right('000000'+cast(core.ACCIDENT_TIME_WID AS VARCHAR),6),5,0,':'),3,0,':'), 5) ACCIDENT_TIME -- Converting Accident Time field to proper time format\n",
    "            ,core.SRC_CROSS_STREET\n",
    "            ,core.SRC_ON_STREET\n",
    "            ,core.SRC_DISTANCE_FROM_CROSS_STREET \n",
    "            ,core.SRC_NEAREST_LANDMARK\n",
    "            ,core.SRC_DIRECTION_FROM_X_STREET\n",
    "            ,CASE WHEN INJURED_CNT = 0 THEN 'Propetry Damage' ELSE 'Injury' END ACCIDENT_CLASS\n",
    "            ,core.INJURED_CNT\n",
    "            ,core.VEHICLE_INVOLVED_CNT\n",
    "            ,core.FIRST_EVENT_TYPE \n",
    "            ,core.TRAFFIC_CONTROL\n",
    "            ,core.ACCIDENT_DIAGRAM\n",
    "            ,core.ROADWAY_SURFACE_COND\n",
    "            ,core.ROADWAY_CHARACTER\n",
    "            ,core.LIGHT_CONDITIONS\n",
    "            ,core.WEATHER\n",
    "            ,core.ACCIDENT_DESC\n",
    "      FROM [FORMS].[dbo].[WC_ACCIDENT_F] core \n",
    "      WHERE core.OFF_STREET in( '907LX4M12094') --Reference marker study area\n",
    "      and YEAR(core.ACCIDENT_DT) between 2017 and 2019\n",
    "      ) core_data\n",
    "JOIN (SELECT * FROM data) veh_data\n",
    "ON core_data.INTEGRATION_ID = veh_data.integration_id\n",
    "ORDER BY core_data.OFF_STREET, case_num\n",
    "\n",
    "\n",
    "    \"\"\")"
   ]
  },
  {
   "cell_type": "code",
   "execution_count": 5,
   "metadata": {},
   "outputs": [],
   "source": [
    "data = data.drop(columns=['case_num'])"
   ]
  },
  {
   "cell_type": "markdown",
   "metadata": {},
   "source": [
    "### Excel Data Formatting"
   ]
  },
  {
   "cell_type": "code",
   "execution_count": 6,
   "metadata": {},
   "outputs": [],
   "source": [
    "writer = pd.ExcelWriter(r'C:\\Users\\SHostetter\\Desktop\\reference_marker_crashes.xlsx',engine = 'xlsxwriter') #opening new excel file to write data to"
   ]
  },
  {
   "cell_type": "code",
   "execution_count": 7,
   "metadata": {},
   "outputs": [],
   "source": [
    "i = 0 #iterator for unique integration ids\n",
    "j = 0 #iterator for retrieving vehicle information for unique integration ids. \n",
    "count=0 #iterator to track location of empty rows to write to in excel.\n",
    "\n",
    "while i < range(len(data.integration_id.unique())-1):\n",
    "    while j<len(data):\n",
    "        try:\n",
    "            if data.integration_id[j] == data.integration_id.unique()[i]: #case to locate unique integration ids\n",
    "                \n",
    "                data.iloc[j:j+1,0:20].to_excel(writer, sheet_name='Sheet1', startrow=count, index = False) #writing crash level information to excel \n",
    "                \n",
    "                count+=2 #location of next empty row in excel after writing crash level information\n",
    "               \n",
    "                veh_cnt = veh_cnt = int(data.loc[data.integration_id == data.iloc[j].integration_id].VEHICLE_INVOLVED_CNT.head(1)) #obtaining count of vehicles invloved in crash \n",
    "                data.iloc[j:j+veh_cnt,21::].to_excel(writer, sheet_name='Sheet1', startcol=2, startrow=count,index = False) #writing vehicle level information to excel       \n",
    "                \n",
    "                i+=1 #stepping to next unique integration id\n",
    "                count+=veh_cnt+1 #location \n",
    "            \n",
    "            j+=1 #stepping to next row in dataset\n",
    "            \n",
    "        except:\n",
    "            break\n",
    "        \n",
    "    break\n",
    "    \n",
    "writer.save() #saving excel file \n"
   ]
  },
  {
   "cell_type": "code",
   "execution_count": null,
   "metadata": {},
   "outputs": [],
   "source": []
  }
 ],
 "metadata": {
  "kernelspec": {
   "display_name": "Python 2",
   "language": "python",
   "name": "python2"
  },
  "language_info": {
   "codemirror_mode": {
    "name": "ipython",
    "version": 2
   },
   "file_extension": ".py",
   "mimetype": "text/x-python",
   "name": "python",
   "nbconvert_exporter": "python",
   "pygments_lexer": "ipython2",
   "version": "2.7.10"
  }
 },
 "nbformat": 4,
 "nbformat_minor": 2
}
