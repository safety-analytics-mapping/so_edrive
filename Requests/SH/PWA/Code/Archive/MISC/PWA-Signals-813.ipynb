{
 "cells": [
  {
   "cell_type": "markdown",
   "metadata": {},
   "source": [
    "# Request: PWA (Signals) \n",
    "\n",
    "\n",
    "#### 1. Database Connections for DOTDEVRHPGSQL01, dotgissql01, DOTDEV55SQL02\n",
    "####     Tables: CRASHDATA, GISGRID, DATAWAREHOUSE\n",
    "#### 2. Get all Signal Locations\n",
    "#### 3. Convert Signal Locations to Geometry \n",
    "#### 4. Retrieve Nearest Intersecton from Signal geometry\n",
    "#### 5. Label Matches as Signalized intersections"
   ]
  },
  {
   "cell_type": "code",
   "execution_count": 1,
   "metadata": {},
   "outputs": [
    {
     "name": "stdout",
     "output_type": "stream",
     "text": [
      "Notebook run: 2019-08-14 17:08\n",
      "E:\\RIS\\Staff Folders\\Samuel\\Requests\\SH\\PWA\n"
     ]
    }
   ],
   "source": [
    "from ris import db2  #library designed for SQL database connection and querying\n",
    "from IPython.display import clear_output\n",
    "from collections import defaultdict\n",
    "from collections import defaultdict, namedtuple\n",
    "import datetime \n",
    "import pandas as pd\n",
    "import numpy as np\n",
    "import os\n",
    "from sqlalchemy import create_engine\n",
    "\n",
    "clear_output()\n",
    "timestamp = datetime.datetime.now().strftime('%Y-%m-%d %H:%M')\n",
    "print 'Notebook run: {}'.format(timestamp)\n",
    "print os.getcwd()\n",
    "# %load_ext sql "
   ]
  },
  {
   "cell_type": "code",
   "execution_count": 119,
   "metadata": {},
   "outputs": [
    {
     "data": {
      "text/plain": [
       "'DOTGISSQL01'"
      ]
     },
     "execution_count": 119,
     "metadata": {},
     "output_type": "execute_result"
    }
   ],
   "source": [
    "\"dotgissql01\".upper()"
   ]
  },
  {
   "cell_type": "markdown",
   "metadata": {},
   "source": [
    "### Database connections"
   ]
  },
  {
   "cell_type": "code",
   "execution_count": 4,
   "metadata": {},
   "outputs": [
    {
     "name": "stdout",
     "output_type": "stream",
     "text": [
      "User name (CRASHDATA):soge\n",
      "Password (CRASHDATA)········\n"
     ]
    }
   ],
   "source": [
    "cdb = db2.PostgresDb('DOTDEVRHPGSQL01', 'CRASHDATA', quiet = True)\n",
    "gdb = db2.SqlDb('dotgissql01', 'gisgrid', user='GISUSER', db_pass='GISUSER') #Database Connection\n",
    "sdb = db2.SqlDb('DOTDEV55SQL02', 'DataWarehouse', user='SHostetter', db_pass='shostetter') #Database Connection"
   ]
  },
  {
   "cell_type": "markdown",
   "metadata": {},
   "source": [
    "### Retrieving Locations of all Signals  "
   ]
  },
  {
   "cell_type": "code",
   "execution_count": 7,
   "metadata": {},
   "outputs": [],
   "source": [
    "def sig_lon_lat():\n",
    "    result = gdb.query(\"\"\"SELECT [Longitude] lon,[Latitude] lat\n",
    "                    FROM [GISGRID].[gisadmin].[SIGNAL_CONTROLLER]\n",
    "                    where NormalizedType != 'Z'\n",
    "                    and [Longitude] is not null\"\"\")\n",
    "    return [[float(i[0]),float(i[1])] for i in result.data]\n"
   ]
  },
  {
   "cell_type": "code",
   "execution_count": 13,
   "metadata": {},
   "outputs": [
    {
     "name": "stdout",
     "output_type": "stream",
     "text": [
      "Warning:\n",
      "\tMissing SQL Server Native Client 10.0 datetime2 will not be interpreted correctly\n",
      "\n"
     ]
    }
   ],
   "source": [
    "op = sig_lon_lat()\n",
    "sigs=pd.DataFrame(op,columns=['lon','lat'])\n",
    "\n",
    "#op\n",
    "#sigs"
   ]
  },
  {
   "cell_type": "markdown",
   "metadata": {},
   "source": [
    "### Converts longitudes and latitudes to geometry (optional)"
   ]
  },
  {
   "cell_type": "code",
   "execution_count": null,
   "metadata": {},
   "outputs": [],
   "source": [
    "#Query Version 1\n",
    "\n",
    "def lonlat_to_geom(*args): #input either list of list [[lon,lat][lon,lat]] or list lon_lat=[lon,lat] or input lon=lon,lat=lat \n",
    "    try:\n",
    "        \n",
    "        if any(isinstance(item, list) for item in args[0]): \n",
    "            print('TRUE')\n",
    "            count=0\n",
    "            geom =[None]*len(args[0])\n",
    "            for i in args[0]:\n",
    "                #print(i)\n",
    "                g=cdb.query(\"select st_transform(ST_PointFromText('POINT(' || {lon} || ' ' || {lat} || ')', 4326), 2263) geom \".format(lon=i[0],lat=i[1]))\n",
    "                #print(g)\n",
    "                geom[count]=g[0][0][0]\n",
    "                count+=1\n",
    "\n",
    "        else:\n",
    "            print(args[0])\n",
    "            if isinstance(args[0], list):\n",
    "                g = cdb.query(\"select st_transform(ST_PointFromText('POINT(' || {lon} || ' ' || {lat} || ')', 4326), 2263) geom \".format(lon=args[0][0],lat=args[0][1]))\n",
    "                geom = g[0][0][0]\n",
    "\n",
    "    except:\n",
    "    \n",
    "        lon_lat = list(args)\n",
    "        #print(lon_lat)\n",
    "        g = cdb.query(\"select st_transform(ST_PointFromText('POINT(' || {lon} || ' ' || {lat} || ')', 4326), 2263) geom \".format(lon=lon_lat[0],lat=lon_lat[1]))\n",
    "        geom = g[0][0][0]\n",
    "\n",
    "    return geom\n",
    "\n"
   ]
  },
  {
   "cell_type": "code",
   "execution_count": null,
   "metadata": {},
   "outputs": [],
   "source": [
    "#Query Version 2\n",
    "\n",
    "def lonlat_to_geomv2(*args): #input either list of list [[lon,lat][lon,lat]] or list lon_lat=[lon,lat] or input lon=lon,lat=lat \n",
    "    try:\n",
    "        \n",
    "        if any(isinstance(item, list) for item in args[0]): \n",
    "            print('TRUE')\n",
    "            count=0\n",
    "            geom =[None]*len(args[0])\n",
    "            for i in args[0]:\n",
    "                #print(lon_lat)\n",
    "                g=cdb.query(\"\"\"selectst_transform(st_geomfromtext(\n",
    "                            'SRID=4326;POINT({lon} {lat})'), 2263) geom\"\"\".format(lon=int(i[0]),lat=int(i[0])))\n",
    "                \n",
    "                geom[count]=g[0][0][0]\n",
    "                count+=1\n",
    "\n",
    "        else:\n",
    "            print(args[0])\n",
    "            if isinstance(args[0], list):\n",
    "                g = cdb.query(\"\"\"select st_transform(st_geomfromtext(\n",
    "                            'SRID=4326;POINT({lon} {lat})'), 2263) geom\"\"\".format(lon=args[0][0],lat=args[0][1]))\n",
    "                geom = g[0][0][0]\n",
    "\n",
    "    except:\n",
    "    \n",
    "        lon_lat = list(args)\n",
    "        #print(lon_lat)\n",
    "        g = cdb.query(\"\"\"select st_transform(st_geomfromtext(\n",
    "                            'SRID=4326;POINT({lon} {lat})'), 2263) geom\"\"\".format(lon=lon_lat[0],lat=lon_lat[1]))\n",
    "        geom = g[0][0][0]\n",
    "\n",
    "    return geom\n",
    "    "
   ]
  },
  {
   "cell_type": "code",
   "execution_count": 22,
   "metadata": {},
   "outputs": [
    {
     "data": {
      "text/plain": [
       "'0101000020D7080000F3011E94BF192E419579CDE4A4630841'"
      ]
     },
     "execution_count": 22,
     "metadata": {},
     "output_type": "execute_result"
    }
   ],
   "source": [
    "#ltg = lonlat_to_geom(-73.99247600,40.71507200)\n",
    "#ltg"
   ]
  },
  {
   "cell_type": "code",
   "execution_count": 24,
   "metadata": {},
   "outputs": [
    {
     "name": "stdout",
     "output_type": "stream",
     "text": [
      "[-73.992476, 40.715072]\n"
     ]
    },
    {
     "data": {
      "text/plain": [
       "'0101000020D7080000F3011E94BF192E419579CDE4A4630841'"
      ]
     },
     "execution_count": 24,
     "metadata": {},
     "output_type": "execute_result"
    }
   ],
   "source": [
    "#ltg = lonlat_to_geom([-73.99247600,40.71507200])\n",
    "#ltg"
   ]
  },
  {
   "cell_type": "code",
   "execution_count": 16,
   "metadata": {},
   "outputs": [
    {
     "name": "stdout",
     "output_type": "stream",
     "text": [
      "2019-08-14 17:34:34\n",
      "TRUE\n",
      "2019-08-14 17:34:59\n"
     ]
    }
   ],
   "source": [
    "#takes 20 secs\n",
    "print datetime.datetime.now().strftime('%Y-%m-%d %H:%M:%S')\n",
    "ltg = lonlat_to_geom(op)\n",
    "print datetime.datetime.now().strftime('%Y-%m-%d %H:%M:%S')\n",
    "#ltg"
   ]
  },
  {
   "cell_type": "code",
   "execution_count": 20,
   "metadata": {},
   "outputs": [],
   "source": [
    "sigs_geom=pd.DataFrame(ltg,columns=['sig_geom']) #dataframe containing signal geometries\n",
    "sigs_df = sigs.join(sigs_geom) #dataframe containing signal longitudes, latitudes and geometries"
   ]
  },
  {
   "cell_type": "code",
   "execution_count": 19,
   "metadata": {},
   "outputs": [],
   "source": [
    "#sigs_df"
   ]
  },
  {
   "cell_type": "markdown",
   "metadata": {},
   "source": [
    "### Obtains nearest intersection from the location of input signal"
   ]
  },
  {
   "cell_type": "code",
   "execution_count": 12,
   "metadata": {},
   "outputs": [],
   "source": [
    "#Obtains nearest intersection using signal latitude and longitude\n",
    "\n",
    "def sig_to_itxv1(lon,lat,tol):\n",
    "\n",
    "    query = \"\"\"select nodeid, st_distance(geom, st_transform(st_geomfromtext(\n",
    "                            'SRID=4326;POINT({lon} {lat})'), 2263)) as distance,\n",
    "                            geom as node_geom,\n",
    "                            st_transform(st_geomfromtext(\n",
    "                            'SRID=4326;POINT({lon} {lat})'), 2263) as sig_geom\n",
    "               from node where st_dwithin(st_transform(st_geomfromtext(\n",
    "                            'SRID=4326;POINT({lon} {lat})'), 2263),geom, {tol})\n",
    "                        and is_int = true\n",
    "               order by st_distance(geom, st_transform(st_geomfromtext(\n",
    "                            'SRID=4326;POINT({lon} {lat})'), 2263)) ASC limit 1\n",
    "               \"\"\".format(lon=lon, lat=lat, tol=tol)\n",
    "    \n",
    "    result = cdb.query(query)\n",
    "    return pd.DataFrame(result[0], columns=['nodeid','dist','node_geom','sig_geom'])\n"
   ]
  },
  {
   "cell_type": "code",
   "execution_count": 39,
   "metadata": {},
   "outputs": [],
   "source": [
    "print datetime.datetime.now().strftime('%Y-%m-%d %H:%M:%S')\n",
    "ans=sig_to_itxv1(-73.99247600,40.71507200,100)\n",
    "print datetime.datetime.now().strftime('%Y-%m-%d %H:%M:%S')\n",
    "#ans"
   ]
  },
  {
   "cell_type": "code",
   "execution_count": 43,
   "metadata": {},
   "outputs": [],
   "source": [
    "#Obtains nearest intersection using signal geometry (geom not initially known)\n",
    "\n",
    "def sig_to_itxv2(lon,lat,tol):\n",
    "    lon_lat=[lon,lat]\n",
    "    sgeom = lonlat_to_geom(lon,lat)\n",
    "    query = \"\"\"select nodeid, st_distance(geom, '{sgeom}'::geometry) as distance,\n",
    "                            geom as node_geom,\n",
    "                            '{sgeom}'::geometry as sig_geom, '{lon_lat}' as lon_lat\n",
    "               from node where st_dwithin('{sgeom}'::geometry,geom, {tol})\n",
    "                        and is_int = true\n",
    "               order by st_distance(geom, '{sgeom}'::geometry) ASC limit 1\n",
    "               \"\"\".format(sgeom=sgeom, tol=tol, lon_lat=lon_lat)\n",
    "\n",
    "    result = cdb.query(query)\n",
    "    return pd.DataFrame(result[0], columns=['nodeid','dist','node_geom','sig_geom','lon_lat'])\n"
   ]
  },
  {
   "cell_type": "code",
   "execution_count": 44,
   "metadata": {
    "scrolled": true
   },
   "outputs": [
    {
     "name": "stdout",
     "output_type": "stream",
     "text": [
      "2019-08-14 17:57:39\n",
      "2019-08-14 17:57:39\n"
     ]
    }
   ],
   "source": [
    "print datetime.datetime.now().strftime('%Y-%m-%d %H:%M:%S')\n",
    "ans=sig_to_itxv2(-73.99247600,40.71507200,100)\n",
    "print datetime.datetime.now().strftime('%Y-%m-%d %H:%M:%S')\n",
    "#ans"
   ]
  },
  {
   "cell_type": "code",
   "execution_count": 103,
   "metadata": {},
   "outputs": [],
   "source": [
    "#Obtains nearest intersection using signal geometry (geom initially known)\n",
    "\n",
    "def sig_to_itxv3(lon,lat,geom,tol):\n",
    "    lon_lat=[lon,lat]\n",
    "    sgeom = geom\n",
    "    query = \"\"\"select nodeid, st_distance(geom, '{sgeom}'::geometry) as distance,\n",
    "                            geom as node_geom,\n",
    "                            '{sgeom}'::geometry as sig_geom, '{lon_lat}' as lon_lat\n",
    "               from node where st_dwithin('{sgeom}'::geometry,geom, {tol})\n",
    "                        and is_int = true\n",
    "               order by st_distance(geom, '{sgeom}'::geometry) ASC limit 1\n",
    "               \"\"\".format(sgeom=sgeom, tol=tol, lon_lat=lon_lat)\n",
    "\n",
    "    result = cdb.query(query)\n",
    "    return result[0][0]"
   ]
  },
  {
   "cell_type": "markdown",
   "metadata": {},
   "source": [
    "### Obtains all nearest intersections from GISGRID signals"
   ]
  },
  {
   "cell_type": "code",
   "execution_count": 109,
   "metadata": {},
   "outputs": [],
   "source": [
    "#takes 1mins\n",
    "\n",
    "def all_sigs_to_itxs(sigs, rad):\n",
    "    signals = {}\n",
    "  \n",
    "    for i in range(len(sigs)): \n",
    "        \n",
    "        \n",
    "        lon=sigs.iloc[i].lon\n",
    "        lat=sigs.iloc[i].lat\n",
    "        geom=sigs_df.iloc[i].sig_geom\n",
    "        tol=rad      \n",
    "        \n",
    "        try:      \n",
    "            x = sig_to_itxv3(lon,lat,geom,tol)\n",
    "            nodeid = x[0]\n",
    "            signals[int(nodeid)]=list(x)[1:]\n",
    "        \n",
    "        except:\n",
    "            pass\n",
    "        \n",
    "        \n",
    "    return signals"
   ]
  },
  {
   "cell_type": "code",
   "execution_count": 111,
   "metadata": {},
   "outputs": [
    {
     "name": "stdout",
     "output_type": "stream",
     "text": [
      "2019-08-14 18:22:57\n",
      "2019-08-14 18:23:29\n"
     ]
    }
   ],
   "source": [
    "print datetime.datetime.now().strftime('%Y-%m-%d %H:%M:%S')\n",
    "sigs_dict=all_sigs_to_itxs(sigs_df,100)\n",
    "print datetime.datetime.now().strftime('%Y-%m-%d %H:%M:%S')"
   ]
  },
  {
   "cell_type": "code",
   "execution_count": null,
   "metadata": {},
   "outputs": [],
   "source": [
    "#sig_dict"
   ]
  }
 ],
 "metadata": {
  "kernelspec": {
   "display_name": "Python 2",
   "language": "python",
   "name": "python2"
  },
  "language_info": {
   "codemirror_mode": {
    "name": "ipython",
    "version": 2
   },
   "file_extension": ".py",
   "mimetype": "text/x-python",
   "name": "python",
   "nbconvert_exporter": "python",
   "pygments_lexer": "ipython2",
   "version": "2.7.10"
  }
 },
 "nbformat": 4,
 "nbformat_minor": 2
}
