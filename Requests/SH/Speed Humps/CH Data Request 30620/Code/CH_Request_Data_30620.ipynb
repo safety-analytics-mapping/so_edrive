{
 "cells": [
  {
   "cell_type": "code",
   "execution_count": 5,
   "metadata": {},
   "outputs": [
    {
     "name": "stdout",
     "output_type": "stream",
     "text": [
      "Notebook run: 2020-03-11_11:49\n",
      "E:\\RIS\\Staff Folders\\Samuel\\Requests\\SH\\CH_Request_Data_30620\n"
     ]
    }
   ],
   "source": [
    "from ris import pysqldb\n",
    "from IPython.display import clear_output\n",
    "from collections import defaultdict\n",
    "from collections import defaultdict, namedtuple\n",
    "import datetime \n",
    "import pandas as pd\n",
    "import numpy as np\n",
    "import os\n",
    "import requests\n",
    "from sqlalchemy import create_engine\n",
    "\n",
    "clear_output()\n",
    "timestamp = datetime.datetime.now().strftime('%Y-%m-%d_%H:%M')\n",
    "ts = datetime.datetime.now().strftime('%Y-%m-%d')\n",
    "\n",
    "print 'Notebook run: {}'.format(timestamp)\n",
    "print os.getcwd()"
   ]
  },
  {
   "cell_type": "code",
   "execution_count": 2,
   "metadata": {},
   "outputs": [
    {
     "name": "stdout",
     "output_type": "stream",
     "text": [
      "\n",
      "Additional database connection details required:\n",
      "User name (crashdata):soge\n",
      "Password (crashdata)········\n",
      "Database connection (PG) to CRASHDATA on DOTDEVRHPGSQL01 - user: soge \n",
      "Connection established 2020-03-10 17:02:02\n"
     ]
    }
   ],
   "source": [
    "#Database connection\n",
    "cdb = pysqldb.DbConnect(server='DOTDEVRHPGSQL01', database='CRASHDATA', type='PG')"
   ]
  },
  {
   "cell_type": "code",
   "execution_count": 9,
   "metadata": {},
   "outputs": [],
   "source": [
    "#today = datetime.datetime.now().strftime('%Y_%m_%d')\n",
    "\n",
    "#speed_humps_url = 'https://data.cityofnewyork.us/api/views/9n6h-pt9g/rows.csv'\n",
    "#humps_file = requests.get(speed_humps_url)\n",
    "\n",
    "#open(r'\\\\dot55fp05\\BOTPLAN\\RIS\\Requests\\Citywide\\City_Hall\\SchoolIntersectionTracker\\SRTS_Data\\opendata_srts_{0}.csv'.format(today), 'wb').write(humps_file.content)\n",
    "\n",
    "#open_speed_humps = pd.DataFrame.from_csv(r'\\\\dot55fp05\\BOTPLAN\\RIS\\Requests\\Citywide\\City_Hall\\SchoolIntersectionTracker\\SRTS_Data\\opendata_srts_{0}.csv'.format(today))\n",
    "#open_speed_humps.head(1)"
   ]
  },
  {
   "cell_type": "markdown",
   "metadata": {},
   "source": [
    "### Reading in SRTS Speed Humps Table"
   ]
  },
  {
   "cell_type": "code",
   "execution_count": 3,
   "metadata": {},
   "outputs": [],
   "source": [
    "sh_data = pd.read_excel(r'Data\\SRTS_CBapproved_since2018.xlsx')"
   ]
  },
  {
   "cell_type": "markdown",
   "metadata": {},
   "source": [
    "### Creating Speed Humps Ids for Each Distinct Project"
   ]
  },
  {
   "cell_type": "code",
   "execution_count": 4,
   "metadata": {},
   "outputs": [],
   "source": [
    "sh_data['srid'] = map(lambda x: str(x)[-5::],sh_data.ProjectCode) \n",
    "\n",
    "sh_data['SID'] = map(lambda x: str(x), sh_data.SegmentID)\n",
    "\n",
    "sh_data['speed_hump_id'] = sh_data['srid'] + sh_data['SID']"
   ]
  },
  {
   "cell_type": "markdown",
   "metadata": {},
   "source": [
    "### Writing Table To PG"
   ]
  },
  {
   "cell_type": "code",
   "execution_count": 5,
   "metadata": {},
   "outputs": [
    {
     "name": "stdout",
     "output_type": "stream",
     "text": [
      "Database connection (PG) to CRASHDATA on DOTDEVRHPGSQL01 - user: soge \n",
      "Connection established 2020-03-10 17:02:05\n"
     ]
    }
   ],
   "source": [
    "cdb.connect()"
   ]
  },
  {
   "cell_type": "code",
   "execution_count": 6,
   "metadata": {
    "scrolled": false
   },
   "outputs": [
    {
     "name": "stdout",
     "output_type": "stream",
     "text": [
      "Reading data into Database\n",
      "\n"
     ]
    },
    {
     "name": "stderr",
     "output_type": "stream",
     "text": [
      "233it [00:06, 37.38it/s]\n"
     ]
    },
    {
     "name": "stdout",
     "output_type": "stream",
     "text": [
      "\n",
      "233 rows added to working.SRTS_30620\n",
      "\n"
     ]
    }
   ],
   "source": [
    "d = cdb.dataframe_to_table(sh_data, 'SRTS_30620', schema= 'working', overwrite = True)"
   ]
  },
  {
   "cell_type": "markdown",
   "metadata": {},
   "source": [
    "### Creating Table With All Nearest to School and Treatment Nodeids and Treatment Details "
   ]
  },
  {
   "cell_type": "code",
   "execution_count": 7,
   "metadata": {},
   "outputs": [
    {
     "name": "stdout",
     "output_type": "stream",
     "text": [
      "Query run in 1 seconds\n"
     ]
    }
   ],
   "source": [
    "cdb.query(\"\"\"\n",
    "\n",
    "DROP TABLE IF EXISTS working.ch_speed_humps;\n",
    "\n",
    "CREATE TABLE working.ch_speed_humps AS\n",
    "\n",
    "WITH data AS(\n",
    "\n",
    "SELECT DISTINCT ch_sh.*, lion.*\n",
    "FROM working.SRTS_30620 ch_sh\n",
    "LEFT JOIN (SELECT l.segmentid, l.masteridfrom, l.masteridto, l.geom segment_geom, nlu.*\n",
    "       FROM archive.\"18d.2019-11-13_lion\" l\n",
    "       JOIN public.ch_schools_mft_node_lookup nlu\n",
    "       on l.mft = nlu.mft) lion \n",
    "ON ch_sh.segmentid::int = lion.segmentid::int\n",
    "WHERE SegmentStatus = 1\n",
    "ORDER BY lion.mft, speed_hump_id, dist\n",
    ")                                                                                                                                                                                                                                                                       \n",
    "\n",
    "\n",
    "--Nodes with the minimum distance from schools \n",
    ",data2 AS(\n",
    "SELECT data.*, d1.min_school_node_dist FROM(\n",
    "SELECT speed_hump_id, min(dist) min_school_node_dist\n",
    "FROM data \n",
    "GROUP BY speed_hump_id\n",
    ") d1\n",
    "JOIN data \n",
    "on  data.speed_hump_id = d1.speed_hump_id and data.dist = d1.min_school_node_dist\n",
    ")\n",
    "\n",
    "\n",
    "--Grabbing all distances of nodeid to treatment\n",
    ",data3 AS(\n",
    "--Based on the masterid, selecting m\n",
    "SELECT DISTINCT d1.*, d2.min_school_node_dist, ST_DISTANCE(d1.geom,d1.segment_geom) treat_dist\n",
    "FROM data2 d2\n",
    "LEFT JOIN data d1\n",
    "ON d2.masterid = d1.masterid\n",
    ")\n",
    "\n",
    "\n",
    "--Grabbing all minimum distances of nodeid to treatment\n",
    ",data4 AS (\n",
    "SELECT d3.speed_hump_id, d3.CBAcceptedProposalDate::date speed_hump_approval, d3.numsrproposed number_humps, d3.masterid, d3.nodeid, d3.treat_dist, d3.dist, d3.on_st on_street, d3.cross_st cross_street, d3.school_list, d3.school_id_list, d3.address_list  \n",
    "FROM (  SELECT d_3.*, data3.masterid\n",
    "    FROM (SELECT d3.speed_hump_id, min(treat_dist) treat_dist \n",
    "    FROM data3 d3\n",
    "    GROUP BY d3.speed_hump_id\n",
    "    ) d_3\n",
    "    LEFT JOIN data3  \n",
    "    ON d_3.speed_hump_id = data3.speed_hump_id and d_3.treat_dist  = data3.treat_dist  \n",
    ") treat_data\n",
    "JOIN data3 d3\n",
    "ON treat_data.speed_hump_id = d3.speed_hump_id and treat_data.masterid = d3.masterid and treat_data.treat_dist = d3.treat_dist\n",
    ")\n",
    "\n",
    "\n",
    "SELECT * FROM data4\n",
    "\n",
    "\"\"\"\n",
    ")"
   ]
  },
  {
   "cell_type": "markdown",
   "metadata": {},
   "source": [
    "### Updating City Hall Tracking Master Table "
   ]
  },
  {
   "cell_type": "code",
   "execution_count": 8,
   "metadata": {},
   "outputs": [
    {
     "name": "stdout",
     "output_type": "stream",
     "text": [
      "Query run in 8000 microseconds\n"
     ]
    }
   ],
   "source": [
    "cdb.query(\"\"\"\n",
    "\n",
    "--From the speed hump data, min(speed_hump_id) in the case where there are multiple speed hump ids assigned to the same segmentid\n",
    "\n",
    "INSERT INTO public.ch_schools_output as so (nodeid, dist, on_street, cross_street, school_list, school_id_list, address_list, speed_hump_id, speed_hump_approval, number_humps)\n",
    "SELECT DISTINCT nodeid,dist,on_street, cross_street, school_list, school_id_list, address_list, min(speed_hump_id) speed_hump_id, speed_hump_approval, number_humps\n",
    "FROM working.ch_speed_humps \n",
    "GROUP BY nodeid,dist,on_street, cross_street, school_list, school_id_list, address_list, speed_hump_approval, number_humps\n",
    "ON CONFLICT (nodeid)\n",
    "DO UPDATE \n",
    "    SET speed_hump_id = excluded.speed_hump_id, speed_hump_approval = excluded.speed_hump_approval, number_humps = excluded.number_humps\n",
    "        WHERE so.speed_hump_id is null\n",
    "\n",
    "\n",
    "\"\"\")"
   ]
  },
  {
   "cell_type": "markdown",
   "metadata": {},
   "source": [
    "### Speed Hump Ids that dont make it to the City Hall Tracking Master Table \n",
    "#### Because details for that node are already populated"
   ]
  },
  {
   "cell_type": "code",
   "execution_count": 9,
   "metadata": {},
   "outputs": [],
   "source": [
    "dump = cdb.dfquery(\"\"\"\n",
    "\n",
    "SELECT ch_sh.nodeid, ch_sh.dist, ch_sh.on_street, ch_sh.cross_street, ch_sh.school_list, ch_sh.school_id_list, ch_sh.address_list, ch_sh.speed_hump_id, ch_sh.speed_hump_approval, ch_sh.number_humps\n",
    "FROM working.ch_speed_humps ch_sh\n",
    "LEFT JOIN public.ch_schools_output so\n",
    "ON ch_sh.speed_hump_id = so.speed_hump_id\n",
    "WHERE so.speed_hump_id is null\n",
    "\n",
    "\"\"\")"
   ]
  },
  {
   "cell_type": "code",
   "execution_count": 10,
   "metadata": {},
   "outputs": [],
   "source": [
    "dump.to_csv('dumped.csv', index = False)"
   ]
  }
 ],
 "metadata": {
  "kernelspec": {
   "display_name": "Python 2",
   "language": "python",
   "name": "python2"
  },
  "language_info": {
   "codemirror_mode": {
    "name": "ipython",
    "version": 2
   },
   "file_extension": ".py",
   "mimetype": "text/x-python",
   "name": "python",
   "nbconvert_exporter": "python",
   "pygments_lexer": "ipython2",
   "version": "2.7.16"
  }
 },
 "nbformat": 4,
 "nbformat_minor": 2
}
