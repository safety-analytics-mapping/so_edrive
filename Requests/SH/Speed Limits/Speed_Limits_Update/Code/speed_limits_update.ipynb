{
 "cells": [
  {
   "cell_type": "markdown",
   "metadata": {},
   "source": [
    "# Default Import"
   ]
  },
  {
   "cell_type": "code",
   "execution_count": 1,
   "metadata": {
    "scrolled": true
   },
   "outputs": [
    {
     "data": {
      "text/markdown": [
       "<strong>Notebook run on: 2020-08-25 11:06 | by soge | Using ris library version: 1.5.6 | File Location: E:\\RIS\\Staff Folders\\Samuel\\Requests\\SH\\Speed_Limits_Update"
      ],
      "text/plain": [
       "<IPython.core.display.Markdown object>"
      ]
     },
     "execution_count": 1,
     "metadata": {},
     "output_type": "execute_result"
    }
   ],
   "source": [
    "from ris import pysqldb\n",
    "from IPython.display import Markdown, clear_output\n",
    "from sqlalchemy import create_engine\n",
    "import ris\n",
    "import getpass\n",
    "import datetime \n",
    "import pandas as pd\n",
    "import numpy as np\n",
    "import os\n",
    "import requests\n",
    "\n",
    "timestamp = datetime.datetime.now().strftime('%Y-%m-%d %H:%M')\n",
    "ts = datetime.datetime.now().strftime('%Y-%m-%d')\n",
    "\n",
    "Markdown('<strong>Notebook run on: {} | by {} | Using ris library version: {} | File Location: {}'.format(\n",
    "    timestamp, getpass.getuser(), ris.__version__, os.getcwd()\n",
    "))\n"
   ]
  },
  {
   "cell_type": "markdown",
   "metadata": {},
   "source": [
    "# Db connections"
   ]
  },
  {
   "cell_type": "code",
   "execution_count": 2,
   "metadata": {},
   "outputs": [
    {
     "name": "stdout",
     "output_type": "stream",
     "text": [
      "\n",
      "Additional database connection details required:\n",
      "User name (crashdata):soge\n",
      "Password (crashdata)········\n",
      "Database connection (PG) to CRASHDATA on dotdevrhpgsql01 - user: soge \n",
      "Connection established 2020-08-25 11:06:33\n"
     ]
    }
   ],
   "source": [
    "try: \n",
    "    db.params['user']\n",
    "except:\n",
    "    db = pysqldb.DbConnect(type='PG', server='dotdevrhpgsql01', database='CRASHDATA')"
   ]
  },
  {
   "cell_type": "code",
   "execution_count": 7,
   "metadata": {},
   "outputs": [],
   "source": [
    "#sip = pysqldb.DbConnect(server='dotpgsql01', database='sip', type='PG', user = db.params['user'], password = db.params['password'])\n",
    "#forms = pysqldb.DbConnect(server='dot55sql01', database='forms', type='MS', user = 'arcgis', password = 'arcgis')"
   ]
  },
  {
   "cell_type": "code",
   "execution_count": null,
   "metadata": {},
   "outputs": [],
   "source": [
    "# BACK UP SPEED LIMITS FILE\n",
    "# CREATE A TABLE WITH SPEED LIMITS DATA AND TODAY'S DATE\n",
    "# i.e Archive Copy"
   ]
  },
  {
   "cell_type": "code",
   "execution_count": 8,
   "metadata": {},
   "outputs": [],
   "source": [
    "x = db.dfquery(\"\"\"\n",
    "SELECT segmentid, street, postvz_sl, postvz_sg, prevz_sl, prevz_sg, \n",
    "       version, geom\n",
    "FROM public.speed_limit_19d\n",
    "WHERE street = 'SHORE ROAD'\n",
    "AND segmentid in (95438,95445,179943,179942,179973,179944,307982,237256,308021,307983,308144,308022,308145)\n",
    "\"\"\")"
   ]
  },
  {
   "cell_type": "code",
   "execution_count": 9,
   "metadata": {},
   "outputs": [
    {
     "data": {
      "text/html": [
       "<div>\n",
       "<style scoped>\n",
       "    .dataframe tbody tr th:only-of-type {\n",
       "        vertical-align: middle;\n",
       "    }\n",
       "\n",
       "    .dataframe tbody tr th {\n",
       "        vertical-align: top;\n",
       "    }\n",
       "\n",
       "    .dataframe thead th {\n",
       "        text-align: right;\n",
       "    }\n",
       "</style>\n",
       "<table border=\"1\" class=\"dataframe\">\n",
       "  <thead>\n",
       "    <tr style=\"text-align: right;\">\n",
       "      <th></th>\n",
       "      <th>segmentid</th>\n",
       "      <th>street</th>\n",
       "      <th>postvz_sl</th>\n",
       "      <th>postvz_sg</th>\n",
       "      <th>prevz_sl</th>\n",
       "      <th>prevz_sg</th>\n",
       "      <th>version</th>\n",
       "      <th>geom</th>\n",
       "    </tr>\n",
       "  </thead>\n",
       "  <tbody>\n",
       "    <tr>\n",
       "      <th>0</th>\n",
       "      <td>95438</td>\n",
       "      <td>SHORE ROAD</td>\n",
       "      <td>30</td>\n",
       "      <td>NO</td>\n",
       "      <td>30</td>\n",
       "      <td>NO</td>\n",
       "      <td>19d</td>\n",
       "      <td>0105000020D70800000100000001020000000200000000...</td>\n",
       "    </tr>\n",
       "    <tr>\n",
       "      <th>1</th>\n",
       "      <td>179942</td>\n",
       "      <td>SHORE ROAD</td>\n",
       "      <td>30</td>\n",
       "      <td>NO</td>\n",
       "      <td>30</td>\n",
       "      <td>NO</td>\n",
       "      <td>19d</td>\n",
       "      <td>0105000020D70800000100000001020000000A00000080...</td>\n",
       "    </tr>\n",
       "    <tr>\n",
       "      <th>2</th>\n",
       "      <td>179943</td>\n",
       "      <td>SHORE ROAD</td>\n",
       "      <td>30</td>\n",
       "      <td>NO</td>\n",
       "      <td>30</td>\n",
       "      <td>NO</td>\n",
       "      <td>19d</td>\n",
       "      <td>0105000020D70800000100000001020000000200000080...</td>\n",
       "    </tr>\n",
       "    <tr>\n",
       "      <th>3</th>\n",
       "      <td>95445</td>\n",
       "      <td>SHORE ROAD</td>\n",
       "      <td>30</td>\n",
       "      <td>NO</td>\n",
       "      <td>30</td>\n",
       "      <td>NO</td>\n",
       "      <td>19d</td>\n",
       "      <td>0105000020D70800000100000001020000000200000000...</td>\n",
       "    </tr>\n",
       "    <tr>\n",
       "      <th>4</th>\n",
       "      <td>179944</td>\n",
       "      <td>SHORE ROAD</td>\n",
       "      <td>30</td>\n",
       "      <td>NO</td>\n",
       "      <td>30</td>\n",
       "      <td>NO</td>\n",
       "      <td>19d</td>\n",
       "      <td>0105000020D70800000100000001020000000200000080...</td>\n",
       "    </tr>\n",
       "    <tr>\n",
       "      <th>5</th>\n",
       "      <td>179973</td>\n",
       "      <td>SHORE ROAD</td>\n",
       "      <td>30</td>\n",
       "      <td>NO</td>\n",
       "      <td>30</td>\n",
       "      <td>NO</td>\n",
       "      <td>19d</td>\n",
       "      <td>0105000020D70800000100000001020000000200000000...</td>\n",
       "    </tr>\n",
       "    <tr>\n",
       "      <th>6</th>\n",
       "      <td>237256</td>\n",
       "      <td>SHORE ROAD</td>\n",
       "      <td>30</td>\n",
       "      <td>NO</td>\n",
       "      <td>30</td>\n",
       "      <td>NO</td>\n",
       "      <td>19d</td>\n",
       "      <td>0105000020D70800000100000001020000000200000000...</td>\n",
       "    </tr>\n",
       "    <tr>\n",
       "      <th>7</th>\n",
       "      <td>307982</td>\n",
       "      <td>SHORE ROAD</td>\n",
       "      <td>30</td>\n",
       "      <td>NO</td>\n",
       "      <td>30</td>\n",
       "      <td>NO</td>\n",
       "      <td>19d</td>\n",
       "      <td>0105000020D70800000100000001020000000200000000...</td>\n",
       "    </tr>\n",
       "    <tr>\n",
       "      <th>8</th>\n",
       "      <td>307983</td>\n",
       "      <td>SHORE ROAD</td>\n",
       "      <td>30</td>\n",
       "      <td>NO</td>\n",
       "      <td>30</td>\n",
       "      <td>NO</td>\n",
       "      <td>19d</td>\n",
       "      <td>0105000020D70800000100000001020000000200000080...</td>\n",
       "    </tr>\n",
       "    <tr>\n",
       "      <th>9</th>\n",
       "      <td>308021</td>\n",
       "      <td>SHORE ROAD</td>\n",
       "      <td>30</td>\n",
       "      <td>NO</td>\n",
       "      <td>30</td>\n",
       "      <td>NO</td>\n",
       "      <td>19d</td>\n",
       "      <td>0105000020D70800000100000001020000000F00000000...</td>\n",
       "    </tr>\n",
       "    <tr>\n",
       "      <th>10</th>\n",
       "      <td>308022</td>\n",
       "      <td>SHORE ROAD</td>\n",
       "      <td>30</td>\n",
       "      <td>NO</td>\n",
       "      <td>30</td>\n",
       "      <td>NO</td>\n",
       "      <td>19d</td>\n",
       "      <td>0105000020D70800000100000001020000000F00000000...</td>\n",
       "    </tr>\n",
       "    <tr>\n",
       "      <th>11</th>\n",
       "      <td>308144</td>\n",
       "      <td>SHORE ROAD</td>\n",
       "      <td>30</td>\n",
       "      <td>NO</td>\n",
       "      <td>30</td>\n",
       "      <td>NO</td>\n",
       "      <td>19d</td>\n",
       "      <td>0105000020D70800000100000001020000000200000000...</td>\n",
       "    </tr>\n",
       "    <tr>\n",
       "      <th>12</th>\n",
       "      <td>308145</td>\n",
       "      <td>SHORE ROAD</td>\n",
       "      <td>30</td>\n",
       "      <td>NO</td>\n",
       "      <td>30</td>\n",
       "      <td>NO</td>\n",
       "      <td>19d</td>\n",
       "      <td>0105000020D70800000100000001020000000200000000...</td>\n",
       "    </tr>\n",
       "  </tbody>\n",
       "</table>\n",
       "</div>"
      ],
      "text/plain": [
       "    segmentid      street  postvz_sl postvz_sg  prevz_sl prevz_sg version  \\\n",
       "0       95438  SHORE ROAD         30        NO        30       NO     19d   \n",
       "1      179942  SHORE ROAD         30        NO        30       NO     19d   \n",
       "2      179943  SHORE ROAD         30        NO        30       NO     19d   \n",
       "3       95445  SHORE ROAD         30        NO        30       NO     19d   \n",
       "4      179944  SHORE ROAD         30        NO        30       NO     19d   \n",
       "5      179973  SHORE ROAD         30        NO        30       NO     19d   \n",
       "6      237256  SHORE ROAD         30        NO        30       NO     19d   \n",
       "7      307982  SHORE ROAD         30        NO        30       NO     19d   \n",
       "8      307983  SHORE ROAD         30        NO        30       NO     19d   \n",
       "9      308021  SHORE ROAD         30        NO        30       NO     19d   \n",
       "10     308022  SHORE ROAD         30        NO        30       NO     19d   \n",
       "11     308144  SHORE ROAD         30        NO        30       NO     19d   \n",
       "12     308145  SHORE ROAD         30        NO        30       NO     19d   \n",
       "\n",
       "                                                 geom  \n",
       "0   0105000020D70800000100000001020000000200000000...  \n",
       "1   0105000020D70800000100000001020000000A00000080...  \n",
       "2   0105000020D70800000100000001020000000200000080...  \n",
       "3   0105000020D70800000100000001020000000200000000...  \n",
       "4   0105000020D70800000100000001020000000200000080...  \n",
       "5   0105000020D70800000100000001020000000200000000...  \n",
       "6   0105000020D70800000100000001020000000200000000...  \n",
       "7   0105000020D70800000100000001020000000200000000...  \n",
       "8   0105000020D70800000100000001020000000200000080...  \n",
       "9   0105000020D70800000100000001020000000F00000000...  \n",
       "10  0105000020D70800000100000001020000000F00000000...  \n",
       "11  0105000020D70800000100000001020000000200000000...  \n",
       "12  0105000020D70800000100000001020000000200000000...  "
      ]
     },
     "execution_count": 9,
     "metadata": {},
     "output_type": "execute_result"
    }
   ],
   "source": [
    "x"
   ]
  },
  {
   "cell_type": "code",
   "execution_count": null,
   "metadata": {},
   "outputs": [],
   "source": [
    "y = db.query(\"\"\"UPDATE public.speed_limit_19d\n",
    "                SET postvz_sl = 30\n",
    "                WHERE street = 'SHORE ROAD'\n",
    "                AND segmentid in (95438,95445,179943,179942,179973,179944,307982,237256,308021,307983,308144,308022,308145)\n",
    "                \"\"\")"
   ]
  }
 ],
 "metadata": {
  "kernelspec": {
   "display_name": "Python 2",
   "language": "python",
   "name": "python2"
  },
  "language_info": {
   "codemirror_mode": {
    "name": "ipython",
    "version": 2
   },
   "file_extension": ".py",
   "mimetype": "text/x-python",
   "name": "python",
   "nbconvert_exporter": "python",
   "pygments_lexer": "ipython2",
   "version": "2.7.16"
  }
 },
 "nbformat": 4,
 "nbformat_minor": 2
}
