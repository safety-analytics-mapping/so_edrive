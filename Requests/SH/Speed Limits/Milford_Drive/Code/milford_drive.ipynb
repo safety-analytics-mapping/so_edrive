{
 "cells": [
  {
   "cell_type": "markdown",
   "metadata": {},
   "source": [
    "# Default Import"
   ]
  },
  {
   "cell_type": "code",
   "execution_count": 1,
   "metadata": {
    "scrolled": true
   },
   "outputs": [
    {
     "data": {
      "text/markdown": [
       "<strong>Notebook run on: 2021-03-05 13:05 | by soge | Using ris library version: 2.1 | File Location: E:\\RIS\\Staff Folders\\Samuel\\Requests\\SH\\Speed Limits\\Milford_Drive"
      ],
      "text/plain": [
       "<IPython.core.display.Markdown object>"
      ]
     },
     "execution_count": 1,
     "metadata": {},
     "output_type": "execute_result"
    }
   ],
   "source": [
    "from ris import pysqldb\n",
    "from IPython.display import Markdown, clear_output\n",
    "from sqlalchemy import create_engine\n",
    "import ris\n",
    "import getpass\n",
    "import datetime \n",
    "import pandas as pd\n",
    "import numpy as np\n",
    "import os\n",
    "import requests\n",
    "\n",
    "timestamp = datetime.datetime.now().strftime('%Y-%m-%d %H:%M')\n",
    "ts = datetime.datetime.now().strftime('%Y-%m-%d')\n",
    "\n",
    "Markdown('<strong>Notebook run on: {} | by {} | Using ris library version: {} | File Location: {}'.format(\n",
    "    timestamp, getpass.getuser(), ris.__version__, os.getcwd()\n",
    "))\n"
   ]
  },
  {
   "cell_type": "markdown",
   "metadata": {},
   "source": [
    "# Db connections"
   ]
  },
  {
   "cell_type": "code",
   "execution_count": 2,
   "metadata": {},
   "outputs": [
    {
     "name": "stdout",
     "output_type": "stream",
     "text": [
      "\n",
      "Additional database connection details required:\n",
      "User name (crashdata):soge\n",
      "Password (crashdata)········\n"
     ]
    }
   ],
   "source": [
    "try: \n",
    "    db.params['user']\n",
    "except:\n",
    "    db = pysqldb.DbConnect(type='PG', server='dotdevrhpgsql01', database='CRASHDATA')"
   ]
  },
  {
   "cell_type": "code",
   "execution_count": 3,
   "metadata": {},
   "outputs": [],
   "source": [
    "#sip = pysqldb.DbConnect(server='dotpgsql01', database='sip', type='PG', user = db.params['user'], password = db.params['password'])\n",
    "#forms = pysqldb.DbConnect(server='dot55sql01', database='forms', type='MS', user = 'arcgis', password = 'arcgis')"
   ]
  },
  {
   "cell_type": "markdown",
   "metadata": {},
   "source": [
    "#BACK UP SPEED LIMITS FILE\n",
    "#CREATE A TABLE WITH SPEED LIMITS DATA AND TODAY'S DATE\n",
    "#i.e Archive Copy"
   ]
  },
  {
   "cell_type": "code",
   "execution_count": 4,
   "metadata": {},
   "outputs": [
    {
     "name": "stdout",
     "output_type": "stream",
     "text": [
      "- Query run 2021-03-05 13:09:49.292000\n",
      " Query time: Query run in 197000 microseconds \n",
      " * Returned 0 rows *\n"
     ]
    }
   ],
   "source": [
    "db.query(\"\"\"\n",
    "CREATE TABLE archive_speed_limit_19d_30521 AS\n",
    "\n",
    "SELECT * FROM speed_limit_19d;\n",
    "\n",
    "GRANT ALL ON archive_speed_limit_19d_30521 TO PUBLIC;\n",
    "\"\"\")"
   ]
  },
  {
   "cell_type": "markdown",
   "metadata": {},
   "source": [
    "Streets: \n",
    "\n",
    "Milford Avenue from Ocean Terrace to Clove Road"
   ]
  },
  {
   "cell_type": "code",
   "execution_count": 10,
   "metadata": {},
   "outputs": [],
   "source": [
    "# 1. Milford Avenue from Ocean Terrace to Clove Road - signed for 30\n",
    "\n",
    "segments = ['12806', '12806', '12806', '13100', '160450', '13107', '114842', '114839', '12701', '114839', '114839', '114841', '160451', '114703', '114840', '114704', '12800', '114838', '13095', '12944', '13112', '13116']"
   ]
  },
  {
   "cell_type": "markdown",
   "metadata": {},
   "source": [
    "### Inserting into Speed limits table if necessary"
   ]
  },
  {
   "cell_type": "markdown",
   "metadata": {},
   "source": [
    "insert = db.dfquery(\"\"\"\n",
    "INSERT INTO speed_limit_19d(segmentid, street, postvz_sl, postvz_sg, prevz_sl, prevz_sg, version, geom)\n",
    "SELECT segmentid::int , street, 0 postvz_sl, 'NO'::varchar postvz_sg, 0 prevz_sl, 'NO'::varchar _prevz_sg, '19d' \"version\", geom\n",
    "FROM LION\n",
    "WHERE segmentid ::int IN  ('0312733', '0312802', '0312769')\n",
    "\"\"\")"
   ]
  },
  {
   "cell_type": "code",
   "execution_count": 11,
   "metadata": {},
   "outputs": [],
   "source": [
    "x = db.dfquery(\"\"\"\n",
    "SELECT segmentid, street, postvz_sl, postvz_sg, prevz_sl, prevz_sg, \n",
    "       version, geom\n",
    "FROM public.speed_limit_19d\n",
    "WHERE \n",
    "--1. Milford Avenue from Ocean Terrace to Clove Road- signed for 30\n",
    "segmentid ::int IN  ('12806', '12806', '12806', '13100', '160450', '13107', \n",
    "                     '114842', '114839', '12701', '114839', '114839', '114841', \n",
    "                     '160451', '114703', '114840', '114704', '12800', '114838', \n",
    "                     '13095', '12944', '13112', '13116');\n",
    "\"\"\")"
   ]
  },
  {
   "cell_type": "code",
   "execution_count": 12,
   "metadata": {
    "scrolled": false
   },
   "outputs": [
    {
     "data": {
      "text/html": [
       "<div>\n",
       "<style scoped>\n",
       "    .dataframe tbody tr th:only-of-type {\n",
       "        vertical-align: middle;\n",
       "    }\n",
       "\n",
       "    .dataframe tbody tr th {\n",
       "        vertical-align: top;\n",
       "    }\n",
       "\n",
       "    .dataframe thead th {\n",
       "        text-align: right;\n",
       "    }\n",
       "</style>\n",
       "<table border=\"1\" class=\"dataframe\">\n",
       "  <thead>\n",
       "    <tr style=\"text-align: right;\">\n",
       "      <th></th>\n",
       "      <th>segmentid</th>\n",
       "      <th>street</th>\n",
       "      <th>postvz_sl</th>\n",
       "      <th>postvz_sg</th>\n",
       "      <th>prevz_sl</th>\n",
       "      <th>prevz_sg</th>\n",
       "      <th>version</th>\n",
       "      <th>geom</th>\n",
       "    </tr>\n",
       "  </thead>\n",
       "  <tbody>\n",
       "    <tr>\n",
       "      <th>0</th>\n",
       "      <td>12806</td>\n",
       "      <td>MILFORD DRIVE</td>\n",
       "      <td>25</td>\n",
       "      <td>NO</td>\n",
       "      <td>30</td>\n",
       "      <td>NO</td>\n",
       "      <td>19d</td>\n",
       "      <td>0105000020D70800000100000001020000000200000000...</td>\n",
       "    </tr>\n",
       "    <tr>\n",
       "      <th>1</th>\n",
       "      <td>12944</td>\n",
       "      <td>MILFORD DRIVE</td>\n",
       "      <td>25</td>\n",
       "      <td>NO</td>\n",
       "      <td>30</td>\n",
       "      <td>NO</td>\n",
       "      <td>19d</td>\n",
       "      <td>0105000020D70800000100000001020000000200000080...</td>\n",
       "    </tr>\n",
       "    <tr>\n",
       "      <th>2</th>\n",
       "      <td>13095</td>\n",
       "      <td>MILFORD DRIVE</td>\n",
       "      <td>25</td>\n",
       "      <td>NO</td>\n",
       "      <td>30</td>\n",
       "      <td>NO</td>\n",
       "      <td>19d</td>\n",
       "      <td>0105000020D70800000100000001020000000200000080...</td>\n",
       "    </tr>\n",
       "    <tr>\n",
       "      <th>3</th>\n",
       "      <td>13100</td>\n",
       "      <td>MILFORD DRIVE</td>\n",
       "      <td>25</td>\n",
       "      <td>NO</td>\n",
       "      <td>30</td>\n",
       "      <td>NO</td>\n",
       "      <td>19d</td>\n",
       "      <td>0105000020D70800000100000001020000000200000080...</td>\n",
       "    </tr>\n",
       "    <tr>\n",
       "      <th>4</th>\n",
       "      <td>13107</td>\n",
       "      <td>MILFORD DRIVE</td>\n",
       "      <td>25</td>\n",
       "      <td>NO</td>\n",
       "      <td>30</td>\n",
       "      <td>NO</td>\n",
       "      <td>19d</td>\n",
       "      <td>0105000020D70800000100000001020000000200000000...</td>\n",
       "    </tr>\n",
       "    <tr>\n",
       "      <th>5</th>\n",
       "      <td>13112</td>\n",
       "      <td>MILFORD DRIVE</td>\n",
       "      <td>25</td>\n",
       "      <td>NO</td>\n",
       "      <td>30</td>\n",
       "      <td>NO</td>\n",
       "      <td>19d</td>\n",
       "      <td>0105000020D70800000100000001020000000200000080...</td>\n",
       "    </tr>\n",
       "    <tr>\n",
       "      <th>6</th>\n",
       "      <td>13116</td>\n",
       "      <td>MILFORD DRIVE</td>\n",
       "      <td>25</td>\n",
       "      <td>NO</td>\n",
       "      <td>30</td>\n",
       "      <td>NO</td>\n",
       "      <td>19d</td>\n",
       "      <td>0105000020D70800000100000001020000000200000000...</td>\n",
       "    </tr>\n",
       "  </tbody>\n",
       "</table>\n",
       "</div>"
      ],
      "text/plain": [
       "   segmentid         street  postvz_sl postvz_sg  prevz_sl prevz_sg version  \\\n",
       "0      12806  MILFORD DRIVE         25        NO        30       NO     19d   \n",
       "1      12944  MILFORD DRIVE         25        NO        30       NO     19d   \n",
       "2      13095  MILFORD DRIVE         25        NO        30       NO     19d   \n",
       "3      13100  MILFORD DRIVE         25        NO        30       NO     19d   \n",
       "4      13107  MILFORD DRIVE         25        NO        30       NO     19d   \n",
       "5      13112  MILFORD DRIVE         25        NO        30       NO     19d   \n",
       "6      13116  MILFORD DRIVE         25        NO        30       NO     19d   \n",
       "\n",
       "                                                geom  \n",
       "0  0105000020D70800000100000001020000000200000000...  \n",
       "1  0105000020D70800000100000001020000000200000080...  \n",
       "2  0105000020D70800000100000001020000000200000080...  \n",
       "3  0105000020D70800000100000001020000000200000080...  \n",
       "4  0105000020D70800000100000001020000000200000000...  \n",
       "5  0105000020D70800000100000001020000000200000080...  \n",
       "6  0105000020D70800000100000001020000000200000000...  "
      ]
     },
     "execution_count": 12,
     "metadata": {},
     "output_type": "execute_result"
    }
   ],
   "source": [
    "x"
   ]
  },
  {
   "cell_type": "code",
   "execution_count": 16,
   "metadata": {},
   "outputs": [],
   "source": [
    "#segs = tuple(map(int,list(x.segmentid)))\n",
    "segs = tuple(map(int,segments))"
   ]
  },
  {
   "cell_type": "code",
   "execution_count": 18,
   "metadata": {},
   "outputs": [
    {
     "name": "stdout",
     "output_type": "stream",
     "text": [
      "- Query run 2021-03-05 13:16:50.353000\n",
      " Query time: Query run in 52000 microseconds \n",
      " * Returned 0 rows *\n"
     ]
    }
   ],
   "source": [
    "y = db.query(\"\"\"UPDATE public.speed_limit_19d\n",
    "                SET postvz_sl = 30\n",
    "                WHERE segmentid in {}\n",
    "                \"\"\".format(segs))"
   ]
  }
 ],
 "metadata": {
  "kernelspec": {
   "display_name": "Python 2",
   "language": "python",
   "name": "python2"
  },
  "language_info": {
   "codemirror_mode": {
    "name": "ipython",
    "version": 2
   },
   "file_extension": ".py",
   "mimetype": "text/x-python",
   "name": "python",
   "nbconvert_exporter": "python",
   "pygments_lexer": "ipython2",
   "version": "2.7.16"
  }
 },
 "nbformat": 4,
 "nbformat_minor": 2
}
