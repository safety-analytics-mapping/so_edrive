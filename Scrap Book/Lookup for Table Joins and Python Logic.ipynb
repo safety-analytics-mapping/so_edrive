{
 "cells": [
  {
   "cell_type": "markdown",
   "metadata": {},
   "source": [
    "### Example for SELECT INTO TEMP TABLE STATEMENT SQL"
   ]
  },
  {
   "cell_type": "markdown",
   "metadata": {},
   "source": [
    "IF OBJECT_ID('tempdb.dbo.#data', 'U') IS NOT NULL\n",
    "DROP TABLE #data; \n",
    "\n",
    "SELECT * INTO #data \n",
    "FROM (\n",
    "SELECT STATEMENT\n",
    ") as x;\n",
    "\"\"\")"
   ]
  },
  {
   "cell_type": "markdown",
   "metadata": {},
   "source": [
    "### Example for SELECT INTO  TABLE STATEMENT SQL\n"
   ]
  },
  {
   "cell_type": "markdown",
   "metadata": {},
   "source": [
    "IF OBJECT_ID('dbo.#data', 'U') IS NOT NULL\n",
    "DROP TABLE data; \n",
    "\n",
    "SELECT * INTO data \n",
    "FROM (\n",
    "SELECT STATEMENT\n",
    ") as x;\n",
    "\"\"\")"
   ]
  },
  {
   "cell_type": "markdown",
   "metadata": {},
   "source": [
    "### FORMS DATA JOINS"
   ]
  },
  {
   "cell_type": "code",
   "execution_count": null,
   "metadata": {},
   "outputs": [],
   "source": [
    "SELECT *\n",
    "FROM FORMS.DBO.WC_ACCIDENT_F core\n",
    "JOIN FORMS.DBO.WC_ACCIDENT_VICTIM_F vic\n",
    "ON core.INTEGRATION_ID = vic.ACCIDENT_ID\n",
    "LEFT JOIN FORMS.DBO.WC_ACCIDENT_VEHICLE_F veh\n",
    "ON vic.ACCIDENT_ID = veh.ACCIDENT_ID AND vic.VEHICLE_NUM = veh.VEHICLE_NUM\n",
    "AND core.ACCIDENT_DT >= '01/01/2021'"
   ]
  },
  {
   "cell_type": "markdown",
   "metadata": {},
   "source": [
    "### FATALITY DATA JOINS"
   ]
  },
  {
   "cell_type": "code",
   "execution_count": null,
   "metadata": {},
   "outputs": [],
   "source": [
    "SELECT *\n",
    "FROM public.fatal_crash fc\n",
    "JOIN public.fatal_victim fv\n",
    "ON fc.fid = fv.fid\n",
    "AND left(ac_date,4)::int between 2014 and 2018"
   ]
  },
  {
   "cell_type": "markdown",
   "metadata": {},
   "source": [
    "### WRITING MULTIPLE DATAFRAMES TO XL"
   ]
  },
  {
   "cell_type": "code",
   "execution_count": null,
   "metadata": {},
   "outputs": [],
   "source": [
    "writer = pd.ExcelWriter('SHEET_NAME_{}.xlsx'.format(date), engine='xlsxwriter')    \n",
    "df1.to_excel(writer, sheet_name='sheet_name1', index= False)\n",
    "df2.to_excel(writer, sheet_name='sheet_name2', index= False)\n",
    "df3.to_excel(writer, sheet_name='sheet_name3', index= False)\n",
    "dfn.to_excel(writer, sheet_name='sheet_namen')\n",
    "writer.save() "
   ]
  }
 ],
 "metadata": {
  "kernelspec": {
   "display_name": "Python 2",
   "language": "python",
   "name": "python2"
  },
  "language_info": {
   "codemirror_mode": {
    "name": "ipython",
    "version": 2
   },
   "file_extension": ".py",
   "mimetype": "text/x-python",
   "name": "python",
   "nbconvert_exporter": "python",
   "pygments_lexer": "ipython2",
   "version": "2.7.16"
  }
 },
 "nbformat": 4,
 "nbformat_minor": 2
}
