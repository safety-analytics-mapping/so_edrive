{
 "cells": [
  {
   "cell_type": "markdown",
   "metadata": {},
   "source": [
    "# Default Import"
   ]
  },
  {
   "cell_type": "code",
   "execution_count": 1,
   "metadata": {
    "scrolled": true
   },
   "outputs": [
    {
     "data": {
      "text/markdown": [
       "<strong>Notebook run on: 2021-02-11 18:57 | by soge | Using ris library version: 2.1 | File Location: E:\\RIS\\Staff Folders\\Samuel\\Requests\\SH\\Retimed_Corridors"
      ],
      "text/plain": [
       "<IPython.core.display.Markdown object>"
      ]
     },
     "execution_count": 1,
     "metadata": {},
     "output_type": "execute_result"
    }
   ],
   "source": [
    "from ris import pysqldb\n",
    "from IPython.display import Markdown, clear_output\n",
    "from sqlalchemy import create_engine\n",
    "import ris\n",
    "import getpass\n",
    "import datetime \n",
    "import pandas as pd\n",
    "import numpy as np\n",
    "import os\n",
    "import requests\n",
    "\n",
    "timestamp = datetime.datetime.now().strftime('%Y-%m-%d %H:%M')\n",
    "ts = datetime.datetime.now().strftime('%Y-%m-%d')\n",
    "\n",
    "Markdown('<strong>Notebook run on: {} | by {} | Using ris library version: {} | File Location: {}'.format(\n",
    "    timestamp, getpass.getuser(), ris.__version__, os.getcwd()\n",
    "))\n"
   ]
  },
  {
   "cell_type": "markdown",
   "metadata": {},
   "source": [
    "# Db connections"
   ]
  },
  {
   "cell_type": "code",
   "execution_count": 2,
   "metadata": {},
   "outputs": [
    {
     "name": "stdout",
     "output_type": "stream",
     "text": [
      "\n",
      "Additional database connection details required:\n",
      "User name (ris):soge\n",
      "Password (ris)········\n"
     ]
    }
   ],
   "source": [
    "try: \n",
    "    db.params['user']\n",
    "except:\n",
    "    db = pysqldb.DbConnect(type='PG', server='dotdevrhpgsql01', database='ris')"
   ]
  },
  {
   "cell_type": "code",
   "execution_count": 3,
   "metadata": {},
   "outputs": [],
   "source": [
    "#sip = pysqldb.DbConnect(server='dotpgsql01', database='sip', type='PG', user = db.params['user'], password = db.params['password'])\n",
    "#forms = pysqldb.DbConnect(server='dot55sql01', database='forms', type='MS', user = 'arcgis', password = 'arcgis')"
   ]
  },
  {
   "cell_type": "markdown",
   "metadata": {},
   "source": [
    "### Segments in retimed corridors 19b missing in lion"
   ]
  },
  {
   "cell_type": "code",
   "execution_count": 4,
   "metadata": {},
   "outputs": [],
   "source": [
    "missing_lion = db.dfquery(\"\"\"\n",
    "\n",
    "SELECT DISTINCT rc.segmentid rc_seg, l.segmentid l_seg, rc.rb_layer rcrc, l.rb_layer lrb\n",
    "FROM working.retimed_corridors rc\n",
    "LEFT JOIN lion l\n",
    "ON rc.segmentid = l.segmentid\n",
    "WHERE l.segmentid is null\n",
    "\n",
    "\n",
    "\"\"\")"
   ]
  },
  {
   "cell_type": "code",
   "execution_count": 5,
   "metadata": {},
   "outputs": [
    {
     "name": "stdout",
     "output_type": "stream",
     "text": [
      "['0152324', '0157955']\n"
     ]
    }
   ],
   "source": [
    "print list(missing_lion.rc_seg)"
   ]
  },
  {
   "cell_type": "markdown",
   "metadata": {},
   "source": [
    "### Retimed corridors 19b joined to lion "
   ]
  },
  {
   "cell_type": "code",
   "execution_count": 6,
   "metadata": {},
   "outputs": [],
   "source": [
    "joined = db.dfquery(\"\"\"\n",
    "\n",
    "SELECT DISTINCT rc.segmentid rc_seg, l.segmentid l_seg\n",
    "               ,rc.rb_layer rcrc, l.rb_layer lrb\n",
    "               ,left(rc.shape_leng::varchar,3) rcsl, left(l.shape_length::varchar,3) lsl\n",
    "FROM working.retimed_corridors rc\n",
    "LEFT JOIN lion l\n",
    "ON rc.segmentid = l.segmentid\n",
    "WHERE l.segmentid is not null\n",
    "\n",
    "\"\"\")"
   ]
  },
  {
   "cell_type": "code",
   "execution_count": 7,
   "metadata": {},
   "outputs": [],
   "source": [
    "### Differences in shapelength"
   ]
  },
  {
   "cell_type": "code",
   "execution_count": 8,
   "metadata": {},
   "outputs": [
    {
     "data": {
      "text/html": [
       "<div>\n",
       "<style scoped>\n",
       "    .dataframe tbody tr th:only-of-type {\n",
       "        vertical-align: middle;\n",
       "    }\n",
       "\n",
       "    .dataframe tbody tr th {\n",
       "        vertical-align: top;\n",
       "    }\n",
       "\n",
       "    .dataframe thead th {\n",
       "        text-align: right;\n",
       "    }\n",
       "</style>\n",
       "<table border=\"1\" class=\"dataframe\">\n",
       "  <thead>\n",
       "    <tr style=\"text-align: right;\">\n",
       "      <th></th>\n",
       "      <th>rc_seg</th>\n",
       "      <th>l_seg</th>\n",
       "      <th>rcsl</th>\n",
       "      <th>lsl</th>\n",
       "    </tr>\n",
       "  </thead>\n",
       "  <tbody>\n",
       "    <tr>\n",
       "      <th>91</th>\n",
       "      <td>0016898</td>\n",
       "      <td>0016898</td>\n",
       "      <td>98.</td>\n",
       "      <td>107</td>\n",
       "    </tr>\n",
       "    <tr>\n",
       "      <th>92</th>\n",
       "      <td>0016899</td>\n",
       "      <td>0016899</td>\n",
       "      <td>275</td>\n",
       "      <td>268</td>\n",
       "    </tr>\n",
       "    <tr>\n",
       "      <th>987</th>\n",
       "      <td>0064252</td>\n",
       "      <td>0064252</td>\n",
       "      <td>157</td>\n",
       "      <td>145</td>\n",
       "    </tr>\n",
       "    <tr>\n",
       "      <th>988</th>\n",
       "      <td>0064254</td>\n",
       "      <td>0064254</td>\n",
       "      <td>101</td>\n",
       "      <td>113</td>\n",
       "    </tr>\n",
       "    <tr>\n",
       "      <th>1509</th>\n",
       "      <td>0152321</td>\n",
       "      <td>0152321</td>\n",
       "      <td>51.</td>\n",
       "      <td>57.</td>\n",
       "    </tr>\n",
       "    <tr>\n",
       "      <th>1510</th>\n",
       "      <td>0152322</td>\n",
       "      <td>0152322</td>\n",
       "      <td>57.</td>\n",
       "      <td>69.</td>\n",
       "    </tr>\n",
       "    <tr>\n",
       "      <th>1512</th>\n",
       "      <td>0152325</td>\n",
       "      <td>0152325</td>\n",
       "      <td>27.</td>\n",
       "      <td>16.</td>\n",
       "    </tr>\n",
       "    <tr>\n",
       "      <th>1762</th>\n",
       "      <td>0158267</td>\n",
       "      <td>0158267</td>\n",
       "      <td>31.</td>\n",
       "      <td>18.</td>\n",
       "    </tr>\n",
       "  </tbody>\n",
       "</table>\n",
       "</div>"
      ],
      "text/plain": [
       "       rc_seg    l_seg rcsl  lsl\n",
       "91    0016898  0016898  98.  107\n",
       "92    0016899  0016899  275  268\n",
       "987   0064252  0064252  157  145\n",
       "988   0064254  0064254  101  113\n",
       "1509  0152321  0152321  51.  57.\n",
       "1510  0152322  0152322  57.  69.\n",
       "1512  0152325  0152325  27.  16.\n",
       "1762  0158267  0158267  31.  18."
      ]
     },
     "execution_count": 8,
     "metadata": {},
     "output_type": "execute_result"
    }
   ],
   "source": [
    "joined.loc[joined.rcsl!=joined.lsl][['rc_seg','l_seg','rcsl','lsl']]#.l_seg)"
   ]
  },
  {
   "cell_type": "markdown",
   "metadata": {},
   "source": [
    "### Creating Retimed Corridors 19d"
   ]
  },
  {
   "cell_type": "code",
   "execution_count": 9,
   "metadata": {},
   "outputs": [
    {
     "name": "stdout",
     "output_type": "stream",
     "text": [
      "- Query run 2021-02-11 18:57:27.610000\n",
      " Query time: Query run in 224000 microseconds \n",
      " * Returned 0 rows *\n"
     ]
    }
   ],
   "source": [
    "db.query(\"\"\"\n",
    "\n",
    "\n",
    "DROP TABLE IF EXISTS working.retimed_corridors_19d;\n",
    "CREATE TABLE working.retimed_corridors_19d AS\n",
    "\n",
    "WITH data AS(\n",
    "\n",
    "SELECT DISTINCT l.mft\n",
    "FROM working.retimed_corridors rc\n",
    "LEFT JOIN lion l\n",
    "ON rc.segmentid = l.segmentid\n",
    "WHERE l.mft is not null\n",
    "\n",
    "UNION \n",
    "\n",
    "SELECT mft FROM lion \n",
    "WHERE segmentid::int in (152322,320296,320286,152321\n",
    "                         ,0000059,0000139)\n",
    "\n",
    ")\n",
    "\n",
    "SELECT  * \n",
    "FROM lion \n",
    "WHERE mft in (SELECT * FROM data)\n",
    "AND rb_layer in ('G','B');\n",
    "\n",
    "GRANT ALL ON working.retimed_corridors_19d TO PUBLIC;\n",
    "\n",
    "\"\"\")"
   ]
  },
  {
   "cell_type": "markdown",
   "metadata": {},
   "source": [
    "### All Segments that are out of Retimed Corridors Boundary"
   ]
  },
  {
   "cell_type": "code",
   "execution_count": 45,
   "metadata": {},
   "outputs": [],
   "source": [
    "x=['30749', '61772', '91076', '97022', '97021', '114583', '62876', '62879', '187862', '185058', '30746', '43689', '43688', '187878', '274420', '120160', '92025', '92028', '187878', '84356', '84357', '44528', '44528', '44528', '31346', '31349', '110058', '43245', '87979', '87981', '173406', '173405', '316936', '31367', '30904', '31355', '29000', '118689', '253576', '262754', '274630', '109298', '28999', '274629', '188017', '29002', '29125', '253074', '28990', '28876', '118106', '28992', '28990', '118691', '252750', '109298', '29117', '29115', '28992', '118094', '118691', '28992', '114118', '109164', '274629', '28992', '118693', '118693', '28992', '114119', '299354', '188025', '297839', '29121', '303173', '303172', '118690', '28999', '172198', '252749', '109297', '172199', '29115', '172197', '172200', '43238', '43237', '303172', '187812', '31226', '29124', '188547', '31223', '66005', '65999', '112429', '59350', '170913', '59489', '59350', '170913', '170913', '59350', '158600', '111985', '87836', '87833', '87824', '87823', '44965', '44961', '86542', '114714', '86542', '65873', '65870', '30915', '30916', '30916', '103624', '106008', '42245', '42244', '262411', '296019', '262410', '296018', '262397', '295830', '168327', '28987', '112316', '11826', '112317', '11826', '87813', '87811', '101770', '101770', '101770', '101770', '101770', '87657', '87659', '165248', '165242', '165244', '165243', '165246', '165245', '44670', '274419', '44673', '129787', '129788', '48170', '48304', '43246', '302646', '48305']"
   ]
  }
 ],
 "metadata": {
  "kernelspec": {
   "display_name": "Python 2",
   "language": "python",
   "name": "python2"
  },
  "language_info": {
   "codemirror_mode": {
    "name": "ipython",
    "version": 2
   },
   "file_extension": ".py",
   "mimetype": "text/x-python",
   "name": "python",
   "nbconvert_exporter": "python",
   "pygments_lexer": "ipython2",
   "version": "2.7.16"
  }
 },
 "nbformat": 4,
 "nbformat_minor": 2
}
