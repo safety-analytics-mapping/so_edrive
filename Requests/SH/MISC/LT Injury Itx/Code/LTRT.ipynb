{
 "cells": [
  {
   "cell_type": "code",
   "execution_count": 1,
   "metadata": {},
   "outputs": [],
   "source": [
    "## Left Turn/Right Turn Intersections(2013-2017)\n",
    "\n",
    "#### Database: DOTDEVRHPGSQL01\n",
    "#### Tables: archive.\"2019_11_13_nysdot_all\", archive.\"2019_11_13_nysdot_vehicle\"\n",
    "\n",
    "### 1.Read in xl\n",
    "### 2.NYSDOT Check if column AE =Yes then get all bike or ped injuries at that intersection\n",
    "###   where the (non-bike) vehicle was making a left turn 2013-2017\n",
    "###   Add the count of included crashes into the excel \n",
    "\n",
    "### 3.NYSDOT Check if column AF =Yes then get all bike or ped injuries at that intersection \n",
    "###   where the (non-bike) vehicle was making a right turn 2013-2017\n",
    "###   Add the count of included crashes into the excel \n",
    "### \n",
    "### 4.Get the mv104s for each intersection with 2 or more injuries.\n"
   ]
  },
  {
   "cell_type": "code",
   "execution_count": 2,
   "metadata": {},
   "outputs": [
    {
     "name": "stdout",
     "output_type": "stream",
     "text": [
      "Notebook run: 2019-12-10_17:15\n",
      "E:\\RIS\\Staff Folders\\Samuel\\Requests\\SH\\LT Injury Itx\n"
     ]
    }
   ],
   "source": [
    "from ris import pysqldb\n",
    "from IPython.display import clear_output\n",
    "from collections import defaultdict\n",
    "from collections import defaultdict, namedtuple\n",
    "import datetime \n",
    "import pandas as pd\n",
    "import numpy as np\n",
    "import os\n",
    "from sqlalchemy import create_engine\n",
    "\n",
    "clear_output()\n",
    "timestamp = datetime.datetime.now().strftime('%Y-%m-%d_%H:%M')\n",
    "ts = datetime.datetime.now().strftime('%Y-%m-%d')\n",
    "\n",
    "print 'Notebook run: {}'.format(timestamp)\n",
    "print os.getcwd()"
   ]
  },
  {
   "cell_type": "code",
   "execution_count": 3,
   "metadata": {},
   "outputs": [
    {
     "name": "stdout",
     "output_type": "stream",
     "text": [
      "\n",
      "Additional database connection details required:\n",
      "User name (crashdata):soge\n",
      "Password (crashdata)········\n",
      "Database connection (PG) to CRASHDATA on DOTDEVRHPGSQL01 - user: soge \n",
      "Connection established 2019-12-10 17:15:07\n"
     ]
    }
   ],
   "source": [
    "#Database connection\n",
    "cdb = pysqldb.DbConnect(server='DOTDEVRHPGSQL01', database='CRASHDATA', type='PG')"
   ]
  },
  {
   "cell_type": "code",
   "execution_count": 4,
   "metadata": {},
   "outputs": [],
   "source": [
    "# Reading in xl\n",
    "\n",
    "ltrt = pd.read_excel('E:\\RIS\\Staff Folders\\Samuel\\Requests\\SH\\LT Injury Itx\\Feasible Locations to Review Crashes.xlsx')"
   ]
  },
  {
   "cell_type": "code",
   "execution_count": 5,
   "metadata": {},
   "outputs": [
    {
     "name": "stdout",
     "output_type": "stream",
     "text": [
      "Database connection (PG) to CRASHDATA on DOTDEVRHPGSQL01 - user: soge \n",
      "Connection established 2019-12-10 17:15:11\n"
     ]
    }
   ],
   "source": [
    "cdb.connect()"
   ]
  },
  {
   "cell_type": "code",
   "execution_count": 6,
   "metadata": {},
   "outputs": [
    {
     "data": {
      "text/plain": [
       "[['street', 'varchar (500)'],\n",
       " ['number_tra', 'bigint'],\n",
       " ['status', 'varchar (500)'],\n",
       " ['boro', 'bigint'],\n",
       " ['nodeid', 'bigint'],\n",
       " ['masterid', 'bigint'],\n",
       " ['signal_type', 'varchar (500)'],\n",
       " ['lat', 'float'],\n",
       " ['long', 'float'],\n",
       " ['street1', 'varchar (500)'],\n",
       " ['street2', 'varchar (500)'],\n",
       " ['max_vph', 'float'],\n",
       " ['coverage', 'float'],\n",
       " ['coverage_half_mile', 'varchar (500)'],\n",
       " ['request_count', 'bigint'],\n",
       " ['request_binary', 'varchar (500)'],\n",
       " ['16-18_ped_injuries', 'bigint'],\n",
       " ['16-18_injuries', 'bigint'],\n",
       " ['16-18_crashes', 'bigint'],\n",
       " ['18_ped_injuries', 'bigint'],\n",
       " ['18_injuries', 'bigint'],\n",
       " ['18_crashes', 'bigint'],\n",
       " ['legs', 'bigint'],\n",
       " ['preliminary_geometric_lttc/rttc_feasibility', 'varchar (500)'],\n",
       " ['lttc/rttc_feasible_leg', 'varchar (500)'],\n",
       " ['reason_if_not_feasible', 'varchar (500)'],\n",
       " ['coordination_notes', 'varchar (500)'],\n",
       " ['multilane_(yes/no)', 'varchar (500)'],\n",
       " ['appr_that_is_multilane', 'varchar (500)'],\n",
       " ['appr_that_is_singlelane', 'varchar (500)'],\n",
       " ['provide_rt_ped_&_bike_injuries', 'varchar (500)'],\n",
       " ['provide_lt_ped_&_bike_injuries', 'varchar (500)'],\n",
       " ['min_aadt', 'float'],\n",
       " ['max_aadt', 'float'],\n",
       " ['ped_approach', 'float'],\n",
       " ['completed_sips', 'bigint'],\n",
       " ['planned_sips', 'bigint'],\n",
       " ['speed_humps', 'bigint'],\n",
       " ['school_slow_zones', 'bigint'],\n",
       " ['neighborhood_slow_zones', 'bigint'],\n",
       " ['link', 'varchar (500)']]"
      ]
     },
     "execution_count": 6,
     "metadata": {},
     "output_type": "execute_result"
    }
   ],
   "source": [
    "#Writing filtered table column names to pgsql\n",
    "\n",
    "cdb.dataframe_to_table_schema(ltrt, 'LTRT', schema='working', overwrite = True)"
   ]
  },
  {
   "cell_type": "code",
   "execution_count": 7,
   "metadata": {},
   "outputs": [
    {
     "name": "stdout",
     "output_type": "stream",
     "text": [
      "Reading data into Database\n",
      "\n"
     ]
    },
    {
     "name": "stderr",
     "output_type": "stream",
     "text": [
      "152it [00:03, 44.03it/s]\n"
     ]
    },
    {
     "name": "stdout",
     "output_type": "stream",
     "text": [
      "\n",
      "152 rows added to working.LTRT\n",
      "\n"
     ]
    }
   ],
   "source": [
    "#Writing actual data from filtered table to created table in pgsql\n",
    "\n",
    "\n",
    "input_schema = cdb.dataframe_to_table_schema(ltrt, 'LTRT', schema='working', overwrite = True)\n",
    "cdb.dataframe_to_table(ltrt, 'LTRT', input_schema, schema= \"working\")"
   ]
  },
  {
   "cell_type": "code",
   "execution_count": 8,
   "metadata": {},
   "outputs": [],
   "source": [
    "#Here, the number of valid injuries per intersection is selected. \n",
    "#Valid meaning if the request was for all left turn injuries \n",
    "#at a specific interection, only left turn injuries are counted at that node\n",
    "\n",
    "\n",
    "result = cdb.dfquery(\"\"\"    \n",
    "\n",
    "with data as(\n",
    "\n",
    "--Here, we select all crashes and the number of injuries between the years 2013 through 2017 where the vehicle \n",
    "--was either making a left turn or a right turn and hit a bicyclist or pedestrian. All nodeids that are not \n",
    "--selected in the working.\"LTRT\" table\n",
    "\n",
    "select distinct \n",
    "    nodeid, nys_a.crashid, nys_a.case_num, nys_a.case_yr, num_of_inj, accd_type_int, pre_accd_actn \n",
    "from archive.\"2019_11_13_nysdot_all\" nys_a\n",
    "join archive.\"2019_11_13_nysdot_vehicle\" nys_v \n",
    "    on nys_a.crashid = nys_v.crashid\n",
    "where accd_type_int in (1,2) -- ped/bike collision\n",
    "    and nodeid::bigint in (SELECT nodeid::bigint FROM working.\"LTRT\")\n",
    "    and nys_v.pre_accd_actn in ('02', '03') -- 02 making a right turn, 03 making a left turn\n",
    "    and nys_a.case_yr>= 2013 and nys_a.case_yr<=2017\n",
    "    and nys_v.veh_typ::int not in (5,6) -- vehicle type ped/bike\n",
    ") \n",
    "\n",
    "--This query sums up the total number of valid injuries for every node \n",
    "    select nodeid, rt, lt, (rt_inj + lt_inj + ltrt_inj) tot_inj  \n",
    "    from(\n",
    "        -- This subquery sums up all the valid injuries and groups them by nodeid.\n",
    "        select nodeid, rt, lt,  \n",
    "\n",
    "            -- sum of all the right turn injuries where the request at the intersection was for right turns\n",
    "            coalesce(sum(case when (rt = 'Yes' and lt = 'No' and pre_accd_actn::text = '02') then num_of_inj end),0) rt_inj,\n",
    "\n",
    "            -- sum of all the left turn injuries where the request at the intersection was for left turns\n",
    "            coalesce(sum(case when (rt = 'No' and lt = 'Yes' and pre_accd_actn::text = '03') then num_of_inj end),0) lt_inj,\n",
    "\n",
    "            -- sum of all the left turn and right turn injuries where the request at the intersection was for both left and right turns \n",
    "            coalesce(sum(case when (rt = 'Yes' and lt = 'Yes') then num_of_inj end),0) ltrt_inj \n",
    "            from(\n",
    "                -- This subquery selects all the crashes for the nodes in the working.\"LTRT\" table and \n",
    "                -- incicates the right turn/left turn request\n",
    "\n",
    "                select data.nodeid, num_of_inj,pre_accd_actn,\n",
    "                    \"Provide RT Ped & Bike Injuries\" RT,\n",
    "                    \"Provide LT Ped & Bike Injuries\" LT \n",
    "                from data \n",
    "                join working.\"LTRT\" ltrt\n",
    "                    on data.nodeid::int = ltrt.nodeid::int\n",
    "        ) valid_injuries \n",
    "        group by nodeid, rt, lt\n",
    "    )total_injuries\n",
    "    \"\"\")"
   ]
  },
  {
   "cell_type": "code",
   "execution_count": 9,
   "metadata": {},
   "outputs": [],
   "source": [
    "#Mapping nodeids from query to integer in order to join injury counts to original excel sheet\n",
    "\n",
    "result['nodeid'] = map(int, result['nodeid'])"
   ]
  },
  {
   "cell_type": "code",
   "execution_count": 10,
   "metadata": {},
   "outputs": [],
   "source": [
    "#Merging total injurry count by node to original excel sheet that was read in. \n",
    "#After merge, all null values are filled with zeros. \n",
    "\n",
    "ltrt = ltrt.merge(result[['nodeid','tot_inj']], how='left', on='nodeid')\n",
    "ltrt = ltrt.fillna(0)"
   ]
  },
  {
   "cell_type": "code",
   "execution_count": 11,
   "metadata": {},
   "outputs": [],
   "source": [
    "#Writing original table with total injury counts to csv. \n",
    "\n",
    "ltrt.to_csv('LT_RT_injuries.csv')"
   ]
  },
  {
   "cell_type": "code",
   "execution_count": 12,
   "metadata": {},
   "outputs": [],
   "source": [
    "#Here, we only select the intersections where there were two or more \n",
    "#valid injuries.\n",
    "\n",
    "\n",
    "cases = cdb.dfquery(\"\"\"    \n",
    "\n",
    "\n",
    "with data as(\n",
    "\n",
    "--Here, we select all crashes and the number of injuries between the years 2013 through 2017 where the vehicle \n",
    "--was either making a left turn or a right turn and hit a bicyclist or pedestrian. All nodeids that are not \n",
    "--selected in the working.\"LTRT\" table\n",
    "\n",
    "select distinct \n",
    "    nodeid, nys_a.crashid, nys_a.case_num, nys_a.case_yr, num_of_inj, accd_type_int, pre_accd_actn \n",
    "from archive.\"2019_11_13_nysdot_all\" nys_a\n",
    "join archive.\"2019_11_13_nysdot_vehicle\" nys_v \n",
    "    on nys_a.crashid = nys_v.crashid\n",
    "where accd_type_int in (1,2) -- ped/bike collision\n",
    "    and nodeid::bigint in (SELECT nodeid::bigint FROM working.\"LTRT\")\n",
    "    and nys_v.pre_accd_actn in ('02', '03') -- 02 making a right turn, 03 making a left turn\n",
    "    and nys_a.case_yr>= 2013 and nys_a.case_yr<=2017\n",
    "    and nys_v.veh_typ::int not in (5,6) -- vehicle type ped/bike\n",
    ") \n",
    "\n",
    "\n",
    "--Here, we select all crashes and the number of injuries between the years 2013 through 2017 where the vehicle \n",
    "--was either making a left turn or a right turn and hit a bicyclist or pedestrian. \n",
    "\n",
    "select data.nodeid, (ltrt2.street1, ltrt2.street2) as streets, data.case_num, data.case_yr  \n",
    "from( \n",
    "    --This query sums up the total number of valid injuries for every node \n",
    "    select nodeid, rt, lt, (rt_inj + lt_inj + ltrt_inj) tot_inj  \n",
    "    from(\n",
    "        -- This subquery sums up all the valid injuries and groups them by nodeid.\n",
    "        select nodeid, rt, lt,  \n",
    "\n",
    "            -- sum of all the right turn injuries where the request at the intersection was for right turns\n",
    "            coalesce(sum(case when (rt = 'Yes' and lt = 'No' and pre_accd_actn::text = '02') then num_of_inj end),0) rt_inj,\n",
    "\n",
    "            -- sum of all the left turn injuries where the request at the intersection was for left turns\n",
    "            coalesce(sum(case when (rt = 'No' and lt = 'Yes' and pre_accd_actn::text = '03') then num_of_inj end),0) lt_inj,\n",
    "\n",
    "            -- sum of all the left turn and right turn injuries where the request at the intersection was for both left and right turns \n",
    "            coalesce(sum(case when (rt = 'Yes' and lt = 'Yes') then num_of_inj end),0) ltrt_inj \n",
    "            from(\n",
    "                -- This subquery selects all the crashes for the nodes in the working.\"LTRT\" table and \n",
    "                -- incicates the right turn/left turn request\n",
    "\n",
    "                select data.nodeid, num_of_inj,pre_accd_actn,\n",
    "                    \"Provide RT Ped & Bike Injuries\" RT,\n",
    "                    \"Provide LT Ped & Bike Injuries\" LT \n",
    "                from data \n",
    "                join working.\"LTRT\" ltrt\n",
    "                    on data.nodeid::int = ltrt.nodeid::int\n",
    "        ) valid_injuries \n",
    "                group by nodeid, rt, lt\n",
    "    )total_injuries \n",
    ")ltrt_injuries\n",
    "left join data on -- joining back to data to retrieve the case_numbers and case years for each case.\n",
    "ltrt_injuries.nodeid = data.nodeid\n",
    "left join working.\"LTRT\" ltrt2 -- joining with working.\"LTRT\" table once more to grab the street names for each resultant node\n",
    "on ltrt_injuries.nodeid::int = ltrt2.nodeid::int\n",
    "where tot_inj >=2 -- selecting locations where total number of injuries is greater or equal to 2\n",
    "\n",
    "\n",
    "\"\"\")"
   ]
  },
  {
   "cell_type": "code",
   "execution_count": 13,
   "metadata": {},
   "outputs": [],
   "source": [
    "#Writing table containing:\n",
    "#*nodeid, streets, case_num, case_yr* for all intersections \n",
    "#with 2 or more valid injuries to csv.\n",
    "\n",
    "cases.to_csv('nodes_w_mv104.csv', index = False)"
   ]
  },
  {
   "cell_type": "code",
   "execution_count": 14,
   "metadata": {},
   "outputs": [],
   "source": [
    "for_mv104 = cases[['case_num','case_yr']]"
   ]
  },
  {
   "cell_type": "code",
   "execution_count": 15,
   "metadata": {},
   "outputs": [],
   "source": [
    "#writing case numbers and case years to csv for getting mv104s\n",
    "\n",
    "for_mv104.to_csv('cases_for_mv104.csv', index = False)"
   ]
  }
 ],
 "metadata": {
  "kernelspec": {
   "display_name": "Python 2",
   "language": "python",
   "name": "python2"
  },
  "language_info": {
   "codemirror_mode": {
    "name": "ipython",
    "version": 2
   },
   "file_extension": ".py",
   "mimetype": "text/x-python",
   "name": "python",
   "nbconvert_exporter": "python",
   "pygments_lexer": "ipython2",
   "version": "2.7.16"
  }
 },
 "nbformat": 4,
 "nbformat_minor": 2
}
