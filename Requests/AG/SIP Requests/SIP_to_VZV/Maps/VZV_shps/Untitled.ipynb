{
 "cells": [
  {
   "cell_type": "code",
   "execution_count": 12,
   "metadata": {},
   "outputs": [],
   "source": [
    "from ris import pg_import_export_shps as pgie, pysqldb as p\n",
    "from ris import db2"
   ]
  },
  {
   "cell_type": "code",
   "execution_count": 14,
   "metadata": {},
   "outputs": [
    {
     "name": "stdout",
     "output_type": "stream",
     "text": [
      "User name (CRASHDATA):bfeng\n",
      "Password (CRASHDATA)········\n"
     ]
    }
   ],
   "source": [
    "pg = db2.PostgresDb('dotdevrhpgsql01', 'CRASHDATA')"
   ]
  },
  {
   "cell_type": "code",
   "execution_count": 15,
   "metadata": {},
   "outputs": [
    {
     "name": "stdout",
     "output_type": "stream",
     "text": [
      "Update sucessfull\n",
      "Indexing...\n",
      "Update sucessfull\n",
      "Update sucessfull\n"
     ]
    }
   ],
   "source": [
    "pgie.import_shp_to_pg('SIP_Corridors_SO.shp', pg, schema = 'working')"
   ]
  },
  {
   "cell_type": "code",
   "execution_count": 16,
   "metadata": {},
   "outputs": [
    {
     "name": "stdout",
     "output_type": "stream",
     "text": [
      "Update sucessfull\n",
      "Indexing...\n",
      "Update sucessfull\n",
      "Update sucessfull\n"
     ]
    }
   ],
   "source": [
    "pgie.import_shp_to_pg('SIP_Intersections_SO.shp', pg, schema = 'working')"
   ]
  },
  {
   "cell_type": "code",
   "execution_count": null,
   "metadata": {},
   "outputs": [],
   "source": []
  }
 ],
 "metadata": {
  "kernelspec": {
   "display_name": "Python 2",
   "language": "python",
   "name": "python2"
  },
  "language_info": {
   "codemirror_mode": {
    "name": "ipython",
    "version": 2
   },
   "file_extension": ".py",
   "mimetype": "text/x-python",
   "name": "python",
   "nbconvert_exporter": "python",
   "pygments_lexer": "ipython2",
   "version": "2.7.10"
  }
 },
 "nbformat": 4,
 "nbformat_minor": 2
}
