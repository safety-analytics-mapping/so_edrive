{
 "cells": [
  {
   "cell_type": "markdown",
   "metadata": {},
   "source": [
    "# Default Import"
   ]
  },
  {
   "cell_type": "code",
   "execution_count": 1,
   "metadata": {
    "scrolled": true
   },
   "outputs": [
    {
     "data": {
      "text/markdown": [
       "<strong>Notebook run on: 2021-01-05 12:37 | by soge | Using ris library version: 2.0.1 | File Location: E:\\RIS\\Staff Folders\\Samuel\\Requests\\SH\\Crash_Requests\\ped_veh_crashes"
      ],
      "text/plain": [
       "<IPython.core.display.Markdown object>"
      ]
     },
     "execution_count": 1,
     "metadata": {},
     "output_type": "execute_result"
    }
   ],
   "source": [
    "from ris import pysqldb\n",
    "from IPython.display import Markdown, clear_output\n",
    "from sqlalchemy import create_engine\n",
    "import ris\n",
    "import getpass\n",
    "import datetime \n",
    "import pandas as pd\n",
    "import numpy as np\n",
    "import os\n",
    "import requests\n",
    "\n",
    "timestamp = datetime.datetime.now().strftime('%Y-%m-%d %H:%M')\n",
    "ts = datetime.datetime.now().strftime('%Y-%m-%d')\n",
    "\n",
    "Markdown('<strong>Notebook run on: {} | by {} | Using ris library version: {} | File Location: {}'.format(\n",
    "    timestamp, getpass.getuser(), ris.__version__, os.getcwd()\n",
    "))\n"
   ]
  },
  {
   "cell_type": "markdown",
   "metadata": {},
   "source": [
    "# Db connections"
   ]
  },
  {
   "cell_type": "code",
   "execution_count": 2,
   "metadata": {},
   "outputs": [
    {
     "name": "stdout",
     "output_type": "stream",
     "text": [
      "\n",
      "Additional database connection details required:\n",
      "User name (ris):soge\n",
      "Password (ris)········\n"
     ]
    }
   ],
   "source": [
    "try: \n",
    "    db.params['user']\n",
    "except:\n",
    "    db = pysqldb.DbConnect(type='PG', server='dotdevrhpgsql01', database='ris')"
   ]
  },
  {
   "cell_type": "code",
   "execution_count": 3,
   "metadata": {},
   "outputs": [],
   "source": [
    "#sip = pysqldb.DbConnect(server='dotpgsql01', database='sip', type='PG', user = db.params['user'], password = db.params['password'])\n",
    "#forms = pysqldb.DbConnect(server='dot55sql01', database='forms', type='MS', user = 'arcgis', password = 'arcgis')"
   ]
  },
  {
   "cell_type": "code",
   "execution_count": 4,
   "metadata": {},
   "outputs": [],
   "source": [
    "data = db.dfquery(\"\"\"\n",
    "\n",
    "WITH data as (\n",
    "SELECT distinct nys_a.crashid, nys_p.crashid ped, nys_v.crashid veh, nys_v.veh_cnt, nys_a.accd_type_int, case_yr\n",
    "FROM public.nysdot_all nys_a\n",
    "LEFT JOIN (SELECT distinct crashid\n",
    "       FROM public.nysdot_vehicle\n",
    "       WHERE case_yr> 2012\n",
    "       AND veh_typ = '6'\n",
    "       ) nys_p\n",
    "     on nys_a.crashid = nys_p.crashid\n",
    "\n",
    "LEFT JOIN (SELECT distinct crashid, count(veh_seq_num) veh_cnt\n",
    "           FROM public.nysdot_vehicle\n",
    "           WHERE case_yr>2012\n",
    "           AND veh_typ not in ('5','6')\n",
    "           GROUP BY crashid\n",
    "           HAVING count(veh_seq_num)>1\n",
    "           ORDER BY crashid\n",
    "       ) nys_v\n",
    "     on nys_a.crashid = nys_v.crashid\n",
    "WHERE nys_a.case_yr>=2012\n",
    "and nys_p.crashid is not null\n",
    "and nys_v.crashid is not null\n",
    "--and exclude = 0\n",
    ")\n",
    "\n",
    "SELECT case_yr\n",
    "      ,sum(CASE WHEN accd_type_int = 1 THEN 1 END)::decimal/count(DISTINCT crashid)*100 \"accd_type_int=1\"\n",
    "      ,sum(CASE WHEN accd_type_int = 2 THEN 1 END)::decimal/count(DISTINCT crashid)*100 \"accd_type_int=2\"\n",
    "      ,sum(CASE WHEN accd_type_int = 3 THEN 1 END)::decimal/count(DISTINCT crashid)*100 \"accd_type_int=3\"\n",
    "FROM data\n",
    "GROUP BY case_yr\n",
    "\n",
    "\"\"\")"
   ]
  },
  {
   "cell_type": "code",
   "execution_count": 5,
   "metadata": {},
   "outputs": [
    {
     "data": {
      "text/html": [
       "<div>\n",
       "<style scoped>\n",
       "    .dataframe tbody tr th:only-of-type {\n",
       "        vertical-align: middle;\n",
       "    }\n",
       "\n",
       "    .dataframe tbody tr th {\n",
       "        vertical-align: top;\n",
       "    }\n",
       "\n",
       "    .dataframe thead th {\n",
       "        text-align: right;\n",
       "    }\n",
       "</style>\n",
       "<table border=\"1\" class=\"dataframe\">\n",
       "  <thead>\n",
       "    <tr style=\"text-align: right;\">\n",
       "      <th></th>\n",
       "      <th>case_yr</th>\n",
       "      <th>accd_type_int=1</th>\n",
       "      <th>accd_type_int=2</th>\n",
       "      <th>accd_type_int=3</th>\n",
       "    </tr>\n",
       "  </thead>\n",
       "  <tbody>\n",
       "    <tr>\n",
       "      <th>0</th>\n",
       "      <td>2013</td>\n",
       "      <td>40.05102040816326530600</td>\n",
       "      <td>0.25510204081632653100</td>\n",
       "      <td>59.69387755102040816300</td>\n",
       "    </tr>\n",
       "    <tr>\n",
       "      <th>1</th>\n",
       "      <td>2014</td>\n",
       "      <td>38.29787234042553191500</td>\n",
       "      <td>0.53191489361702127700</td>\n",
       "      <td>61.17021276595744680900</td>\n",
       "    </tr>\n",
       "    <tr>\n",
       "      <th>2</th>\n",
       "      <td>2015</td>\n",
       "      <td>37.37373737373737373700</td>\n",
       "      <td>None</td>\n",
       "      <td>62.62626262626262626300</td>\n",
       "    </tr>\n",
       "    <tr>\n",
       "      <th>3</th>\n",
       "      <td>2016</td>\n",
       "      <td>40.28985507246376811600</td>\n",
       "      <td>0.28985507246376811600</td>\n",
       "      <td>59.42028985507246376800</td>\n",
       "    </tr>\n",
       "    <tr>\n",
       "      <th>4</th>\n",
       "      <td>2017</td>\n",
       "      <td>38.37837837837837837800</td>\n",
       "      <td>None</td>\n",
       "      <td>61.62162162162162162200</td>\n",
       "    </tr>\n",
       "    <tr>\n",
       "      <th>5</th>\n",
       "      <td>2018</td>\n",
       "      <td>38.43750000000000000000</td>\n",
       "      <td>None</td>\n",
       "      <td>61.56250000000000000000</td>\n",
       "    </tr>\n",
       "  </tbody>\n",
       "</table>\n",
       "</div>"
      ],
      "text/plain": [
       "   case_yr          accd_type_int=1         accd_type_int=2  \\\n",
       "0     2013  40.05102040816326530600  0.25510204081632653100   \n",
       "1     2014  38.29787234042553191500  0.53191489361702127700   \n",
       "2     2015  37.37373737373737373700                    None   \n",
       "3     2016  40.28985507246376811600  0.28985507246376811600   \n",
       "4     2017  38.37837837837837837800                    None   \n",
       "5     2018  38.43750000000000000000                    None   \n",
       "\n",
       "           accd_type_int=3  \n",
       "0  59.69387755102040816300  \n",
       "1  61.17021276595744680900  \n",
       "2  62.62626262626262626300  \n",
       "3  59.42028985507246376800  \n",
       "4  61.62162162162162162200  \n",
       "5  61.56250000000000000000  "
      ]
     },
     "execution_count": 5,
     "metadata": {},
     "output_type": "execute_result"
    }
   ],
   "source": [
    "data"
   ]
  },
  {
   "cell_type": "code",
   "execution_count": 6,
   "metadata": {},
   "outputs": [],
   "source": [
    "data.to_excel('ped_veh_crashes_2013_now.xlsx')"
   ]
  }
 ],
 "metadata": {
  "kernelspec": {
   "display_name": "Python 2",
   "language": "python",
   "name": "python2"
  },
  "language_info": {
   "codemirror_mode": {
    "name": "ipython",
    "version": 2
   },
   "file_extension": ".py",
   "mimetype": "text/x-python",
   "name": "python",
   "nbconvert_exporter": "python",
   "pygments_lexer": "ipython2",
   "version": "2.7.16"
  }
 },
 "nbformat": 4,
 "nbformat_minor": 2
}
