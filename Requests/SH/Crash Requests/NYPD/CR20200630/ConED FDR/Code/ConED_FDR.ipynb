{
 "cells": [
  {
   "cell_type": "markdown",
   "metadata": {},
   "source": [
    "# Default Import"
   ]
  },
  {
   "cell_type": "code",
   "execution_count": 13,
   "metadata": {
    "scrolled": true
   },
   "outputs": [
    {
     "data": {
      "text/markdown": [
       "<strong>Notebook run on: 2020-06-30 16:45 | by soge | Using ris library version: 1.5.3 | File Location: E:\\RIS\\Staff Folders\\Samuel\\Requests\\SH\\ConED FDR"
      ],
      "text/plain": [
       "<IPython.core.display.Markdown object>"
      ]
     },
     "execution_count": 13,
     "metadata": {},
     "output_type": "execute_result"
    }
   ],
   "source": [
    "from ris import pysqldb\n",
    "from IPython.display import Markdown, clear_output\n",
    "from sqlalchemy import create_engine\n",
    "import ris\n",
    "import getpass\n",
    "import datetime \n",
    "import pandas as pd\n",
    "import numpy as np\n",
    "import os\n",
    "import requests\n",
    "\n",
    "timestamp = datetime.datetime.now().strftime('%Y-%m-%d %H:%M')\n",
    "ts = datetime.datetime.now().strftime('%Y-%m-%d')\n",
    "\n",
    "Markdown('<strong>Notebook run on: {} | by {} | Using ris library version: {} | File Location: {}'.format(\n",
    "    timestamp, getpass.getuser(), ris.__version__, os.getcwd()\n",
    "))\n"
   ]
  },
  {
   "cell_type": "markdown",
   "metadata": {},
   "source": [
    "# Db connections"
   ]
  },
  {
   "cell_type": "code",
   "execution_count": 2,
   "metadata": {},
   "outputs": [
    {
     "name": "stdout",
     "output_type": "stream",
     "text": [
      "Warning:\n",
      "\tMissing SQL Server Native Client 10.0                     datetime2 will not be interpreted correctly\n",
      "\n",
      "Database connection (MS) to forms on dot55sql01 - user: arcgis \n",
      "Connection established 2020-06-30 13:53:07\n",
      "- Query run 2020-06-30 13:53:07.291000\n",
      " Query time: Query run in 1000 microseconds \n",
      " * Returned 0 rows *\n",
      "Warning:\n",
      "\tMissing SQL Server Native Client 10.0                     datetime2 will not be interpreted correctly\n",
      "\n"
     ]
    }
   ],
   "source": [
    "try: \n",
    "    db.params['user']\n",
    "except:\n",
    "    sqldb = pysqldb.DbConnect(server='dot55sql01', database='forms', type='MS', user = 'arcgis', password = 'arcgis')"
   ]
  },
  {
   "cell_type": "code",
   "execution_count": 3,
   "metadata": {},
   "outputs": [],
   "source": [
    "#sip = pysqldb.DbConnect(server='dotpgsql01', database='sip', type='PG', user = db.params['user'], password = db.params['password'])\n",
    "#forms = pysqldb.DbConnect(server='dot55sql01', database='forms', type='MS', user = 'arcgis', password = 'arcgis')"
   ]
  },
  {
   "cell_type": "code",
   "execution_count": 4,
   "metadata": {},
   "outputs": [
    {
     "name": "stdout",
     "output_type": "stream",
     "text": [
      "Database connection (MS) to forms on dot55sql01 - user: arcgis \n",
      "Connection established 2020-06-30 13:53:07\n"
     ]
    }
   ],
   "source": [
    "sqldb.connect()"
   ]
  },
  {
   "cell_type": "code",
   "execution_count": 5,
   "metadata": {},
   "outputs": [],
   "source": [
    "inj = sqldb.dfquery(\"\"\" WITH data AS (\n",
    "                        SELECT DISTINCT ROW_WID, ACCIDENT_DT, OFF_STREET\n",
    "                        FROM [FORMS].[dbo].[WC_ACCIDENT_F] core\n",
    "                        WHERE OFF_STREET in ('907LX4M11068','907LX4M11069')\n",
    "                        and YEAR(core.ACCIDENT_DT) >2016\n",
    "                        --and ((ACCIDENT_DESC  like '%con%') or (ACCIDENT_DESC  like '%driveway%') or (ACCIDENT_DESC  like '%plant%'))\n",
    "                        )\n",
    "\n",
    "                        SELECT YEAR(ACCIDENT_DT) AS yr\n",
    "                               ,count(CASE WHEN OFF_STREET = '907LX4M11068' THEN (ROW_WID) END) '907LX4M11068'\n",
    "                               ,count(CASE WHEN OFF_STREET = '907LX4M11069' THEN (ROW_WID) END) '907LX4M11069'\n",
    "                        FROM data\n",
    "                        GROUP BY YEAR(ACCIDENT_DT)\n",
    "                        \"\"\")"
   ]
  },
  {
   "cell_type": "code",
   "execution_count": 6,
   "metadata": {},
   "outputs": [
    {
     "data": {
      "text/html": [
       "<div>\n",
       "<style scoped>\n",
       "    .dataframe tbody tr th:only-of-type {\n",
       "        vertical-align: middle;\n",
       "    }\n",
       "\n",
       "    .dataframe tbody tr th {\n",
       "        vertical-align: top;\n",
       "    }\n",
       "\n",
       "    .dataframe thead th {\n",
       "        text-align: right;\n",
       "    }\n",
       "</style>\n",
       "<table border=\"1\" class=\"dataframe\">\n",
       "  <thead>\n",
       "    <tr style=\"text-align: right;\">\n",
       "      <th></th>\n",
       "      <th>yr</th>\n",
       "      <th>907LX4M11068</th>\n",
       "      <th>907LX4M11069</th>\n",
       "    </tr>\n",
       "  </thead>\n",
       "  <tbody>\n",
       "    <tr>\n",
       "      <th>0</th>\n",
       "      <td>2017</td>\n",
       "      <td>21</td>\n",
       "      <td>12</td>\n",
       "    </tr>\n",
       "    <tr>\n",
       "      <th>1</th>\n",
       "      <td>2018</td>\n",
       "      <td>9</td>\n",
       "      <td>6</td>\n",
       "    </tr>\n",
       "    <tr>\n",
       "      <th>2</th>\n",
       "      <td>2019</td>\n",
       "      <td>12</td>\n",
       "      <td>11</td>\n",
       "    </tr>\n",
       "    <tr>\n",
       "      <th>3</th>\n",
       "      <td>2020</td>\n",
       "      <td>2</td>\n",
       "      <td>2</td>\n",
       "    </tr>\n",
       "  </tbody>\n",
       "</table>\n",
       "</div>"
      ],
      "text/plain": [
       "     yr  907LX4M11068  907LX4M11069\n",
       "0  2017            21            12\n",
       "1  2018             9             6\n",
       "2  2019            12            11\n",
       "3  2020             2             2"
      ]
     },
     "execution_count": 6,
     "metadata": {},
     "output_type": "execute_result"
    }
   ],
   "source": [
    "inj"
   ]
  },
  {
   "cell_type": "code",
   "execution_count": 7,
   "metadata": {},
   "outputs": [],
   "source": [
    " data = sqldb.dfquery(\"\"\"\n",
    "                        WITH data AS (\n",
    "                        SELECT *\n",
    "                        FROM [FORMS].[dbo].[WC_ACCIDENT_F] core\n",
    "                        WHERE OFF_STREET in ('907LX4M11068','907LX4M11069')\n",
    "                        and YEAR(core.ACCIDENT_DT) >2016\n",
    "                        and ((ACCIDENT_DESC  like '%con%') or (ACCIDENT_DESC  like '%driveway%') or (ACCIDENT_DESC  like '%plant%') or (ACCIDENT_DESC  like '%barrier%') or (ACCIDENT_DESC  like '%doors%'))\n",
    "                        )\n",
    "\n",
    "\n",
    "                        ,data2 AS(\n",
    "                        SELECT core.*, veh.PROPERTY_DAMAGED_DESC\n",
    "                        FROM [FORMS].[dbo].[WC_ACCIDENT_F] core\n",
    "                        JOIN FORMS.dbo.WC_ACCIDENT_VEHICLE_F veh \n",
    "                        ON core.integration_id = veh.accident_id\n",
    "                        WHERE core.OFF_STREET in ('907LX4M11068','907LX4M11069')\n",
    "                        and YEAR(core.ACCIDENT_DT) >2016\n",
    "                        and veh.[PROPERTY_DAMAGED_DESC] is not null\n",
    "                        )\n",
    "\n",
    "\n",
    "                        SELECT INTEGRATION_ID, ACCIDENT_DESC as DESCRIPTION\n",
    "                        FROM data\n",
    "\n",
    "\n",
    "                        UNION\n",
    "\n",
    "                        SELECT INTEGRATION_ID, PROPERTY_DAMAGED_DESC as DESCRIPTION\n",
    "                        FROM data2\n",
    "                         \"\"\")"
   ]
  },
  {
   "cell_type": "code",
   "execution_count": 8,
   "metadata": {},
   "outputs": [
    {
     "data": {
      "text/html": [
       "<div>\n",
       "<style scoped>\n",
       "    .dataframe tbody tr th:only-of-type {\n",
       "        vertical-align: middle;\n",
       "    }\n",
       "\n",
       "    .dataframe tbody tr th {\n",
       "        vertical-align: top;\n",
       "    }\n",
       "\n",
       "    .dataframe thead th {\n",
       "        text-align: right;\n",
       "    }\n",
       "</style>\n",
       "<table border=\"1\" class=\"dataframe\">\n",
       "  <thead>\n",
       "    <tr style=\"text-align: right;\">\n",
       "      <th></th>\n",
       "      <th>INTEGRATION_ID</th>\n",
       "      <th>DESCRIPTION</th>\n",
       "    </tr>\n",
       "  </thead>\n",
       "  <tbody>\n",
       "    <tr>\n",
       "      <th>0</th>\n",
       "      <td>0018917019</td>\n",
       "      <td>At tpo driver vehicle 2 stated that his vehicl...</td>\n",
       "    </tr>\n",
       "    <tr>\n",
       "      <th>1</th>\n",
       "      <td>0023618019</td>\n",
       "      <td>DAMAGE TO MEDIAN DIVIDER.</td>\n",
       "    </tr>\n",
       "    <tr>\n",
       "      <th>2</th>\n",
       "      <td>0023618019</td>\n",
       "      <td>Driver#1 states she was sideswiped by an unkno...</td>\n",
       "    </tr>\n",
       "    <tr>\n",
       "      <th>3</th>\n",
       "      <td>0034520019</td>\n",
       "      <td>At T/P/O, unknown operator did enter the pedes...</td>\n",
       "    </tr>\n",
       "    <tr>\n",
       "      <th>4</th>\n",
       "      <td>0034520019</td>\n",
       "      <td>GUARD RAIL AND CONCRETE BARRIER ON PEDESTRIAN ...</td>\n",
       "    </tr>\n",
       "    <tr>\n",
       "      <th>5</th>\n",
       "      <td>0043319019</td>\n",
       "      <td>OPERATOR VEHICLE ONE NB FDR CENTER LANE OF THR...</td>\n",
       "    </tr>\n",
       "    <tr>\n",
       "      <th>6</th>\n",
       "      <td>0107219019</td>\n",
       "      <td>AT TPO V1 STATES HE WAS TRAVELING N/B IN THE L...</td>\n",
       "    </tr>\n",
       "    <tr>\n",
       "      <th>7</th>\n",
       "      <td>0152919019</td>\n",
       "      <td>AT TPO DRIVER OF VEHICLE 1 STATES HE WAS TRAVE...</td>\n",
       "    </tr>\n",
       "    <tr>\n",
       "      <th>8</th>\n",
       "      <td>0154818019</td>\n",
       "      <td>UPON ARRIVAL OF SCENE, VEHICLES HAD EXITED HIG...</td>\n",
       "    </tr>\n",
       "    <tr>\n",
       "      <th>9</th>\n",
       "      <td>0173919019</td>\n",
       "      <td>AT T/P/O MV#1 STATED SHE WAS TRAVELING NORTHBO...</td>\n",
       "    </tr>\n",
       "    <tr>\n",
       "      <th>10</th>\n",
       "      <td>0185019019</td>\n",
       "      <td>UPON INVESTIGATION OF COLLISION MOTORIST OF VE...</td>\n",
       "    </tr>\n",
       "    <tr>\n",
       "      <th>11</th>\n",
       "      <td>0194517019</td>\n",
       "      <td>VEHICLE 1 WAS TRAVELING NORTHBOUND AT A HIGH R...</td>\n",
       "    </tr>\n",
       "    <tr>\n",
       "      <th>12</th>\n",
       "      <td>0221919019</td>\n",
       "      <td>At T/P/O, Operator of Vehicle 1 states while t...</td>\n",
       "    </tr>\n",
       "    <tr>\n",
       "      <th>13</th>\n",
       "      <td>0227518019</td>\n",
       "      <td>At tpo driver vehicle 2 states that he was tra...</td>\n",
       "    </tr>\n",
       "    <tr>\n",
       "      <th>14</th>\n",
       "      <td>0253119019</td>\n",
       "      <td>AT TPO VEH 1 OP STATES SHE WAS CHANGING LANES ...</td>\n",
       "    </tr>\n",
       "    <tr>\n",
       "      <th>15</th>\n",
       "      <td>0339019019</td>\n",
       "      <td>AT TPO VEH 1 OP STATES HE WAS DRIVING STRAIGHT...</td>\n",
       "    </tr>\n",
       "    <tr>\n",
       "      <th>16</th>\n",
       "      <td>0454618019</td>\n",
       "      <td>AT-T/P/O- VEHICLE #1 STATES HE WAS DRIVING N/B...</td>\n",
       "    </tr>\n",
       "    <tr>\n",
       "      <th>17</th>\n",
       "      <td>0464417019</td>\n",
       "      <td>Driver#1 states he slowing/stopping due to con...</td>\n",
       "    </tr>\n",
       "    <tr>\n",
       "      <th>18</th>\n",
       "      <td>0467317019</td>\n",
       "      <td>Driver#1states he was slowing/stopping due to ...</td>\n",
       "    </tr>\n",
       "    <tr>\n",
       "      <th>19</th>\n",
       "      <td>0478217019</td>\n",
       "      <td>VEHICLE 1 AND 2 WERE TRAVELING IN THE RIGHT LA...</td>\n",
       "    </tr>\n",
       "    <tr>\n",
       "      <th>20</th>\n",
       "      <td>0482417019</td>\n",
       "      <td>UPON INVESTIGATION OF THE SCENE, BOTH VEHICLES...</td>\n",
       "    </tr>\n",
       "  </tbody>\n",
       "</table>\n",
       "</div>"
      ],
      "text/plain": [
       "   INTEGRATION_ID                                        DESCRIPTION\n",
       "0      0018917019  At tpo driver vehicle 2 stated that his vehicl...\n",
       "1      0023618019                          DAMAGE TO MEDIAN DIVIDER.\n",
       "2      0023618019  Driver#1 states she was sideswiped by an unkno...\n",
       "3      0034520019  At T/P/O, unknown operator did enter the pedes...\n",
       "4      0034520019  GUARD RAIL AND CONCRETE BARRIER ON PEDESTRIAN ...\n",
       "5      0043319019  OPERATOR VEHICLE ONE NB FDR CENTER LANE OF THR...\n",
       "6      0107219019  AT TPO V1 STATES HE WAS TRAVELING N/B IN THE L...\n",
       "7      0152919019  AT TPO DRIVER OF VEHICLE 1 STATES HE WAS TRAVE...\n",
       "8      0154818019  UPON ARRIVAL OF SCENE, VEHICLES HAD EXITED HIG...\n",
       "9      0173919019  AT T/P/O MV#1 STATED SHE WAS TRAVELING NORTHBO...\n",
       "10     0185019019  UPON INVESTIGATION OF COLLISION MOTORIST OF VE...\n",
       "11     0194517019  VEHICLE 1 WAS TRAVELING NORTHBOUND AT A HIGH R...\n",
       "12     0221919019  At T/P/O, Operator of Vehicle 1 states while t...\n",
       "13     0227518019  At tpo driver vehicle 2 states that he was tra...\n",
       "14     0253119019  AT TPO VEH 1 OP STATES SHE WAS CHANGING LANES ...\n",
       "15     0339019019  AT TPO VEH 1 OP STATES HE WAS DRIVING STRAIGHT...\n",
       "16     0454618019  AT-T/P/O- VEHICLE #1 STATES HE WAS DRIVING N/B...\n",
       "17     0464417019  Driver#1 states he slowing/stopping due to con...\n",
       "18     0467317019  Driver#1states he was slowing/stopping due to ...\n",
       "19     0478217019  VEHICLE 1 AND 2 WERE TRAVELING IN THE RIGHT LA...\n",
       "20     0482417019  UPON INVESTIGATION OF THE SCENE, BOTH VEHICLES..."
      ]
     },
     "execution_count": 8,
     "metadata": {},
     "output_type": "execute_result"
    }
   ],
   "source": [
    "data"
   ]
  },
  {
   "cell_type": "code",
   "execution_count": 10,
   "metadata": {},
   "outputs": [],
   "source": [
    "writer = pd.ExcelWriter(r'Outputs\\coned_fdr_{}.xlsx'.format(ts), engine='xlsxwriter')    \n",
    "inj.to_excel(writer, sheet_name='coned_fdr_injury_summary', index= False)\n",
    "data.to_excel(writer, sheet_name='coned_fdr_accident_desc', index= False)\n",
    "writer.save() "
   ]
  },
  {
   "cell_type": "code",
   "execution_count": 14,
   "metadata": {},
   "outputs": [
    {
     "data": {
      "text/plain": [
       "'1.5.3'"
      ]
     },
     "execution_count": 14,
     "metadata": {},
     "output_type": "execute_result"
    }
   ],
   "source": [
    "ris.__version__"
   ]
  }
 ],
 "metadata": {
  "kernelspec": {
   "display_name": "Python 2",
   "language": "python",
   "name": "python2"
  },
  "language_info": {
   "codemirror_mode": {
    "name": "ipython",
    "version": 2
   },
   "file_extension": ".py",
   "mimetype": "text/x-python",
   "name": "python",
   "nbconvert_exporter": "python",
   "pygments_lexer": "ipython2",
   "version": "2.7.16"
  }
 },
 "nbformat": 4,
 "nbformat_minor": 2
}
