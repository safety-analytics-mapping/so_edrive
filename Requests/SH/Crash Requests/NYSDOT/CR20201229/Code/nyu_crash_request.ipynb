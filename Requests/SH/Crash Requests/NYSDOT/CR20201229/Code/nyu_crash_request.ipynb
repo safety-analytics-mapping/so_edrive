{
 "cells": [
  {
   "cell_type": "markdown",
   "metadata": {},
   "source": [
    "# Default Import"
   ]
  },
  {
   "cell_type": "code",
   "execution_count": 1,
   "metadata": {
    "scrolled": true
   },
   "outputs": [
    {
     "data": {
      "text/markdown": [
       "<strong>Notebook run on: 2020-12-29 11:24 | by soge | Using ris library version: 2.0.1 | File Location: E:\\RIS\\Staff Folders\\Samuel\\Requests\\SH\\Crash_Requests"
      ],
      "text/plain": [
       "<IPython.core.display.Markdown object>"
      ]
     },
     "execution_count": 1,
     "metadata": {},
     "output_type": "execute_result"
    }
   ],
   "source": [
    "from ris import pysqldb\n",
    "from IPython.display import Markdown, clear_output\n",
    "from sqlalchemy import create_engine\n",
    "import ris\n",
    "import getpass\n",
    "import datetime \n",
    "import pandas as pd\n",
    "import numpy as np\n",
    "import os\n",
    "import requests\n",
    "\n",
    "timestamp = datetime.datetime.now().strftime('%Y-%m-%d %H:%M')\n",
    "ts = datetime.datetime.now().strftime('%Y-%m-%d')\n",
    "\n",
    "Markdown('<strong>Notebook run on: {} | by {} | Using ris library version: {} | File Location: {}'.format(\n",
    "    timestamp, getpass.getuser(), ris.__version__, os.getcwd()\n",
    "))\n"
   ]
  },
  {
   "cell_type": "markdown",
   "metadata": {},
   "source": [
    "# Db connections"
   ]
  },
  {
   "cell_type": "code",
   "execution_count": 2,
   "metadata": {},
   "outputs": [
    {
     "name": "stdout",
     "output_type": "stream",
     "text": [
      "\n",
      "Additional database connection details required:\n",
      "User name (ris):soge\n",
      "Password (ris)········\n"
     ]
    }
   ],
   "source": [
    "try: \n",
    "    db.params['user']\n",
    "except:\n",
    "    db = pysqldb.DbConnect(type='PG', server='dotdevrhpgsql01', database='ris')"
   ]
  },
  {
   "cell_type": "code",
   "execution_count": 3,
   "metadata": {},
   "outputs": [],
   "source": [
    "#sip = pysqldb.DbConnect(server='dotpgsql01', database='sip', type='PG', user = db.params['user'], password = db.params['password'])\n",
    "#forms = pysqldb.DbConnect(server='dot55sql01', database='forms', type='MS', user = 'arcgis', password = 'arcgis')"
   ]
  },
  {
   "cell_type": "markdown",
   "metadata": {},
   "source": [
    "### CRASH Data"
   ]
  },
  {
   "cell_type": "code",
   "execution_count": 4,
   "metadata": {},
   "outputs": [],
   "source": [
    "crash_data = db.dfquery(\"\"\"  \n",
    "\n",
    "SELECT distinct nys_a.case_num\n",
    "               ,nys_a.case_yr\n",
    "               ,nys_a.ref_mrkr\n",
    "               ,nys_a.accd_dte\n",
    "               ,nys_a.road_sys\n",
    "               ,nys_a.num_of_fat\n",
    "               ,nys_a.num_of_inj\n",
    "               ,nys_a.reportable\n",
    "               ,nys_a.police_dep \n",
    "               ,nys_a.intersect_\n",
    "               ,nys_a.muni\n",
    "               ,nys_a.precinct\n",
    "               ,nys_a.num_of_veh\n",
    "               ,nys_a.accd_typ\n",
    "               ,nys_a.locn\n",
    "               ,nys_a.traf_cntl\n",
    "               ,nys_a.light_cond\n",
    "               ,nys_a.weather\n",
    "               ,nys_a.road_char\n",
    "               ,nys_a.road_surf_\n",
    "               ,nys_a.collision_\n",
    "               ,nys_a.ped_loc\n",
    "               ,nys_a.ped_actn\n",
    "               ,nys_a.ext_of_inj\n",
    "               ,nys_a.regn_cnty_\n",
    "               ,nys_a.accd_tme\n",
    "               ,nys_a.rpt_agcy\n",
    "               ,nys_a.dmv_accd_c\n",
    "               ,nys_a.err_cde\n",
    "               ,nys_a.comm_veh_a\n",
    "               ,nys_a.highway_in\n",
    "               ,nys_a.intersect1\n",
    "               ,nys_a.utm_northi\n",
    "               ,nys_a.utm_eastin\n",
    "               ,nys_a.geo_segmen\n",
    "               ,nys_a.geo_node_i\n",
    "               ,nys_a.geo_node_d\n",
    "               ,nys_a.geo_node_1               \n",
    "FROM public.nysdot_all nys_a\n",
    "WHERE nys_a.case_yr>= 2016 and nys_a.case_yr<=2018\n",
    "\n",
    "\"\"\")"
   ]
  },
  {
   "cell_type": "markdown",
   "metadata": {},
   "source": [
    "### Vehicle Data"
   ]
  },
  {
   "cell_type": "code",
   "execution_count": 5,
   "metadata": {},
   "outputs": [],
   "source": [
    "veh_data = db.dfquery(\"\"\"\n",
    "\n",
    "SELECT distinct nys_v.case_num\n",
    "           ,nys_v.case_yr\n",
    "           ,nys_v.veh_seq_num\n",
    "           ,nys_v.rgst_typ\n",
    "           ,nys_v.body_typ\n",
    "           ,nys_v.veh_typ\n",
    "           ,nys_v.pre_accd_actn\n",
    "           ,nys_v.second_event\n",
    "           ,nys_v.veh_dirn_of_trav\n",
    "           ,nys_v.haz_cargo_ind\n",
    "           ,nys_v.tck_bus_clsf\n",
    "           ,nys_v.pbl_prpt_ind\n",
    "           ,nys_v.comm_veh_ind\n",
    "           ,nys_v.age\n",
    "           ,nys_v.sex\n",
    "           ,nys_v.occupant_num\n",
    "           ,nys_v.rgst_wgt\n",
    "           ,nys_v.cit_ind\n",
    "           ,nys_v.drvr_lic_st\n",
    "           ,nys_v.veh_lic_st\n",
    "           ,nys_v.tow_ind\n",
    "FROM public.nysdot_vehicle nys_v\n",
    "WHERE nys_v.case_yr>= 2016 and nys_v.case_yr<=2018\n",
    "\n",
    "\n",
    "\"\"\")"
   ]
  },
  {
   "cell_type": "markdown",
   "metadata": {},
   "source": [
    "### Contributing Factors Data"
   ]
  },
  {
   "cell_type": "code",
   "execution_count": 6,
   "metadata": {
    "scrolled": true
   },
   "outputs": [],
   "source": [
    "contr_fctrs_data = db.dfquery(\"\"\"\n",
    "\n",
    "SELECT distinct nys_app.case_num\n",
    "               ,nys_app.case_yr\n",
    "               ,nys_app.veh_seq_num\n",
    "               ,nys_app.aprnt_seq_num\n",
    "               ,nys_app.aprnt_fctr\n",
    "FROM public.nysdot_appfactor nys_app\n",
    "WHERE nys_app.case_yr>= 2016 and nys_app.case_yr<=2018\n",
    "\n",
    "\"\"\")"
   ]
  },
  {
   "cell_type": "markdown",
   "metadata": {},
   "source": [
    "### Writing to CSV"
   ]
  },
  {
   "cell_type": "code",
   "execution_count": 7,
   "metadata": {},
   "outputs": [],
   "source": [
    "crash_data.to_csv('crash_data_2016_2018.csv',index = False)\n",
    "veh_data.to_csv('veh_data_2016_2018.csv',index = False)\n",
    "contr_fctrs_data.to_csv('contr_fctrs_data_2016_2018.csv',index = False)"
   ]
  }
 ],
 "metadata": {
  "kernelspec": {
   "display_name": "Python 2",
   "language": "python",
   "name": "python2"
  },
  "language_info": {
   "codemirror_mode": {
    "name": "ipython",
    "version": 2
   },
   "file_extension": ".py",
   "mimetype": "text/x-python",
   "name": "python",
   "nbconvert_exporter": "python",
   "pygments_lexer": "ipython2",
   "version": "2.7.16"
  }
 },
 "nbformat": 4,
 "nbformat_minor": 2
}
