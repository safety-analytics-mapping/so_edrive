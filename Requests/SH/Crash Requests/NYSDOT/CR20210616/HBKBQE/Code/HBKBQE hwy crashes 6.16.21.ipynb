{
 "cells": [
  {
   "cell_type": "markdown",
   "metadata": {},
   "source": [
    "## RETRIEVAL OF RAW HIGHWAY CRASH DATA"
   ]
  },
  {
   "cell_type": "markdown",
   "metadata": {},
   "source": [
    "### Default Import"
   ]
  },
  {
   "cell_type": "code",
   "execution_count": 1,
   "metadata": {
    "scrolled": true
   },
   "outputs": [
    {
     "data": {
      "text/markdown": [
       "<strong>Notebook run on: 2021-06-16 13:35 | by soge | Using ris library version: 2.2.1 | File Location: E:\\RIS\\Staff Folders\\Samuel\\Requests\\SH\\HBKBQE"
      ],
      "text/plain": [
       "<IPython.core.display.Markdown object>"
      ]
     },
     "execution_count": 1,
     "metadata": {},
     "output_type": "execute_result"
    }
   ],
   "source": [
    "from ris import pysqldb\n",
    "from IPython.display import Markdown, clear_output\n",
    "from sqlalchemy import create_engine\n",
    "import ris\n",
    "import getpass\n",
    "import datetime \n",
    "import pandas as pd\n",
    "import numpy as np\n",
    "import os\n",
    "import requests\n",
    "\n",
    "timestamp = datetime.datetime.now().strftime('%Y-%m-%d %H:%M')\n",
    "ts = datetime.datetime.now().strftime('%Y-%m-%d')\n",
    "\n",
    "Markdown('<strong>Notebook run on: {} | by {} | Using ris library version: {} | File Location: {}'.format(\n",
    "    timestamp, getpass.getuser(), ris.__version__, os.getcwd()\n",
    "))\n"
   ]
  },
  {
   "cell_type": "markdown",
   "metadata": {},
   "source": [
    "### Db connections"
   ]
  },
  {
   "cell_type": "code",
   "execution_count": 2,
   "metadata": {},
   "outputs": [
    {
     "name": "stdout",
     "output_type": "stream",
     "text": [
      "\n",
      "Additional database connection details required:\n",
      "User name (ris):soge\n",
      "Password (ris)········\n"
     ]
    }
   ],
   "source": [
    "try: \n",
    "    db.params['user']\n",
    "except:\n",
    "    db = pysqldb.DbConnect(type='PG', server='dotdevrhpgsql01', database='ris')"
   ]
  },
  {
   "cell_type": "code",
   "execution_count": 3,
   "metadata": {},
   "outputs": [],
   "source": [
    "data =pd.read_excel('BQE Four Crossings Crash Data Request.xlsx')"
   ]
  },
  {
   "cell_type": "markdown",
   "metadata": {},
   "source": [
    "### Reference Markers "
   ]
  },
  {
   "cell_type": "code",
   "execution_count": 4,
   "metadata": {},
   "outputs": [],
   "source": [
    "ref_mkr=pd.read_excel('BQE Four Crossings Crash Data Request.xlsx', sheet_name= 'Reference Marker')"
   ]
  },
  {
   "cell_type": "code",
   "execution_count": 5,
   "metadata": {},
   "outputs": [],
   "source": [
    "markers = tuple(map(str,list(ref_mkr[ref_mkr.columns[6]][2:])))"
   ]
  },
  {
   "cell_type": "code",
   "execution_count": 6,
   "metadata": {},
   "outputs": [
    {
     "name": "stdout",
     "output_type": "stream",
     "text": [
      "('278IX2M23089', '278IX2M24089', '278IX2M23088', '278IX2M24088', '278IX2M23087', '278IX2M24087', '278IX2M23086', '278IX2M24086', '278IX2M23085', '278IX2M24085', '278IX2M23084', '278IX2M24084', '278IX2M23083', '278IX2M24083', '278IX2M23082', '278IX2M24082', '278IX2M23081', '278IX2M24081', '278IX2M23080', '278IX2M24080', '278IX2M23079', '278IX2M24079', '278IX2M23078', '278IX2M24078')\n"
     ]
    }
   ],
   "source": [
    "print markers"
   ]
  },
  {
   "cell_type": "markdown",
   "metadata": {},
   "source": [
    "### NYSDOT Data"
   ]
  },
  {
   "cell_type": "code",
   "execution_count": 7,
   "metadata": {},
   "outputs": [],
   "source": [
    "raw_crashes = db.dfquery(\"\"\"SELECT ogc_fid, gid, case_num, case_yr, ref_mrkr, accd_dte, road_sys, \n",
    "                               num_of_fat, num_of_inj, reportable, police_dep, intersect_, muni, \n",
    "                               precinct, num_of_veh, accd_typ, locn, traf_cntl, light_cond, \n",
    "                               weather, road_char, road_surf_, collision_, ped_loc, ped_actn, \n",
    "                               ext_of_inj, regn_cnty_, accd_tme, rpt_agcy, dmv_accd_c, traf_way, \n",
    "                               rdway_acc_, err_cde, comm_veh_a, highway_in, intersect1, utm_northi, \n",
    "                               utm_eastin, crashid  \n",
    "                            FROM nysdot_all\n",
    "                            WHERE ref_mrkr in {}\n",
    "                            and case_yr::int between 2016 and 2018\n",
    "\n",
    "                            \"\"\".format(markers))"
   ]
  },
  {
   "cell_type": "code",
   "execution_count": 8,
   "metadata": {},
   "outputs": [],
   "source": [
    "#crashids\n",
    "rc = tuple(list(raw_crashes.crashid))"
   ]
  },
  {
   "cell_type": "code",
   "execution_count": 9,
   "metadata": {},
   "outputs": [],
   "source": [
    "raw_vehicle = db.dfquery(\"\"\"SELECT *  \n",
    "                            FROM nysdot_vehicle\n",
    "                            WHERE crashid in {c}\n",
    "                            and case_yr between 2016 and 2018\n",
    "                            \"\"\".format(c=rc))\n",
    "\n"
   ]
  },
  {
   "cell_type": "code",
   "execution_count": 10,
   "metadata": {},
   "outputs": [],
   "source": [
    "raw_contributing = db.dfquery(\"\"\"SELECT *  \n",
    "                                 FROM nysdot_appfactor\n",
    "                                 WHERE crashid in {c}\n",
    "                                 and case_yr between 2016 and 2018\n",
    "                                 \"\"\".format(c=rc))\n",
    "\n"
   ]
  },
  {
   "cell_type": "code",
   "execution_count": 11,
   "metadata": {},
   "outputs": [],
   "source": [
    "raw_crashes.to_csv('hbkbqe_raw_crashes_{}.csv'.format(ts),index=False)"
   ]
  },
  {
   "cell_type": "code",
   "execution_count": 12,
   "metadata": {},
   "outputs": [],
   "source": [
    "raw_vehicle.to_csv('hbkbqe_raw_vehicle_{}.csv'.format(ts),index=False)"
   ]
  },
  {
   "cell_type": "code",
   "execution_count": 13,
   "metadata": {},
   "outputs": [],
   "source": [
    "raw_contributing.to_csv('hbkbqe_raw_contributing_{}.csv'.format(ts),index=False)"
   ]
  }
 ],
 "metadata": {
  "kernelspec": {
   "display_name": "Python 2",
   "language": "python",
   "name": "python2"
  },
  "language_info": {
   "codemirror_mode": {
    "name": "ipython",
    "version": 2
   },
   "file_extension": ".py",
   "mimetype": "text/x-python",
   "name": "python",
   "nbconvert_exporter": "python",
   "pygments_lexer": "ipython2",
   "version": "2.7.16"
  }
 },
 "nbformat": 4,
 "nbformat_minor": 2
}
