{
 "cells": [
  {
   "cell_type": "code",
   "execution_count": 2,
   "metadata": {
    "scrolled": true
   },
   "outputs": [
    {
     "name": "stdout",
     "output_type": "stream",
     "text": [
      "Notebook run: 2020-10-19_12:58\n",
      "E:\\RIS\\Staff Folders\\Samuel\\Requests\\SH\\Crash_Request_30320\n"
     ]
    }
   ],
   "source": [
    "from ris import pysqldb\n",
    "from IPython.display import clear_output\n",
    "from collections import defaultdict\n",
    "from collections import defaultdict, namedtuple\n",
    "import datetime \n",
    "import pandas as pd\n",
    "import numpy as np\n",
    "import os\n",
    "from sqlalchemy import create_engine\n",
    "\n",
    "clear_output()\n",
    "timestamp = datetime.datetime.now().strftime('%Y-%m-%d_%H:%M')\n",
    "ts = datetime.datetime.now().strftime('%m-%d-%Y')\n",
    "\n",
    "print 'Notebook run: {}'.format(timestamp)\n",
    "print os.getcwd()"
   ]
  },
  {
   "cell_type": "code",
   "execution_count": 3,
   "metadata": {
    "scrolled": true
   },
   "outputs": [
    {
     "name": "stdout",
     "output_type": "stream",
     "text": [
      "Warning:\n",
      "\tMissing SQL Server Native Client 10.0                     datetime2 will not be interpreted correctly\n",
      "\n",
      "Database connection (MS) to forms on dot55sql01 - user: arcgis \n",
      "Connection established 2020-10-19 12:58:12\n",
      "- Query run 2020-10-19 12:58:12.788000\n",
      " Query time: Query run in 103000 microseconds \n",
      " * Returned 0 rows *\n",
      "Warning:\n",
      "\tMissing SQL Server Native Client 10.0                     datetime2 will not be interpreted correctly\n",
      "\n"
     ]
    }
   ],
   "source": [
    "#Database connection\n",
    "sqldb = pysqldb.DbConnect(server='dot55sql01', database='forms', type='MS', user = 'arcgis', password = 'arcgis')"
   ]
  },
  {
   "cell_type": "markdown",
   "metadata": {},
   "source": [
    "### Reading in Crash Request Nodeids "
   ]
  },
  {
   "cell_type": "code",
   "execution_count": 3,
   "metadata": {},
   "outputs": [],
   "source": [
    "#cr_nodes = pd.read_excel('E:\\RIS\\Staff Folders\\Samuel\\Requests\\SH\\Crash_Request_30320\\crash request 2-28-2020.xlsx')"
   ]
  },
  {
   "cell_type": "code",
   "execution_count": 4,
   "metadata": {},
   "outputs": [],
   "source": [
    "#cr_nodes = pd.read_excel('file:///E:\\RIS\\Staff%20Folders\\Samuel\\Requests\\SH\\Crash_Request_30320\\crash%20request%203-16-2020.xlsx')\n",
    "#cr_nodes.columns\n",
    "#nodes = tuple(map(int,(cr_nodes.NODEID)))"
   ]
  },
  {
   "cell_type": "code",
   "execution_count": 5,
   "metadata": {},
   "outputs": [],
   "source": [
    "nodes = '0036772'"
   ]
  },
  {
   "cell_type": "code",
   "execution_count": 6,
   "metadata": {},
   "outputs": [
    {
     "name": "stdout",
     "output_type": "stream",
     "text": [
      "Database connection (MS) to forms on dot55sql01 - user: arcgis \n",
      "Connection established 2020-09-10 11:48:48\n"
     ]
    }
   ],
   "source": [
    "sqldb.connect()"
   ]
  },
  {
   "cell_type": "code",
   "execution_count": 7,
   "metadata": {},
   "outputs": [
    {
     "name": "stdout",
     "output_type": "stream",
     "text": [
      "- Query run 2020-09-10 11:48:50.092000\n",
      " Query time: Query run in 352000 microseconds \n",
      " * Returned 1 rows *\n"
     ]
    }
   ],
   "source": [
    "sqldb.query(\"\"\"\n",
    "SELECT masterid\n",
    "FROM OPENQUERY(dotgissql01, \n",
    "'SELECT distinct masterid FROM [CLION].[dbo].[node] \n",
    "WHERE nodeid in ({nodes})') l \n",
    "\"\"\".format(nodes=nodes))\n",
    "masters = [i[0] for i in sqldb.data]\n"
   ]
  },
  {
   "cell_type": "code",
   "execution_count": 8,
   "metadata": {},
   "outputs": [
    {
     "data": {
      "text/plain": [
       "[36772]"
      ]
     },
     "execution_count": 8,
     "metadata": {},
     "output_type": "execute_result"
    }
   ],
   "source": [
    "masters"
   ]
  },
  {
   "cell_type": "markdown",
   "metadata": {},
   "source": [
    "### All NYPD Crash information Related to Crash Request Nodes from 2017 to Present"
   ]
  },
  {
   "cell_type": "code",
   "execution_count": 9,
   "metadata": {
    "scrolled": false
   },
   "outputs": [
    {
     "name": "stdout",
     "output_type": "stream",
     "text": [
      "Database connection (MS) to forms on dot55sql01 - user: arcgis \n",
      "Connection established 2020-09-10 11:48:52\n"
     ]
    }
   ],
   "source": [
    "sqldb.connect()"
   ]
  },
  {
   "cell_type": "code",
   "execution_count": 10,
   "metadata": {},
   "outputs": [],
   "source": [
    "data1 = sqldb.dfquery(\"\"\"\n",
    "\n",
    "SELECT DISTINCT coalesce(core.nodeid, core.lion_node_number) NODEID\n",
    "               ,core.INTEGRATION_ID\n",
    "               ,core.ACCIDENT_DT RECORD_DATE\n",
    "               ,left(stuff(STUFF(right('000000'+cast(core.ACCIDENT_TIME_WID AS VARCHAR),6),5,0,':'),3,0,':'), 5) RECORD_TIME\n",
    "               ,core.SRC_ADDRESS_TYPE ADDRESS_TYPE\n",
    "               ,core.SRC_ON_STREET MAIN_STREET\n",
    "               ,core.SRC_CROSS_STREET CROSS_STREET\n",
    "               ,core.ACCIDENT_DIAGRAM COLLISION_TYPE\n",
    "               ,core.TRAFFIC_CONTROL\n",
    "               ,sum(CASE WHEN vic.PED_NONPED = 'Occupant' and vic.INJ_KILLED = 'Injured' THEN 1 ELSE 0 END) MVO\n",
    "               ,sum(CASE WHEN vic.PED_NONPED = 'Bicyclist' and vic.INJ_KILLED = 'Injured' THEN 1 ELSE 0 END) BI\n",
    "               ,sum(CASE WHEN vic.PED_NONPED = 'Pedestrian' and vic.INJ_KILLED = 'Injured' THEN 1 ELSE 0 END) PED\n",
    "               ,sum(CASE WHEN vic.INJ_KILLED = 'Injured' THEN 1 ELSE 0 END) TOTAL_INJURIES\n",
    "               ,sum(CASE WHEN vic.PED_ACTION = 'Crossing With Signal' THEN 1 ELSE 0 END) PED_ACTION_CROSSING_WITH_SIGNAL\n",
    "               ,sum(CASE WHEN vic.PED_ACTION = 'Crossing Against Signal' THEN 1 ELSE 0 END) PED_ACTION_CROSSING_AGAINST_SIGNAL\n",
    "               ,sum(CASE WHEN vic.PED_ACTION in ('Crossing, No Signal, or Crosswalk', 'Crossing, No Signal, Marked Crosswalk') THEN 1 ELSE 0 END) PED_ACTION_Crossing_NO_SIGNAL\n",
    "               ,sum(CASE WHEN vic.PED_ACTION not in ('Crossing With Signal', 'Crossing Against Signal', 'Crossing, No Signal, or Crosswalk', 'Crossing, No Signal, Marked Crosswalk') \n",
    "                         THEN 1 ELSE 0 END) PED_ACTION_OTHER\n",
    "               ,core.ACCIDENT_DESC ACCIDENT_DESCRIPTION\n",
    "FROM [FORMS].[dbo].[WC_ACCIDENT_F] core\n",
    "LEFT JOIN (SELECT DISTINCT ACCIDENT_ID\n",
    "                          ,PED_ACTION\n",
    "                          ,PED_NONPED\n",
    "                          ,PERSON_ROLE_CODE\n",
    "                          ,INJ_KILLED\n",
    "           FROM [FORMS].[dbo].[WC_ACCIDENT_VICTIM_F]\n",
    "           WHERE PERSON_ROLE_CODE in ('Driver','Passenger','Pedestrian','In-Line Skater')) vic\n",
    "ON core.integration_id = vic.accident_id\n",
    "WHERE YEAR(core.ACCIDENT_DT)>2016\n",
    "AND coalesce(core.VOID_STATUS_CD , 'N') ='N'\n",
    "AND (core.nodeid in ({nodes}) or core.masterid in ({masters}))\n",
    "AND coalesce(core.nodeid, core.lion_node_number) is not null\n",
    "GROUP BY coalesce(core.nodeid, core.lion_node_number) \n",
    "        ,core.INTEGRATION_ID\n",
    "        ,core.ACCIDENT_DT \n",
    "        ,left(stuff(STUFF(right('000000'+cast(core.ACCIDENT_TIME_WID AS VARCHAR),6),5,0,':'),3,0,':'), 5) \n",
    "        ,core.SRC_ADDRESS_TYPE \n",
    "        ,core.SRC_ON_STREET \n",
    "        ,core.SRC_CROSS_STREET \n",
    "        ,core.ACCIDENT_DIAGRAM\n",
    "        ,core.TRAFFIC_CONTROL\n",
    "        ,core.ACCIDENT_DESC \n",
    "        \n",
    "        \n",
    "\"\"\".format(nodes=nodes, masters= str(masters)[1:-1]))"
   ]
  },
  {
   "cell_type": "markdown",
   "metadata": {},
   "source": [
    "### Writing data to Excel Sheet "
   ]
  },
  {
   "cell_type": "code",
   "execution_count": 12,
   "metadata": {},
   "outputs": [],
   "source": [
    "#data.to_excel('crash_request_output_{}.xlsx'.format(ts.replace('-','')),index=False)"
   ]
  },
  {
   "cell_type": "code",
   "execution_count": 13,
   "metadata": {},
   "outputs": [],
   "source": [
    "writer = pd.ExcelWriter('bx_crash_request_output_{}.xlsx'.format(ts.replace('-','')), engine='xlsxwriter')    \n",
    "data1.to_excel(writer, sheet_name='Sheet1', index= False)\n",
    "writer.save() "
   ]
  },
  {
   "cell_type": "markdown",
   "metadata": {},
   "source": [
    "## Testing"
   ]
  },
  {
   "cell_type": "code",
   "execution_count": 4,
   "metadata": {},
   "outputs": [],
   "source": [
    "data = sqldb.dfquery(\"\"\"\n",
    "\n",
    "SELECT DISTINCT coalesce(core.nodeid, core.lion_node_number) NODEID\n",
    "               ,core.INTEGRATION_ID\n",
    "               ,core.ACCIDENT_DT RECORD_DATE\n",
    "               ,left(stuff(STUFF(right('000000'+cast(core.ACCIDENT_TIME_WID AS VARCHAR),6),5,0,':'),3,0,':'), 5) RECORD_TIME\n",
    "               ,core.SRC_ADDRESS_TYPE ADDRESS_TYPE\n",
    "               ,core.SRC_ON_STREET MAIN_STREET\n",
    "               ,core.SRC_CROSS_STREET CROSS_STREET\n",
    "               ,core.ACCIDENT_DIAGRAM COLLISION_TYPE\n",
    "               ,core.TRAFFIC_CONTROL\n",
    "               ,sum(CASE WHEN vic.PED_NONPED = 'Occupant' and vic.INJ_KILLED = 'Injured' THEN 1 ELSE 0 END) MVO\n",
    "               ,sum(CASE WHEN vic.PED_NONPED = 'Bicyclist' and vic.INJ_KILLED = 'Injured' THEN 1 ELSE 0 END) BI\n",
    "               ,sum(CASE WHEN vic.PED_NONPED = 'Pedestrian' and vic.INJ_KILLED = 'Injured' THEN 1 ELSE 0 END) PED\n",
    "               ,sum(CASE WHEN vic.INJ_KILLED = 'Injured' THEN 1 ELSE 0 END) TOTAL_INJURIES\n",
    "               ,sum(CASE WHEN vic.PED_ACTION = 'Crossing With Signal' THEN 1 ELSE 0 END) PED_ACTION_CROSSING_WITH_SIGNAL\n",
    "               ,sum(CASE WHEN vic.PED_ACTION = 'Crossing Against Signal' THEN 1 ELSE 0 END) PED_ACTION_CROSSING_AGAINST_SIGNAL\n",
    "               ,sum(CASE WHEN vic.PED_ACTION in ('Crossing, No Signal, or Crosswalk', 'Crossing, No Signal, Marked Crosswalk') THEN 1 ELSE 0 END) PED_ACTION_Crossing_NO_SIGNAL\n",
    "               ,sum(CASE WHEN vic.PED_ACTION not in ('Crossing With Signal', 'Crossing Against Signal', 'Crossing, No Signal, or Crosswalk', 'Crossing, No Signal, Marked Crosswalk') \n",
    "                         THEN 1 ELSE 0 END) PED_ACTION_OTHER\n",
    "               ,core.ACCIDENT_DESC ACCIDENT_DESCRIPTION\n",
    "FROM [FORMS].[dbo].[WC_ACCIDENT_F] core\n",
    "LEFT JOIN (SELECT DISTINCT ACCIDENT_ID\n",
    "                          ,PED_ACTION\n",
    "                          ,PED_NONPED\n",
    "                          ,PERSON_ROLE_CODE\n",
    "                          ,INJ_KILLED\n",
    "           FROM [FORMS].[dbo].[WC_ACCIDENT_VICTIM_F]\n",
    "           WHERE PERSON_ROLE_CODE in ('Driver','Passenger','Pedestrian','In-Line Skater')) vic\n",
    "ON core.integration_id = vic.accident_id\n",
    "WHERE YEAR(core.ACCIDENT_DT)>2016\n",
    "AND coalesce(core.VOID_STATUS_CD , 'N') ='N'\n",
    "AND (core.nodeid in ({nodes})) \n",
    "AND coalesce(core.nodeid, core.lion_node_number) is not null\n",
    "GROUP BY coalesce(core.nodeid, core.lion_node_number) \n",
    "        ,core.INTEGRATION_ID\n",
    "        ,core.ACCIDENT_DT \n",
    "        ,left(stuff(STUFF(right('000000'+cast(core.ACCIDENT_TIME_WID AS VARCHAR),6),5,0,':'),3,0,':'), 5) \n",
    "        ,core.SRC_ADDRESS_TYPE \n",
    "        ,core.SRC_ON_STREET \n",
    "        ,core.SRC_CROSS_STREET \n",
    "        ,core.ACCIDENT_DIAGRAM\n",
    "        ,core.TRAFFIC_CONTROL\n",
    "        ,core.ACCIDENT_DESC \n",
    "        \n",
    "        \n",
    "\"\"\".format(nodes=1136)\n",
    "                    )"
   ]
  },
  {
   "cell_type": "code",
   "execution_count": 5,
   "metadata": {},
   "outputs": [],
   "source": [
    "data.to_excel('crash_request_output_{}.xlsx'.format(ts.replace('-','')),index=False)"
   ]
  }
 ],
 "metadata": {
  "kernelspec": {
   "display_name": "Python 2",
   "language": "python",
   "name": "python2"
  },
  "language_info": {
   "codemirror_mode": {
    "name": "ipython",
    "version": 2
   },
   "file_extension": ".py",
   "mimetype": "text/x-python",
   "name": "python",
   "nbconvert_exporter": "python",
   "pygments_lexer": "ipython2",
   "version": "2.7.16"
  }
 },
 "nbformat": 4,
 "nbformat_minor": 2
}
