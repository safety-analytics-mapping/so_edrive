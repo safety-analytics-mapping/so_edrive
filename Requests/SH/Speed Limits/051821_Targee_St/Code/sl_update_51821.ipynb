{
 "cells": [
  {
   "cell_type": "markdown",
   "metadata": {},
   "source": [
    "# Default Import"
   ]
  },
  {
   "cell_type": "code",
   "execution_count": 1,
   "metadata": {
    "scrolled": true
   },
   "outputs": [
    {
     "data": {
      "text/markdown": [
       "<strong>Notebook run on: 2021-05-21 17:35 | by soge | Using ris library version: 2.2.1 | File Location: E:\\RIS\\Staff Folders\\Samuel\\Requests\\SH\\Speed Limits\\051821_Targee_St"
      ],
      "text/plain": [
       "<IPython.core.display.Markdown object>"
      ]
     },
     "execution_count": 1,
     "metadata": {},
     "output_type": "execute_result"
    }
   ],
   "source": [
    "from ris import pysqldb\n",
    "from IPython.display import Markdown, clear_output\n",
    "from sqlalchemy import create_engine\n",
    "import ris\n",
    "import getpass\n",
    "import datetime \n",
    "import pandas as pd\n",
    "import numpy as np\n",
    "import os\n",
    "import requests\n",
    "\n",
    "timestamp = datetime.datetime.now().strftime('%Y-%m-%d %H:%M')\n",
    "ts = datetime.datetime.now().strftime('%Y-%m-%d')\n",
    "\n",
    "Markdown('<strong>Notebook run on: {} | by {} | Using ris library version: {} | File Location: {}'.format(\n",
    "    timestamp, getpass.getuser(), ris.__version__, os.getcwd()\n",
    "))\n"
   ]
  },
  {
   "cell_type": "markdown",
   "metadata": {},
   "source": [
    "# Db connections"
   ]
  },
  {
   "cell_type": "code",
   "execution_count": 2,
   "metadata": {},
   "outputs": [
    {
     "name": "stdout",
     "output_type": "stream",
     "text": [
      "\n",
      "Additional database connection details required:\n",
      "User name (crashdata):soge\n",
      "Password (crashdata)········\n"
     ]
    }
   ],
   "source": [
    "try: \n",
    "    db.params['user']\n",
    "except:\n",
    "    db = pysqldb.DbConnect(type='PG', server='dotdevrhpgsql01', database='CRASHDATA')"
   ]
  },
  {
   "cell_type": "code",
   "execution_count": 3,
   "metadata": {},
   "outputs": [],
   "source": [
    "#sip = pysqldb.DbConnect(server='dotpgsql01', database='sip', type='PG', user = db.params['user'], password = db.params['password'])\n",
    "#forms = pysqldb.DbConnect(server='dot55sql01', database='forms', type='MS', user = 'arcgis', password = 'arcgis')"
   ]
  },
  {
   "cell_type": "markdown",
   "metadata": {},
   "source": [
    "#BACK UP SPEED LIMITS FILE\n",
    "#CREATE A TABLE WITH SPEED LIMITS DATA AND TODAY'S DATE\n",
    "#i.e Archive Copy"
   ]
  },
  {
   "cell_type": "code",
   "execution_count": 4,
   "metadata": {},
   "outputs": [
    {
     "name": "stdout",
     "output_type": "stream",
     "text": [
      "- Query run 2021-05-21 17:36:25.294000\n",
      " Query time: Query run in 179000 microseconds \n",
      " * Returned 0 rows *\n"
     ]
    }
   ],
   "source": [
    "db.query(\"\"\"\n",
    "CREATE TABLE archive_speed_limit_20d_52121 AS\n",
    "\n",
    "SELECT * FROM speed_limit_20d;\n",
    "\n",
    "GRANT ALL ON archive_speed_limit_20d_52121 TO PUBLIC;\n",
    "\"\"\")"
   ]
  },
  {
   "cell_type": "markdown",
   "metadata": {},
   "source": [
    "Streets: \n",
    "\n",
    "Milford Avenue from Ocean Terrace to Clove Road"
   ]
  },
  {
   "cell_type": "code",
   "execution_count": 5,
   "metadata": {},
   "outputs": [],
   "source": [
    "speed_limits = pd.read_excel('vzv_speed_limits_update.xlsx')"
   ]
  },
  {
   "cell_type": "code",
   "execution_count": 6,
   "metadata": {},
   "outputs": [
    {
     "data": {
      "text/html": [
       "<div>\n",
       "<style scoped>\n",
       "    .dataframe tbody tr th:only-of-type {\n",
       "        vertical-align: middle;\n",
       "    }\n",
       "\n",
       "    .dataframe tbody tr th {\n",
       "        vertical-align: top;\n",
       "    }\n",
       "\n",
       "    .dataframe thead th {\n",
       "        text-align: right;\n",
       "    }\n",
       "</style>\n",
       "<table border=\"1\" class=\"dataframe\">\n",
       "  <thead>\n",
       "    <tr style=\"text-align: right;\">\n",
       "      <th></th>\n",
       "      <th>segmentid</th>\n",
       "      <th>street</th>\n",
       "      <th>postvz_sl</th>\n",
       "      <th>postvz_sg</th>\n",
       "      <th>prevz_sl</th>\n",
       "      <th>prevz_sg</th>\n",
       "      <th>version</th>\n",
       "    </tr>\n",
       "  </thead>\n",
       "  <tbody>\n",
       "    <tr>\n",
       "      <th>0</th>\n",
       "      <td>15334</td>\n",
       "      <td>TARGEE STREET</td>\n",
       "      <td>30</td>\n",
       "      <td>YES</td>\n",
       "      <td>30</td>\n",
       "      <td>YES</td>\n",
       "      <td>20d</td>\n",
       "    </tr>\n",
       "    <tr>\n",
       "      <th>1</th>\n",
       "      <td>15344</td>\n",
       "      <td>TARGEE STREET</td>\n",
       "      <td>30</td>\n",
       "      <td>YES</td>\n",
       "      <td>30</td>\n",
       "      <td>YES</td>\n",
       "      <td>20d</td>\n",
       "    </tr>\n",
       "    <tr>\n",
       "      <th>2</th>\n",
       "      <td>15346</td>\n",
       "      <td>TARGEE STREET</td>\n",
       "      <td>30</td>\n",
       "      <td>YES</td>\n",
       "      <td>30</td>\n",
       "      <td>YES</td>\n",
       "      <td>20d</td>\n",
       "    </tr>\n",
       "  </tbody>\n",
       "</table>\n",
       "</div>"
      ],
      "text/plain": [
       "   segmentid         street  postvz_sl postvz_sg  prevz_sl prevz_sg version\n",
       "0      15334  TARGEE STREET         30       YES        30      YES     20d\n",
       "1      15344  TARGEE STREET         30       YES        30      YES     20d\n",
       "2      15346  TARGEE STREET         30       YES        30      YES     20d"
      ]
     },
     "execution_count": 6,
     "metadata": {},
     "output_type": "execute_result"
    }
   ],
   "source": [
    "speed_limits.loc[speed_limits.street == 'TARGEE STREET']"
   ]
  },
  {
   "cell_type": "code",
   "execution_count": 7,
   "metadata": {},
   "outputs": [],
   "source": [
    "targee_st = tuple(map(int,list(speed_limits.loc[speed_limits.street == 'TARGEE STREET'].segmentid)))\n",
    "other_st = tuple(map(int,list(speed_limits.loc[speed_limits.street != 'TARGEE STREET'].segmentid)))"
   ]
  },
  {
   "cell_type": "markdown",
   "metadata": {},
   "source": [
    "### Inserting into Speed limits table if necessary"
   ]
  },
  {
   "cell_type": "markdown",
   "metadata": {},
   "source": [
    "insert = db.dfquery(\"\"\"\n",
    "INSERT INTO speed_limit_19d(segmentid, street, postvz_sl, postvz_sg, prevz_sl, prevz_sg, version, geom)\n",
    "SELECT segmentid::int , street, 0 postvz_sl, 'NO'::varchar postvz_sg, 0 prevz_sl, 'NO'::varchar _prevz_sg, '19d' \"version\", geom\n",
    "FROM LION\n",
    "WHERE segmentid ::int IN  ('0312733', '0312802', '0312769')\n",
    "\"\"\")"
   ]
  },
  {
   "cell_type": "code",
   "execution_count": 20,
   "metadata": {},
   "outputs": [],
   "source": [
    "x = db.dfquery(\"\"\"\n",
    "SELECT segmentid, street, postvz_sl, postvz_sg, prevz_sl, prevz_sg, \n",
    "       version, geom\n",
    "FROM public.speed_limit_20d\n",
    "WHERE segmentid ::int IN  {} \n",
    "\"\"\".format(other_st))"
   ]
  },
  {
   "cell_type": "code",
   "execution_count": 27,
   "metadata": {},
   "outputs": [
    {
     "data": {
      "text/html": [
       "<div>\n",
       "<style scoped>\n",
       "    .dataframe tbody tr th:only-of-type {\n",
       "        vertical-align: middle;\n",
       "    }\n",
       "\n",
       "    .dataframe tbody tr th {\n",
       "        vertical-align: top;\n",
       "    }\n",
       "\n",
       "    .dataframe thead th {\n",
       "        text-align: right;\n",
       "    }\n",
       "</style>\n",
       "<table border=\"1\" class=\"dataframe\">\n",
       "  <thead>\n",
       "    <tr style=\"text-align: right;\">\n",
       "      <th></th>\n",
       "      <th>segmentid</th>\n",
       "      <th>street</th>\n",
       "      <th>postvz_sl</th>\n",
       "      <th>postvz_sg</th>\n",
       "      <th>prevz_sl</th>\n",
       "      <th>prevz_sg</th>\n",
       "      <th>version</th>\n",
       "      <th>geom</th>\n",
       "    </tr>\n",
       "  </thead>\n",
       "  <tbody>\n",
       "    <tr>\n",
       "      <th>65</th>\n",
       "      <td>12806</td>\n",
       "      <td>MILFORD DRIVE</td>\n",
       "      <td>30</td>\n",
       "      <td>NO</td>\n",
       "      <td>30</td>\n",
       "      <td>NO</td>\n",
       "      <td>20d</td>\n",
       "      <td>0105000020D70800000100000001020000000200000000...</td>\n",
       "    </tr>\n",
       "    <tr>\n",
       "      <th>66</th>\n",
       "      <td>12944</td>\n",
       "      <td>MILFORD DRIVE</td>\n",
       "      <td>30</td>\n",
       "      <td>NO</td>\n",
       "      <td>30</td>\n",
       "      <td>NO</td>\n",
       "      <td>20d</td>\n",
       "      <td>0105000020D70800000100000001020000000200000080...</td>\n",
       "    </tr>\n",
       "    <tr>\n",
       "      <th>67</th>\n",
       "      <td>13095</td>\n",
       "      <td>MILFORD DRIVE</td>\n",
       "      <td>30</td>\n",
       "      <td>NO</td>\n",
       "      <td>30</td>\n",
       "      <td>NO</td>\n",
       "      <td>20d</td>\n",
       "      <td>0105000020D70800000100000001020000000200000080...</td>\n",
       "    </tr>\n",
       "    <tr>\n",
       "      <th>68</th>\n",
       "      <td>13100</td>\n",
       "      <td>MILFORD DRIVE</td>\n",
       "      <td>30</td>\n",
       "      <td>NO</td>\n",
       "      <td>30</td>\n",
       "      <td>NO</td>\n",
       "      <td>20d</td>\n",
       "      <td>0105000020D70800000100000001020000000200000080...</td>\n",
       "    </tr>\n",
       "    <tr>\n",
       "      <th>69</th>\n",
       "      <td>13107</td>\n",
       "      <td>MILFORD DRIVE</td>\n",
       "      <td>30</td>\n",
       "      <td>NO</td>\n",
       "      <td>30</td>\n",
       "      <td>NO</td>\n",
       "      <td>20d</td>\n",
       "      <td>0105000020D70800000100000001020000000200000000...</td>\n",
       "    </tr>\n",
       "    <tr>\n",
       "      <th>70</th>\n",
       "      <td>13112</td>\n",
       "      <td>MILFORD DRIVE</td>\n",
       "      <td>30</td>\n",
       "      <td>NO</td>\n",
       "      <td>30</td>\n",
       "      <td>NO</td>\n",
       "      <td>20d</td>\n",
       "      <td>0105000020D70800000100000001020000000200000080...</td>\n",
       "    </tr>\n",
       "    <tr>\n",
       "      <th>71</th>\n",
       "      <td>13116</td>\n",
       "      <td>MILFORD DRIVE</td>\n",
       "      <td>30</td>\n",
       "      <td>NO</td>\n",
       "      <td>30</td>\n",
       "      <td>NO</td>\n",
       "      <td>20d</td>\n",
       "      <td>0105000020D70800000100000001020000000200000000...</td>\n",
       "    </tr>\n",
       "  </tbody>\n",
       "</table>\n",
       "</div>"
      ],
      "text/plain": [
       "    segmentid         street  postvz_sl postvz_sg  prevz_sl prevz_sg version  \\\n",
       "65      12806  MILFORD DRIVE         30        NO        30       NO     20d   \n",
       "66      12944  MILFORD DRIVE         30        NO        30       NO     20d   \n",
       "67      13095  MILFORD DRIVE         30        NO        30       NO     20d   \n",
       "68      13100  MILFORD DRIVE         30        NO        30       NO     20d   \n",
       "69      13107  MILFORD DRIVE         30        NO        30       NO     20d   \n",
       "70      13112  MILFORD DRIVE         30        NO        30       NO     20d   \n",
       "71      13116  MILFORD DRIVE         30        NO        30       NO     20d   \n",
       "\n",
       "                                                 geom  \n",
       "65  0105000020D70800000100000001020000000200000000...  \n",
       "66  0105000020D70800000100000001020000000200000080...  \n",
       "67  0105000020D70800000100000001020000000200000080...  \n",
       "68  0105000020D70800000100000001020000000200000080...  \n",
       "69  0105000020D70800000100000001020000000200000000...  \n",
       "70  0105000020D70800000100000001020000000200000080...  \n",
       "71  0105000020D70800000100000001020000000200000000...  "
      ]
     },
     "execution_count": 27,
     "metadata": {},
     "output_type": "execute_result"
    }
   ],
   "source": [
    "x.loc[x.street == 'MILFORD DRIVE']"
   ]
  },
  {
   "cell_type": "code",
   "execution_count": 16,
   "metadata": {},
   "outputs": [],
   "source": [
    "#segs = tuple(map(int,list(x.segmentid)))\n",
    "segs = tuple(map(int,segments))"
   ]
  },
  {
   "cell_type": "code",
   "execution_count": 11,
   "metadata": {
    "scrolled": true
   },
   "outputs": [
    {
     "name": "stdout",
     "output_type": "stream",
     "text": [
      "- Query run 2021-05-21 17:50:01.686000\n",
      " Query time: Query run in 24000 microseconds \n",
      " * Returned 0 rows *\n"
     ]
    }
   ],
   "source": [
    "y = db.query(\"\"\"UPDATE public.speed_limit_20d\n",
    "                SET postvz_sl = 30\n",
    "                WHERE segmentid in {}\n",
    "                \"\"\".format(targee_st))"
   ]
  },
  {
   "cell_type": "code",
   "execution_count": null,
   "metadata": {},
   "outputs": [],
   "source": []
  }
 ],
 "metadata": {
  "kernelspec": {
   "display_name": "Python 2",
   "language": "python",
   "name": "python2"
  },
  "language_info": {
   "codemirror_mode": {
    "name": "ipython",
    "version": 2
   },
   "file_extension": ".py",
   "mimetype": "text/x-python",
   "name": "python",
   "nbconvert_exporter": "python",
   "pygments_lexer": "ipython2",
   "version": "2.7.16"
  }
 },
 "nbformat": 4,
 "nbformat_minor": 2
}
