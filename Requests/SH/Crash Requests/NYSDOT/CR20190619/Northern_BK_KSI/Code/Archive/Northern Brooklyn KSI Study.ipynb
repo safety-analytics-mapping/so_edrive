{
 "cells": [
  {
   "cell_type": "markdown",
   "metadata": {},
   "source": [
    "# Northern Brooklyn KSI Study"
   ]
  },
  {
   "cell_type": "markdown",
   "metadata": {},
   "source": [
    "#### Output should be table with all the streets within region and KSI statistics in that region\n"
   ]
  },
  {
   "cell_type": "markdown",
   "metadata": {},
   "source": [
    "####### Steps: \n",
    "\n",
    "####### 1. Convert the shapefile into a table with geometry\n",
    "####### 2. Spatial join the shapefile with nysdot_all injury data\n",
    "####### 3. Retrieve table with injury severity statistics that overlap with selected region\n"
   ]
  },
  {
   "cell_type": "code",
   "execution_count": 2,
   "metadata": {},
   "outputs": [
    {
     "name": "stdout",
     "output_type": "stream",
     "text": [
      "Notebook run: 2019-06-14 10:25\n"
     ]
    }
   ],
   "source": [
    "from ris import db2\n",
    "from ris import pg_import_export_shps as shp\n",
    "from IPython.display import clear_output\n",
    "import datetime\n",
    "from functools import reduce\n",
    "import pandas as pd\n",
    "from pandas import DataFrame\n",
    "from pandas import ExcelWriter\n",
    "import numpy as np\n",
    "import os\n",
    "\n",
    "\n",
    "clear_output()\n",
    "timestamp = datetime.datetime.now().strftime('%Y-%m-%d %H:%M')\n",
    "print 'Notebook run: {}'.format(timestamp)\n",
    "\n",
    "# %load_ext sql "
   ]
  },
  {
   "cell_type": "code",
   "execution_count": null,
   "metadata": {},
   "outputs": [
    {
     "name": "stdout",
     "output_type": "stream",
     "text": [
      "User name (CRASHDATA):soge\n",
      "Password (CRASHDATA)········\n"
     ]
    }
   ],
   "source": [
    "#db = db2.PostgresDb('dotdevpgsql02', 'GISGRID', quiet = True)\n",
    "db = db2.PostgresDb('dotdevpgsql02', 'CRASHDATA', quiet = True)\n",
    "#exporting study area to pg database\n",
    "shp.import_shp_to_pg('C:\\Users\\soge\\Desktop\\Jupyter\\Shps\\Northern_Brooklyn_Study_Area\\Study_Area.shp', db, schema='working', precision=False, \n",
    "                     permission=True, gdal_data=r\"C:\\Program Files (x86)\\GDAL\\gdal-data\") \n"
   ]
  },
  {
   "cell_type": "code",
   "execution_count": 80,
   "metadata": {
    "collapsed": true
   },
   "outputs": [
    {
     "name": "stdout",
     "output_type": "stream",
     "text": [
      "User name (CRASHDATA):soge\n",
      "Password (CRASHDATA)········\n",
      "   severity  cnt\n",
      "0         A  535\n",
      "1        AA   21\n",
      "2       AAA    5\n",
      "3     AAAAA    1\n",
      "4     AAACC    2\n",
      "5       AAB    1\n",
      "6      AABC    1\n",
      "7       AAC    2\n",
      "8        AB    7\n",
      "9       ABB    3\n",
      "10      ABC    3\n",
      "11    ABCCC    2\n",
      "12       AC   29\n",
      "13      ACA    1\n",
      "14     ACBB    1\n",
      "15     ACBC    1\n",
      "16      ACC    6\n",
      "17     ACCC    6\n",
      "18    ACXCB    1\n",
      "19     ACXX    1\n",
      "20       AK    1\n",
      "21       BA    1\n",
      "22     BBBA    1\n",
      "23       CA    4\n",
      "24     CAAA    1\n",
      "25      CAB    1\n",
      "26    CABCC    2\n",
      "27      CAC    2\n",
      "28     CACC    2\n",
      "29    CACCC    1\n",
      "30      CCA    1\n",
      "31     CCAC    1\n",
      "32       KA    1\n",
      "33     KABA    1\n"
     ]
    }
   ],
   "source": [
    "#DONE FROM CRASHDATABASE\n",
    "\n",
    "\"\"\"\n",
    "pgdb = db2.PostgresDb('dotdevpgsql02', 'CRASHDATA', quiet = True) #data connection\n",
    "qry = (db2.query_to_table(pgdb, \"\"\"\n",
    "                                select inj as severity, count(inj) as cnt\n",
    "                                from (\n",
    "                                SELECT b.ext_of_inj inj, b.geom\n",
    "                                FROM working.study_area a \n",
    "                                join public.nysdot_all b\n",
    "                                on ST_DWithin(a.wkb_geometry, b.geom, 2)\n",
    "                                where ext_of_inj is not null\n",
    "                                and (ext_of_inj) like '%A%'\n",
    "                                ) c\n",
    "                                group by inj\n",
    "\n",
    "                            \"\"\")\n",
    "              )\n",
    "print(qry)\n",
    "\n",
    "\n",
    "for i,j in zip(qry.severity,qry.cnt):\n",
    "    print(i,j)\n",
    "\n",
    "for i in qry.severity:\n",
    "    print i\n",
    "    \n",
    "\n",
    "\n",
    "count=0\n",
    "for i in qry.severity:\n",
    "    if 'A' in i:\n",
    "        print i, i.count('A')\n",
    "        count+=1\n",
    "print(count)\n",
    "\n",
    "for i in qry.cnt:\n",
    "    print i\n",
    "\n",
    "for i,j in zip(qry.severity, qry.cnt):\n",
    "    if 'A' in i:\n",
    "        print(i,j,j*i.count('A'))\n",
    "\n",
    "sev_sum = 0 \n",
    "for i,j in zip(qry.severity, qry.cnt):\n",
    "    if 'A' in i:\n",
    "        #print(i,j,j*i.count('A'))\n",
    "        sev_sum+=j*i.count('A')\n",
    "print(sev_sum)\n",
    "\n",
    "df.to_csv('example.csv',index=False)\n",
    "\n",
    "\"\"\""
   ]
  },
  {
   "cell_type": "code",
   "execution_count": 3,
   "metadata": {},
   "outputs": [
    {
     "name": "stdout",
     "output_type": "stream",
     "text": [
      "User name (GISGRID):soge\n",
      "Password (GISGRID)········\n",
      "   severity  cnt\n",
      "0         A  239\n",
      "1        AA   22\n",
      "2       AAA    4\n",
      "3     AAAAA    1\n",
      "4     AAAAC    1\n",
      "5     AAACC    2\n",
      "6       AAB    1\n",
      "7      AABC    1\n",
      "8       AAC    2\n",
      "9        AB    4\n",
      "10      ABB    4\n",
      "11      ABC    3\n",
      "12    ABCCC    2\n",
      "13       AC   31\n",
      "14     ACBC    1\n",
      "15      ACC    4\n",
      "16     ACCC    5\n",
      "17       AK    1\n",
      "18       BA    1\n",
      "19     BBBA    1\n",
      "20       CA    3\n",
      "21    CABCC    1\n",
      "22      CAC    1\n",
      "23     CACC    2\n",
      "24       KA    1\n",
      "25     KABA    1\n"
     ]
    }
   ],
   "source": [
    "pgdb = db2.PostgresDb('dotdevpgsql02', 'GISGRID', quiet = True) #data connection\n",
    "qry = (db2.query_to_table(pgdb, \"\"\"                                \n",
    "                select inj as severity, count(inj) as cnt\n",
    "                from (\n",
    "                SELECT b.ext_of_inj inj, b.geom\n",
    "                FROM working.study_area a \n",
    "                join public.nysdot_all b\n",
    "                on ST_DWithin(st_setsrid(a.wkb_geometry, 2263), st_setsrid(ST_MakePoint(b.st_x, b.st_y),2263), 2)\n",
    "                where ext_of_inj is not null\n",
    "                and (ext_of_inj) like '%A%'\n",
    "                and b.st_x is not null\n",
    "                and b.st_y is not null\n",
    "                ) c\n",
    "                group by inj\n",
    "\n",
    "                            \"\"\")\n",
    "              )\n",
    "print(qry)"
   ]
  },
  {
   "cell_type": "code",
   "execution_count": 5,
   "metadata": {},
   "outputs": [
    {
     "name": "stdout",
     "output_type": "stream",
     "text": [
      "   count                               now\n",
      "0     35  2019-06-14 10:25:19.094880-04:00\n"
     ]
    }
   ],
   "source": [
    "qry2 = (db2.query_to_table(pgdb, \"\"\"                                \n",
    "            SELECT count(b.id_), now()\n",
    "            FROM working.study_area a \n",
    "            join public.fatality_nycdot_current b\n",
    "            on ST_DWithin(st_setsrid(a.wkb_geometry, 2263), st_setsrid(ST_MakePoint(b.st_x, b.st_y),2263), 2)\n",
    "            where b.st_x is not null\n",
    "            and b.st_y is not null\n",
    "\n",
    "                            \"\"\")\n",
    "              )\n",
    "print(qry2)"
   ]
  },
  {
   "cell_type": "code",
   "execution_count": null,
   "metadata": {},
   "outputs": [],
   "source": [
    "#for i,j in zip(qry.severity,qry.cnt):\n",
    "#    print(i,j)\n",
    "\n",
    "#for i in qry.severity:\n",
    "#    print i\n",
    "\n",
    "#count=0\n",
    "#for i in qry.severity:\n",
    "#    if 'A' in i:\n",
    "#        print i, i.count('A')\n",
    "#        count+=1\n",
    "#print(count)\n",
    "\n",
    "#for i in qry.cnt:\n",
    "#    print i"
   ]
  },
  {
   "cell_type": "code",
   "execution_count": 6,
   "metadata": {
    "collapsed": true
   },
   "outputs": [
    {
     "name": "stdout",
     "output_type": "stream",
     "text": [
      "('A', 535)\n",
      "('AA', 21)\n",
      "('AAA', 5)\n",
      "('AAAAA', 1)\n",
      "('AAACC', 2)\n",
      "('AAB', 1)\n",
      "('AABC', 1)\n",
      "('AAC', 2)\n",
      "('AB', 7)\n",
      "('ABB', 3)\n",
      "('ABC', 3)\n",
      "('ABCCC', 2)\n",
      "('AC', 29)\n",
      "('ACA', 1)\n",
      "('ACBB', 1)\n",
      "('ACBC', 1)\n",
      "('ACC', 6)\n",
      "('ACCC', 6)\n",
      "('ACXCB', 1)\n",
      "('ACXX', 1)\n",
      "('AK', 1)\n",
      "('BA', 1)\n",
      "('BBBA', 1)\n",
      "('CA', 4)\n",
      "('CAAA', 1)\n",
      "('CAB', 1)\n",
      "('CABCC', 2)\n",
      "('CAC', 2)\n",
      "('CACC', 2)\n",
      "('CACCC', 1)\n",
      "('CCA', 1)\n",
      "('CCAC', 1)\n",
      "('KA', 1)\n",
      "('KABA', 1)\n"
     ]
    }
   ],
   "source": [
    "for i,j in zip(qry.severity, qry.cnt):\n",
    "    if 'A' in i:\n",
    "        print(i,j,j*i.count('A'))"
   ]
  },
  {
   "cell_type": "code",
   "execution_count": 4,
   "metadata": {},
   "outputs": [
    {
     "name": "stdout",
     "output_type": "stream",
     "text": [
      "385\n"
     ]
    }
   ],
   "source": [
    "sev_sum = 0 \n",
    "for i,j in zip(qry.severity, qry.cnt):\n",
    "    if 'A' in i:\n",
    "        #print(i,j,j*i.count('A'))\n",
    "        sev_sum+=j*i.count('A')\n",
    "print(sev_sum)"
   ]
  },
  {
   "cell_type": "code",
   "execution_count": null,
   "metadata": {},
   "outputs": [],
   "source": [
    "df.to_csv('example.csv',index=False)"
   ]
  }
 ],
 "metadata": {
  "kernelspec": {
   "display_name": "Python 2",
   "language": "python",
   "name": "python2"
  },
  "language_info": {
   "codemirror_mode": {
    "name": "ipython",
    "version": 2
   },
   "file_extension": ".py",
   "mimetype": "text/x-python",
   "name": "python",
   "nbconvert_exporter": "python",
   "pygments_lexer": "ipython2",
   "version": "2.7.10"
  }
 },
 "nbformat": 4,
 "nbformat_minor": 2
}
