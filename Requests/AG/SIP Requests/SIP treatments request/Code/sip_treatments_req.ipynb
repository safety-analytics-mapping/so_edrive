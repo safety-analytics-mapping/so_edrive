{
 "cells": [
  {
   "cell_type": "markdown",
   "metadata": {},
   "source": [
    "# Default Import"
   ]
  },
  {
   "cell_type": "code",
   "execution_count": 1,
   "metadata": {
    "scrolled": true
   },
   "outputs": [
    {
     "data": {
      "text/markdown": [
       "<strong>Notebook run on: 2020-07-28 15:11 | by soge | Using ris library version: 1.5.6 | File Location: E:\\RIS\\Staff Folders\\Samuel\\Requests\\AG\\SIP treatments request"
      ],
      "text/plain": [
       "<IPython.core.display.Markdown object>"
      ]
     },
     "execution_count": 1,
     "metadata": {},
     "output_type": "execute_result"
    }
   ],
   "source": [
    "from ris import pysqldb\n",
    "from IPython.display import Markdown, clear_output\n",
    "from sqlalchemy import create_engine\n",
    "import ris\n",
    "import getpass\n",
    "import datetime \n",
    "import pandas as pd\n",
    "import numpy as np\n",
    "import os\n",
    "import requests\n",
    "\n",
    "timestamp = datetime.datetime.now().strftime('%Y-%m-%d %H:%M')\n",
    "ts = datetime.datetime.now().strftime('%Y-%m-%d')\n",
    "\n",
    "Markdown('<strong>Notebook run on: {} | by {} | Using ris library version: {} | File Location: {}'.format(\n",
    "    timestamp, getpass.getuser(), ris.__version__, os.getcwd()\n",
    "))\n"
   ]
  },
  {
   "cell_type": "markdown",
   "metadata": {},
   "source": [
    "# Db connections"
   ]
  },
  {
   "cell_type": "code",
   "execution_count": 2,
   "metadata": {},
   "outputs": [
    {
     "name": "stdout",
     "output_type": "stream",
     "text": [
      "\n",
      "Additional database connection details required:\n",
      "User name (sip):soge\n",
      "Password (sip)········\n",
      "Database connection (PG) to sip on dotpgsql01 - user: soge \n",
      "Connection established 2020-07-28 15:11:32\n"
     ]
    }
   ],
   "source": [
    "try: \n",
    "    db.params['user']\n",
    "except:\n",
    "    db = pysqldb.DbConnect(type='PG', server='dotpgsql01', database='sip')"
   ]
  },
  {
   "cell_type": "code",
   "execution_count": 3,
   "metadata": {},
   "outputs": [],
   "source": [
    "#sip = pysqldb.DbConnect(server='dotpgsql01', database='sip', type='PG', user = db.params['user'], password = db.params['password'])\n",
    "#forms = pysqldb.DbConnect(server='dot55sql01', database='forms', type='MS', user = 'arcgis', password = 'arcgis')"
   ]
  },
  {
   "cell_type": "markdown",
   "metadata": {},
   "source": [
    "# Pedestrian Treatments Desired:\n",
    "\n",
    "### New Crossings\n",
    "### Sidewalk expansions\n",
    "### Ped Plaza\n",
    "### Neckdowns (all types)\n",
    "### Refuge Islands\n",
    "### Other Ped Space\n"
   ]
  },
  {
   "cell_type": "code",
   "execution_count": 7,
   "metadata": {},
   "outputs": [],
   "source": [
    "sip_treatments = db.dfquery(\"\"\" -- Querying questions table to get qid's for specific treatments\n",
    "                                -- Querying questions path table to get all descendants of desired treatments\n",
    "\n",
    "                                WITH data as (\n",
    "                                SELECT sq.qid, sq.question, sqp.*\n",
    "                                FROM sip_questions sq\n",
    "                                JOIN sip_questions_path sqp\n",
    "                                ON sq.qid = sqp.ancestor\n",
    "                                WHERE sq.question in ('New Crossings', 'Sidewalk Expansions', 'Ped Plaza', 'Neckdown', 'Ped Refuge Islands', 'Other Ped Space')\n",
    "                                )\n",
    "\n",
    "                                -- Needed: pid, tid, pjct_name, sip_year, start_date, end_date, pm, unit\n",
    "                                -- Also grabbing segmentids and nodeids\n",
    "                                -- Joining to lookup table (sl) to get status description\n",
    "                                -- Joining to lookup table (su) to get unit description\n",
    "\n",
    "                                ,data2 as(\n",
    "\n",
    "                                SELECT tid, question treatment, pid_fk, pjct_name, sip_year, start_date, end_date, pm, unit, su.description, sl.description status_desc, segmentid::int, nodeid::int \n",
    "                                FROM( SELECT  distinct st.tid, data.question, st.pid_fk, sp.pjct_name, sp.sip_year, sp.start_date, sp.end_date, sp.pm, sp.unit, sp.status::int, segmentid::int, nodeid::int\n",
    "                                      FROM sip_treatments st\n",
    "                                      JOIN sip_projects sp\n",
    "                                      ON st.pid_fk=sp.pid\n",
    "                                      JOIN public.sip_treatments_geo stg\n",
    "                                      ON st.tid=stg.tid_fk\n",
    "                                      JOIN data \n",
    "                                      ON st.breadcrumbid = data.descendant\n",
    "                                      and sp.status::int = 15\n",
    "                                ) sips\n",
    "                                JOIN sip_lookup sl\n",
    "                                ON sips.status = sl.lookupid\n",
    "                                JOIN sip_lookup su\n",
    "                                ON sips.unit = su.lookupid::varchar\n",
    "                                )\n",
    "\n",
    "                                SELECT * \n",
    "                                FROM data2\n",
    "                                WHERE nodeid = 0\n",
    "\n",
    "                                UNION\n",
    "\n",
    "                                -- Grabbing all segments from clion ending in treatment nodeids\n",
    "\n",
    "                                SELECT * FROM (\n",
    "                                SELECT tid, treatment, pid_fk, pjct_name, sip_year, start_date, end_date, pm, unit, description, status_desc, cl.segmentid::int, nodeid \n",
    "                                FROM data2 d2\n",
    "                                JOIN clion cl\n",
    "                                ON d2.nodeid = cl.nodeidto::int\n",
    "                                WHERE d2.nodeid != 0\n",
    "\n",
    "                                UNION\n",
    "\n",
    "                                SELECT tid, treatment, pid_fk, pjct_name, sip_year, start_date, end_date, pm, unit, description, status_desc, cl.segmentid::int, nodeid\n",
    "                                FROM data2 d2\n",
    "                                JOIN clion cl\n",
    "                                ON d2.nodeid = cl.nodeidfrom::int\n",
    "                                WHERE d2.nodeid != 0\n",
    "                                )nodes_to_segments\n",
    "                                ORDER BY segmentid\n",
    "\n",
    "                                \"\"\")"
   ]
  },
  {
   "cell_type": "code",
   "execution_count": 8,
   "metadata": {},
   "outputs": [],
   "source": [
    "sip_treatments.to_csv('sip_pedestrian_treatments.csv', index = False)"
   ]
  },
  {
   "cell_type": "markdown",
   "metadata": {},
   "source": [
    "#### pysqldb is not working so shapefile created via qgis"
   ]
  },
  {
   "cell_type": "raw",
   "metadata": {
    "scrolled": false
   },
   "source": [
    "path = r'E:\\RIS\\Staff Folders\\Samuel\\Requests\\AG\\SIP treatments request'\n",
    "\n",
    "db.query_to_shp(\"\"\" -- Querying questions table to get qid's for specific treatments\n",
    "                    -- Querying questions path table to get all descendants of desired treatments\n",
    "\n",
    "                    WITH data as (\n",
    "                    SELECT sq.qid, sq.question, sqp.*\n",
    "                    FROM sip_questions sq\n",
    "                    JOIN sip_questions_path sqp\n",
    "                    ON sq.qid = sqp.ancestor\n",
    "                    WHERE sq.question in ('New Crossings', 'Sidewalk Expansions', 'Ped Plaza', 'Neckdown', 'Ped Refuge Islands', 'Other Ped Space')\n",
    "                    )\n",
    "\n",
    "                    -- Needed: pid, tid, pjct_name, sip_year, start_date, end_date, pm, unit\n",
    "                    -- Also grabbing segmentids and nodeids\n",
    "                    -- Joining to lookup table (sl) to get status description\n",
    "                    -- Joining to lookup table (su) to get unit description\n",
    "\n",
    "                    ,data2 as(\n",
    "\n",
    "                    SELECT tid, question, pid_fk, pjct_name, sip_year, start_date, end_date, pm, unit, su.description, sl.description status_desc, segmentid::int, nodeid::int, geom\n",
    "                    FROM( SELECT  distinct st.tid, data.question, st.pid_fk, sp.pjct_name, sp.sip_year, sp.start_date, sp.end_date, sp.pm, sp.unit, sp.status::int, segmentid::int, nodeid::int, geom\n",
    "                          FROM sip_treatments st\n",
    "                          JOIN sip_projects sp\n",
    "                          ON st.pid_fk=sp.pid\n",
    "                          JOIN public.sip_treatments_geo stg\n",
    "                          ON st.tid=stg.tid_fk\n",
    "                          JOIN data \n",
    "                          ON st.breadcrumbid = data.descendant\n",
    "                          and sp.status::int = 15\n",
    "                    ) sips\n",
    "                    JOIN sip_lookup sl\n",
    "                    ON sips.status = sl.lookupid\n",
    "                    JOIN sip_lookup su\n",
    "                    ON sips.unit = su.lookupid::varchar\n",
    "                    )\n",
    "\n",
    "                    SELECT * \n",
    "                    FROM data2\n",
    "                    WHERE nodeid = 0\n",
    "\n",
    "                    UNION\n",
    "\n",
    "                    -- Grabbing all segments from clion ending in treatment nodeids\n",
    "\n",
    "                    SELECT * FROM (\n",
    "                    SELECT tid, question, pid_fk, pjct_name, sip_year, start_date, end_date, pm, unit, description, status_desc, cl.segmentid::int, nodeid, cl.geom\n",
    "                    FROM data2 d2\n",
    "                    JOIN clion cl\n",
    "                    ON d2.nodeid = cl.nodeidto::int\n",
    "                    WHERE d2.nodeid != 0\n",
    "\n",
    "                    UNION\n",
    "\n",
    "                    SELECT tid, question, pid_fk, pjct_name, sip_year, start_date, end_date, pm, unit, description, status_desc, cl.segmentid::int, nodeid, cl.geom\n",
    "                    FROM data2 d2\n",
    "                    JOIN clion cl\n",
    "                    ON d2.nodeid = cl.nodeidfrom::int\n",
    "                    WHERE d2.nodeid != 0\n",
    "                    )nodes_to_segments\n",
    "                    ORDER BY segmentid\n",
    "\n",
    "                    \"\"\", path = path, shp_name = 'sip_pedestrian_treatments.shp')"
   ]
  }
 ],
 "metadata": {
  "kernelspec": {
   "display_name": "Python 2",
   "language": "python",
   "name": "python2"
  },
  "language_info": {
   "codemirror_mode": {
    "name": "ipython",
    "version": 2
   },
   "file_extension": ".py",
   "mimetype": "text/x-python",
   "name": "python",
   "nbconvert_exporter": "python",
   "pygments_lexer": "ipython2",
   "version": "2.7.16"
  }
 },
 "nbformat": 4,
 "nbformat_minor": 2
}
