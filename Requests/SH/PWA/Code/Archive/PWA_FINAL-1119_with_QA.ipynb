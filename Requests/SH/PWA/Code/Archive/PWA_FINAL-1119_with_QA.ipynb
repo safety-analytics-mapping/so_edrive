{
 "cells": [
  {
   "cell_type": "code",
   "execution_count": 6,
   "metadata": {
    "scrolled": false
   },
   "outputs": [
    {
     "name": "stdout",
     "output_type": "stream",
     "text": [
      "Notebook run: 2019-12-05 11:06\n",
      "E:\\RIS\\Staff Folders\\Samuel\\Requests\\SH\\PWA\\Most Recent\\Final\n"
     ]
    }
   ],
   "source": [
    "from ris import db2  #library designed for SQL database connection and querying\n",
    "from IPython.display import clear_output\n",
    "from collections import defaultdict\n",
    "from collections import defaultdict, namedtuple\n",
    "import datetime \n",
    "import pandas as pd\n",
    "import numpy as np\n",
    "import os\n",
    "from sqlalchemy import create_engine\n",
    "import pwa_control_1119 as control\n",
    "from Df_to_PG import* \n",
    "import preventable_crash_1028 as pc\n",
    "import pwa_node_universe_1106 as nu\n",
    "\n",
    "clear_output()\n",
    "timestamp = datetime.datetime.now().strftime('%Y-%m-%d %H:%M')\n",
    "ts = datetime.datetime.now().strftime('%Y-%m-%d')\n",
    "print 'Notebook run: {}'.format(timestamp)\n",
    "print os.getcwd()\n",
    "# %load_ext sql "
   ]
  },
  {
   "cell_type": "code",
   "execution_count": 7,
   "metadata": {
    "scrolled": false
   },
   "outputs": [
    {
     "name": "stdout",
     "output_type": "stream",
     "text": [
      "User name (CRASHDATA):soge\n",
      "Password (CRASHDATA)········\n"
     ]
    }
   ],
   "source": [
    "cdb = db2.PostgresDb('DOTDEVRHPGSQL01', 'CRASHDATA', quiet = True)\n",
    "gdb = db2.SqlDb('dotgissql01', 'gisgrid', user='GISUSER', db_pass='GISUSER') #Database Connection\n",
    "msdb = db2.SqlDb('DOT55SQL01', 'DataWarehouse', user='arcgis', db_pass='arcgis') #Database Connection"
   ]
  },
  {
   "cell_type": "code",
   "execution_count": 8,
   "metadata": {},
   "outputs": [],
   "source": [
    "def pwa(cdb,gdb,msdb):\n",
    "    \n",
    "    c1 = control.given_control(cdb,gdb,msdb)\n",
    "    c2 = c1.copy(deep=True)   \n",
    "    pc_data = pc.run()\n",
    "    vc= pc_data[2]\n",
    "    \n",
    "    raw_data = c1.merge(pc_data[0], how='left', on='nodeid')\n",
    "    summary_data = c2.merge(pc_data[1], how='left', on='nodeid')\n",
    "    final = summary_data.loc[summary_data.preventable_crashes.notnull() & summary_data.control_type.isnull()]\n",
    "    \n",
    "    raw_data.to_csv('raw_data_{}.csv'.format(ts), encoding = 'UTF-8',index=False)\n",
    "    vc.to_csv('valid_crashes{}.csv'.format(ts), encoding = 'UTF-8',index=False)\n",
    "    final.to_csv('final_data_{}.csv'.format(ts), encoding = 'UTF-8',index=False)\n",
    "    \n",
    "    return [raw_data,summary_data,final]"
   ]
  },
  {
   "cell_type": "code",
   "execution_count": 9,
   "metadata": {},
   "outputs": [
    {
     "name": "stdout",
     "output_type": "stream",
     "text": [
      "'has_control' 1.62 sec\n",
      "Warning:\n",
      "\tMissing SQL Server Native Client 10.0 datetime2 will not be interpreted correctly\n",
      "\n",
      "'has_control' 417.93 sec\n",
      "'nodes' 0.80 sec\n",
      "Warning:\n",
      "\tMissing SQL Server Native Client 10.0                 datetime2 will not be interpreted correctly\n",
      "\n",
      "Database connection (MS) to forms on dot55sql01 - user: arcgis \n",
      "Connection established 2019-12-05 11:20:35\n",
      "Query run in 2000 microseconds\n",
      "Warning:\n",
      "\tMissing SQL Server Native Client 10.0                 datetime2 will not be interpreted correctly\n",
      "\n",
      "Query run in 0:03:23.428000 seconds\n",
      "Warning:\n",
      "\tMissing SQL Server Native Client 10.0                 datetime2 will not be interpreted correctly\n",
      "\n"
     ]
    },
    {
     "ename": "IndexError",
     "evalue": "list index out of range",
     "output_type": "error",
     "traceback": [
      "\u001b[1;31m---------------------------------------------------------------------------\u001b[0m",
      "\u001b[1;31mIndexError\u001b[0m                                Traceback (most recent call last)",
      "\u001b[1;32m<ipython-input-9-b15e7978ca78>\u001b[0m in \u001b[0;36m<module>\u001b[1;34m()\u001b[0m\n\u001b[0;32m      3\u001b[0m \u001b[1;31m#the final data which is all the intersections which have 5 preventable crashes within a year\u001b[0m\u001b[1;33m\u001b[0m\u001b[1;33m\u001b[0m\u001b[0m\n\u001b[0;32m      4\u001b[0m \u001b[1;33m\u001b[0m\u001b[0m\n\u001b[1;32m----> 5\u001b[1;33m \u001b[0mpwa_data\u001b[0m \u001b[1;33m=\u001b[0m \u001b[0mpwa\u001b[0m\u001b[1;33m(\u001b[0m\u001b[0mcdb\u001b[0m\u001b[1;33m,\u001b[0m\u001b[0mgdb\u001b[0m\u001b[1;33m,\u001b[0m\u001b[0mmsdb\u001b[0m\u001b[1;33m)\u001b[0m\u001b[1;33m\u001b[0m\u001b[0m\n\u001b[0m",
      "\u001b[1;32m<ipython-input-8-469def95f7d1>\u001b[0m in \u001b[0;36mpwa\u001b[1;34m(cdb, gdb, msdb)\u001b[0m\n\u001b[0;32m      4\u001b[0m     \u001b[0mc2\u001b[0m \u001b[1;33m=\u001b[0m \u001b[0mc1\u001b[0m\u001b[1;33m.\u001b[0m\u001b[0mcopy\u001b[0m\u001b[1;33m(\u001b[0m\u001b[0mdeep\u001b[0m\u001b[1;33m=\u001b[0m\u001b[0mTrue\u001b[0m\u001b[1;33m)\u001b[0m\u001b[1;33m\u001b[0m\u001b[0m\n\u001b[0;32m      5\u001b[0m     \u001b[0mpc_data\u001b[0m \u001b[1;33m=\u001b[0m \u001b[0mpc\u001b[0m\u001b[1;33m.\u001b[0m\u001b[0mrun\u001b[0m\u001b[1;33m(\u001b[0m\u001b[1;33m)\u001b[0m\u001b[1;33m\u001b[0m\u001b[0m\n\u001b[1;32m----> 6\u001b[1;33m     \u001b[0mvc\u001b[0m\u001b[1;33m=\u001b[0m \u001b[0mpc_data\u001b[0m\u001b[1;33m[\u001b[0m\u001b[1;36m2\u001b[0m\u001b[1;33m]\u001b[0m\u001b[1;33m\u001b[0m\u001b[0m\n\u001b[0m\u001b[0;32m      7\u001b[0m \u001b[1;33m\u001b[0m\u001b[0m\n\u001b[0;32m      8\u001b[0m     \u001b[0mraw_data\u001b[0m \u001b[1;33m=\u001b[0m \u001b[0mc1\u001b[0m\u001b[1;33m.\u001b[0m\u001b[0mmerge\u001b[0m\u001b[1;33m(\u001b[0m\u001b[0mpc_data\u001b[0m\u001b[1;33m[\u001b[0m\u001b[1;36m0\u001b[0m\u001b[1;33m]\u001b[0m\u001b[1;33m,\u001b[0m \u001b[0mhow\u001b[0m\u001b[1;33m=\u001b[0m\u001b[1;34m'left'\u001b[0m\u001b[1;33m,\u001b[0m \u001b[0mon\u001b[0m\u001b[1;33m=\u001b[0m\u001b[1;34m'nodeid'\u001b[0m\u001b[1;33m)\u001b[0m\u001b[1;33m\u001b[0m\u001b[0m\n",
      "\u001b[1;31mIndexError\u001b[0m: list index out of range"
     ]
    }
   ],
   "source": [
    "#pwa data is a list that contain all the raw data for signalized and unsignalized intersections with all crashes,\n",
    "#the summary data that filters out intersections with less than 5 preventable crashes, and \n",
    "#the final data which is all the intersections which have 5 preventable crashes within a year\n",
    "\n",
    "pwa_data = pwa(cdb,gdb,msdb)"
   ]
  },
  {
   "cell_type": "markdown",
   "metadata": {},
   "source": [
    "### Check #1: Top 5 Unsignalized nodes with most crashes \n",
    "\n",
    "#### Node 41808 does not make it to the summary output because the distribution of its preventable crahses fall outside of the range of 1 year"
   ]
  },
  {
   "cell_type": "code",
   "execution_count": 5,
   "metadata": {},
   "outputs": [
    {
     "data": {
      "text/plain": [
       "52651     245\n",
       "40759     225\n",
       "41808     203\n",
       "49100     187\n",
       "105003    179\n",
       "Name: nodeid, dtype: int64"
      ]
     },
     "execution_count": 5,
     "metadata": {},
     "output_type": "execute_result"
    }
   ],
   "source": [
    "pwa_data[0].loc[(pwa_data[0].control_type.isnull())].nodeid.value_counts().head()"
   ]
  },
  {
   "cell_type": "code",
   "execution_count": 6,
   "metadata": {},
   "outputs": [],
   "source": [
    "top5_nodes = [52651, 40759, 41808, 49100, 105003]"
   ]
  },
  {
   "cell_type": "code",
   "execution_count": 7,
   "metadata": {},
   "outputs": [
    {
     "data": {
      "text/html": [
       "<div>\n",
       "<style scoped>\n",
       "    .dataframe tbody tr th:only-of-type {\n",
       "        vertical-align: middle;\n",
       "    }\n",
       "\n",
       "    .dataframe tbody tr th {\n",
       "        vertical-align: top;\n",
       "    }\n",
       "\n",
       "    .dataframe thead th {\n",
       "        text-align: right;\n",
       "    }\n",
       "</style>\n",
       "<table border=\"1\" class=\"dataframe\">\n",
       "  <thead>\n",
       "    <tr style=\"text-align: right;\">\n",
       "      <th></th>\n",
       "      <th>nodeid</th>\n",
       "      <th>masterid</th>\n",
       "      <th>control_type</th>\n",
       "      <th>control_id</th>\n",
       "      <th>node_lon_lat</th>\n",
       "      <th>control_lon_lat</th>\n",
       "      <th>distance</th>\n",
       "      <th>st_names</th>\n",
       "      <th>gmaps</th>\n",
       "      <th>latest_start</th>\n",
       "      <th>...</th>\n",
       "      <th>mv_inj</th>\n",
       "      <th>preventable_crashes</th>\n",
       "      <th>prevent_fatal</th>\n",
       "      <th>prevent_bike_inj</th>\n",
       "      <th>prevent_ped_inj</th>\n",
       "      <th>prevent_mv_inj</th>\n",
       "      <th>bike_inj_crash</th>\n",
       "      <th>ped_inj_crash</th>\n",
       "      <th>collision_type</th>\n",
       "      <th>car_directions</th>\n",
       "    </tr>\n",
       "  </thead>\n",
       "  <tbody>\n",
       "    <tr>\n",
       "      <th>28237</th>\n",
       "      <td>40759</td>\n",
       "      <td>83215</td>\n",
       "      <td>NaN</td>\n",
       "      <td>NaN</td>\n",
       "      <td>NaN</td>\n",
       "      <td>NaN</td>\n",
       "      <td>NaN</td>\n",
       "      <td>[BORDEN AVENUE, VAN DAM STREET]</td>\n",
       "      <td>https://www.google.com/maps/@40.7378205492973,...</td>\n",
       "      <td>2019-10-09</td>\n",
       "      <td>...</td>\n",
       "      <td>16.0</td>\n",
       "      <td>12.0</td>\n",
       "      <td>0.0</td>\n",
       "      <td>0.0</td>\n",
       "      <td>1.0</td>\n",
       "      <td>2.0</td>\n",
       "      <td>0.0</td>\n",
       "      <td>1.0</td>\n",
       "      <td>7.0</td>\n",
       "      <td>4.0</td>\n",
       "    </tr>\n",
       "    <tr>\n",
       "      <th>34016</th>\n",
       "      <td>49100</td>\n",
       "      <td>49100</td>\n",
       "      <td>NaN</td>\n",
       "      <td>NaN</td>\n",
       "      <td>NaN</td>\n",
       "      <td>NaN</td>\n",
       "      <td>NaN</td>\n",
       "      <td>[EAST FORDHAM ROAD, SOUTHERN BOULEVARD]</td>\n",
       "      <td>https://www.google.com/maps/@40.8571275081047,...</td>\n",
       "      <td>2019-11-14</td>\n",
       "      <td>...</td>\n",
       "      <td>14.0</td>\n",
       "      <td>12.0</td>\n",
       "      <td>0.0</td>\n",
       "      <td>0.0</td>\n",
       "      <td>4.0</td>\n",
       "      <td>1.0</td>\n",
       "      <td>0.0</td>\n",
       "      <td>4.0</td>\n",
       "      <td>7.0</td>\n",
       "      <td>3.0</td>\n",
       "    </tr>\n",
       "    <tr>\n",
       "      <th>36107</th>\n",
       "      <td>52651</td>\n",
       "      <td>52652</td>\n",
       "      <td>NaN</td>\n",
       "      <td>NaN</td>\n",
       "      <td>NaN</td>\n",
       "      <td>NaN</td>\n",
       "      <td>NaN</td>\n",
       "      <td>[BRUCKNER BOULEVARD, WHITE PLAINS ROAD]</td>\n",
       "      <td>https://www.google.com/maps/@40.8262773478728,...</td>\n",
       "      <td>2019-11-09</td>\n",
       "      <td>...</td>\n",
       "      <td>12.0</td>\n",
       "      <td>18.0</td>\n",
       "      <td>0.0</td>\n",
       "      <td>0.0</td>\n",
       "      <td>3.0</td>\n",
       "      <td>0.0</td>\n",
       "      <td>0.0</td>\n",
       "      <td>3.0</td>\n",
       "      <td>13.0</td>\n",
       "      <td>2.0</td>\n",
       "    </tr>\n",
       "    <tr>\n",
       "      <th>53588</th>\n",
       "      <td>105003</td>\n",
       "      <td>105003</td>\n",
       "      <td>NaN</td>\n",
       "      <td>NaN</td>\n",
       "      <td>NaN</td>\n",
       "      <td>NaN</td>\n",
       "      <td>NaN</td>\n",
       "      <td>[JAY STREET, SANDS STREET]</td>\n",
       "      <td>https://www.google.com/maps/@40.7000719205507,...</td>\n",
       "      <td>2019-11-05</td>\n",
       "      <td>...</td>\n",
       "      <td>11.0</td>\n",
       "      <td>13.0</td>\n",
       "      <td>0.0</td>\n",
       "      <td>1.0</td>\n",
       "      <td>2.0</td>\n",
       "      <td>1.0</td>\n",
       "      <td>1.0</td>\n",
       "      <td>2.0</td>\n",
       "      <td>6.0</td>\n",
       "      <td>7.0</td>\n",
       "    </tr>\n",
       "  </tbody>\n",
       "</table>\n",
       "<p>4 rows × 25 columns</p>\n",
       "</div>"
      ],
      "text/plain": [
       "       nodeid  masterid control_type control_id node_lon_lat control_lon_lat  \\\n",
       "28237   40759     83215          NaN        NaN          NaN             NaN   \n",
       "34016   49100     49100          NaN        NaN          NaN             NaN   \n",
       "36107   52651     52652          NaN        NaN          NaN             NaN   \n",
       "53588  105003    105003          NaN        NaN          NaN             NaN   \n",
       "\n",
       "       distance                                 st_names  \\\n",
       "28237       NaN          [BORDEN AVENUE, VAN DAM STREET]   \n",
       "34016       NaN  [EAST FORDHAM ROAD, SOUTHERN BOULEVARD]   \n",
       "36107       NaN  [BRUCKNER BOULEVARD, WHITE PLAINS ROAD]   \n",
       "53588       NaN               [JAY STREET, SANDS STREET]   \n",
       "\n",
       "                                                   gmaps latest_start  ...  \\\n",
       "28237  https://www.google.com/maps/@40.7378205492973,...   2019-10-09  ...   \n",
       "34016  https://www.google.com/maps/@40.8571275081047,...   2019-11-14  ...   \n",
       "36107  https://www.google.com/maps/@40.8262773478728,...   2019-11-09  ...   \n",
       "53588  https://www.google.com/maps/@40.7000719205507,...   2019-11-05  ...   \n",
       "\n",
       "      mv_inj  preventable_crashes  prevent_fatal  prevent_bike_inj  \\\n",
       "28237   16.0                 12.0            0.0               0.0   \n",
       "34016   14.0                 12.0            0.0               0.0   \n",
       "36107   12.0                 18.0            0.0               0.0   \n",
       "53588   11.0                 13.0            0.0               1.0   \n",
       "\n",
       "       prevent_ped_inj  prevent_mv_inj  bike_inj_crash  ped_inj_crash  \\\n",
       "28237              1.0             2.0             0.0            1.0   \n",
       "34016              4.0             1.0             0.0            4.0   \n",
       "36107              3.0             0.0             0.0            3.0   \n",
       "53588              2.0             1.0             1.0            2.0   \n",
       "\n",
       "       collision_type  car_directions  \n",
       "28237             7.0             4.0  \n",
       "34016             7.0             3.0  \n",
       "36107            13.0             2.0  \n",
       "53588             6.0             7.0  \n",
       "\n",
       "[4 rows x 25 columns]"
      ]
     },
     "execution_count": 7,
     "metadata": {},
     "output_type": "execute_result"
    }
   ],
   "source": [
    "#Are the 5 Unsignalized nodes with most crashes  in the summary output?\n",
    "pwa_data[2].loc[pwa_data[2].nodeid.isin(top5_nodes)]"
   ]
  },
  {
   "cell_type": "code",
   "execution_count": 8,
   "metadata": {},
   "outputs": [],
   "source": [
    "top5_all_crashes = pwa_data[0].loc[(pwa_data[0].nodeid.isin(top5_nodes))]"
   ]
  },
  {
   "cell_type": "code",
   "execution_count": 9,
   "metadata": {},
   "outputs": [],
   "source": [
    "top5_all_crashes.to_csv('top5_all_crashes.csv', encoding = 'UTF-8')"
   ]
  },
  {
   "cell_type": "markdown",
   "metadata": {},
   "source": [
    "### Check 2: Unsignalized nodes that have preventable crashes that are filtered from the 5 preventables list. "
   ]
  },
  {
   "cell_type": "code",
   "execution_count": 10,
   "metadata": {},
   "outputs": [],
   "source": [
    "#unsignalized_preventables is the df that contains all the preventable crashes that have unsignalized nodes. \n",
    "\n",
    "unsignalized_preventables = pwa_data[0].loc[(pwa_data[0].preventable >= 1) & (pwa_data[0].control_type.isnull())].groupby(pwa_data[0].nodeid).count()\n",
    "#unsignalized_preventables "
   ]
  },
  {
   "cell_type": "code",
   "execution_count": 11,
   "metadata": {},
   "outputs": [],
   "source": [
    "#nodes\n",
    "\n",
    "preventables_5 = map(int,list(unsignalized_preventables.loc[unsignalized_preventables.nodeid>=5].index))"
   ]
  },
  {
   "cell_type": "code",
   "execution_count": 13,
   "metadata": {},
   "outputs": [],
   "source": [
    "out_of_year_range = set(preventables_5) - set(map(int, list(pwa_data[2].nodeid)))"
   ]
  },
  {
   "cell_type": "code",
   "execution_count": 14,
   "metadata": {},
   "outputs": [
    {
     "data": {
      "text/plain": [
       "183"
      ]
     },
     "execution_count": 14,
     "metadata": {},
     "output_type": "execute_result"
    }
   ],
   "source": [
    "len(out_of_year_range)"
   ]
  },
  {
   "cell_type": "code",
   "execution_count": 15,
   "metadata": {},
   "outputs": [],
   "source": [
    "ooyr_nodes = pwa_data[0].loc[(pwa_data[0].nodeid.isin(out_of_year_range)) & (pwa_data[0].preventable >= 1)]"
   ]
  },
  {
   "cell_type": "code",
   "execution_count": 16,
   "metadata": {},
   "outputs": [],
   "source": [
    "ooyr_nodes .to_csv('out_of_year_range.csv', encoding = 'UTF-8')"
   ]
  },
  {
   "cell_type": "markdown",
   "metadata": {},
   "source": [
    "### Check 3: Bottom 2 unsignalized nodes that are on summary list"
   ]
  },
  {
   "cell_type": "code",
   "execution_count": 17,
   "metadata": {
    "scrolled": false
   },
   "outputs": [
    {
     "name": "stdout",
     "output_type": "stream",
     "text": [
      "Warning:\n",
      "\tMissing SQL Server Native Client 10.0 datetime2 will not be interpreted correctly\n",
      "\n",
      "Warning:\n",
      "\tMissing SQL Server Native Client 10.0 datetime2 will not be interpreted correctly\n",
      "\n"
     ]
    }
   ],
   "source": [
    "#This query grabs total crashes by node above the year 2017 \n",
    "\n",
    "raw_forms_data = db2.query_to_table(msdb,\"\"\" \n",
    "                            select coalesce(nodeid, lion_node_number) nodeid \n",
    "                            , count(integration_id) all_crashes\n",
    "                            from forms.dbo.wc_accident_f c\n",
    "                            where year(ACCIDENT_DT)>=2017\n",
    "                            and coalesce(c.nodeid, c.lion_node_number) is not null\n",
    "                            group by coalesce(nodeid, lion_node_number)\n",
    "                            \n",
    "                             \"\"\") "
   ]
  },
  {
   "cell_type": "code",
   "execution_count": 18,
   "metadata": {},
   "outputs": [],
   "source": [
    "uncontrolled = pd.read_csv('g_raw_uncntrl_data_{}.csv'.format(ts))"
   ]
  },
  {
   "cell_type": "code",
   "execution_count": 19,
   "metadata": {},
   "outputs": [],
   "source": [
    "all_crashes_uncontrolled =  uncontrolled[['nodeid']].merge(raw_forms_data, on = 'nodeid')"
   ]
  },
  {
   "cell_type": "code",
   "execution_count": 20,
   "metadata": {},
   "outputs": [],
   "source": [
    "bottom_2 = all_crashes_uncontrolled.merge(pwa_data[2], on='nodeid',how = 'right').sort_values(by=['all_crashes'], ascending= True).head(2)"
   ]
  },
  {
   "cell_type": "code",
   "execution_count": 21,
   "metadata": {},
   "outputs": [
    {
     "data": {
      "text/html": [
       "<div>\n",
       "<style scoped>\n",
       "    .dataframe tbody tr th:only-of-type {\n",
       "        vertical-align: middle;\n",
       "    }\n",
       "\n",
       "    .dataframe tbody tr th {\n",
       "        vertical-align: top;\n",
       "    }\n",
       "\n",
       "    .dataframe thead th {\n",
       "        text-align: right;\n",
       "    }\n",
       "</style>\n",
       "<table border=\"1\" class=\"dataframe\">\n",
       "  <thead>\n",
       "    <tr style=\"text-align: right;\">\n",
       "      <th></th>\n",
       "      <th>nodeid</th>\n",
       "      <th>all_crashes</th>\n",
       "      <th>masterid</th>\n",
       "      <th>control_type</th>\n",
       "      <th>control_id</th>\n",
       "      <th>node_lon_lat</th>\n",
       "      <th>control_lon_lat</th>\n",
       "      <th>distance</th>\n",
       "      <th>st_names</th>\n",
       "      <th>gmaps</th>\n",
       "      <th>...</th>\n",
       "      <th>mv_inj</th>\n",
       "      <th>preventable_crashes</th>\n",
       "      <th>prevent_fatal</th>\n",
       "      <th>prevent_bike_inj</th>\n",
       "      <th>prevent_ped_inj</th>\n",
       "      <th>prevent_mv_inj</th>\n",
       "      <th>bike_inj_crash</th>\n",
       "      <th>ped_inj_crash</th>\n",
       "      <th>collision_type</th>\n",
       "      <th>car_directions</th>\n",
       "    </tr>\n",
       "  </thead>\n",
       "  <tbody>\n",
       "    <tr>\n",
       "      <th>100</th>\n",
       "      <td>108156</td>\n",
       "      <td>2</td>\n",
       "      <td>108156</td>\n",
       "      <td>NaN</td>\n",
       "      <td>NaN</td>\n",
       "      <td>NaN</td>\n",
       "      <td>NaN</td>\n",
       "      <td>NaN</td>\n",
       "      <td>[2000 CB BOUNDARY, PELHAM PARKWAY, WILLIAMSBRI...</td>\n",
       "      <td>https://www.google.com/maps/@40.8573083951366,...</td>\n",
       "      <td>...</td>\n",
       "      <td>5.0</td>\n",
       "      <td>5.0</td>\n",
       "      <td>0.0</td>\n",
       "      <td>1.0</td>\n",
       "      <td>1.0</td>\n",
       "      <td>1.0</td>\n",
       "      <td>1.0</td>\n",
       "      <td>1.0</td>\n",
       "      <td>2.0</td>\n",
       "      <td>2.0</td>\n",
       "    </tr>\n",
       "    <tr>\n",
       "      <th>79</th>\n",
       "      <td>53346</td>\n",
       "      <td>7</td>\n",
       "      <td>53346</td>\n",
       "      <td>NaN</td>\n",
       "      <td>NaN</td>\n",
       "      <td>NaN</td>\n",
       "      <td>NaN</td>\n",
       "      <td>NaN</td>\n",
       "      <td>[BOSTON ROAD, PELHAM PARKWAY NORTH]</td>\n",
       "      <td>https://www.google.com/maps/@40.8580638338638,...</td>\n",
       "      <td>...</td>\n",
       "      <td>4.0</td>\n",
       "      <td>5.0</td>\n",
       "      <td>1.0</td>\n",
       "      <td>0.0</td>\n",
       "      <td>4.0</td>\n",
       "      <td>0.0</td>\n",
       "      <td>0.0</td>\n",
       "      <td>2.0</td>\n",
       "      <td>3.0</td>\n",
       "      <td>1.0</td>\n",
       "    </tr>\n",
       "  </tbody>\n",
       "</table>\n",
       "<p>2 rows × 26 columns</p>\n",
       "</div>"
      ],
      "text/plain": [
       "     nodeid  all_crashes  masterid control_type control_id node_lon_lat  \\\n",
       "100  108156            2    108156          NaN        NaN          NaN   \n",
       "79    53346            7     53346          NaN        NaN          NaN   \n",
       "\n",
       "    control_lon_lat  distance  \\\n",
       "100             NaN       NaN   \n",
       "79              NaN       NaN   \n",
       "\n",
       "                                              st_names  \\\n",
       "100  [2000 CB BOUNDARY, PELHAM PARKWAY, WILLIAMSBRI...   \n",
       "79                 [BOSTON ROAD, PELHAM PARKWAY NORTH]   \n",
       "\n",
       "                                                 gmaps  ... mv_inj  \\\n",
       "100  https://www.google.com/maps/@40.8573083951366,...  ...    5.0   \n",
       "79   https://www.google.com/maps/@40.8580638338638,...  ...    4.0   \n",
       "\n",
       "    preventable_crashes  prevent_fatal  prevent_bike_inj  prevent_ped_inj  \\\n",
       "100                 5.0            0.0               1.0              1.0   \n",
       "79                  5.0            1.0               0.0              4.0   \n",
       "\n",
       "     prevent_mv_inj  bike_inj_crash  ped_inj_crash  collision_type  \\\n",
       "100             1.0             1.0            1.0             2.0   \n",
       "79              0.0             0.0            2.0             3.0   \n",
       "\n",
       "     car_directions  \n",
       "100             2.0  \n",
       "79              1.0  \n",
       "\n",
       "[2 rows x 26 columns]"
      ]
     },
     "execution_count": 21,
     "metadata": {},
     "output_type": "execute_result"
    }
   ],
   "source": [
    "bottom_2 "
   ]
  },
  {
   "cell_type": "code",
   "execution_count": 22,
   "metadata": {
    "scrolled": true
   },
   "outputs": [
    {
     "name": "stdout",
     "output_type": "stream",
     "text": [
      "Warning:\n",
      "\tMissing SQL Server Native Client 10.0 datetime2 will not be interpreted correctly\n",
      "\n",
      "Warning:\n",
      "\tMissing SQL Server Native Client 10.0 datetime2 will not be interpreted correctly\n",
      "\n",
      "     nodeid  cases\n",
      "0       NaN     50\n",
      "1  108156.0      2\n",
      "Warning:\n",
      "\tMissing SQL Server Native Client 10.0 datetime2 will not be interpreted correctly\n",
      "\n",
      "Warning:\n",
      "\tMissing SQL Server Native Client 10.0 datetime2 will not be interpreted correctly\n",
      "\n",
      "    nodeid  cases\n",
      "0      NaN     76\n",
      "1  53346.0      7\n"
     ]
    }
   ],
   "source": [
    "#This query return the total amount of crashes for those bottom 2 nodes\n",
    "\n",
    "for i in bottom_2.values:\n",
    "\n",
    "    print(db2.query_to_table(msdb,\"\"\"    \n",
    "           select coalesce(nodeid, lion_node_number) nodeid \n",
    "           , count(distinct(integration_id)) cases\n",
    "           from forms.dbo.wc_accident_f c\n",
    "           where  year(accident_dt) >= 2017\n",
    "           and coalesce(VOID_STATUS_CD, 'N') = 'N' \n",
    "           and (\n",
    "             coalesce(NODEID, [LION_NODE_NUMBER]) = {node}\n",
    "             or (\n",
    "                   SRC_ON_STREET in ({st_name})\n",
    "                   and SRC_CROSS_STREET in ({st_name})\n",
    "                   )\n",
    "                   )\n",
    "           group by coalesce(nodeid, lion_node_number)\n",
    "           \"\"\".format(node= int(i[0]), st_name = \"{}\".format(str(i[8]).strip('[]'))\n",
    "                     )))"
   ]
  },
  {
   "cell_type": "code",
   "execution_count": 23,
   "metadata": {},
   "outputs": [
    {
     "name": "stdout",
     "output_type": "stream",
     "text": [
      "Warning:\n",
      "\tMissing SQL Server Native Client 10.0 datetime2 will not be interpreted correctly\n",
      "\n",
      "Warning:\n",
      "\tMissing SQL Server Native Client 10.0 datetime2 will not be interpreted correctly\n",
      "\n",
      "     nodeid  cases\n",
      "0       NaN     23\n",
      "1  108156.0      1\n",
      "Warning:\n",
      "\tMissing SQL Server Native Client 10.0 datetime2 will not be interpreted correctly\n",
      "\n",
      "Warning:\n",
      "\tMissing SQL Server Native Client 10.0 datetime2 will not be interpreted correctly\n",
      "\n",
      "    nodeid  cases\n",
      "0      NaN     30\n",
      "1  53346.0      5\n"
     ]
    }
   ],
   "source": [
    "#This is to match crash cases for summary output\n",
    "\n",
    "for i in bottom_2.values:\n",
    "    \n",
    "    print(db2.query_to_table(msdb,\"\"\"    \n",
    "           select coalesce(nodeid, lion_node_number) nodeid \n",
    "           , count(distinct(integration_id)) cases\n",
    "           from forms.dbo.wc_accident_f c\n",
    "           where cast(accident_dt as date) between '{start}' and '{end}'\n",
    "           and coalesce(VOID_STATUS_CD, 'N') = 'N' \n",
    "           and (\n",
    "             coalesce(NODEID, [LION_NODE_NUMBER]) = {node}\n",
    "             or (\n",
    "                   SRC_ON_STREET in ({st_name})\n",
    "                   and SRC_CROSS_STREET in ({st_name})\n",
    "                   )\n",
    "                   )\n",
    "           group by coalesce(nodeid, lion_node_number)\n",
    "           \"\"\".format(node= int(i[0]), start = i[11], end = i[10],\n",
    "                      st_name = \"{}\".format(str(i[8]).strip('[]')))\n",
    "                            ))"
   ]
  },
  {
   "cell_type": "code",
   "execution_count": 24,
   "metadata": {
    "scrolled": false
   },
   "outputs": [
    {
     "name": "stdout",
     "output_type": "stream",
     "text": [
      "Warning:\n",
      "\tMissing SQL Server Native Client 10.0 datetime2 will not be interpreted correctly\n",
      "\n",
      "Warning:\n",
      "\tMissing SQL Server Native Client 10.0 datetime2 will not be interpreted correctly\n",
      "\n",
      "Warning:\n",
      "\tMissing SQL Server Native Client 10.0 datetime2 will not be interpreted correctly\n",
      "\n",
      "Warning:\n",
      "\tMissing SQL Server Native Client 10.0 datetime2 will not be interpreted correctly\n",
      "\n",
      "   accident_id  fatal  bike_inj  ped_inj  mv_inj\n",
      "0     31719049      0         0        0       2\n",
      "1     90319049      0         1        0       0\n",
      "2    207719049      0         0        1       0\n",
      "3    213419049      0         0        0       1\n",
      "4    244018049      0         0        0       2\n",
      "Warning:\n",
      "\tMissing SQL Server Native Client 10.0 datetime2 will not be interpreted correctly\n",
      "\n",
      "Warning:\n",
      "\tMissing SQL Server Native Client 10.0 datetime2 will not be interpreted correctly\n",
      "\n",
      "Warning:\n",
      "\tMissing SQL Server Native Client 10.0 datetime2 will not be interpreted correctly\n",
      "\n",
      "Warning:\n",
      "\tMissing SQL Server Native Client 10.0 datetime2 will not be interpreted correctly\n",
      "\n",
      "   accident_id  fatal  bike_inj  ped_inj  mv_inj\n",
      "0      1619049      0         0        0       3\n",
      "1      6319049      0         0        0       1\n",
      "2    159619049      1         0        3       0\n",
      "3    191319049      0         0        1       0\n"
     ]
    }
   ],
   "source": [
    "# This is match crash case statistics for bike, ped, mv injuries to summary output\n",
    "\n",
    "for i in bottom_2.values:    \n",
    "    y= db2.query_to_table(msdb,\"\"\"    \n",
    "           select coalesce(nodeid, lion_node_number) nodeid, integration_id cases\n",
    "           from forms.dbo.wc_accident_f c\n",
    "           where cast(accident_dt as date) between '{start}' and '{end}'\n",
    "           and coalesce(VOID_STATUS_CD, 'N') = 'N' \n",
    "           and (\n",
    "             coalesce(NODEID, [LION_NODE_NUMBER]) = {node}\n",
    "             or (\n",
    "                   SRC_ON_STREET in ({st_name})\n",
    "                   and SRC_CROSS_STREET in ({st_name})\n",
    "                   )\n",
    "                   )\n",
    "           \"\"\".format(node= int(i[0]), start = i[11], end = i[10],\n",
    "                      st_name = \"{}\".format(str(i[8]).strip('[]'))))\n",
    "                            \n",
    "    \n",
    "    print(db2.query_to_table(msdb,\"\"\"    \n",
    "           select accident_id, sum(case when inj_killed = 'Killed' then 1 else 0 end) fatal\n",
    "           , sum(case when ped_nonped = 'Bicyclist' then 1 else 0 end) bike_inj\n",
    "           , sum(case when person_role_code in ('Pedestrian', 'In-Line Skater') then 1 else 0 end) ped_inj\n",
    "           , sum(case when ped_nonped = 'Occupant' and person_role_code in ('Driver','Passenger') then 1 else 0 end) mv_inj\n",
    "           from forms.dbo.wc_accident_victim_f v\n",
    "           where inj_killed in ('Injured', 'Killed')\n",
    "           and cast(accident_dt as date) between '{start}' and '{end}'\n",
    "           and ACCIDENT_ID in {y}\n",
    "           group by accident_id\n",
    "           \"\"\".format(start = i[11], end = i[10], y = tuple(map(int,list(y.cases))))))"
   ]
  },
  {
   "cell_type": "markdown",
   "metadata": {},
   "source": [
    "### Check 4: Top 3 unsignalized nodes that are on raw crash list that are not on summary output"
   ]
  },
  {
   "cell_type": "code",
   "execution_count": 25,
   "metadata": {},
   "outputs": [],
   "source": [
    "#grabs the top 3 unsingalized nodes with most crashes\n",
    "\n",
    "top3_nodes = all_crashes_uncontrolled[['nodeid']].drop_duplicates().merge(raw_forms_data, on= 'nodeid', how = 'left').sort_values(by=['all_crashes'], ascending= False)"
   ]
  },
  {
   "cell_type": "code",
   "execution_count": 26,
   "metadata": {},
   "outputs": [],
   "source": [
    "#checks if top 3 crashes are on summary output\n",
    "result = top3_nodes.merge(pwa_data[2], on='nodeid', how = 'left')"
   ]
  },
  {
   "cell_type": "code",
   "execution_count": 27,
   "metadata": {
    "scrolled": true
   },
   "outputs": [
    {
     "data": {
      "text/html": [
       "<div>\n",
       "<style scoped>\n",
       "    .dataframe tbody tr th:only-of-type {\n",
       "        vertical-align: middle;\n",
       "    }\n",
       "\n",
       "    .dataframe tbody tr th {\n",
       "        vertical-align: top;\n",
       "    }\n",
       "\n",
       "    .dataframe thead th {\n",
       "        text-align: right;\n",
       "    }\n",
       "</style>\n",
       "<table border=\"1\" class=\"dataframe\">\n",
       "  <thead>\n",
       "    <tr style=\"text-align: right;\">\n",
       "      <th></th>\n",
       "      <th>nodeid</th>\n",
       "      <th>all_crashes</th>\n",
       "      <th>masterid</th>\n",
       "      <th>control_type</th>\n",
       "      <th>control_id</th>\n",
       "      <th>node_lon_lat</th>\n",
       "      <th>control_lon_lat</th>\n",
       "      <th>distance</th>\n",
       "      <th>st_names</th>\n",
       "      <th>gmaps</th>\n",
       "      <th>...</th>\n",
       "      <th>mv_inj</th>\n",
       "      <th>preventable_crashes</th>\n",
       "      <th>prevent_fatal</th>\n",
       "      <th>prevent_bike_inj</th>\n",
       "      <th>prevent_ped_inj</th>\n",
       "      <th>prevent_mv_inj</th>\n",
       "      <th>bike_inj_crash</th>\n",
       "      <th>ped_inj_crash</th>\n",
       "      <th>collision_type</th>\n",
       "      <th>car_directions</th>\n",
       "    </tr>\n",
       "  </thead>\n",
       "  <tbody>\n",
       "    <tr>\n",
       "      <th>2</th>\n",
       "      <td>41808</td>\n",
       "      <td>203</td>\n",
       "      <td>NaN</td>\n",
       "      <td>NaN</td>\n",
       "      <td>NaN</td>\n",
       "      <td>NaN</td>\n",
       "      <td>NaN</td>\n",
       "      <td>NaN</td>\n",
       "      <td>NaN</td>\n",
       "      <td>NaN</td>\n",
       "      <td>...</td>\n",
       "      <td>NaN</td>\n",
       "      <td>NaN</td>\n",
       "      <td>NaN</td>\n",
       "      <td>NaN</td>\n",
       "      <td>NaN</td>\n",
       "      <td>NaN</td>\n",
       "      <td>NaN</td>\n",
       "      <td>NaN</td>\n",
       "      <td>NaN</td>\n",
       "      <td>NaN</td>\n",
       "    </tr>\n",
       "    <tr>\n",
       "      <th>7</th>\n",
       "      <td>41448</td>\n",
       "      <td>145</td>\n",
       "      <td>NaN</td>\n",
       "      <td>NaN</td>\n",
       "      <td>NaN</td>\n",
       "      <td>NaN</td>\n",
       "      <td>NaN</td>\n",
       "      <td>NaN</td>\n",
       "      <td>NaN</td>\n",
       "      <td>NaN</td>\n",
       "      <td>...</td>\n",
       "      <td>NaN</td>\n",
       "      <td>NaN</td>\n",
       "      <td>NaN</td>\n",
       "      <td>NaN</td>\n",
       "      <td>NaN</td>\n",
       "      <td>NaN</td>\n",
       "      <td>NaN</td>\n",
       "      <td>NaN</td>\n",
       "      <td>NaN</td>\n",
       "      <td>NaN</td>\n",
       "    </tr>\n",
       "    <tr>\n",
       "      <th>11</th>\n",
       "      <td>34229</td>\n",
       "      <td>131</td>\n",
       "      <td>NaN</td>\n",
       "      <td>NaN</td>\n",
       "      <td>NaN</td>\n",
       "      <td>NaN</td>\n",
       "      <td>NaN</td>\n",
       "      <td>NaN</td>\n",
       "      <td>NaN</td>\n",
       "      <td>NaN</td>\n",
       "      <td>...</td>\n",
       "      <td>NaN</td>\n",
       "      <td>NaN</td>\n",
       "      <td>NaN</td>\n",
       "      <td>NaN</td>\n",
       "      <td>NaN</td>\n",
       "      <td>NaN</td>\n",
       "      <td>NaN</td>\n",
       "      <td>NaN</td>\n",
       "      <td>NaN</td>\n",
       "      <td>NaN</td>\n",
       "    </tr>\n",
       "  </tbody>\n",
       "</table>\n",
       "<p>3 rows × 26 columns</p>\n",
       "</div>"
      ],
      "text/plain": [
       "    nodeid  all_crashes  masterid control_type control_id node_lon_lat  \\\n",
       "2    41808          203       NaN          NaN        NaN          NaN   \n",
       "7    41448          145       NaN          NaN        NaN          NaN   \n",
       "11   34229          131       NaN          NaN        NaN          NaN   \n",
       "\n",
       "   control_lon_lat  distance st_names gmaps  ... mv_inj preventable_crashes  \\\n",
       "2              NaN       NaN      NaN   NaN  ...    NaN                 NaN   \n",
       "7              NaN       NaN      NaN   NaN  ...    NaN                 NaN   \n",
       "11             NaN       NaN      NaN   NaN  ...    NaN                 NaN   \n",
       "\n",
       "    prevent_fatal  prevent_bike_inj  prevent_ped_inj  prevent_mv_inj  \\\n",
       "2             NaN               NaN              NaN             NaN   \n",
       "7             NaN               NaN              NaN             NaN   \n",
       "11            NaN               NaN              NaN             NaN   \n",
       "\n",
       "    bike_inj_crash  ped_inj_crash  collision_type  car_directions  \n",
       "2              NaN            NaN             NaN             NaN  \n",
       "7              NaN            NaN             NaN             NaN  \n",
       "11             NaN            NaN             NaN             NaN  \n",
       "\n",
       "[3 rows x 26 columns]"
      ]
     },
     "execution_count": 27,
     "metadata": {},
     "output_type": "execute_result"
    }
   ],
   "source": [
    "result.loc[result.st_names.isnull()].sort_values(by=['all_crashes'], ascending = False).head(3)"
   ]
  },
  {
   "cell_type": "code",
   "execution_count": 28,
   "metadata": {},
   "outputs": [],
   "source": [
    "n = [41808,41448,34229]"
   ]
  },
  {
   "cell_type": "code",
   "execution_count": 29,
   "metadata": {},
   "outputs": [],
   "source": [
    "top3_all_crashes = pwa_data[0].loc[(pwa_data[0].nodeid.isin(n))]"
   ]
  },
  {
   "cell_type": "code",
   "execution_count": 30,
   "metadata": {},
   "outputs": [],
   "source": [
    "top3_all_crashes.to_csv('top3_all_crashes.csv')"
   ]
  }
 ],
 "metadata": {
  "kernelspec": {
   "display_name": "Python 2",
   "language": "python",
   "name": "python2"
  },
  "language_info": {
   "codemirror_mode": {
    "name": "ipython",
    "version": 2
   },
   "file_extension": ".py",
   "mimetype": "text/x-python",
   "name": "python",
   "nbconvert_exporter": "python",
   "pygments_lexer": "ipython2",
   "version": "2.7.16"
  }
 },
 "nbformat": 4,
 "nbformat_minor": 2
}
