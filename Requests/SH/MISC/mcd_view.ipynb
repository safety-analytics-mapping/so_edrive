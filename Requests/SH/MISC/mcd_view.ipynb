{
 "cells": [
  {
   "cell_type": "code",
   "execution_count": 3,
   "metadata": {},
   "outputs": [],
   "source": [
    "\n",
    "from ris import db2\n",
    "from datetime import datetime\n",
    "import os\n",
    "\n",
    "def mcd_view(pg):\n",
    "    pg.query(\"\"\"\n",
    "    drop view if exists v_mcd;\n",
    "    create view v_mcd as \n",
    "    SELECT view.*, ST_X(n.geom), ST_Y(n.geom), n.geom, now() as Current_Date\n",
    "    FROM\n",
    "    (SELECT  -- Selects Frequency of Injury Events Based on Node\n",
    "        nodeid, M, Y,\n",
    "        Sum(Pedestrian) Pedestrian, sum(Bicyclists) Bicyclists, sum(Veh_Occupant) Veh_Occupant, \n",
    "        sum(Ped_School_Aged) School_Aged, sum(Ped_Seniors)  Seniors\n",
    "    FROM\n",
    "    \n",
    "        (SELECT\t\t-- Selects Month, Year, Nodeid, And Injury Event occurence by Integration ID (Test Functionality with Node '21185')\n",
    "                M, Y, nodeid, \n",
    "                max(Pedestrian) Pedestrian, max(Bicyclists) Bicyclists, max(Veh_Occupant) Veh_Occupant, \n",
    "                max(Ped_School_Aged) Ped_School_Aged, max(Ped_Senior) Ped_Seniors\n",
    "        FROM\n",
    "                (SELECT\t--Selects Injury Month and Year, Nodeid, Injury Mode, Categorizes Pedestrians by Age (School_Aged/Senior) and Integration ID\t\t\t\t\n",
    "                    extract(month from c.ACCIDENT_DT::date) M , extract(year from c.ACCIDENT_DT::date) Y, \n",
    "                    c.NODEID, \n",
    "                    (case when PERSON_ROLE_CODE = 'Pedestrian' or PERSON_ROLE_CODE = 'In-Line Skater' then 1 else 0 END) Pedestrian,\n",
    "                    (case when i.victim_age between 1 and 17 and (PERSON_ROLE_CODE = 'Pedestrian' or PERSON_ROLE_CODE = 'In-Line Skater') then 1 else 0 END) Ped_School_Aged,\n",
    "                    (case when i.victim_age between 65 and 100 and (PERSON_ROLE_CODE = 'Pedestrian' or PERSON_ROLE_CODE = 'In-Line Skater') then 1 else 0 END) Ped_Senior,\n",
    "                    (case when PED_NONPED = 'Bicyclist' then 1 else 0 end) Bicyclists,\n",
    "                    (case when PED_NONPED  In ('Occupant') and PERSON_ROLE_CODE In ('Driver','Passenger') then 1 else 0 end) Veh_Occupant,\n",
    "                    \n",
    "                    c.INTEGRATION_ID, i.VICTIM_AGE\n",
    "                    \n",
    "                FROM public.wc_accident_f as c                 --Crash Data Table\n",
    "                join public.wc_accident_victim_f  as i         --Victim Data Table\n",
    "                on c.INTEGRATION_ID::int=i.ACCIDENT_ID::int         --Joins on Integration ID\n",
    "                where c.nodeid is not null                          --Disregards Injury Crashes that are not at node\n",
    "                  and i.INJ_KILLED = 'Injured' )z                      --Specifies Injured Events not Fatality Events\n",
    "                  \n",
    "        group by integration_id, M, Y, nodeid) x\n",
    "    \n",
    "    group by nodeid, M,Y) view\n",
    "        \n",
    "    join public.node n\n",
    "    on view.nodeid = n.nodeid;\n",
    "\n",
    "    grant all on v_mcd to public;\n",
    "    \"\"\".format(datetime = datetime.now()))\n",
    "\n",
    "pg_dbo = db2.PostgresDb('Dotdevpgsql02.dot.nycnet', 'vzv',\n",
    "                        user='vzv_updater', db_pass='DB@u$er2017', quiet=True)\n",
    "mcd_view(pg_dbo)\n",
    "\n",
    "\n"
   ]
  }
 ],
 "metadata": {
  "kernelspec": {
   "display_name": "Python 2",
   "language": "python",
   "name": "python2"
  },
  "language_info": {
   "codemirror_mode": {
    "name": "ipython",
    "version": 2
   },
   "file_extension": ".py",
   "mimetype": "text/x-python",
   "name": "python",
   "nbconvert_exporter": "python",
   "pygments_lexer": "ipython2",
   "version": "2.7.16"
  }
 },
 "nbformat": 4,
 "nbformat_minor": 2
}
