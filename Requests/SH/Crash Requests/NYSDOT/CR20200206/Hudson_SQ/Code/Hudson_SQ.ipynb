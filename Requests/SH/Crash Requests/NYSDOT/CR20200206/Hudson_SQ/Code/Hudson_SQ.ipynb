{
 "cells": [
  {
   "cell_type": "code",
   "execution_count": 1,
   "metadata": {},
   "outputs": [
    {
     "name": "stdout",
     "output_type": "stream",
     "text": [
      "Notebook run: 2020-02-06_18:32\n",
      "E:\\RIS\\Staff Folders\\Samuel\\Requests\\SH\\Hudson_SQ\n"
     ]
    }
   ],
   "source": [
    "from ris import pysqldb\n",
    "from IPython.display import clear_output\n",
    "from collections import defaultdict\n",
    "from collections import defaultdict, namedtuple\n",
    "import datetime \n",
    "import pandas as pd\n",
    "import numpy as np\n",
    "import os\n",
    "from sqlalchemy import create_engine\n",
    "\n",
    "clear_output()\n",
    "timestamp = datetime.datetime.now().strftime('%Y-%m-%d_%H:%M')\n",
    "ts = datetime.datetime.now().strftime('%Y-%m-%d')\n",
    "\n",
    "print 'Notebook run: {}'.format(timestamp)\n",
    "print os.getcwd()"
   ]
  },
  {
   "cell_type": "code",
   "execution_count": 2,
   "metadata": {},
   "outputs": [
    {
     "name": "stdout",
     "output_type": "stream",
     "text": [
      "\n",
      "Additional database connection details required:\n",
      "User name (crashdata):soge\n",
      "Password (crashdata)········\n",
      "Database connection (PG) to CRASHDATA on DOTDEVRHPGSQL01 - user: soge \n",
      "Connection established 2020-02-06 18:32:25\n"
     ]
    }
   ],
   "source": [
    "#Database connection\n",
    "cdb = pysqldb.DbConnect(server='DOTDEVRHPGSQL01', database='CRASHDATA', type='PG')"
   ]
  },
  {
   "cell_type": "markdown",
   "metadata": {},
   "source": [
    "### Writing Hudson Square Study Area Nodes to PG"
   ]
  },
  {
   "cell_type": "code",
   "execution_count": 3,
   "metadata": {},
   "outputs": [
    {
     "name": "stdout",
     "output_type": "stream",
     "text": [
      "Reading data into Database\n",
      "\n"
     ]
    },
    {
     "name": "stderr",
     "output_type": "stream",
     "text": [
      "377it [00:09, 40.49it/s]\n"
     ]
    },
    {
     "name": "stdout",
     "output_type": "stream",
     "text": [
      "\n",
      "377 rows added to working.hsq\n",
      "\n"
     ]
    }
   ],
   "source": [
    "cdb.csv_to_table(input_file='E:\\RIS\\Staff Folders\\Samuel\\Requests\\SH\\Hudson_SQ\\Hudson_Sq.csv',schema='working', table_name = 'hsq', overwrite=True)"
   ]
  },
  {
   "cell_type": "code",
   "execution_count": 4,
   "metadata": {
    "scrolled": true
   },
   "outputs": [
    {
     "name": "stdout",
     "output_type": "stream",
     "text": [
      "Database connection (PG) to CRASHDATA on DOTDEVRHPGSQL01 - user: soge \n",
      "Connection established 2020-02-06 18:32:49\n"
     ]
    }
   ],
   "source": [
    "cdb.connect()"
   ]
  },
  {
   "cell_type": "markdown",
   "metadata": {},
   "source": [
    "### Creating table for all crash data"
   ]
  },
  {
   "cell_type": "code",
   "execution_count": 5,
   "metadata": {},
   "outputs": [
    {
     "name": "stdout",
     "output_type": "stream",
     "text": [
      "Query run in 24 seconds\n"
     ]
    }
   ],
   "source": [
    "cdb.query(\"\"\"\n",
    "\n",
    "DROP TABLE IF EXISTS working.hudson_sq; \n",
    "\n",
    "CREATE TABLE working.hudson_sq AS \n",
    "\n",
    "SELECT distinct nys_a.*\n",
    "FROM archive.\"2019_11_13_nysdot_all\" nys_a\n",
    "JOIN archive.\"18d.2019-11-13_node\" lion\n",
    "on nys_a.nodeid::int = lion.nodeid::int\n",
    "WHERE nys_a.case_yr>= 2013 and nys_a.case_yr<=2017\n",
    "and nys_a.nodeid::int in(SELECT nodeid \n",
    "FROM working.hsq);\n",
    "\n",
    "                        \n",
    "GRANT ALL on working.hudson_sq to public;\"\"\")"
   ]
  },
  {
   "cell_type": "code",
   "execution_count": 6,
   "metadata": {},
   "outputs": [
    {
     "name": "stdout",
     "output_type": "stream",
     "text": [
      "Database connection (PG) to CRASHDATA on DOTDEVRHPGSQL01 - user: soge \n",
      "Connection established 2020-02-06 18:33:14\n"
     ]
    }
   ],
   "source": [
    "cdb.connect()"
   ]
  },
  {
   "cell_type": "markdown",
   "metadata": {},
   "source": [
    "### Collecting ped inj, bike iInj, mvo inj, total inj, severe injuries,\tand ksi\tdata by masterid/injury rank\n"
   ]
  },
  {
   "cell_type": "code",
   "execution_count": 7,
   "metadata": {},
   "outputs": [],
   "source": [
    "hudson_sq = cdb.dfquery(\"\"\"\n",
    "\n",
    "\n",
    "SELECT Dense_Rank() OVER (ORDER BY x.\"KSI\" DESC) \"KSI Ranking\"\n",
    "      ,Dense_Rank() OVER (ORDER BY x.\"All Inj\" DESC) \"Inj Ranking\" \n",
    "      ,x.*\n",
    "FROM(   SELECT inj.*\n",
    "          , coalesce(fat.\"Fatalities\",0) \"Fatalities\"\n",
    "          , inj.\"Severe Injuries\" + coalesce(fat.\"Fatalities\",0) \"KSI\" FROM (\n",
    "    --Hudson Square Injuries-----------------------\n",
    "    SELECT  masterid\n",
    "           ,coalesce(sum(CASE WHEN accd_type_int = 1 THEN num_of_inj END),0) \"Ped Inj\"\n",
    "           ,coalesce(sum(CASE WHEN accd_type_int = 2 THEN num_of_inj END),0) \"Bike Inj\"\n",
    "           ,coalesce(sum(CASE WHEN accd_type_int = 3 THEN num_of_inj END),0) \"Mvo Inj\"\n",
    "           ,coalesce(sum(num_of_inj),0) \"All Inj\"\n",
    "           ,coalesce(sum(length(ext_of_inj::text) - length(replace(ext_of_inj::text, 'A'::text, ''::text))),0) as \"Severe Injuries\"\n",
    "    FROM working.hudson_sq\n",
    "    GROUP BY  masterid\n",
    "    ) inj\n",
    "    LEFT JOIN (--Hudson Square Fatalities---------------------\n",
    "           SELECT masterid, count(case when date_part('year',acdate) between 2013 and 2017 then id_ end) as \"Fatalities\"\n",
    "           FROM public.fatality_nycdot_current fat\n",
    "           WHERE  fat.nodeid::int in (select nodeid::int from working.hudson_sq)\n",
    "           GROUP BY masterid) fat\n",
    "    on inj.masterid = fat.masterid) x\n",
    "\n",
    "\n",
    "\n",
    "\"\"\")  "
   ]
  },
  {
   "cell_type": "markdown",
   "metadata": {},
   "source": [
    "### Street names for each masterid "
   ]
  },
  {
   "cell_type": "code",
   "execution_count": 8,
   "metadata": {},
   "outputs": [],
   "source": [
    "st_names = cdb.dfquery(\"\"\"  \n",
    "\n",
    "select masterid::int, array_agg(street) \"Street Names\" \n",
    "from(select distinct masteridto masterid, street\n",
    "     from lion \n",
    "     where masteridto::int in (select masterid::int from working.hudson_sq)\n",
    "\n",
    "     union\n",
    "\n",
    "     select distinct masteridfrom masterid, street\n",
    "     from lion \n",
    "     where masteridfrom::int in (select masterid::int from working.hudson_sq)\n",
    ") st_names\n",
    "group by masterid\"\"\" )"
   ]
  },
  {
   "cell_type": "code",
   "execution_count": 9,
   "metadata": {},
   "outputs": [],
   "source": [
    "hsq = hudson_sq.merge(st_names, how = 'left', on='masterid')"
   ]
  },
  {
   "cell_type": "code",
   "execution_count": 10,
   "metadata": {},
   "outputs": [],
   "source": [
    "hsq.to_csv('Hudson_Square_Ranking.csv',index = False)"
   ]
  }
 ],
 "metadata": {
  "kernelspec": {
   "display_name": "Python 2",
   "language": "python",
   "name": "python2"
  },
  "language_info": {
   "codemirror_mode": {
    "name": "ipython",
    "version": 2
   },
   "file_extension": ".py",
   "mimetype": "text/x-python",
   "name": "python",
   "nbconvert_exporter": "python",
   "pygments_lexer": "ipython2",
   "version": "2.7.16"
  }
 },
 "nbformat": 4,
 "nbformat_minor": 2
}
