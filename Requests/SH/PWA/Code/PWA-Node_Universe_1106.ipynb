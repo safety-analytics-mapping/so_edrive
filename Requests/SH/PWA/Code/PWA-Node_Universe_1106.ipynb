{
 "cells": [
  {
   "cell_type": "code",
   "execution_count": 1,
   "metadata": {},
   "outputs": [
    {
     "name": "stdout",
     "output_type": "stream",
     "text": [
      "Notebook run: 2019-11-06 10:20\n",
      "E:\\RIS\\Staff Folders\\Samuel\\Requests\\SH\\PWA\\Most Recent\n"
     ]
    }
   ],
   "source": [
    "from ris import db2  #library designed for SQL database connection and querying\n",
    "from IPython.display import clear_output\n",
    "from collections import defaultdict\n",
    "from collections import defaultdict, namedtuple\n",
    "import datetime \n",
    "import pandas as pd\n",
    "import numpy as np\n",
    "import os\n",
    "from sqlalchemy import create_engine\n",
    "\n",
    "clear_output()\n",
    "timestamp = datetime.datetime.now().strftime('%Y-%m-%d %H:%M')\n",
    "print 'Notebook run: {}'.format(timestamp)\n",
    "print os.getcwd()\n",
    "# %load_ext sql "
   ]
  },
  {
   "cell_type": "code",
   "execution_count": 2,
   "metadata": {},
   "outputs": [
    {
     "name": "stdout",
     "output_type": "stream",
     "text": [
      "User name (CRASHDATA):soge\n",
      "Password (CRASHDATA)········\n"
     ]
    }
   ],
   "source": [
    "cdb = db2.PostgresDb('DOTDEVRHPGSQL01', 'CRASHDATA', quiet = True)"
   ]
  },
  {
   "cell_type": "code",
   "execution_count": 44,
   "metadata": {},
   "outputs": [],
   "source": [
    "@db2.timeDec\n",
    "\n",
    "def nodes(cdb):\n",
    "    \n",
    "    \"\"\"    \n",
    "    Function that creates dictionary containing all real intersections nodes \n",
    "    in crash database\n",
    "   \n",
    "    Args:\n",
    "        cdb param: Database Connection Function for PostgreSQL \n",
    "        \n",
    "    Returns:\n",
    "        itx (dict): Dictionary Containing all nodes initialized to master nodes\n",
    "    \"\"\"\n",
    "    \n",
    "    itx = {}\n",
    "    result = (cdb.query(\"\"\"select distinct nodeid, masterid, geom  from node where is_int = true\"\"\" ))\n",
    "\n",
    "    for i in result.data:\n",
    "        \n",
    "        itx[int(i[0])]=[int(i[0]),int(i[1]),i[2]]\n",
    "\n",
    "    itx = pd.DataFrame(itx.values(),  columns=['nodeid', 'masterid', 'geom'])    \n",
    "    \n",
    "    return itx"
   ]
  },
  {
   "cell_type": "code",
   "execution_count": 51,
   "metadata": {},
   "outputs": [
    {
     "name": "stdout",
     "output_type": "stream",
     "text": [
      "'nodes' 0.80 sec\n"
     ]
    }
   ],
   "source": [
    "y = nodes(cdb)"
   ]
  },
  {
   "cell_type": "code",
   "execution_count": null,
   "metadata": {},
   "outputs": [],
   "source": [
    "\n"
   ]
  }
 ],
 "metadata": {
  "kernelspec": {
   "display_name": "Python 2",
   "language": "python",
   "name": "python2"
  },
  "language_info": {
   "codemirror_mode": {
    "name": "ipython",
    "version": 2
   },
   "file_extension": ".py",
   "mimetype": "text/x-python",
   "name": "python",
   "nbconvert_exporter": "python",
   "pygments_lexer": "ipython2",
   "version": "2.7.16"
  }
 },
 "nbformat": 4,
 "nbformat_minor": 2
}
