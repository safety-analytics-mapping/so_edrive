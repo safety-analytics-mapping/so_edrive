{
 "cells": [
  {
   "cell_type": "code",
   "execution_count": 278,
   "metadata": {},
   "outputs": [
    {
     "data": {
      "text/markdown": [
       "<strong>Notebook run on: 2019-07-11 16:42 | by bfeng | Using ris library version: 1.3.6"
      ],
      "text/plain": [
       "<IPython.core.display.Markdown object>"
      ]
     },
     "execution_count": 278,
     "metadata": {},
     "output_type": "execute_result"
    }
   ],
   "source": [
    "import pandas as pd\n",
    "import ris\n",
    "from ris import db2\n",
    "from ris.db2 import pg_shp as shp\n",
    "import os\n",
    "from tqdm import tqdm\n",
    "from IPython.display import clear_output\n",
    "import getpass\n",
    "import datetime\n",
    "from IPython.display import Markdown\n",
    "from dateutil.relativedelta import relativedelta\n",
    "Markdown('<strong>Notebook run on: {} | by {} | Using ris library version: {}'.format(\n",
    "    datetime.datetime.now().strftime('%Y-%m-%d %H:%M'), getpass.getuser(), ris.__version__\n",
    "))"
   ]
  },
  {
   "cell_type": "code",
   "execution_count": null,
   "metadata": {},
   "outputs": [],
   "source": [
    "db = db2.PostgresDb('dotdevpgsql02','CRASHDATA')"
   ]
  },
  {
   "cell_type": "code",
   "execution_count": 108,
   "metadata": {},
   "outputs": [],
   "source": [
    "forms = db2.SqlDb('dot55sql01', 'forms', user='arcgis', db_pass='arcgis', quiet = True)"
   ]
  },
  {
   "cell_type": "code",
   "execution_count": 313,
   "metadata": {
    "scrolled": true
   },
   "outputs": [],
   "source": [
    "nodes = db2.query_to_table(db,'select nodeid from node where is_int = true').nodeid.tolist()"
   ]
  },
  {
   "cell_type": "markdown",
   "metadata": {},
   "source": [
    "# Leap Years?"
   ]
  },
  {
   "cell_type": "code",
   "execution_count": 295,
   "metadata": {},
   "outputs": [],
   "source": [
    "def five_crashes_rolling(nodes):\n",
    "    end = datetime.datetime.now().strftime('%Y-%m-%d') \n",
    "    start = (datetime.datetime.now() - relativedelta(years=3)).strftime('%Y-%m-%d')\n",
    "        \n",
    "# Consider only nodes with 5+ crashes\n",
    "    fiveplus = db2.query_to_table(forms,\"\"\"select nodeid, count(distinct integration_id) from forms.dbo.WC_ACCIDENT_F\n",
    "    where year(accident_dt) >= 2017\n",
    "    and accident_dt between '{start}' and '{end}'\n",
    "    and nodeid is not null\n",
    "    and nodeid in (\"\"\".format(start = start, end = end) + \"\"\",\"\"\".join(str(node) for node in nodes) + \"\"\")\n",
    "    group by nodeid\n",
    "    having count(distinct integration_id) >= 5\"\"\").nodeid.tolist()\n",
    "    \n",
    "    nodes = (set(nodes).intersection(set(fiveplus)))\n",
    "    \n",
    "# eliminate nodes with exactly 5 crashes, but over more than 365 day period\n",
    "    too_long = db2.query_to_table(forms,\"\"\"select nodeid, count(distinct integration_id) from forms.dbo.WC_ACCIDENT_F\n",
    "    where year(accident_dt) >= 2017\n",
    "    and accident_dt between '{start}' and '{end}'\n",
    "    and nodeid is not null\n",
    "    and nodeid in (\"\"\".format(start = start, end = end) + \"\"\",\"\"\".join(str(node) for node in nodes) + \"\"\")\n",
    "    group by nodeid\n",
    "    having count(distinct integration_id) = 5 and datediff(day, min(accident_dt), max(accident_dt)) > 365\n",
    "    \"\"\").nodeid.tolist()\n",
    "    \n",
    "    nodes = nodes - set(too_long)\n",
    "    \n",
    "# skip check for nodes with 5+ crashes, where earliest and latest crashes within a year of each other    \n",
    "    verified = db2.query_to_table(forms,\"\"\"select nodeid, count(distinct integration_id) from forms.dbo.WC_ACCIDENT_F\n",
    "    where year(accident_dt) >= 2017\n",
    "    and accident_dt between '{start}' and '{end}'\n",
    "    and nodeid is not null\n",
    "    and nodeid in (\"\"\".format(start = start, end = end) + \"\"\",\"\"\".join(str(node) for node in nodes) + \"\"\")\n",
    "    group by nodeid\n",
    "    having count(distinct integration_id) >= 5 and datediff(day, min(accident_dt), max(accident_dt)) <= 365\n",
    "    \"\"\").nodeid.tolist()\n",
    "    \n",
    "    nodes = nodes - set(verified)\n",
    "\n",
    "# get crashes for 6+ crashes where max - min > 1 year\n",
    "    crashes = db2.query_to_table(forms, \"\"\"select nodeid, integration_id, cast(accident_dt as date) date from forms.dbo.WC_ACCIDENT_F \n",
    "    where nodeid in (\"\"\" + \"\"\",\"\"\".join(str(node) for node in nodes) + \"\"\")\n",
    "    and year(accident_dt) >= 2017\n",
    "    and accident_dt between '{start}' and '{end}'\n",
    "    and nodeid is not null\n",
    "    \"\"\".format(start = start, end = end))\n",
    "    \n",
    "    crashes = crashes.sort_values(by=['nodeid','date'])\n",
    "    crashes['date'] = pd.to_datetime(crashes['date']) # convert text to date\n",
    "    crashes['dif'] = crashes.groupby('nodeid').date.diff(periods=4) # take every 5th date difference per node\n",
    "    crashes['dif'] = crashes['dif'].dt.days # convert to int\n",
    "    crashes['five_yr'] = 0\n",
    "    crashes.loc[crashes.dif <= 365, 'five_yr'] = 1 # boolean for 5 crashes within 365 days\n",
    "    passed = pd.DataFrame(crashes.groupby('nodeid').five_yr.sum()) # sum booleans by nodeid\n",
    "    passed = passed.loc[crashes2.five_yr > 0] # only take nodeids with at least one 5 crash period in 365 days\n",
    "    crashes2 = crashes2.reset_index()\n",
    "    nodes_passed = crashes2.nodeid.tolist()\n",
    "    \n",
    "# grab crashes from nodes with 5+ crashes, where earliest and latest crashes within a year of each other \n",
    "# immediately passes condition \n",
    "    verified_crashes = db2.query_to_table(forms, \"\"\"select nodeid, integration_id, cast(accident_dt as date) date from forms.dbo.WC_ACCIDENT_F \n",
    "    where nodeid in (\"\"\" + \"\"\",\"\"\".join(str(node) for node in verified) + \"\"\")\n",
    "    and year(accident_dt) >= 2017\n",
    "    and accident_dt between '{start}' and '{end}'\n",
    "    and nodeid is not null\n",
    "    \"\"\".format(start = start, end = end))\n",
    "    \n",
    "    crashes = crashes.loc[crashes.node.isin(nodes_passed)]\n",
    "    crashes = pd.concat([crashes[verified_crashes.columns.tolist()], verified_crashes])\n",
    "    \n",
    "    return crashes"
   ]
  },
  {
   "cell_type": "code",
   "execution_count": null,
   "metadata": {},
   "outputs": [],
   "source": []
  }
 ],
 "metadata": {
  "kernelspec": {
   "display_name": "Python 2",
   "language": "python",
   "name": "python2"
  },
  "language_info": {
   "codemirror_mode": {
    "name": "ipython",
    "version": 2
   },
   "file_extension": ".py",
   "mimetype": "text/x-python",
   "name": "python",
   "nbconvert_exporter": "python",
   "pygments_lexer": "ipython2",
   "version": "2.7.10"
  }
 },
 "nbformat": 4,
 "nbformat_minor": 2
}
