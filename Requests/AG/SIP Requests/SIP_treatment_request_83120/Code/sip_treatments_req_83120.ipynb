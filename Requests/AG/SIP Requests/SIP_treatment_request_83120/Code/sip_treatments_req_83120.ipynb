{
 "cells": [
  {
   "cell_type": "markdown",
   "metadata": {},
   "source": [
    "# Default Import"
   ]
  },
  {
   "cell_type": "code",
   "execution_count": 1,
   "metadata": {
    "scrolled": true
   },
   "outputs": [
    {
     "data": {
      "text/markdown": [
       "<strong>Notebook run on: 2020-09-02 17:38 | by soge | Using ris library version: 1.5.6 | File Location: E:\\RIS\\Staff Folders\\Samuel\\Requests\\AG\\SIP_treatment_request_83120"
      ],
      "text/plain": [
       "<IPython.core.display.Markdown object>"
      ]
     },
     "execution_count": 1,
     "metadata": {},
     "output_type": "execute_result"
    }
   ],
   "source": [
    "from ris import pysqldb\n",
    "from IPython.display import Markdown, clear_output\n",
    "from sqlalchemy import create_engine\n",
    "import ris\n",
    "import getpass\n",
    "import datetime \n",
    "import pandas as pd\n",
    "import numpy as np\n",
    "import os\n",
    "import requests\n",
    "\n",
    "timestamp = datetime.datetime.now().strftime('%Y-%m-%d %H:%M')\n",
    "ts = datetime.datetime.now().strftime('%Y-%m-%d')\n",
    "\n",
    "Markdown('<strong>Notebook run on: {} | by {} | Using ris library version: {} | File Location: {}'.format(\n",
    "    timestamp, getpass.getuser(), ris.__version__, os.getcwd()\n",
    "))\n"
   ]
  },
  {
   "cell_type": "markdown",
   "metadata": {},
   "source": [
    "# Db connections"
   ]
  },
  {
   "cell_type": "code",
   "execution_count": 2,
   "metadata": {},
   "outputs": [
    {
     "name": "stdout",
     "output_type": "stream",
     "text": [
      "\n",
      "Additional database connection details required:\n",
      "User name (sip):soge\n",
      "Password (sip)········\n",
      "Database connection (PG) to sip on dotpgsql01 - user: soge \n",
      "Connection established 2020-09-02 17:39:01\n"
     ]
    }
   ],
   "source": [
    "try: \n",
    "    db.params['user']\n",
    "except:\n",
    "    db = pysqldb.DbConnect(type='PG', server='dotpgsql01', database='sip')"
   ]
  },
  {
   "cell_type": "code",
   "execution_count": 3,
   "metadata": {},
   "outputs": [],
   "source": [
    "#sip = pysqldb.DbConnect(server='dotpgsql01', database='sip', type='PG', user = db.params['user'], password = db.params['password'])\n",
    "#forms = pysqldb.DbConnect(server='dot55sql01', database='forms', type='MS', user = 'arcgis', password = 'arcgis')"
   ]
  },
  {
   "cell_type": "code",
   "execution_count": 4,
   "metadata": {},
   "outputs": [
    {
     "name": "stdout",
     "output_type": "stream",
     "text": [
      "Database connection (PG) to sip on dotpgsql01 - user: soge \n",
      "Connection established 2020-09-02 17:39:02\n"
     ]
    }
   ],
   "source": [
    "db.connect()"
   ]
  },
  {
   "cell_type": "code",
   "execution_count": 5,
   "metadata": {},
   "outputs": [],
   "source": [
    "sip_treatments = db.dfquery(\"\"\" -- Grab pid, tid, treatment name, flattened tree treatment type, and project install dates,  \n",
    "                                --      treatment install dates, project end dates, treatment end dates,  mileage of treatment, \n",
    "                                --      pm, and sip year\n",
    "                                -- sip_treatments join to sip_projects on pid_fk\n",
    "                                -- Join to sip geo to get the mileage\n",
    "                                -- Limited to Bikes\n",
    "                                \n",
    "\n",
    "                                WITH data AS(\n",
    "                                SELECT tree.descendant AS qid, \n",
    "                                array_to_string(array_agg(tree.concat), ' -> '::text) AS full_treatment\n",
    "                                FROM (  SELECT p.descendant, p.ancestor, q.question, p.depth, \n",
    "                                       pg_catalog.concat(p.ancestor, ': ', q.question, ' (Depth:', p.depth, ')') AS concat\n",
    "                                    FROM sip_questions_path p\n",
    "                                    JOIN sip_questions q ON p.ancestor = q.qid\n",
    "                                    ORDER BY p.descendant, p.depth DESC) tree\n",
    "                                GROUP BY tree.descendant\n",
    "                                )\n",
    "\n",
    "\n",
    "                                SELECT sp.pid, st.tid, st.treatment, data.full_treatment, sp.sip_year, sp.start_date project_start, \n",
    "                                       st.start_date treatment_start, sp.end_date project_end, st.end_date treatment_end, sl.description,\n",
    "                                       sum(coalesce(st_length(cl.geom)/5280,0)) mileage, sp.pm\n",
    "                                FROM public.sip_treatments st\n",
    "                                LEFT JOIN data\n",
    "                                ON data.qid = st.breadcrumbid\n",
    "                                LEFT JOIN public.sip_projects sp\n",
    "                                ON st.pid_fk = sp.pid\n",
    "                                LEFT JOIN public.sip_treatments_geo stg\n",
    "                                ON st.tid = stg.tid_fk\n",
    "                                LEFT JOIN public.clion cl\n",
    "                                ON stg.segmentid::int = cl.segmentid::int\n",
    "                                JOIN sip_lookup sl\n",
    "                                ON sp.status::int = sl.lookupid\n",
    "                                WHERE (((sp.status::int = 15 or sp.status::int = 11) and sip_year = 2020) \n",
    "                                OR (sp.status::int = 11 and sip_year = 2021))\n",
    "                                AND sp.unit = '24'\n",
    "                                GROUP BY sp.pid, st.tid, st.treatment, data.full_treatment, sp.sip_year, sp.start_date, \n",
    "                                     st.start_date, sp.end_date, st.end_date, sl.description, sp.pm\n",
    "\n",
    "\n",
    "                                \"\"\")"
   ]
  },
  {
   "cell_type": "code",
   "execution_count": 6,
   "metadata": {},
   "outputs": [],
   "source": [
    "#sip_treatments"
   ]
  },
  {
   "cell_type": "code",
   "execution_count": 7,
   "metadata": {},
   "outputs": [],
   "source": [
    "sip_treatments.to_csv('sip_treatments_{ts}.csv'.format(ts=ts), index = False)"
   ]
  }
 ],
 "metadata": {
  "kernelspec": {
   "display_name": "Python 2",
   "language": "python",
   "name": "python2"
  },
  "language_info": {
   "codemirror_mode": {
    "name": "ipython",
    "version": 2
   },
   "file_extension": ".py",
   "mimetype": "text/x-python",
   "name": "python",
   "nbconvert_exporter": "python",
   "pygments_lexer": "ipython2",
   "version": "2.7.16"
  }
 },
 "nbformat": 4,
 "nbformat_minor": 2
}
