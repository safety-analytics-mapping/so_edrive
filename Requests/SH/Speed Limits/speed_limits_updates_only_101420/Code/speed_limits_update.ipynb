{
 "cells": [
  {
   "cell_type": "markdown",
   "metadata": {},
   "source": [
    "# Default Import"
   ]
  },
  {
   "cell_type": "code",
   "execution_count": 1,
   "metadata": {
    "scrolled": true
   },
   "outputs": [
    {
     "data": {
      "text/markdown": [
       "<strong>Notebook run on: 2020-10-14 17:41 | by soge | Using ris library version: 1.5.6 | File Location: E:\\RIS\\Staff Folders\\Samuel\\Requests\\SH\\Speed Limits\\speed_limits_updates_only_101420"
      ],
      "text/plain": [
       "<IPython.core.display.Markdown object>"
      ]
     },
     "execution_count": 1,
     "metadata": {},
     "output_type": "execute_result"
    }
   ],
   "source": [
    "from ris import pysqldb\n",
    "from IPython.display import Markdown, clear_output\n",
    "from sqlalchemy import create_engine\n",
    "import ris\n",
    "import getpass\n",
    "import datetime \n",
    "import pandas as pd\n",
    "import numpy as np\n",
    "import os\n",
    "import requests\n",
    "\n",
    "timestamp = datetime.datetime.now().strftime('%Y-%m-%d %H:%M')\n",
    "ts = datetime.datetime.now().strftime('%Y-%m-%d')\n",
    "\n",
    "Markdown('<strong>Notebook run on: {} | by {} | Using ris library version: {} | File Location: {}'.format(\n",
    "    timestamp, getpass.getuser(), ris.__version__, os.getcwd()\n",
    "))\n"
   ]
  },
  {
   "cell_type": "markdown",
   "metadata": {},
   "source": [
    "# Db connections"
   ]
  },
  {
   "cell_type": "code",
   "execution_count": 3,
   "metadata": {},
   "outputs": [],
   "source": [
    "try: \n",
    "    db.params['user']\n",
    "except:\n",
    "    db = pysqldb.DbConnect(type='PG', server='dotdevrhpgsql01', database='CRASHDATA')"
   ]
  },
  {
   "cell_type": "code",
   "execution_count": 4,
   "metadata": {},
   "outputs": [],
   "source": [
    "#sip = pysqldb.DbConnect(server='dotpgsql01', database='sip', type='PG', user = db.params['user'], password = db.params['password'])\n",
    "#forms = pysqldb.DbConnect(server='dot55sql01', database='forms', type='MS', user = 'arcgis', password = 'arcgis')"
   ]
  },
  {
   "cell_type": "code",
   "execution_count": 5,
   "metadata": {},
   "outputs": [],
   "source": [
    "# BACK UP SPEED LIMITS FILE\n",
    "# CREATE A TABLE WITH SPEED LIMITS DATA AND TODAY'S DATE\n",
    "# i.e Archive Copy"
   ]
  },
  {
   "cell_type": "markdown",
   "metadata": {},
   "source": [
    "### Backup"
   ]
  },
  {
   "cell_type": "code",
   "execution_count": null,
   "metadata": {},
   "outputs": [],
   "source": [
    "db.connect()"
   ]
  },
  {
   "cell_type": "code",
   "execution_count": 26,
   "metadata": {},
   "outputs": [],
   "source": [
    "#db.query(\"\"\"CREATE TABLE archive.speed_limits_19d_20201014 AS\n",
    "#            SELECT * FROM speed_limit_19d\"\"\")"
   ]
  },
  {
   "cell_type": "code",
   "execution_count": 7,
   "metadata": {},
   "outputs": [],
   "source": [
    "sl_data = pd.read_csv(\"speed_limits_update_101420.csv\")"
   ]
  },
  {
   "cell_type": "code",
   "execution_count": 29,
   "metadata": {},
   "outputs": [],
   "source": [
    "#sl_data.postvz_sl"
   ]
  },
  {
   "cell_type": "markdown",
   "metadata": {},
   "source": [
    "### SPEED LIMITS OF 25 mph"
   ]
  },
  {
   "cell_type": "code",
   "execution_count": 44,
   "metadata": {},
   "outputs": [],
   "source": [
    "data1 = sl_data.loc[sl_data.postvz_sl==25].segmentid"
   ]
  },
  {
   "cell_type": "code",
   "execution_count": 45,
   "metadata": {},
   "outputs": [],
   "source": [
    "data1 = tuple(map(int,list(data1)))"
   ]
  },
  {
   "cell_type": "code",
   "execution_count": 46,
   "metadata": {},
   "outputs": [
    {
     "name": "stdout",
     "output_type": "stream",
     "text": [
      "Database connection (PG) to CRASHDATA on dotdevrhpgsql01 - user: soge \n",
      "Connection established 2020-10-14 18:07:02\n"
     ]
    }
   ],
   "source": [
    "db.connect()"
   ]
  },
  {
   "cell_type": "code",
   "execution_count": 47,
   "metadata": {},
   "outputs": [],
   "source": [
    "x1 = db.dfquery(\"\"\"\n",
    "               SELECT segmentid, street, postvz_sl, postvz_sg, prevz_sl, prevz_sg, \n",
    "                      version, geom\n",
    "               FROM public.speed_limit_19d\n",
    "               WHERE segmentid in {}\"\"\".format(data1)\n",
    "              \n",
    "              )"
   ]
  },
  {
   "cell_type": "code",
   "execution_count": 48,
   "metadata": {},
   "outputs": [
    {
     "name": "stdout",
     "output_type": "stream",
     "text": [
      "- Query run 2020-10-14 18:07:11.816000\n",
      " Query time: Query run in 675000 microseconds \n",
      " * Returned 0 rows *\n"
     ]
    }
   ],
   "source": [
    "y1 = db.query(\"\"\"UPDATE public.speed_limit_19d\n",
    "                 SET postvz_sl = 25\n",
    "                 WHERE segmentid in {}\"\"\".format(data1)\n",
    "              \n",
    "              )"
   ]
  },
  {
   "cell_type": "markdown",
   "metadata": {},
   "source": [
    "### SPEED LIMITS OF 35 mph"
   ]
  },
  {
   "cell_type": "code",
   "execution_count": 49,
   "metadata": {},
   "outputs": [],
   "source": [
    "data2 = sl_data.loc[sl_data.postvz_sl==35].segmentid"
   ]
  },
  {
   "cell_type": "code",
   "execution_count": 50,
   "metadata": {},
   "outputs": [],
   "source": [
    "data2 = tuple(map(int,list(data2)))"
   ]
  },
  {
   "cell_type": "code",
   "execution_count": 54,
   "metadata": {},
   "outputs": [
    {
     "name": "stdout",
     "output_type": "stream",
     "text": [
      "Database connection (PG) to CRASHDATA on dotdevrhpgsql01 - user: soge \n",
      "Connection established 2020-10-14 18:09:52\n"
     ]
    }
   ],
   "source": [
    "db.connect()"
   ]
  },
  {
   "cell_type": "code",
   "execution_count": 55,
   "metadata": {},
   "outputs": [],
   "source": [
    "x2 = db.dfquery(\"\"\"\n",
    "               SELECT segmentid, street, postvz_sl, postvz_sg, prevz_sl, prevz_sg, \n",
    "                      version, geom\n",
    "               FROM public.speed_limit_19d\n",
    "               WHERE segmentid in {}\"\"\".format(data2)\n",
    "              \n",
    "              )"
   ]
  },
  {
   "cell_type": "code",
   "execution_count": 57,
   "metadata": {},
   "outputs": [
    {
     "name": "stdout",
     "output_type": "stream",
     "text": [
      "- Query run 2020-10-14 18:10:17.380000\n",
      " Query time: Query run in 61000 microseconds \n",
      " * Returned 0 rows *\n"
     ]
    }
   ],
   "source": [
    "y2 = db.query(\"\"\"UPDATE public.speed_limit_19d\n",
    "                 SET postvz_sl = 35\n",
    "                 WHERE segmentid in {}\"\"\".format(data2)\n",
    "              \n",
    "              )"
   ]
  }
 ],
 "metadata": {
  "kernelspec": {
   "display_name": "Python 2",
   "language": "python",
   "name": "python2"
  },
  "language_info": {
   "codemirror_mode": {
    "name": "ipython",
    "version": 2
   },
   "file_extension": ".py",
   "mimetype": "text/x-python",
   "name": "python",
   "nbconvert_exporter": "python",
   "pygments_lexer": "ipython2",
   "version": "2.7.16"
  }
 },
 "nbformat": 4,
 "nbformat_minor": 2
}
