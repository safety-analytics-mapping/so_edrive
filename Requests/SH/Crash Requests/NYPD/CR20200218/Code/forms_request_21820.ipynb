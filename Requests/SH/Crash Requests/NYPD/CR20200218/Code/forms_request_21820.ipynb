{
 "cells": [
  {
   "cell_type": "code",
   "execution_count": 1,
   "metadata": {},
   "outputs": [
    {
     "name": "stdout",
     "output_type": "stream",
     "text": [
      "Notebook run: 2020-02-18_19:11\n",
      "E:\\RIS\\Staff Folders\\Samuel\\Requests\\SH\\Forms_Request\n"
     ]
    }
   ],
   "source": [
    "from ris import pysqldb\n",
    "from IPython.display import clear_output\n",
    "from collections import defaultdict\n",
    "from collections import defaultdict, namedtuple\n",
    "import datetime \n",
    "import pandas as pd\n",
    "import numpy as np\n",
    "import os\n",
    "from sqlalchemy import create_engine\n",
    "\n",
    "clear_output()\n",
    "timestamp = datetime.datetime.now().strftime('%Y-%m-%d_%H:%M')\n",
    "ts = datetime.datetime.now().strftime('%Y-%m-%d')\n",
    "\n",
    "print 'Notebook run: {}'.format(timestamp)\n",
    "print os.getcwd()"
   ]
  },
  {
   "cell_type": "code",
   "execution_count": 2,
   "metadata": {
    "scrolled": true
   },
   "outputs": [
    {
     "name": "stdout",
     "output_type": "stream",
     "text": [
      "\n",
      "Additional database connection details required:\n",
      "User name (crashdata):soge\n",
      "Password (crashdata)········\n",
      "Database connection (PG) to CRASHDATA on DOTDEVRHPGSQL01 - user: soge \n",
      "Connection established 2020-02-18 19:12:03\n",
      "\n",
      "Additional database connection details required:\n",
      "User name (sip):soge\n",
      "Password (sip)········\n",
      "Database connection (PG) to sip on dotpgsql01 - user: soge \n",
      "Connection established 2020-02-18 19:12:06\n",
      "Warning:\n",
      "\tMissing SQL Server Native Client 10.0                 datetime2 will not be interpreted correctly\n",
      "\n",
      "Database connection (MS) to forms on dot55sql01 - user: arcgis \n",
      "Connection established 2020-02-18 19:12:07\n",
      "Query run in 1000 microseconds\n",
      "Warning:\n",
      "\tMissing SQL Server Native Client 10.0                 datetime2 will not be interpreted correctly\n",
      "\n"
     ]
    }
   ],
   "source": [
    "#Database connection\n",
    "cdb = pysqldb.DbConnect(server='DOTDEVRHPGSQL01', database='CRASHDATA', type='PG')\n",
    "sdb = pysqldb.DbConnect(server='dotpgsql01', database='sip', type='PG')\n",
    "sqldb = pysqldb.DbConnect(server='dot55sql01', database='forms', type='MS', user = 'arcgis', password = 'arcgis')"
   ]
  },
  {
   "cell_type": "code",
   "execution_count": 3,
   "metadata": {
    "scrolled": true
   },
   "outputs": [
    {
     "name": "stdout",
     "output_type": "stream",
     "text": [
      "Database connection (PG) to sip on dotpgsql01 - user: soge \n",
      "Connection established 2020-02-18 19:12:09\n"
     ]
    }
   ],
   "source": [
    "sdb.connect()"
   ]
  },
  {
   "cell_type": "markdown",
   "metadata": {},
   "source": [
    "### All nodeids on Corridor Stretches of SIPs 1407 and 1429"
   ]
  },
  {
   "cell_type": "code",
   "execution_count": 4,
   "metadata": {},
   "outputs": [],
   "source": [
    "sip_nodes = sdb.dfquery(\"\"\"\n",
    "                \n",
    "WITH data AS(\n",
    "SELECT sp.pid, spg.segmentid, cl.mft, masteridfr, masteridto\n",
    "FROM public.sip_projects sp\n",
    "JOIN public.sip_projects_geo spg\n",
    "ON sp.pid=spg.pid_fk\n",
    "JOIN clion cl\n",
    "ON spg.segmentid = cl.segmentid::int\n",
    "WHERE sp.pid in (1407, 1429)\n",
    ")\n",
    "\n",
    "SELECT DISTINCT nodeid \n",
    "FROM clion_node \n",
    "WHERE masterid in (SELECT DISTINCT masteridfr masterid\n",
    "                   FROM data\n",
    "\n",
    "                   UNION\n",
    "\n",
    "                   SELECT DISTINCT masteridto masterid\n",
    "                   FROM data)\n",
    "\"\"\")\n"
   ]
  },
  {
   "cell_type": "code",
   "execution_count": 5,
   "metadata": {},
   "outputs": [],
   "source": [
    "nodes = tuple(map(int,(sip_nodes.nodeid)))"
   ]
  },
  {
   "cell_type": "markdown",
   "metadata": {},
   "source": [
    "### All NYPD Crash information related to SIPs 1407 and 1429 from 1/1/2018 to Present"
   ]
  },
  {
   "cell_type": "code",
   "execution_count": 6,
   "metadata": {},
   "outputs": [
    {
     "name": "stdout",
     "output_type": "stream",
     "text": [
      "Warning:\n",
      "\tMissing SQL Server Native Client 10.0                 datetime2 will not be interpreted correctly\n",
      "\n"
     ]
    }
   ],
   "source": [
    "data = sqldb.dfquery(\"\"\"\n",
    "\n",
    "SELECT DISTINCT coalesce(core.nodeid, core.lion_node_number) NODEID\n",
    "      ,core.INTEGRATION_ID\n",
    "      ,core.ACCIDENT_DT \n",
    "      ,left(stuff(STUFF(right('000000'+cast(core.ACCIDENT_TIME_WID AS VARCHAR),6),5,0,':'),3,0,':'), 5) ACCIDENT_TIME\n",
    "      ,core.INJURED_CNT\n",
    "      ,core.TRAFFIC_CONTROL\n",
    "      ,core.ACCIDENT_DIAGRAM\n",
    "      ,vic.PED_NONPED\n",
    "      ,vic.PED_ACTION\n",
    "FROM [FORMS].[dbo].[WC_ACCIDENT_F] core\n",
    "LEFT JOIN (SELECT DISTINCT ACCIDENT_ID, PED_ACTION, PED_NONPED, INJ_KILLED\n",
    "           FROM [FORMS].[dbo].[WC_ACCIDENT_VICTIM_F]\n",
    "           WHERE INJ_KILLED = 'Injured') vic\n",
    "ON core.integration_id = vic.accident_id\n",
    "WHERE YEAR(core.ACCIDENT_DT)>2017\n",
    "AND coalesce(core.VOID_STATUS_CD , 'N') ='N'\n",
    "AND core.nodeid in {}\n",
    "AND coalesce(core.nodeid, core.lion_node_number) is not null\n",
    "\n",
    "\n",
    "\"\"\".format(nodes)\n",
    ")"
   ]
  },
  {
   "cell_type": "code",
   "execution_count": 7,
   "metadata": {},
   "outputs": [
    {
     "name": "stdout",
     "output_type": "stream",
     "text": [
      "Database connection (PG) to CRASHDATA on DOTDEVRHPGSQL01 - user: soge \n",
      "Connection established 2020-02-18 19:12:22\n"
     ]
    }
   ],
   "source": [
    "cdb.connect()"
   ]
  },
  {
   "cell_type": "code",
   "execution_count": 8,
   "metadata": {},
   "outputs": [],
   "source": [
    "st_names = cdb.dfquery(\"\"\"  \n",
    "\n",
    "SELECT st_names.nodeid::int \"NODEID\", array_agg(street) \"STREET NAMES\", ST_X(geom) \"X\",  ST_Y(geom) \"Y\"\n",
    "FROM (SELECT distinct nodeidfrom nodeid, street, featuretyp\n",
    "      FROM lion \n",
    "      WHERE nodeidfrom::int in {n}\n",
    "      UNION\n",
    "\n",
    "      SELECT DISTINCT nodeidto nodeid, street, featuretyp\n",
    "      FROM lion \n",
    "      WHERE nodeidto::int in {n}\n",
    "      ) st_names\n",
    "LEFT JOIN node n\n",
    "ON n.nodeid::int = st_names.nodeid::int\n",
    "WHERE featuretyp in ('0', '6', 'C')\n",
    "GROUP BY st_names.NODEID,  ST_X(geom),  ST_Y(geom)\"\"\".format(n=nodes)\n",
    "                      \n",
    ")\n"
   ]
  },
  {
   "cell_type": "code",
   "execution_count": 9,
   "metadata": {},
   "outputs": [],
   "source": [
    "data = data.merge(st_names, on='NODEID', how = 'left')"
   ]
  },
  {
   "cell_type": "code",
   "execution_count": 10,
   "metadata": {},
   "outputs": [],
   "source": [
    "data.to_excel('forms_request.xlsx',index=False)"
   ]
  }
 ],
 "metadata": {
  "kernelspec": {
   "display_name": "Python 2",
   "language": "python",
   "name": "python2"
  },
  "language_info": {
   "codemirror_mode": {
    "name": "ipython",
    "version": 2
   },
   "file_extension": ".py",
   "mimetype": "text/x-python",
   "name": "python",
   "nbconvert_exporter": "python",
   "pygments_lexer": "ipython2",
   "version": "2.7.16"
  }
 },
 "nbformat": 4,
 "nbformat_minor": 2
}
