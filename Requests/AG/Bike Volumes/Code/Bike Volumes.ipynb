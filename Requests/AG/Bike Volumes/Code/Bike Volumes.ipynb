{
 "cells": [
  {
   "cell_type": "code",
   "execution_count": 1,
   "metadata": {},
   "outputs": [
    {
     "data": {
      "text/markdown": [
       "<strong>Notebook run on: 2020-04-20 16:53 | by soge | Using ris library version: 1.4.7 | File Location: E:\\RIS\\Staff Folders\\Samuel\\Requests\\AG\\Bike_Volumes"
      ],
      "text/plain": [
       "<IPython.core.display.Markdown object>"
      ]
     },
     "execution_count": 1,
     "metadata": {},
     "output_type": "execute_result"
    }
   ],
   "source": [
    "from ris import pysqldb\n",
    "from IPython.display import Markdown, clear_output\n",
    "from sqlalchemy import create_engine\n",
    "import ris\n",
    "import getpass\n",
    "import datetime \n",
    "import pandas as pd\n",
    "import numpy as np\n",
    "import os\n",
    "import requests\n",
    "\n",
    "timestamp = datetime.datetime.now().strftime('%Y-%m-%d %H:%M')\n",
    "ts = datetime.datetime.now().strftime('%Y-%m-%d')\n",
    "\n",
    "Markdown('<strong>Notebook run on: {} | by {} | Using ris library version: {} | File Location: {}'.format(\n",
    "    timestamp, getpass.getuser(), ris.__version__, os.getcwd()\n",
    "))"
   ]
  },
  {
   "cell_type": "code",
   "execution_count": 2,
   "metadata": {},
   "outputs": [
    {
     "name": "stdout",
     "output_type": "stream",
     "text": [
      "\n",
      "Additional database connection details required:\n",
      "User name (bicycle):soge\n",
      "Password (bicycle)········\n",
      "Database connection (PG) to bicycle on dotdevrhpgsql01 - user: soge \n",
      "Connection established 2020-04-20 16:53:57\n"
     ]
    }
   ],
   "source": [
    "try: \n",
    "    db.params['user']\n",
    "except:\n",
    "    db = pysqldb.DbConnect(type='PG', server='dotdevrhpgsql01', database='bicycle')"
   ]
  },
  {
   "cell_type": "markdown",
   "metadata": {},
   "source": [
    "### Formatting 'For Arthur' Excel Sheet"
   ]
  },
  {
   "cell_type": "markdown",
   "metadata": {},
   "source": [
    "#### Reading in 'For Arthur' Sheet"
   ]
  },
  {
   "cell_type": "code",
   "execution_count": 3,
   "metadata": {},
   "outputs": [],
   "source": [
    "bike_volumes = pd.read_excel('Bike Counts Linked to TIMS Raw Files- 2.26.20.xlsx', sheet_name='For Arthur')"
   ]
  },
  {
   "cell_type": "markdown",
   "metadata": {},
   "source": [
    "#### Resetting Sheet Header"
   ]
  },
  {
   "cell_type": "code",
   "execution_count": 4,
   "metadata": {},
   "outputs": [],
   "source": [
    "bike_volumes.columns = bike_volumes.iloc[1]\n",
    "bike_volumes = bike_volumes[2:]"
   ]
  },
  {
   "cell_type": "markdown",
   "metadata": {},
   "source": [
    "#### Limiting table to rows with (before weekday date, before weekday count, 1-yr after weekday date, 1-yr after weekday count)where after date is 1 year after installation "
   ]
  },
  {
   "cell_type": "code",
   "execution_count": 5,
   "metadata": {},
   "outputs": [],
   "source": [
    "bv = bike_volumes.loc[(bike_volumes['Before Weekend'].isnull()) & (bike_volumes['1 Year After (weekday)'].notnull()) & (bike_volumes['1 Year After (weekday)'] != 'Only have 3 years after') & (bike_volumes['Before (weekday)'].notnull())].copy()\n",
    "bv = bv.loc[(bv['1 Year After (weekday)'].dt.year - bv['Before (weekday)'].dt.year) < 4]\n",
    "bv = bv.reset_index()"
   ]
  },
  {
   "cell_type": "code",
   "execution_count": 6,
   "metadata": {},
   "outputs": [],
   "source": [
    "bv_id1 = (tuple(list(bv.loc[bv.BikeID.notnull()].BikeID)))"
   ]
  },
  {
   "cell_type": "markdown",
   "metadata": {},
   "source": [
    "### Formatting '#### Reading in 'Cleaned Combined Bike Volumes' Excel Sheet"
   ]
  },
  {
   "cell_type": "markdown",
   "metadata": {},
   "source": [
    "#### Reading in 'Cleaned Combined Bike Volumes' Sheet"
   ]
  },
  {
   "cell_type": "code",
   "execution_count": 7,
   "metadata": {},
   "outputs": [],
   "source": [
    "bike_volumes2 = pd.read_excel('cleaned_combined_bike_volumes_03022020.xlsx', sheet_name='bikes 03032020')"
   ]
  },
  {
   "cell_type": "code",
   "execution_count": 8,
   "metadata": {},
   "outputs": [],
   "source": [
    "bv2 = bike_volumes2.loc[bike_volumes2['Before (weekday)'].notnull()].copy()\n",
    "bv2 = bv2.loc[(bv2['Before (weekday)'].notnull()) & (bv2['Before total'].notnull()) & (bv2['1 Year After (weekday)'].notnull()) & (bv2['1 Year After (weekday)'] != 'Only have 3 years after') & (bv2['1 year after total'].notnull())]"
   ]
  },
  {
   "cell_type": "code",
   "execution_count": 9,
   "metadata": {},
   "outputs": [],
   "source": [
    "bv2 = bv2.loc[(bv2['1 Year After (weekday)'].dt.year - bv2['Before (weekday)'].dt.year)< 4]\n",
    "bv2 = bv.reset_index()"
   ]
  },
  {
   "cell_type": "code",
   "execution_count": 10,
   "metadata": {},
   "outputs": [],
   "source": [
    "bv_id2  = (tuple(map(int, list(bv2.loc[bv2.BikeID.notnull()].BikeID))))"
   ]
  },
  {
   "cell_type": "code",
   "execution_count": 11,
   "metadata": {},
   "outputs": [],
   "source": [
    "x = tuple(set(bv_id1 + bv_id2))"
   ]
  },
  {
   "cell_type": "markdown",
   "metadata": {},
   "source": [
    "### All Bike id Counts that are not in 'For Arthure' Excel Sheet nor in 'Cleaned Combined Bike Volumes' Excel Sheet"
   ]
  },
  {
   "cell_type": "code",
   "execution_count": 12,
   "metadata": {},
   "outputs": [],
   "source": [
    "bvm = db.dfquery(\"\"\"\n",
    "\n",
    "SELECT DISTINCT bikeid, facilitycl, street, fromstreet, tostreet, \n",
    "     instdate, moddate, date_part('year', moddate) yr\n",
    "FROM bike_network_2019_11_22\n",
    "WHERE date_part('year', moddate) between 2009 and 2016\n",
    "and bikeid not in {}\n",
    "ORDER BY yr\n",
    "\n",
    "\n",
    "\"\"\".format(tuple(x))\n",
    ")"
   ]
  },
  {
   "cell_type": "code",
   "execution_count": 13,
   "metadata": {},
   "outputs": [],
   "source": [
    "bvm.to_excel('bike_volumes_missing_{}.xlsx'.format(ts),index = 0)"
   ]
  },
  {
   "cell_type": "code",
   "execution_count": 14,
   "metadata": {},
   "outputs": [],
   "source": [
    "bv= bv.drop(columns = ['index'])\n",
    "bv2 = bv2.drop(columns=['level_0', 'index'])"
   ]
  },
  {
   "cell_type": "code",
   "execution_count": 15,
   "metadata": {},
   "outputs": [],
   "source": [
    "bike_volumes = pd.concat([bv,bv2])\n",
    "bike_volumes_unique = bike_volumes.drop_duplicates('BikeID',keep='first').reset_index()\n",
    "bids = tuple(map(int,list(bike_volumes_unique.fillna(0).BikeID)))"
   ]
  },
  {
   "cell_type": "code",
   "execution_count": 16,
   "metadata": {},
   "outputs": [
    {
     "name": "stdout",
     "output_type": "stream",
     "text": [
      "Database connection (PG) to bicycle on dotdevrhpgsql01 - user: soge \n",
      "Connection established 2020-04-20 16:54:00\n"
     ]
    }
   ],
   "source": [
    "db.connect()"
   ]
  },
  {
   "cell_type": "code",
   "execution_count": 17,
   "metadata": {},
   "outputs": [],
   "source": [
    "bids_from_to = db.dfquery(\"\"\"\n",
    "\n",
    "SELECT DISTINCT bikeid, street, fromstreet, tostreet \n",
    "FROM bike_network_2019_11_22\n",
    "WHERE date_part('year', moddate) between 2009 and 2016\n",
    "AND bikeid in {}\n",
    "ORDER BY bikeid\n",
    "\n",
    "\"\"\".format(bids)\n",
    ")"
   ]
  },
  {
   "cell_type": "code",
   "execution_count": 18,
   "metadata": {},
   "outputs": [],
   "source": [
    "writer = pd.ExcelWriter('bike_volumes_{}.xlsx'.format(ts), engine='xlsxwriter')    \n",
    "bike_volumes.to_excel(writer, sheet_name='Concatenated', index = False)\n",
    "bids_from_to.to_excel(writer, sheet_name='Unique', index = False)\n",
    "#bv.to_excel(writer, sheet_name='For Arthur', index = False)\n",
    "#bv2.to_excel(writer, sheet_name='bikes 03032020', index = False)\n",
    "writer.save() "
   ]
  }
 ],
 "metadata": {
  "kernelspec": {
   "display_name": "Python 2",
   "language": "python",
   "name": "python2"
  },
  "language_info": {
   "codemirror_mode": {
    "name": "ipython",
    "version": 2
   },
   "file_extension": ".py",
   "mimetype": "text/x-python",
   "name": "python",
   "nbconvert_exporter": "python",
   "pygments_lexer": "ipython2",
   "version": "2.7.16"
  }
 },
 "nbformat": 4,
 "nbformat_minor": 2
}
