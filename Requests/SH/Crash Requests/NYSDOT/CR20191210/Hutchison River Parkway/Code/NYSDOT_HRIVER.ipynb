{
 "cells": [
  {
   "cell_type": "markdown",
   "metadata": {},
   "source": [
    "##  Crash Data Request on Hutchison River Parkway \n",
    "\n",
    "#### Raw data: Crashes and associated records from the vehicle and contributing factors tables (2013-2017)\n",
    "\n",
    "#### Database: DOTDEVRHPGSQL01\n",
    "#### Tables: archive.\"2019_11_13_nysdot_all\", archive.\"2019_11_13_nysdot_vehicle\"\n",
    "\n"
   ]
  },
  {
   "cell_type": "code",
   "execution_count": 1,
   "metadata": {},
   "outputs": [
    {
     "name": "stdout",
     "output_type": "stream",
     "text": [
      "Notebook run: 2019-12-10_18:57\n",
      "E:\\RIS\\Staff Folders\\Samuel\\Requests\\SH\\Hutchison River Parkway\n"
     ]
    }
   ],
   "source": [
    "from ris import pysqldb\n",
    "from IPython.display import clear_output\n",
    "from collections import defaultdict\n",
    "from collections import defaultdict, namedtuple\n",
    "import datetime \n",
    "import pandas as pd\n",
    "import numpy as np\n",
    "import os\n",
    "from sqlalchemy import create_engine\n",
    "\n",
    "clear_output()\n",
    "timestamp = datetime.datetime.now().strftime('%Y-%m-%d_%H:%M')\n",
    "ts = datetime.datetime.now().strftime('%Y-%m-%d')\n",
    "\n",
    "print 'Notebook run: {}'.format(timestamp)\n",
    "print os.getcwd()"
   ]
  },
  {
   "cell_type": "code",
   "execution_count": 2,
   "metadata": {},
   "outputs": [
    {
     "name": "stdout",
     "output_type": "stream",
     "text": [
      "\n",
      "Additional database connection details required:\n",
      "User name (crashdata):soge\n",
      "Password (crashdata)········\n",
      "Database connection (PG) to CRASHDATA on DOTDEVRHPGSQL01 - user: soge \n",
      "Connection established 2019-12-10 18:57:40\n"
     ]
    }
   ],
   "source": [
    "#Database connection\n",
    "cdb = pysqldb.DbConnect(server='DOTDEVRHPGSQL01', database='CRASHDATA', type='PG')"
   ]
  },
  {
   "cell_type": "code",
   "execution_count": 3,
   "metadata": {},
   "outputs": [
    {
     "name": "stdout",
     "output_type": "stream",
     "text": [
      "Reading data into Database\n",
      "\n"
     ]
    },
    {
     "name": "stderr",
     "output_type": "stream",
     "text": [
      "42it [00:01, 39.07it/s]\n"
     ]
    },
    {
     "name": "stdout",
     "output_type": "stream",
     "text": [
      "\n",
      "42 rows added to working.hriver\n",
      "\n"
     ]
    }
   ],
   "source": [
    "cdb.csv_to_table(input_file='E:\\RIS\\Staff Folders\\Samuel\\Requests\\SH\\Hutchison River Parkway\\CrashRequest_RefMarker.csv',schema='working', table_name = 'hriver', overwrite=True)"
   ]
  },
  {
   "cell_type": "markdown",
   "metadata": {},
   "source": [
    "### nysdot_all HRiver Data"
   ]
  },
  {
   "cell_type": "code",
   "execution_count": 4,
   "metadata": {},
   "outputs": [],
   "source": [
    "nysdot_all = cdb.dfquery(\"\"\"\n",
    "\n",
    "SELECT * FROM archive.\"2019_11_13_nysdot_all\" nysdot_a\n",
    "JOIN working.hriver \n",
    "    ON nysdot_a.ref_mrkr = working.hriver.panel\n",
    "WHERE case_yr BETWEEN 2013 and 2017\n",
    "\n",
    "\"\"\")  "
   ]
  },
  {
   "cell_type": "code",
   "execution_count": 5,
   "metadata": {},
   "outputs": [],
   "source": [
    "nysdot_all.to_csv('nysdot_all_hriver.csv',index=False)"
   ]
  },
  {
   "cell_type": "markdown",
   "metadata": {},
   "source": [
    "### nysdot_vehicle HRiver Data"
   ]
  },
  {
   "cell_type": "code",
   "execution_count": 6,
   "metadata": {},
   "outputs": [],
   "source": [
    "nysdot_vehicle = cdb.dfquery(\"\"\"    \n",
    "\n",
    "WITH DATA AS\n",
    "\n",
    "--Selects all the crashids from nysdot_all joined with the hriver table on ref_mrkr \n",
    "(SELECT DISTINCT crashid FROM archive.\"2019_11_13_nysdot_all\" nysdot_a\n",
    "JOIN working.hriver \n",
    "ON nysdot_a.ref_mrkr = working.hriver.panel\n",
    "WHERE case_yr BETWEEN 2013 AND 2017)\n",
    "\n",
    "\n",
    "SELECT * FROM  archive.\"2019_11_13_nysdot_vehicle\" nysdot_v\n",
    "WHERE crashid IN (SELECT * FROM data) \n",
    "\n",
    "\"\"\")\n",
    "                             "
   ]
  },
  {
   "cell_type": "code",
   "execution_count": 7,
   "metadata": {},
   "outputs": [],
   "source": [
    "nysdot_vehicle.to_csv('nysdot_vehicle_hriver.csv',index=False)"
   ]
  },
  {
   "cell_type": "markdown",
   "metadata": {},
   "source": [
    "### nysdot_appfactor HRiver Data"
   ]
  },
  {
   "cell_type": "code",
   "execution_count": 8,
   "metadata": {},
   "outputs": [],
   "source": [
    "nysdot_appfactor = cdb.dfquery(\"\"\"\n",
    "\n",
    "WITH DATA AS\n",
    "\n",
    "--Selects all the crashids from nysdot_all joined with the hriver table on ref_mrkr\n",
    "(SELECT DISTINCT crashid FROM archive.\"2019_11_13_nysdot_all\" nysdot_a\n",
    "JOIN working.hriver \n",
    "ON nysdot_a.ref_mrkr = working.hriver.panel\n",
    "WHERE case_yr BETWEEN 2013 AND 2017)\n",
    "\n",
    "\n",
    "SELECT * FROM  archive.\"2019_11_13_nysdot_appfactor\" nysdot_app\n",
    "WHERE crashid IN (SELECT * FROM data)\n",
    "\n",
    "\"\"\")"
   ]
  },
  {
   "cell_type": "code",
   "execution_count": 9,
   "metadata": {},
   "outputs": [],
   "source": [
    "nysdot_appfactor.to_csv('nysdot_appfactor_hriver.csv',index=False)"
   ]
  }
 ],
 "metadata": {
  "kernelspec": {
   "display_name": "Python 2",
   "language": "python",
   "name": "python2"
  },
  "language_info": {
   "codemirror_mode": {
    "name": "ipython",
    "version": 2
   },
   "file_extension": ".py",
   "mimetype": "text/x-python",
   "name": "python",
   "nbconvert_exporter": "python",
   "pygments_lexer": "ipython2",
   "version": "2.7.16"
  }
 },
 "nbformat": 4,
 "nbformat_minor": 2
}
