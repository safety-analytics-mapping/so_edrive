{
 "cells": [
  {
   "cell_type": "markdown",
   "metadata": {},
   "source": [
    "# Northern Brooklyn KSI Study"
   ]
  },
  {
   "cell_type": "markdown",
   "metadata": {},
   "source": [
    "#### Output should be table with all the streets within region and KSI statistics in that region\n"
   ]
  },
  {
   "cell_type": "raw",
   "metadata": {},
   "source": [
    "I need to convert the shapefile into a table with geometry"
   ]
  },
  {
   "cell_type": "code",
   "execution_count": 5,
   "metadata": {},
   "outputs": [
    {
     "name": "stdout",
     "output_type": "stream",
     "text": [
      "User name (CRASHDATA):soge\n",
      "Password (CRASHDATA)········\n",
      "Indexing...\n"
     ]
    }
   ],
   "source": [
    "from ris import db2\n",
    "from ris import pg_import_export_shps as shp\n",
    "\n",
    "db = db2.PostgresDb('dotdevpgsql02', 'CRASHDATA', quiet = True)\n",
    "\n",
    "shp.import_shp_to_pg('C:\\Users\\soge\\Desktop\\Jupyter\\Shps\\Northern_Brooklyn_Study_Area\\Study_Area.shp', db, schema='working', precision=False, \n",
    "                     permission=True, gdal_data=r\"C:\\Program Files (x86)\\GDAL\\gdal-data\")\n",
    "\n",
    "#import_shp_to_pg(import_shp, pgo, schema='working', precision=False, permission=True,\n",
    "#                     gdal_data=r\"C:\\Program Files (x86)\\GDAL\\gdal-data\"):"
   ]
  }
 ],
 "metadata": {
  "kernelspec": {
   "display_name": "Python 2",
   "language": "python",
   "name": "python2"
  },
  "language_info": {
   "codemirror_mode": {
    "name": "ipython",
    "version": 2
   },
   "file_extension": ".py",
   "mimetype": "text/x-python",
   "name": "python",
   "nbconvert_exporter": "python",
   "pygments_lexer": "ipython2",
   "version": "2.7.10"
  }
 },
 "nbformat": 4,
 "nbformat_minor": 2
}
