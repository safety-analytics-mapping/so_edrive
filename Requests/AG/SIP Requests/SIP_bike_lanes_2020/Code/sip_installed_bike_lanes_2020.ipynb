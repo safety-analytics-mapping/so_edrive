{
 "cells": [
  {
   "cell_type": "markdown",
   "metadata": {},
   "source": [
    "# Default Import"
   ]
  },
  {
   "cell_type": "code",
   "execution_count": 1,
   "metadata": {
    "scrolled": true
   },
   "outputs": [
    {
     "data": {
      "text/markdown": [
       "<strong>Notebook run on: 2020-09-10 17:16 | by soge | Using ris library version: 1.5.6 | File Location: E:\\RIS\\Staff Folders\\Samuel\\Requests\\AG\\SIP Requests\\SIP_bike_lanes_2020"
      ],
      "text/plain": [
       "<IPython.core.display.Markdown object>"
      ]
     },
     "execution_count": 1,
     "metadata": {},
     "output_type": "execute_result"
    }
   ],
   "source": [
    "from ris import pysqldb\n",
    "from IPython.display import Markdown, clear_output\n",
    "from sqlalchemy import create_engine\n",
    "import ris\n",
    "import getpass\n",
    "import datetime \n",
    "import pandas as pd\n",
    "import numpy as np\n",
    "import os\n",
    "import requests\n",
    "\n",
    "timestamp = datetime.datetime.now().strftime('%Y-%m-%d %H:%M')\n",
    "ts = datetime.datetime.now().strftime('%Y-%m-%d')\n",
    "\n",
    "Markdown('<strong>Notebook run on: {} | by {} | Using ris library version: {} | File Location: {}'.format(\n",
    "    timestamp, getpass.getuser(), ris.__version__, os.getcwd()\n",
    "))\n"
   ]
  },
  {
   "cell_type": "markdown",
   "metadata": {},
   "source": [
    "# Db connections"
   ]
  },
  {
   "cell_type": "code",
   "execution_count": 2,
   "metadata": {},
   "outputs": [
    {
     "name": "stdout",
     "output_type": "stream",
     "text": [
      "\n",
      "Additional database connection details required:\n",
      "User name (sip):soge\n",
      "Password (sip)········\n",
      "Database connection (PG) to sip on dotpgsql01 - user: soge \n",
      "Connection established 2020-09-10 17:16:12\n"
     ]
    }
   ],
   "source": [
    "try: \n",
    "    db.params['user']\n",
    "except:\n",
    "    db = pysqldb.DbConnect(type='PG', server='dotpgsql01', database='sip')"
   ]
  },
  {
   "cell_type": "code",
   "execution_count": 3,
   "metadata": {},
   "outputs": [],
   "source": [
    "#sip = pysqldb.DbConnect(server='dotpgsql01', database='sip', type='PG', user = db.params['user'], password = db.params['password'])\n",
    "#forms = pysqldb.DbConnect(server='dot55sql01', database='forms', type='MS', user = 'arcgis', password = 'arcgis')"
   ]
  },
  {
   "cell_type": "code",
   "execution_count": 4,
   "metadata": {},
   "outputs": [
    {
     "name": "stdout",
     "output_type": "stream",
     "text": [
      "Database connection (PG) to sip on dotpgsql01 - user: soge \n",
      "Connection established 2020-09-10 17:16:13\n"
     ]
    }
   ],
   "source": [
    "db.connect()"
   ]
  },
  {
   "cell_type": "code",
   "execution_count": 5,
   "metadata": {},
   "outputs": [],
   "source": [
    "#complicated way"
   ]
  },
  {
   "cell_type": "markdown",
   "metadata": {},
   "source": [
    "data = db.dfquery(\"\"\"   -- names, treatments, and mileage of all 2020 installed bike lanes\n",
    "\n",
    "                        WITH data AS(\n",
    "                        SELECT tree.descendant AS qid, \n",
    "                        array_to_string(array_agg(tree.concat), ' -> '::text) AS full_treatment,\n",
    "                        array_to_string(array_agg(tree.ancestor), ' -> '::text) AS full_treatment_int\n",
    "                        FROM (  SELECT p.descendant, p.ancestor, q.question, p.depth, \n",
    "                               pg_catalog.concat(p.ancestor, ': ', q.question, ' (Depth:', p.depth, ')') AS concat\n",
    "                            FROM sip_questions_path p\n",
    "                            JOIN sip_questions q ON p.ancestor = q.qid\n",
    "                            ORDER BY p.descendant, p.depth DESC) tree\n",
    "                        GROUP BY tree.descendant\n",
    "                        )\n",
    "\n",
    "                        SELECT CASE WHEN data.full_treatment_int like '5 -> 258 -> 259%'\n",
    "                                                              OR full_treatment_int like '5 -> 258 -> 260%'\n",
    "                                                              OR full_treatment_int like '5 -> 258 -> 261%' THEN '1' \n",
    "                                    WHEN data.full_treatment_int like '5 -> 258 -> 262%' THEN '2'\n",
    "                                    WHEN data.full_treatment_int like '5 -> 258 -> 263%'\n",
    "                                                              OR full_treatment_int like '5 -> 258 -> 463%' THEN '3' END AS Class,\n",
    "                               sum(coalesce(st_length(cl.geom)/5280,0)) mileage\n",
    "                        FROM public.sip_treatments st\n",
    "                        LEFT JOIN data\n",
    "                        ON data.qid = st.breadcrumbid\n",
    "                        LEFT JOIN public.sip_projects sp\n",
    "                        ON st.pid_fk = sp.pid\n",
    "                        LEFT JOIN public.sip_treatments_geo stg\n",
    "                        ON st.tid = stg.tid_fk\n",
    "                        LEFT JOIN public.clion cl\n",
    "                        ON stg.segmentid::int = cl.segmentid::int\n",
    "                        JOIN sip_lookup sl\n",
    "                        ON sp.status::int = sl.lookupid\n",
    "                        WHERE full_treatment_int like '5 -> 258%'\n",
    "                        AND sip_year = 2020\n",
    "                        AND sp.status = '15'\n",
    "                        GROUP BY CASE WHEN data.full_treatment_int like '5 -> 258 -> 259%'\n",
    "                                                              OR full_treatment_int like '5 -> 258 -> 260%'\n",
    "                                                              OR full_treatment_int like '5 -> 258 -> 261%' THEN '1'\n",
    "                                    WHEN data.full_treatment_int like '5 -> 258 -> 262%' THEN '2'\n",
    "                                    WHEN data.full_treatment_int like '5 -> 258 -> 263%'\n",
    "                                                              OR full_treatment_int like '5 -> 258 -> 463%' THEN '3' END\n",
    "                                 \n",
    "\"\"\")"
   ]
  },
  {
   "cell_type": "code",
   "execution_count": 6,
   "metadata": {
    "scrolled": true
   },
   "outputs": [
    {
     "name": "stdout",
     "output_type": "stream",
     "text": [
      "Database connection (PG) to sip on dotpgsql01 - user: soge \n",
      "Connection established 2020-09-10 17:16:14\n"
     ]
    }
   ],
   "source": [
    "db.connect()"
   ]
  },
  {
   "cell_type": "code",
   "execution_count": 7,
   "metadata": {},
   "outputs": [],
   "source": [
    "#Simple way"
   ]
  },
  {
   "cell_type": "raw",
   "metadata": {},
   "source": [
    "Classes:\n",
    "I is protected\n",
    "II is buffered, curbside, standard\n",
    "III is sharrows, parking"
   ]
  },
  {
   "cell_type": "code",
   "execution_count": 8,
   "metadata": {},
   "outputs": [],
   "source": [
    "sip_data = db.dfquery(\"\"\"   -- names, treatments, and mileage of all 2020 installed bike lanes\n",
    "\n",
    "                        WITH data AS(\n",
    "                        SELECT tree.descendant AS qid, \n",
    "                        array_to_string(array_agg(tree.concat), ' -> '::text) AS full_treatment,\n",
    "                        array_to_string(array_agg(tree.ancestor), ' -> '::text) AS full_treatment_int\n",
    "                        FROM (  SELECT p.descendant, p.ancestor, q.question, p.depth, \n",
    "                               pg_catalog.concat(p.ancestor, ': ', q.question, ' (Depth:', p.depth, ')') AS concat\n",
    "                            FROM sip_questions_path p\n",
    "                            JOIN sip_questions q ON p.ancestor = q.qid\n",
    "                            ORDER BY p.descendant, p.depth DESC) tree\n",
    "                        GROUP BY tree.descendant\n",
    "                        )\n",
    "\n",
    "                        SELECT CASE WHEN data.full_treatment like '%Bikes% -> %New Facility% -> %Protected%' THEN '1'\n",
    "                                    WHEN data.full_treatment like '%Bikes% -> %New Facility% -> %Standard%'\n",
    "                                                              OR data.full_treatment like '%Bikes% -> %New Facility% -> %Buffered%'\n",
    "                                                              OR data.full_treatment like '%Bikes% -> %New Facility% -> %Curbside%' THEN '2' \n",
    "                                    WHEN data.full_treatment like '%Bikes% -> %New Facility% -> %Sharrows%'\n",
    "                                                              OR data.full_treatment_int like '5: Bikes % -> %New Facility% -> %Parking%' THEN '3' END AS Class,\n",
    "                               sum(coalesce(st_length(cl.geom)/5280,0)) mileage\n",
    "                        FROM public.sip_treatments st\n",
    "                        LEFT JOIN data\n",
    "                        ON data.qid = st.breadcrumbid\n",
    "                        LEFT JOIN public.sip_projects sp\n",
    "                        ON st.pid_fk = sp.pid\n",
    "                        LEFT JOIN public.sip_treatments_geo stg\n",
    "                        ON st.tid = stg.tid_fk\n",
    "                        LEFT JOIN public.clion cl\n",
    "                        ON stg.segmentid::int = cl.segmentid::int\n",
    "                        JOIN sip_lookup sl\n",
    "                        ON sp.status::int = sl.lookupid\n",
    "                        WHERE full_treatment_int like '5 -> 258%'\n",
    "                        AND sip_year = 2020\n",
    "                        AND sp.status = '15'\n",
    "                        GROUP BY CASE WHEN data.full_treatment like '%Bikes% -> %New Facility% -> %Protected%' THEN '1'\n",
    "                                      WHEN data.full_treatment like '%Bikes% -> %New Facility% -> %Standard%'\n",
    "                                                              OR data.full_treatment like '%Bikes% -> %New Facility% -> %Buffered%'\n",
    "                                                              OR data.full_treatment like '%Bikes% -> %New Facility% -> %Curbside%' THEN '2' \n",
    "                                      WHEN data.full_treatment like '%Bikes% -> %New Facility% -> %Sharrows%'\n",
    "                                                              OR data.full_treatment_int like '5: Bikes % -> %New Facility% -> %Parking%' THEN '3' END                                \n",
    "\"\"\")"
   ]
  },
  {
   "cell_type": "code",
   "execution_count": 9,
   "metadata": {},
   "outputs": [
    {
     "data": {
      "text/html": [
       "<div>\n",
       "<style scoped>\n",
       "    .dataframe tbody tr th:only-of-type {\n",
       "        vertical-align: middle;\n",
       "    }\n",
       "\n",
       "    .dataframe tbody tr th {\n",
       "        vertical-align: top;\n",
       "    }\n",
       "\n",
       "    .dataframe thead th {\n",
       "        text-align: right;\n",
       "    }\n",
       "</style>\n",
       "<table border=\"1\" class=\"dataframe\">\n",
       "  <thead>\n",
       "    <tr style=\"text-align: right;\">\n",
       "      <th></th>\n",
       "      <th>class</th>\n",
       "      <th>mileage</th>\n",
       "    </tr>\n",
       "  </thead>\n",
       "  <tbody>\n",
       "    <tr>\n",
       "      <th>0</th>\n",
       "      <td>1</td>\n",
       "      <td>0.935072</td>\n",
       "    </tr>\n",
       "    <tr>\n",
       "      <th>1</th>\n",
       "      <td>2</td>\n",
       "      <td>13.452089</td>\n",
       "    </tr>\n",
       "  </tbody>\n",
       "</table>\n",
       "</div>"
      ],
      "text/plain": [
       "  class    mileage\n",
       "0     1   0.935072\n",
       "1     2  13.452089"
      ]
     },
     "execution_count": 9,
     "metadata": {},
     "output_type": "execute_result"
    }
   ],
   "source": [
    "sip_data"
   ]
  },
  {
   "cell_type": "code",
   "execution_count": 11,
   "metadata": {},
   "outputs": [],
   "source": [
    "#data.to_csv('sip_installed_bike_lanes_2020_{ts}.csv'.format(ts=ts), index = False)"
   ]
  }
 ],
 "metadata": {
  "kernelspec": {
   "display_name": "Python 2",
   "language": "python",
   "name": "python2"
  },
  "language_info": {
   "codemirror_mode": {
    "name": "ipython",
    "version": 2
   },
   "file_extension": ".py",
   "mimetype": "text/x-python",
   "name": "python",
   "nbconvert_exporter": "python",
   "pygments_lexer": "ipython2",
   "version": "2.7.16"
  }
 },
 "nbformat": 4,
 "nbformat_minor": 2
}
