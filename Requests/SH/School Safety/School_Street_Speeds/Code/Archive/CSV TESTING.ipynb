{
 "cells": [
  {
   "cell_type": "code",
   "execution_count": 28,
   "metadata": {},
   "outputs": [
    {
     "name": "stdout",
     "output_type": "stream",
     "text": [
      "School_Street_Speeds_2019-06-17_15:51\n",
      "                a               b               c\n",
      "0  set([c, b, d])  set([c, e, d])  set([e, d, f])\n",
      "1  set([c, b, d])  set([c, e, d])  set([e, d, f])\n",
      "2  set([c, b, d])  set([c, e, d])  set([e, d, f])\n"
     ]
    }
   ],
   "source": [
    "import datetime \n",
    "from pandas import DataFrame\n",
    "\n",
    "#file_n= 'School_Street_Speeds'\n",
    "#rint file_n+'{}'.format(datetime.datetime.now().strftime(\"_%Y-%m-%d %H:%M\"))\n",
    "\n",
    "file_n = 'School_Street_Speeds' + str((datetime.datetime.now().strftime(\"_%Y-%m-%d_%H:%M\")))\n",
    "print(file_n)\n",
    "\n",
    "table= {'a':{'b','c','d'},'b':{'c','d','e'},'c':{'d','e','f'}}\n",
    "table=DataFrame(table)\n",
    "print(table)"
   ]
  },
  {
   "cell_type": "code",
   "execution_count": 21,
   "metadata": {},
   "outputs": [],
   "source": [
    "table.to_csv(file_n + '.csv',index=False)"
   ]
  },
  {
   "cell_type": "code",
   "execution_count": 44,
   "metadata": {},
   "outputs": [],
   "source": [
    "import pandas as pd\n",
    "import xlsxwriter\n",
    "\n",
    "df1 = pd.DataFrame({'Names': ['Andreas', 'George', 'Steve',\n",
    "                           'Sarah', 'Joanna', 'Hanna'],\n",
    "                   'Age':[21, 22, 20, 19, 18, 23]})\n",
    "df2 = pd.DataFrame({'Names': ['Pete', 'Jordan', 'Gustaf',\n",
    "                           'Sophie', 'Sally', 'Simone'],\n",
    "                   'Age':[22, 21, 19, 19, 29, 21]})\n",
    "df3 = pd.DataFrame({'Names': ['Ulrich', 'Donald', 'Jon',\n",
    "                           'Jessica', 'Elisabeth', 'Diana'],\n",
    "                   'Age':[21, 21, 20, 19, 19, 22]})\n",
    "\n",
    "dfs = {'Group1':df1, 'Group2':df2, 'Group3':df3}"
   ]
  },
  {
   "cell_type": "code",
   "execution_count": 45,
   "metadata": {},
   "outputs": [],
   "source": [
    "writer = pd.ExcelWriter('NamesAndAges.xlsx', engine='xlsxwriter')\n",
    "for sheet_name in dfs.keys():\n",
    "    dfs[sheet_name].to_excel(writer, sheet_name=sheet_name, index=False)\n",
    "    \n",
    "writer.save()"
   ]
  },
  {
   "cell_type": "code",
   "execution_count": 41,
   "metadata": {},
   "outputs": [
    {
     "ename": "ImportError",
     "evalue": "No module named xlswriter",
     "output_type": "error",
     "traceback": [
      "\u001b[1;31m---------------------------------------------------------------------------\u001b[0m",
      "\u001b[1;31mImportError\u001b[0m                               Traceback (most recent call last)",
      "\u001b[1;32m<ipython-input-41-e9f804a4ef56>\u001b[0m in \u001b[0;36m<module>\u001b[1;34m()\u001b[0m\n\u001b[1;32m----> 1\u001b[1;33m \u001b[1;32mimport\u001b[0m \u001b[0mxlswriter\u001b[0m\u001b[1;33m\u001b[0m\u001b[0m\n\u001b[0m",
      "\u001b[1;31mImportError\u001b[0m: No module named xlswriter"
     ]
    }
   ],
   "source": [
    "import xlswriter"
   ]
  },
  {
   "cell_type": "code",
   "execution_count": null,
   "metadata": {},
   "outputs": [],
   "source": [
    "workbook = xlsxwriter.Workbook('Test.xlsx') \n",
    "  \n",
    "# The workbook object is then used to add new  \n",
    "# worksheet via the add_worksheet() method. \n",
    "worksheet = workbook.add_worksheet() \n",
    "   \n",
    "worksheet.write('A1', 'Hello..') \n",
    "worksheet.write('B1', 'Geeks') \n",
    "worksheet.write('C1', 'For') \n",
    "worksheet.write('D1', 'Geeks') \n",
    "\n",
    "worksheet2 = workbook.add_worksheet('testing')\n",
    "\n",
    "worksheet2.write('A1', 'Hello..') \n",
    "worksheet2.write('B1', 'Geeks') \n",
    "worksheet2.write('C1', 'For') \n",
    "worksheet2.write('D1', 'Geeks') \n",
    "workbook.close() "
   ]
  }
 ],
 "metadata": {
  "kernelspec": {
   "display_name": "Python 2",
   "language": "python",
   "name": "python2"
  },
  "language_info": {
   "codemirror_mode": {
    "name": "ipython",
    "version": 2
   },
   "file_extension": ".py",
   "mimetype": "text/x-python",
   "name": "python",
   "nbconvert_exporter": "python",
   "pygments_lexer": "ipython2",
   "version": "2.7.10"
  }
 },
 "nbformat": 4,
 "nbformat_minor": 2
}
