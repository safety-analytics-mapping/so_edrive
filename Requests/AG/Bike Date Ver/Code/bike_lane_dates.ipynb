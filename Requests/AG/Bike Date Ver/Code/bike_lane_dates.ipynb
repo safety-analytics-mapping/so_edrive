{
 "cells": [
  {
   "cell_type": "code",
   "execution_count": 2,
   "metadata": {},
   "outputs": [
    {
     "name": "stdout",
     "output_type": "stream",
     "text": [
      "Notebook run: 2019-11-21 16:27\n",
      "E:\\RIS\\Staff Folders\\Samuel\\Requests\\AG\\Bike_Date_Ver\n"
     ]
    }
   ],
   "source": [
    "from ris import db2  #library designed for SQL database connection and querying\n",
    "from ris import pysqldb\n",
    "from IPython.display import clear_output\n",
    "from collections import defaultdict\n",
    "from collections import defaultdict, namedtuple\n",
    "import datetime \n",
    "import pandas as pd\n",
    "import numpy as np\n",
    "import os\n",
    "from sqlalchemy import create_engine\n",
    "\n",
    "clear_output()\n",
    "timestamp = datetime.datetime.now().strftime('%Y-%m-%d %H:%M')\n",
    "print 'Notebook run: {}'.format(timestamp)\n",
    "print os.getcwd()\n",
    "# %load_ext sql "
   ]
  },
  {
   "cell_type": "code",
   "execution_count": 3,
   "metadata": {
    "scrolled": true
   },
   "outputs": [
    {
     "name": "stdout",
     "output_type": "stream",
     "text": [
      "\n",
      "Additional database connection details required:\n",
      "User name (crashdata):bfeng\n",
      "Password (crashdata)········\n",
      "Database connection (PG) to CRASHDATA on DOTDEVRHPGSQL01 - user: bfeng \n",
      "Connection established 2019-11-21 16:27:59\n",
      "Database connection (PG) to bicycle on dotdevrhpgsql01 - user: bfeng \n",
      "Connection established 2019-11-21 16:28:00\n"
     ]
    }
   ],
   "source": [
    "cdb = pysqldb.DbConnect(type = 'PG', server = 'DOTDEVRHPGSQL01', database = 'CRASHDATA', quiet = True)\n",
    "bike_db = pysqldb.DbConnect(type = 'PG', server = 'dotdevrhpgsql01', database = 'bicycle', user = cdb.params['user'],\n",
    "                           password = cdb.params['password'])"
   ]
  },
  {
   "cell_type": "code",
   "execution_count": 4,
   "metadata": {},
   "outputs": [],
   "source": [
    "new_table = \"%s_bike_network_18d\" %datetime.datetime.now().strftime('%Y_%m_%d')"
   ]
  },
  {
   "cell_type": "markdown",
   "metadata": {},
   "source": [
    "# Archive Old Versions of Bike Network"
   ]
  },
  {
   "cell_type": "code",
   "execution_count": 13,
   "metadata": {},
   "outputs": [
    {
     "name": "stdout",
     "output_type": "stream",
     "text": [
      "drop table \"2015_nyc_bicycle_network\"\n",
      "    \n",
      "drop table \"2016_nyc_bicycle_network\"\n",
      "    \n"
     ]
    }
   ],
   "source": [
    "# for tbl in [\"2015_nyc_bicycle_network\",           \n",
    "#             \"2016_nyc_bicycle_network\"\n",
    "# #             \"2017_01_11_bike_network\",\n",
    "# #              \"2017_03_13_bike_network\"\n",
    "# #             \"2019_01_09_bike_network\"\n",
    "# #             ,\"2019_05_03_bike_network_18d\"\n",
    "#            ]:\n",
    "#     print(\"\"\"drop table \"{tbl}\"\n",
    "#     \"\"\".format(tbl = tbl))"
   ]
  },
  {
   "cell_type": "code",
   "execution_count": 141,
   "metadata": {},
   "outputs": [
    {
     "name": "stdout",
     "output_type": "stream",
     "text": [
      "Query run in 71000 microseconds\n",
      "Query run in 35000 microseconds\n"
     ]
    }
   ],
   "source": [
    "# for tbl in [\"2015_nyc_bicycle_network\" ,\n",
    "#             \"2016_11_02_bike_network\",\n",
    "#             \"2016_nyc_bicycle_network\"\n",
    "#             \"2017_01_11_bike_network\",\n",
    "#              \"2017_03_13_bike_network\"\n",
    "#             \"2019_01_09_bike_network\"\n",
    "#             ,\"2019_05_03_bike_network_18d\"]:\n",
    "#     bike_db.query(\"\"\"create table archive.\"{tbl}\"\n",
    "#     as select * from \"{tbl}\"\n",
    "#     \"\"\".format(tbl = tbl))"
   ]
  },
  {
   "cell_type": "code",
   "execution_count": 11,
   "metadata": {},
   "outputs": [
    {
     "name": "stdout",
     "output_type": "stream",
     "text": [
      "Query run in 1000 microseconds\n",
      "Query run in 1000 microseconds\n",
      "Query run in 1000 microseconds\n",
      "Query run in 1000 microseconds\n"
     ]
    }
   ],
   "source": [
    "for tbl in [#\"2015_nyc_bicycle_network\" ,\n",
    "#             \"2016_11_02_bike_network\",\n",
    "#             \"2016_nyc_bicycle_network\"\n",
    "            \"2017_01_11_bike_network\",\n",
    "             \"2017_03_13_bike_network\",\n",
    "            \"2019_01_09_bike_network\",\n",
    "            \"2019_05_03_bike_network_18d\"]:\n",
    "    bike_db.query(\"\"\"grant all on archive.\"{tbl}\" to public\n",
    "    \"\"\".format(tbl = tbl))"
   ]
  },
  {
   "cell_type": "markdown",
   "metadata": {},
   "source": [
    "# Install Date Mismatch"
   ]
  },
  {
   "cell_type": "code",
   "execution_count": 89,
   "metadata": {},
   "outputs": [],
   "source": [
    "# instdate_disagree = cdb.dfquery(\"\"\"\n",
    "                    \n",
    "#                     select n.bikeid, n.instdate new_instdate, n.segmentid::int new_segmentid,\n",
    "#                     o.instdate old_instdate,  n.geom from working.current_network n\n",
    "#                     join working.current_network2 o \n",
    "#                     on n.segmentid::int = o.segmentid::int\n",
    "#                     where n.instdate != o.instdate\n",
    "#                     and extract(year from o.instdate) < 2017\n",
    "#                     and extract(year from n.instdate) < 2017\n",
    "#                     and extract(year from o.moddate) < 2017\n",
    "#                     and n.segmentid != '0' \n",
    "#                     order by n.segmentid::int\n",
    "\n",
    "                    \n",
    "#                     \"\"\")\n",
    "   "
   ]
  },
  {
   "cell_type": "code",
   "execution_count": 90,
   "metadata": {},
   "outputs": [],
   "source": [
    "# instdate_disagree.to_csv(\"install_mismatch.csv\",index=False)"
   ]
  },
  {
   "cell_type": "markdown",
   "metadata": {},
   "source": [
    "# Old Moddate > New Moddate"
   ]
  },
  {
   "cell_type": "code",
   "execution_count": 91,
   "metadata": {},
   "outputs": [],
   "source": [
    "# moddate_disagree = cdb.dfquery(\"\"\"\n",
    "#                     select n.bikeid, n.moddate new_moddate, n.segmentid::int new_segmentid,\n",
    "#                     o.moddate old_moddate, n.geom from working.current_network n\n",
    "#                     join working.current_network2 o \n",
    "#                     on n.segmentid::int = o.segmentid::int\n",
    "#                     where o.moddate > n.moddate\n",
    "#                     and extract(year from o.instdate) < 2017\n",
    "#                     and extract(year from n.instdate) < 2017\n",
    "#                     and extract(year from o.moddate) < 2017\n",
    "#                     and n.segmentid != '0' \n",
    "#                     order by n.segmentid::int\"\"\")"
   ]
  },
  {
   "cell_type": "markdown",
   "metadata": {},
   "source": [
    "# Lanes in 2016 network not in 2018 network"
   ]
  },
  {
   "cell_type": "code",
   "execution_count": 92,
   "metadata": {},
   "outputs": [],
   "source": [
    "# missing_lanes = cdb.dfquery(\"\"\"\n",
    "\n",
    "#                     select distinct o2.* from (\n",
    "#                     select o.instdate old_instdate, o.moddate old_moddate, o.segmentid old_segmentid, o.geom old_geom, o.bikeid\n",
    "#                     from working.proximity_bike_facility n\n",
    "#                     right join working.proximity_bike_facility2 o \n",
    "#                     on n.segmentid::int = o.segmentid::int\n",
    "#                     where n.segmentid is null\n",
    "#                     and o.segmentid not in ('99999999', '0000000')\n",
    "#                     and extract(year from o.moddate) < 2017\n",
    "#                     order by n.segmentid::int\n",
    "#                     ) o2\n",
    "#                     left join working.proximity_bike_facility n2\n",
    "#                     on st_within(o2.old_geom, st_buffer(n2.geom, 25))\n",
    "#                     where n2.geom is null\n",
    "#                     and o2.bikeid not in ('779', '767')\n",
    "\n",
    "\n",
    "                    \n",
    "#                     \"\"\")\n",
    "   "
   ]
  },
  {
   "cell_type": "code",
   "execution_count": 93,
   "metadata": {},
   "outputs": [],
   "source": [
    "# missing_lanes.to_csv(\"missing_lanes.csv\",index=False)"
   ]
  },
  {
   "cell_type": "markdown",
   "metadata": {},
   "source": [
    "# Install Date > Mod Date"
   ]
  },
  {
   "cell_type": "code",
   "execution_count": 94,
   "metadata": {},
   "outputs": [],
   "source": [
    "# instmod = cdb.dfquery(\"\"\"select * from working.current_network\n",
    "# where instdate > moddate\n",
    "# and bikeid::float != 1166\"\"\")"
   ]
  },
  {
   "cell_type": "markdown",
   "metadata": {},
   "source": [
    "# 18 Bike Network Segmentid = 0"
   ]
  },
  {
   "cell_type": "code",
   "execution_count": 95,
   "metadata": {},
   "outputs": [],
   "source": [
    "# seg18_0 = cdb.dfquery(\"\"\"\n",
    "# select n.*, l.segmentid real_segmentid, st_intersection(st_buffer(n.geom, 1), l.geom)\n",
    "# , st_length(st_intersection(st_buffer(n.geom, 1), l.geom))/st_length(n.geom) \n",
    "# from working.current_network n\n",
    "# join lion l\n",
    "# on st_dwithin(n.geom, l.geom, 10)\n",
    "# where n.segmentid = '0'\n",
    "# and st_length(st_intersection(st_buffer(n.geom, 1), l.geom))/st_length(n.geom) > 0.8\n",
    "# \"\"\")"
   ]
  },
  {
   "cell_type": "markdown",
   "metadata": {},
   "source": [
    "# 16 Bike Network Segmentid = 0/No equivalent in 18d"
   ]
  },
  {
   "cell_type": "code",
   "execution_count": 96,
   "metadata": {},
   "outputs": [],
   "source": [
    "# seg16_0 = cdb.dfquery(\"\"\"\n",
    "# select n.*, l.segmentid real_segmentid, l.geom geom_18, st_intersection(st_buffer(n.geom, 1), l.geom)\n",
    "# , st_length(st_intersection(st_buffer(n.geom, 10), l.geom))/st_length(n.geom)\n",
    "# from working.current_network2 n\n",
    "# join working.current_network l\n",
    "# on st_dwithin(n.geom, l.geom, 10)\n",
    "# where n.segmentid in ('99999999', '0000000')\n",
    "# and st_length(st_intersection(st_buffer(n.geom, 1), l.geom))/st_length(l.geom) > 0.8;\n",
    "# \"\"\")"
   ]
  },
  {
   "cell_type": "markdown",
   "metadata": {},
   "source": [
    "# insert lion segment ped bridge"
   ]
  },
  {
   "cell_type": "code",
   "execution_count": 97,
   "metadata": {},
   "outputs": [
    {
     "name": "stdout",
     "output_type": "stream",
     "text": [
      "Query run in 132000 microseconds\n"
     ]
    }
   ],
   "source": [
    "bike_db.query(\"\"\"drop table if exists \"{table}\";\n",
    "\n",
    "create table \"{table}\" as \n",
    "select * from \"2019_05_03_bike_network_18d\"\n",
    "union \n",
    "select \n",
    "gid::numeric,\n",
    "null::numeric objectid,\n",
    "__gid::numeric,\n",
    "segmentid::numeric,\n",
    "segmentmil::numeric,\n",
    "lanemiles::numeric,\n",
    "bikeid::numeric,\n",
    "shape_leng::numeric,\n",
    "objectid_1::numeric,\n",
    "street::varchar(254),\n",
    "boro::numeric,\n",
    "facilitycl::varchar(254),\n",
    "fromstreet::varchar(254),\n",
    "tostreet::varchar(254),\n",
    "lasteditby::varchar(254),\n",
    "onoffst::varchar(254),\n",
    "allclasses::varchar(254),\n",
    "instdate::date,\n",
    "moddate::date,\n",
    "comments::varchar(254),\n",
    "bikedir::varchar(254),\n",
    "lanecount::numeric,\n",
    "jurisdicti::varchar(254),\n",
    "ft_facilit::varchar(254),\n",
    "tf_facilit::varchar(254),\n",
    "lastedited::date,\n",
    "sip_name::varchar(100),\n",
    "prev_class::varchar(50),\n",
    "prev_facil::varchar(50),\n",
    "null::double precision bikeid_1,\n",
    "null::integer priority_d,\n",
    "null::date pg_upload,\n",
    "null::integer sip_year,\n",
    "geom::geometry\n",
    "from \"2017_03_13_bike_network\" \n",
    "where bikeid::int = 1230 or segmentid::int in (238429, 238435)\n",
    "\"\"\".format(table = new_table))"
   ]
  },
  {
   "cell_type": "code",
   "execution_count": 98,
   "metadata": {},
   "outputs": [
    {
     "name": "stdout",
     "output_type": "stream",
     "text": [
      "Query run in 132000 microseconds\n"
     ]
    }
   ],
   "source": [
    "bike_db.query(\"\"\"insert into \"{table}\" (segmentid, bikeid_1, geom)\n",
    "select segmentid::int, 2389, geom from c_lion_18d\n",
    "where segmentid::int = 312394;\n",
    "\n",
    "update \"{table}\"\n",
    "set bikeid = b.bikeid,\n",
    "objectid_1 = b.objectid_1,\n",
    "street = b.street,\n",
    "boro = b.boro,\n",
    "facilitycl = b.facilitycl,\n",
    "fromstreet = b.fromstreet,\n",
    "tostreet = b.tostreet,\n",
    "onoffst = b.onoffst,\n",
    "allclasses = b.allclasses,\n",
    "instdate = b.instdate,\n",
    "moddate = b.moddate,\n",
    "bikedir = b.bikedir,\n",
    "lanecount = b.lanecount,\n",
    "jurisdicti = b.jurisdicti,\n",
    "bikeid_1 = b.bikeid_1,\n",
    "priority_d = b.priority_d,\n",
    "pg_upload = b.pg_upload,\n",
    "sip_year = b.sip_year\n",
    "from \n",
    "(select bikeid, objectid_1, street, boro, facilitycl, fromstreet, tostreet,\n",
    "onoffst, allclasses, instdate, moddate, bikedir, lanecount, jurisdicti, bikeid_1,\n",
    "priority_d, pg_upload, sip_year\n",
    "from \"{table}\" where bikeid = 2389) b\n",
    "where segmentid = 312394\n",
    "\n",
    "\"\"\".format(table=new_table))"
   ]
  },
  {
   "cell_type": "code",
   "execution_count": 99,
   "metadata": {},
   "outputs": [],
   "source": [
    "data = pd.read_csv('install_mismatch.csv')"
   ]
  },
  {
   "cell_type": "code",
   "execution_count": 100,
   "metadata": {},
   "outputs": [],
   "source": [
    "changes = data.loc[data['comment'].str.startswith('old')]"
   ]
  },
  {
   "cell_type": "code",
   "execution_count": 101,
   "metadata": {},
   "outputs": [],
   "source": [
    "change_dict = {}\n",
    "for i in range(len(changes)):\n",
    "    change_dict[changes.iloc[i].bikeid] = changes.iloc[i].old_instdate"
   ]
  },
  {
   "cell_type": "code",
   "execution_count": 102,
   "metadata": {
    "scrolled": true
   },
   "outputs": [
    {
     "data": {
      "text/plain": [
       "{32: '7/22/2011', 544: '11/15/2011', 1510: '7/1/2010', 2652: '7/1/2010'}"
      ]
     },
     "execution_count": 102,
     "metadata": {},
     "output_type": "execute_result"
    }
   ],
   "source": [
    "# bld changes\n",
    "change_dict"
   ]
  },
  {
   "cell_type": "code",
   "execution_count": 103,
   "metadata": {},
   "outputs": [
    {
     "name": "stdout",
     "output_type": "stream",
     "text": [
      "Query run in 3000 microseconds\n"
     ]
    }
   ],
   "source": [
    "bike_db.query(\"\"\"alter table \"{table}\"\n",
    "add column edited text\"\"\".format(table = new_table))"
   ]
  },
  {
   "cell_type": "code",
   "execution_count": 104,
   "metadata": {
    "scrolled": false
   },
   "outputs": [
    {
     "name": "stdout",
     "output_type": "stream",
     "text": [
      "Query run in 26000 microseconds\n",
      "Query run in 25000 microseconds\n",
      "Query run in 25000 microseconds\n",
      "Query run in 24000 microseconds\n"
     ]
    }
   ],
   "source": [
    "for k in change_dict.keys():\n",
    "    bike_db.query(\"\"\"update \"{table}\"\n",
    "    set instdate = '{new_date}'\n",
    "    where bikeid::int = {k};\n",
    "    \n",
    "    update \"{table}\"\n",
    "    set edited = 'instdate updated'\n",
    "    where bikeid::int = {k};\n",
    "    \n",
    "    update \"{table}\"\n",
    "    set edited = 'instdate, moddate updated'\n",
    "    where bikeid::int = {k}\n",
    "    and instdate > moddate;\n",
    "    \n",
    "    update \"{table}\"\n",
    "    set moddate = '{new_date}'\n",
    "    where bikeid::int = {k}\n",
    "    and instdate > moddate;\n",
    "    \"\"\".format(table = new_table, new_date = change_dict[k], k = k))"
   ]
  },
  {
   "cell_type": "code",
   "execution_count": 105,
   "metadata": {},
   "outputs": [],
   "source": [
    "test = bike_db.dfquery(\"\"\"\n",
    "select n.*, l.segmentid real_segmentid\n",
    "from \"2019_05_03_bike_network_18d\" n\n",
    "join c_lion_18d l\n",
    "on st_dwithin(n.geom, l.geom, 10)\n",
    "where n.segmentid = '0'\n",
    "and st_length(st_intersection(st_buffer(n.geom, 1), l.geom))/st_length(n.geom) > 0.8\n",
    "\"\"\")"
   ]
  },
  {
   "cell_type": "code",
   "execution_count": 106,
   "metadata": {},
   "outputs": [],
   "source": [
    "change_dict2 = {}\n",
    "for i in range(len(test)):\n",
    "    change_dict2[test.iloc[i].objectid] = test.iloc[i].real_segmentid"
   ]
  },
  {
   "cell_type": "code",
   "execution_count": 107,
   "metadata": {
    "scrolled": false
   },
   "outputs": [
    {
     "data": {
      "text/plain": [
       "{Decimal('3960'): '0234018',\n",
       " Decimal('12429'): '0004871',\n",
       " Decimal('15744'): '0256635',\n",
       " Decimal('15745'): '0256645',\n",
       " Decimal('15746'): '0256644',\n",
       " Decimal('15747'): '0256636',\n",
       " Decimal('16222'): '0293222',\n",
       " Decimal('16676'): '0161364',\n",
       " Decimal('16677'): '0161365',\n",
       " Decimal('16679'): '0161361',\n",
       " Decimal('16685'): '0161360',\n",
       " Decimal('16689'): '0132715',\n",
       " Decimal('16690'): '0161336',\n",
       " Decimal('16691'): '0161335',\n",
       " Decimal('16692'): '0161337'}"
      ]
     },
     "execution_count": 107,
     "metadata": {},
     "output_type": "execute_result"
    }
   ],
   "source": [
    "change_dict2"
   ]
  },
  {
   "cell_type": "code",
   "execution_count": 108,
   "metadata": {
    "scrolled": true
   },
   "outputs": [
    {
     "name": "stdout",
     "output_type": "stream",
     "text": [
      "Query run in 17000 microseconds\n",
      "Query run in 16000 microseconds\n",
      "Query run in 10000 microseconds\n",
      "Query run in 10000 microseconds\n",
      "Query run in 12000 microseconds\n",
      "Query run in 11000 microseconds\n",
      "Query run in 16000 microseconds\n",
      "Query run in 10000 microseconds\n",
      "Query run in 10000 microseconds\n",
      "Query run in 12000 microseconds\n",
      "Query run in 13000 microseconds\n",
      "Query run in 13000 microseconds\n",
      "Query run in 10000 microseconds\n",
      "Query run in 11000 microseconds\n",
      "Query run in 13000 microseconds\n"
     ]
    }
   ],
   "source": [
    "for k in change_dict2.keys():\n",
    "    bike_db.query(\"\"\"\n",
    "    update \"{table}\"\n",
    "    set edited = 'segmentid updated'\n",
    "    where objectid = {k};\n",
    "    \n",
    "    update \"{table}\"\n",
    "    set segmentid = '{new_segmentid}'\n",
    "    where objectid = {k};\n",
    "    \n",
    "    \"\"\".format(table = new_table, new_segmentid = change_dict2[k], k = k))"
   ]
  },
  {
   "cell_type": "markdown",
   "metadata": {},
   "source": [
    "# Manual Reviews Confirmed by Bikes"
   ]
  },
  {
   "cell_type": "code",
   "execution_count": 109,
   "metadata": {},
   "outputs": [],
   "source": [
    "# im = cdb.dfquery(\"\"\"select * from working.install_mismatch\"\"\")"
   ]
  },
  {
   "cell_type": "code",
   "execution_count": 110,
   "metadata": {
    "scrolled": true
   },
   "outputs": [],
   "source": [
    "# im.bikeid.unique()"
   ]
  },
  {
   "cell_type": "code",
   "execution_count": 111,
   "metadata": {},
   "outputs": [],
   "source": [
    "change_dict3 = {2670:'2016-08-26', 2671:'2016-08-26', 544: '2011-11-15'}\n",
    "seg_dict = {239994:'350', 239999:'350'}\n",
    "# insert 312394 segment as part of 2389 bikeid"
   ]
  },
  {
   "cell_type": "code",
   "execution_count": 112,
   "metadata": {},
   "outputs": [
    {
     "name": "stdout",
     "output_type": "stream",
     "text": [
      "Query run in 18000 microseconds\n",
      "Query run in 16000 microseconds\n",
      "Query run in 17000 microseconds\n"
     ]
    }
   ],
   "source": [
    "for k in change_dict3.keys():\n",
    "    bike_db.query(\"\"\"update \"{table}\"\n",
    "    set instdate = '{new_date}'\n",
    "    where bikeid::int = {k};\n",
    "    \n",
    "    update \"{table}\"\n",
    "    set edited = 'instdate updated'\n",
    "    where bikeid::int = {k};\n",
    "    \"\"\".format(table = new_table, new_date = change_dict3[k], k = str(k)))"
   ]
  },
  {
   "cell_type": "code",
   "execution_count": 113,
   "metadata": {},
   "outputs": [
    {
     "name": "stdout",
     "output_type": "stream",
     "text": [
      "Query run in 40000 microseconds\n",
      "Query run in 40000 microseconds\n"
     ]
    }
   ],
   "source": [
    "for k in seg_dict.keys():\n",
    "    bike_db.query(\"\"\"update \"{table}\"\n",
    "    set bikeid = '{new_id}'\n",
    "    where segmentid::int = {k};\n",
    "    \n",
    "    update \"{table}\"\n",
    "    set bikeid_1 = '{new_id}'\n",
    "    where segmentid::int = {k};\n",
    "    \n",
    "    update \"{table}\"\n",
    "    set fromstreet = 'E 125 ST'\n",
    "    where segmentid::int = {k};\n",
    "        \n",
    "    update \"{table}\"\n",
    "    set tostreet = 'E 60 ST'\n",
    "    where segmentid::int = {k};\n",
    "    \n",
    "    update \"{table}\"\n",
    "    set street = 'FDR DR GREENWAY'\n",
    "    where segmentid::int = {k};\n",
    "\n",
    "    update \"{table}\"\n",
    "    set ft_facilit = 'Greenway'\n",
    "    where segmentid::int = {k};\n",
    "    \n",
    "    update \"{table}\"\n",
    "    set tf_facilit = 'Greenway'\n",
    "    where segmentid::int = {k};\n",
    "    \n",
    "    update \"{table}\"\n",
    "    set edited = 'bikeid, streets, facility type updated'\n",
    "    where segmentid::int = {k};\n",
    "    \n",
    "    update \"{table}\"\n",
    "    set instdate = '1939-01-01'\n",
    "    where segmentid::int = {k};   \n",
    "    \n",
    "    update \"{table}\"\n",
    "    set moddate = '1939-01-01'\n",
    "    where segmentid::int = {k};\n",
    "    \n",
    "    \"\"\".format(table = new_table, new_id = seg_dict[k], k = str(k)))"
   ]
  },
  {
   "cell_type": "code",
   "execution_count": 114,
   "metadata": {},
   "outputs": [],
   "source": [
    "# om = cdb.dfquery(\"\"\"select * from working.old_new_moddate\"\"\")"
   ]
  },
  {
   "cell_type": "code",
   "execution_count": 115,
   "metadata": {},
   "outputs": [],
   "source": [
    "# om.bikeid.unique()"
   ]
  },
  {
   "cell_type": "code",
   "execution_count": 116,
   "metadata": {},
   "outputs": [],
   "source": [
    "# add comment to say segments fully completed in 2013-11-05 for segment 312556\n",
    "change_dict4 = {32: '2011-07-22'}"
   ]
  },
  {
   "cell_type": "code",
   "execution_count": 117,
   "metadata": {},
   "outputs": [
    {
     "name": "stdout",
     "output_type": "stream",
     "text": [
      "Query run in 22000 microseconds\n"
     ]
    }
   ],
   "source": [
    "for k in change_dict4.keys():\n",
    "    bike_db.query(\"\"\"update \"{table}\"\n",
    "    set instdate = '{new_date}'\n",
    "    where bikeid::int = {k};\n",
    "    \n",
    "    update \"{table}\"\n",
    "    set moddate = '{new_date}'\n",
    "    where bikeid::int = {k};\n",
    "    \n",
    "    update \"{table}\"\n",
    "    set edited = 'instdate, moddate updated'\n",
    "    where bikeid::int = {k};\n",
    "    \"\"\".format(table = new_table, new_date = change_dict4[k], k = str(k)))"
   ]
  },
  {
   "cell_type": "code",
   "execution_count": 118,
   "metadata": {},
   "outputs": [],
   "source": [
    "# # insert these\n",
    "# ml = cdb.dfquery(\"\"\"select * from working.missing_lanes where bikeid::int = 1230 or old_segmentid::int in (238429, 238435)\"\"\")"
   ]
  },
  {
   "cell_type": "code",
   "execution_count": 119,
   "metadata": {},
   "outputs": [],
   "source": [
    "# imod = cdb.dfquery(\"\"\"select * from working.inst_mod\"\"\")\n",
    "# imod.bikeid.unique()"
   ]
  },
  {
   "cell_type": "code",
   "execution_count": 120,
   "metadata": {},
   "outputs": [],
   "source": [
    "change_dict5 = {91:'2008-11-17', 94:'2008-11-17', 96:'2008-11-17', 2483:'2017-10-06'}"
   ]
  },
  {
   "cell_type": "code",
   "execution_count": 121,
   "metadata": {},
   "outputs": [
    {
     "name": "stdout",
     "output_type": "stream",
     "text": [
      "Query run in 20000 microseconds\n",
      "Query run in 21000 microseconds\n",
      "Query run in 17000 microseconds\n",
      "Query run in 15000 microseconds\n"
     ]
    }
   ],
   "source": [
    "for k in change_dict5.keys():\n",
    "    bike_db.query(\"\"\"update \"{table}\"\n",
    "    set instdate = '{new_date}'\n",
    "    where bikeid::int = {k};\n",
    "    \n",
    "    update \"{table}\"\n",
    "    set moddate = '{new_date}'\n",
    "    where bikeid::int = {k};\n",
    "    \n",
    "    update \"{table}\"\n",
    "    set edited = 'instdate, moddate updated'\n",
    "    where bikeid::int = {k};\n",
    "    \"\"\".format(table = new_table, new_date = change_dict5[k], k = str(k)))"
   ]
  },
  {
   "cell_type": "code",
   "execution_count": 122,
   "metadata": {},
   "outputs": [
    {
     "name": "stdout",
     "output_type": "stream",
     "text": [
      "Query run in 12000 microseconds\n",
      "Query run in 17000 microseconds\n",
      "Query run in 11000 microseconds\n",
      "Query run in 14000 microseconds\n"
     ]
    }
   ],
   "source": [
    "change_dict6 = {2640:'2018-09-21'}\n",
    "for k in change_dict5.keys():\n",
    "    bike_db.query(\"\"\"\n",
    "    update \"{table}\"\n",
    "    set moddate = '{new_date}'\n",
    "    where bikeid::int = {k};\n",
    "    \n",
    "    update \"{table}\"\n",
    "    set edited = 'moddate updated'\n",
    "    where bikeid::int = {k};\n",
    "    \"\"\".format(table = new_table, new_date = change_dict5[k], k = str(k)))"
   ]
  },
  {
   "cell_type": "code",
   "execution_count": 123,
   "metadata": {},
   "outputs": [
    {
     "name": "stdout",
     "output_type": "stream",
     "text": [
      "Query run in 12000 microseconds\n"
     ]
    }
   ],
   "source": [
    "bike_db.query(\"\"\"update \"{table}\"\n",
    "set comments = 'Due to lion version changes, segment had some portion finished on 11/5/13. Original segment had fully completed lane corresponding to install date.'\n",
    "where segmentid::int = 312556\n",
    "\"\"\".format(table = new_table))"
   ]
  },
  {
   "cell_type": "code",
   "execution_count": 124,
   "metadata": {
    "scrolled": true
   },
   "outputs": [
    {
     "data": {
      "text/html": [
       "<div>\n",
       "<style scoped>\n",
       "    .dataframe tbody tr th:only-of-type {\n",
       "        vertical-align: middle;\n",
       "    }\n",
       "\n",
       "    .dataframe tbody tr th {\n",
       "        vertical-align: top;\n",
       "    }\n",
       "\n",
       "    .dataframe thead th {\n",
       "        text-align: right;\n",
       "    }\n",
       "</style>\n",
       "<table border=\"1\" class=\"dataframe\">\n",
       "  <thead>\n",
       "    <tr style=\"text-align: right;\">\n",
       "      <th></th>\n",
       "      <th>gid</th>\n",
       "      <th>objectid</th>\n",
       "      <th>__gid</th>\n",
       "      <th>segmentid</th>\n",
       "      <th>segmentmil</th>\n",
       "      <th>lanemiles</th>\n",
       "      <th>bikeid</th>\n",
       "      <th>shape_leng</th>\n",
       "      <th>objectid_1</th>\n",
       "      <th>street</th>\n",
       "      <th>...</th>\n",
       "      <th>lastedited</th>\n",
       "      <th>sip_name</th>\n",
       "      <th>prev_class</th>\n",
       "      <th>prev_facil</th>\n",
       "      <th>bikeid_1</th>\n",
       "      <th>priority_d</th>\n",
       "      <th>pg_upload</th>\n",
       "      <th>sip_year</th>\n",
       "      <th>geom</th>\n",
       "      <th>edited</th>\n",
       "    </tr>\n",
       "  </thead>\n",
       "  <tbody>\n",
       "    <tr>\n",
       "      <th>0</th>\n",
       "      <td>None</td>\n",
       "      <td>None</td>\n",
       "      <td>None</td>\n",
       "      <td>312394</td>\n",
       "      <td>None</td>\n",
       "      <td>None</td>\n",
       "      <td>2389.00000000</td>\n",
       "      <td>None</td>\n",
       "      <td>2381</td>\n",
       "      <td>E 78 ST OVERPASS</td>\n",
       "      <td>...</td>\n",
       "      <td>None</td>\n",
       "      <td>None</td>\n",
       "      <td>None</td>\n",
       "      <td>None</td>\n",
       "      <td>2389.0</td>\n",
       "      <td>0</td>\n",
       "      <td>2018-01-29</td>\n",
       "      <td>0</td>\n",
       "      <td>0105000020D70800000100000001020000000300000000...</td>\n",
       "      <td>None</td>\n",
       "    </tr>\n",
       "    <tr>\n",
       "      <th>1</th>\n",
       "      <td>9581</td>\n",
       "      <td>9581</td>\n",
       "      <td>1615</td>\n",
       "      <td>29150</td>\n",
       "      <td>0.0390221041530</td>\n",
       "      <td>0.0390221041530</td>\n",
       "      <td>1510.00000000</td>\n",
       "      <td>206.036661294</td>\n",
       "      <td>1502</td>\n",
       "      <td>VANDERBILT AV</td>\n",
       "      <td>...</td>\n",
       "      <td>2018-10-19</td>\n",
       "      <td>Vanderbilt Av, Clermont Av</td>\n",
       "      <td>III</td>\n",
       "      <td>Sharrows</td>\n",
       "      <td>1510.0</td>\n",
       "      <td>0</td>\n",
       "      <td>2018-01-29</td>\n",
       "      <td>2018</td>\n",
       "      <td>0105000020D70800000100000001020000000200000080...</td>\n",
       "      <td>instdate updated</td>\n",
       "    </tr>\n",
       "  </tbody>\n",
       "</table>\n",
       "<p>2 rows × 35 columns</p>\n",
       "</div>"
      ],
      "text/plain": [
       "    gid objectid __gid segmentid       segmentmil        lanemiles  \\\n",
       "0  None     None  None    312394             None             None   \n",
       "1  9581     9581  1615     29150  0.0390221041530  0.0390221041530   \n",
       "\n",
       "          bikeid     shape_leng objectid_1            street  ...  lastedited  \\\n",
       "0  2389.00000000           None       2381  E 78 ST OVERPASS  ...        None   \n",
       "1  1510.00000000  206.036661294       1502     VANDERBILT AV  ...  2018-10-19   \n",
       "\n",
       "                     sip_name prev_class prev_facil bikeid_1 priority_d  \\\n",
       "0                        None       None       None   2389.0          0   \n",
       "1  Vanderbilt Av, Clermont Av        III   Sharrows   1510.0          0   \n",
       "\n",
       "    pg_upload sip_year                                               geom  \\\n",
       "0  2018-01-29        0  0105000020D70800000100000001020000000300000000...   \n",
       "1  2018-01-29     2018  0105000020D70800000100000001020000000200000080...   \n",
       "\n",
       "             edited  \n",
       "0              None  \n",
       "1  instdate updated  \n",
       "\n",
       "[2 rows x 35 columns]"
      ]
     },
     "execution_count": 124,
     "metadata": {},
     "output_type": "execute_result"
    }
   ],
   "source": [
    "bike_db.dfquery(\"\"\"select * from \"{table}\" where segmentid in (29150, 312394)\"\"\".format(table = new_table))"
   ]
  },
  {
   "cell_type": "code",
   "execution_count": 125,
   "metadata": {
    "scrolled": false
   },
   "outputs": [
    {
     "name": "stdout",
     "output_type": "stream",
     "text": [
      "Query run in 14000 microseconds\n",
      "Query run in 2000 microseconds\n",
      "Query run in 2000 microseconds\n",
      "Query run in 9000 microseconds\n",
      "Query run in 2000 microseconds\n",
      "Query run in 2000 microseconds\n"
     ]
    }
   ],
   "source": [
    "bike_db.shp_to_table(path = \"E:\\RIS\\Staff Folders\\Bryant\\Bikes\\For Michael\", table = 'updates_18', \n",
    "                    schema = 'public', shp_name = 'to_be_changed.shp')"
   ]
  },
  {
   "cell_type": "code",
   "execution_count": 126,
   "metadata": {},
   "outputs": [
    {
     "name": "stdout",
     "output_type": "stream",
     "text": [
      "Query run in 195000 microseconds\n"
     ]
    }
   ],
   "source": [
    "bike_db.query(\"\"\"delete from \"{table}\" where segmentid in (29150, 312394);\n",
    "\n",
    "alter table updates_18\n",
    "drop ogc_fid;\n",
    "\n",
    "alter table updates_18\n",
    "drop _uid_;\n",
    "\n",
    "drop table if exists bike_network_{d}; \n",
    "create table bike_network_{d} as \n",
    "select * from \"{table}\"\n",
    "union\n",
    "select gid,\n",
    "  objectid,\n",
    "  __gid,\n",
    "  segmentid,\n",
    "  segmentmil,\n",
    "  lanemiles,\n",
    "  bikeid,\n",
    "  shape_leng,\n",
    "  objectid_1,\n",
    "  street,\n",
    "  boro,\n",
    "  facilitycl,\n",
    "  fromstreet,\n",
    "  tostreet,\n",
    "  lasteditby,\n",
    "  onoffst,\n",
    "  allclasses,\n",
    "  instdate,\n",
    "  moddate,\n",
    "  comments,\n",
    "  bikedir,\n",
    "  lanecount,\n",
    "  jurisdicti,\n",
    "  ft_facilit,\n",
    "  tf_facilit,\n",
    "  lastedited,\n",
    "  sip_name,\n",
    "  prev_class,\n",
    "  prev_facil,\n",
    "  bikeid_1,\n",
    "  priority_d,\n",
    "  pg_upload,\n",
    "  sip_year,\n",
    "  geom,\n",
    "  edited from updates_18\n",
    "\"\"\".format(table = new_table, d = datetime.datetime.now().strftime('%Y_%m_%d'))\n",
    ")"
   ]
  },
  {
   "cell_type": "code",
   "execution_count": 127,
   "metadata": {},
   "outputs": [
    {
     "name": "stdout",
     "output_type": "stream",
     "text": [
      "Database connection (PG) to bicycle on dotdevrhpgsql01 - user: bfeng \n",
      "Connection established 2019-11-21 10:32:28\n"
     ]
    }
   ],
   "source": [
    "bike_db.connect()"
   ]
  },
  {
   "cell_type": "code",
   "execution_count": 129,
   "metadata": {
    "scrolled": true
   },
   "outputs": [
    {
     "name": "stdout",
     "output_type": "stream",
     "text": [
      "Query run in 155000 microseconds\n",
      "updated_18_network.shp shapefile \n",
      "written to: E:\\RIS\\Staff Folders\\Bryant\\Bikes\\For Michael\n",
      "generated from: select * from \"bike_network_2019_11_21\" \n"
     ]
    }
   ],
   "source": [
    "bike_db.query_to_shp(\"\"\"select * from \"bike_network_%s\" \"\"\" % datetime.datetime.now().strftime('%Y_%m_%d'),\n",
    "                     path = 'E:\\RIS\\Staff Folders\\Bryant\\Bikes\\For Michael',\n",
    "                    shp_name = 'updated_18_network.shp')"
   ]
  },
  {
   "cell_type": "code",
   "execution_count": 133,
   "metadata": {
    "scrolled": true
   },
   "outputs": [
    {
     "name": "stdout",
     "output_type": "stream",
     "text": [
      "Query run in 3000 microseconds\n"
     ]
    }
   ],
   "source": [
    "bike_db.query(\"\"\"drop table if exists \"{table}\" \"\"\".format(table = new_table))"
   ]
  },
  {
   "cell_type": "markdown",
   "metadata": {},
   "source": [
    "# For Bikes to Check"
   ]
  },
  {
   "cell_type": "code",
   "execution_count": 114,
   "metadata": {},
   "outputs": [],
   "source": [
    "# install date disagree\n",
    "check = data.loc[~data['comment'].str.startswith('old')].bikeid.tolist()"
   ]
  },
  {
   "cell_type": "code",
   "execution_count": 132,
   "metadata": {},
   "outputs": [
    {
     "data": {
      "text/plain": [
       "{2287L, 2389L, 2670L, 2671L, 2731L}"
      ]
     },
     "execution_count": 132,
     "metadata": {},
     "output_type": "execute_result"
    }
   ],
   "source": [
    "set(check)"
   ]
  },
  {
   "cell_type": "code",
   "execution_count": 4,
   "metadata": {},
   "outputs": [
    {
     "name": "stdout",
     "output_type": "stream",
     "text": [
      "Query run in 29000 microseconds\n"
     ]
    }
   ],
   "source": [
    "cdb.query(\"\"\"drop table if exists working.install_mismatch;\n",
    "create table working.install_mismatch as\n",
    "select n.bikeid, n.instdate new_instdate, n.segmentid::int new_segmentid,\n",
    "                    o.instdate old_instdate,  n.geom from working.current_network n\n",
    "                    join working.current_network2 o \n",
    "                    on n.segmentid::int = o.segmentid::int\n",
    "                    where n.instdate != o.instdate\n",
    "                    and extract(year from o.instdate) < 2017\n",
    "                    and extract(year from n.instdate) < 2017\n",
    "                    and extract(year from o.moddate) < 2017\n",
    "                    and n.segmentid != '0' \n",
    "                    and n.bikeid::float in (2287, 2389, 2670, 2671, 2731)\n",
    "                    order by n.segmentid::int\"\"\")"
   ]
  },
  {
   "cell_type": "code",
   "execution_count": 128,
   "metadata": {
    "scrolled": true
   },
   "outputs": [
    {
     "data": {
      "text/plain": [
       "['32.0000000000',\n",
       " '32.0000000000',\n",
       " '32.0000000000',\n",
       " '32.0000000000',\n",
       " '2640.00000000',\n",
       " '2640.00000000',\n",
       " '2640.00000000',\n",
       " '2640.00000000',\n",
       " '32.0000000000',\n",
       " '32.0000000000',\n",
       " '32.0000000000',\n",
       " '32.0000000000',\n",
       " '1091.00000000']"
      ]
     },
     "execution_count": 128,
     "metadata": {},
     "output_type": "execute_result"
    }
   ],
   "source": [
    "check2"
   ]
  },
  {
   "cell_type": "code",
   "execution_count": 127,
   "metadata": {},
   "outputs": [],
   "source": [
    "# old moddate > new moddate\n",
    "check2 = moddate_disagree.bikeid.tolist()"
   ]
  },
  {
   "cell_type": "code",
   "execution_count": 9,
   "metadata": {},
   "outputs": [
    {
     "name": "stdout",
     "output_type": "stream",
     "text": [
      "Query run in 37000 microseconds\n"
     ]
    }
   ],
   "source": [
    "cdb.query(\"\"\"drop table if exists working.old_new_moddate;\n",
    "create table working.old_new_moddate as\n",
    "select n.bikeid, n.moddate new_moddate, n.segmentid::int new_segmentid,\n",
    "                    o.moddate old_moddate, n.geom from working.current_network n\n",
    "                    join working.current_network2 o \n",
    "                    on n.segmentid::int = o.segmentid::int\n",
    "                    where o.moddate > n.moddate\n",
    "                    and extract(year from o.instdate) < 2017\n",
    "                    and extract(year from n.instdate) < 2017\n",
    "                    and extract(year from o.moddate) < 2017\n",
    "                    and n.segmentid != '0' \n",
    "                    order by n.segmentid::int;\n",
    "\n",
    "\"\"\")"
   ]
  },
  {
   "cell_type": "code",
   "execution_count": 10,
   "metadata": {},
   "outputs": [],
   "source": [
    "# 16 bike lanes not in 18\n",
    "data2 = pd.read_csv('bike_lane_data2_bf.csv')\n",
    "check3 = data2.loc[~data2['Unnamed: 7'].isin(['removed','moved', 'lion verion difference'])].bikeid.tolist()"
   ]
  },
  {
   "cell_type": "code",
   "execution_count": 12,
   "metadata": {
    "scrolled": true
   },
   "outputs": [
    {
     "data": {
      "text/plain": [
       "[1230L, 1230L, 1230L, 1071L, 2034L, 2034L, 2034L, 2034L, 407L, 407L]"
      ]
     },
     "execution_count": 12,
     "metadata": {},
     "output_type": "execute_result"
    }
   ],
   "source": [
    "check3"
   ]
  },
  {
   "cell_type": "code",
   "execution_count": 15,
   "metadata": {},
   "outputs": [
    {
     "name": "stdout",
     "output_type": "stream",
     "text": [
      "Query run in 8 seconds\n"
     ]
    }
   ],
   "source": [
    "cdb.query(\"\"\"drop table if exists working.missing_lanes;\n",
    "                create table working.missing_lanes as\n",
    "                    select distinct o2.* from (\n",
    "                    select o.instdate old_instdate, o.moddate old_moddate, o.segmentid old_segmentid, o.geom old_geom, o.bikeid\n",
    "                    from working.current_network n\n",
    "                    right join working.current_network2 o \n",
    "                    on n.segmentid::int = o.segmentid::int\n",
    "                    where n.segmentid is null\n",
    "                    and o.segmentid not in ('99999999', '0000000')\n",
    "                    and extract(year from o.moddate) < 2017\n",
    "                    order by n.segmentid::int\n",
    "                    ) o2\n",
    "                    left join working.current_network n2\n",
    "                    on st_within(o2.old_geom, st_buffer(n2.geom, 25))\n",
    "                    where n2.geom is null\n",
    "                    and o2.bikeid not in ('779', '767')\n",
    "                    and o2.bikeid in ('1230', '1071', '2034','407')\n",
    "                    \"\"\")"
   ]
  },
  {
   "cell_type": "code",
   "execution_count": 131,
   "metadata": {
    "scrolled": false
   },
   "outputs": [],
   "source": [
    "# instdate > moddate\n",
    "check4 = instmod.bikeid.tolist()"
   ]
  },
  {
   "cell_type": "code",
   "execution_count": 121,
   "metadata": {},
   "outputs": [
    {
     "data": {
      "text/plain": [
       "['91.0000000000',\n",
       " '94.0000000000',\n",
       " '94.0000000000',\n",
       " '94.0000000000',\n",
       " '94.0000000000',\n",
       " '94.0000000000',\n",
       " '94.0000000000',\n",
       " '94.0000000000',\n",
       " '94.0000000000',\n",
       " '94.0000000000',\n",
       " '94.0000000000',\n",
       " '94.0000000000',\n",
       " '94.0000000000',\n",
       " '94.0000000000',\n",
       " '96.0000000000',\n",
       " '96.0000000000',\n",
       " '96.0000000000',\n",
       " '96.0000000000',\n",
       " '2483.00000000',\n",
       " '2640.00000000',\n",
       " '2640.00000000',\n",
       " '2640.00000000',\n",
       " '2640.00000000']"
      ]
     },
     "execution_count": 121,
     "metadata": {},
     "output_type": "execute_result"
    }
   ],
   "source": [
    "check4"
   ]
  },
  {
   "cell_type": "code",
   "execution_count": 16,
   "metadata": {},
   "outputs": [
    {
     "name": "stdout",
     "output_type": "stream",
     "text": [
      "Query run in 14000 microseconds\n"
     ]
    }
   ],
   "source": [
    "instmod = cdb.query(\"\"\"drop table if exists working.inst_mod;\n",
    "create table working.inst_mod as\n",
    "select * from working.current_network\n",
    "where instdate > moddate\n",
    "and bikeid::float != 1166\"\"\")"
   ]
  },
  {
   "cell_type": "code",
   "execution_count": 21,
   "metadata": {},
   "outputs": [],
   "source": [
    "check5 = pd.read_excel('Bike_Lane_Check.xlsx')"
   ]
  },
  {
   "cell_type": "code",
   "execution_count": 27,
   "metadata": {},
   "outputs": [
    {
     "data": {
      "text/html": [
       "<div>\n",
       "<style scoped>\n",
       "    .dataframe tbody tr th:only-of-type {\n",
       "        vertical-align: middle;\n",
       "    }\n",
       "\n",
       "    .dataframe tbody tr th {\n",
       "        vertical-align: top;\n",
       "    }\n",
       "\n",
       "    .dataframe thead th {\n",
       "        text-align: right;\n",
       "    }\n",
       "</style>\n",
       "<table border=\"1\" class=\"dataframe\">\n",
       "  <thead>\n",
       "    <tr style=\"text-align: right;\">\n",
       "      <th></th>\n",
       "      <th>16D Segment</th>\n",
       "      <th>16D Street Name</th>\n",
       "      <th>Status</th>\n",
       "      <th>18D Segments</th>\n",
       "      <th>Unnamed: 4</th>\n",
       "      <th>Unnamed: 5</th>\n",
       "      <th>16N Bike ID</th>\n",
       "      <th>Status.1</th>\n",
       "    </tr>\n",
       "  </thead>\n",
       "  <tbody>\n",
       "    <tr>\n",
       "      <th>3</th>\n",
       "      <td>275387</td>\n",
       "      <td>JORALEMON STREET</td>\n",
       "      <td>Switch to 18D Segment</td>\n",
       "      <td>316415.0</td>\n",
       "      <td>NaN</td>\n",
       "      <td>NaN</td>\n",
       "      <td>817.0</td>\n",
       "      <td>Exist in 18N</td>\n",
       "    </tr>\n",
       "    <tr>\n",
       "      <th>4</th>\n",
       "      <td>275332</td>\n",
       "      <td>JORALEMON STREET</td>\n",
       "      <td>Switch to 18D Segment</td>\n",
       "      <td>316415.0</td>\n",
       "      <td>NaN</td>\n",
       "      <td>NaN</td>\n",
       "      <td>NaN</td>\n",
       "      <td>NaN</td>\n",
       "    </tr>\n",
       "    <tr>\n",
       "      <th>5</th>\n",
       "      <td>225299</td>\n",
       "      <td>EAST 1 STREET</td>\n",
       "      <td>Switch to 18D Segment</td>\n",
       "      <td>311349.0</td>\n",
       "      <td>not real street</td>\n",
       "      <td>NaN</td>\n",
       "      <td>NaN</td>\n",
       "      <td>NaN</td>\n",
       "    </tr>\n",
       "    <tr>\n",
       "      <th>12</th>\n",
       "      <td>865</td>\n",
       "      <td>VAN CORTLANDT PARK GREENWAY</td>\n",
       "      <td>TBD</td>\n",
       "      <td>NaN</td>\n",
       "      <td>boundaries in 18d</td>\n",
       "      <td>NaN</td>\n",
       "      <td>NaN</td>\n",
       "      <td>NaN</td>\n",
       "    </tr>\n",
       "  </tbody>\n",
       "</table>\n",
       "</div>"
      ],
      "text/plain": [
       "    16D Segment              16D Street Name                  Status  \\\n",
       "3        275387             JORALEMON STREET  Switch to 18D Segment    \n",
       "4        275332             JORALEMON STREET  Switch to 18D Segment    \n",
       "5        225299                EAST 1 STREET  Switch to 18D Segment    \n",
       "12          865  VAN CORTLANDT PARK GREENWAY                     TBD   \n",
       "\n",
       "    18D Segments         Unnamed: 4  Unnamed: 5  16N Bike ID      Status.1  \n",
       "3       316415.0                NaN         NaN        817.0  Exist in 18N  \n",
       "4       316415.0                NaN         NaN          NaN           NaN  \n",
       "5       311349.0    not real street         NaN          NaN           NaN  \n",
       "12           NaN  boundaries in 18d         NaN          NaN           NaN  "
      ]
     },
     "execution_count": 27,
     "metadata": {},
     "output_type": "execute_result"
    }
   ],
   "source": [
    "check5.loc[~check5.Status.isin(['Delete', 'Exist in 18D but TBD'])]"
   ]
  },
  {
   "cell_type": "code",
   "execution_count": 32,
   "metadata": {},
   "outputs": [
    {
     "name": "stdout",
     "output_type": "stream",
     "text": [
      "Failure:\n",
      "\n",
      "- Query run 2019-09-27 12:00:17.903000\n",
      "\tdrop table if exists working.version_diff;\n",
      "create table working.version_diff as \n",
      "select *\n",
      "from working.current_network2 n\n",
      "where n.segmentid in ('99999999', '0000000')\n",
      "and n.bikeid in ('234','865','1248');\n",
      "\n"
     ]
    },
    {
     "ename": "SystemExit",
     "evalue": "",
     "output_type": "error",
     "traceback": [
      "An exception has occurred, use %tb to see the full traceback.\n",
      "\u001b[1;31mSystemExit\u001b[0m\n"
     ]
    }
   ],
   "source": [
    "cdb.query(\"\"\"drop table if exists working.version_diff;\n",
    "create table working.version_diff as \n",
    "select *\n",
    "from working.current_network2 n\n",
    "where n.segmentid in ('99999999', '0000000')\n",
    "and n.bikeid in ('234','865','1248');\n",
    "\"\"\")"
   ]
  }
 ],
 "metadata": {
  "kernelspec": {
   "display_name": "Python 2",
   "language": "python",
   "name": "python2"
  },
  "language_info": {
   "codemirror_mode": {
    "name": "ipython",
    "version": 2
   },
   "file_extension": ".py",
   "mimetype": "text/x-python",
   "name": "python",
   "nbconvert_exporter": "python",
   "pygments_lexer": "ipython2",
   "version": "2.7.16"
  }
 },
 "nbformat": 4,
 "nbformat_minor": 2
}
