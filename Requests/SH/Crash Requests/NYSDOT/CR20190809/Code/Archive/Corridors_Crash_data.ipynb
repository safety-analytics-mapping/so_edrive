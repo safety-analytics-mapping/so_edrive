{
 "cells": [
  {
   "cell_type": "code",
   "execution_count": 1,
   "metadata": {},
   "outputs": [],
   "source": [
    "## Corridors Crash Data\n",
    "\n",
    "### 1. Needs number of crashes, fatalities, injuries, severity categorization, Mode for each corridor in study area\n",
    "### 2. Database: DOTDEVRHPGSQL01\n",
    "### 3. Tables: study_area, nysdot_all, Districts_Congres"
   ]
  },
  {
   "cell_type": "code",
   "execution_count": 1,
   "metadata": {},
   "outputs": [
    {
     "name": "stdout",
     "output_type": "stream",
     "text": [
      "Notebook run: 2019-08-06 16:09\n",
      "E:\\RIS\\Staff Folders\\Samuel\\Requests\\SH\\Crash_Data\n"
     ]
    }
   ],
   "source": [
    "from ris import db2  #library designed for SQL database connection and querying\n",
    "from IPython.display import clear_output\n",
    "import datetime \n",
    "from datetime import date\n",
    "import pandas as pd\n",
    "import os\n",
    "\n",
    "\n",
    "clear_output()\n",
    "timestamp = datetime.datetime.now().strftime('%Y-%m-%d %H:%M')\n",
    "print 'Notebook run: {}'.format(timestamp)\n",
    "print os.getcwd()\n",
    "# %load_ext sql "
   ]
  },
  {
   "cell_type": "code",
   "execution_count": 2,
   "metadata": {},
   "outputs": [
    {
     "name": "stdout",
     "output_type": "stream",
     "text": [
      "User name (CRASHDATA):soge\n",
      "Password (CRASHDATA)········\n"
     ]
    }
   ],
   "source": [
    "#Database connections\n",
    "#gdb = db2.PostgresDb('dotdevpgsql02', 'GISGRID', quiet = True)\n",
    "cdb = db2.PostgresDb('DOTDEVRHPGSQL01', 'CRASHDATA', quiet = True)"
   ]
  },
  {
   "cell_type": "code",
   "execution_count": 3,
   "metadata": {},
   "outputs": [],
   "source": [
    "df = pd.read_excel('Corridors List_20190725.xlsx', sheet_name='Crash Database  ')\n",
    "#df"
   ]
  },
  {
   "cell_type": "code",
   "execution_count": 4,
   "metadata": {},
   "outputs": [],
   "source": [
    "cols=df.columns[8:18]"
   ]
  },
  {
   "cell_type": "code",
   "execution_count": 5,
   "metadata": {},
   "outputs": [],
   "source": [
    "new_headers=map(str, cols)\n",
    "#new_headers"
   ]
  },
  {
   "cell_type": "code",
   "execution_count": 6,
   "metadata": {},
   "outputs": [],
   "source": [
    "new_headers.insert(0,str(df.columns[1]))"
   ]
  },
  {
   "cell_type": "code",
   "execution_count": 7,
   "metadata": {},
   "outputs": [],
   "source": [
    "corridors_crash_data = (db2.query_to_table(cdb, \"\"\"\n",
    "                        select id_b,\n",
    "                        count(nys.case_num) tot_crashes,\n",
    "                        sum(f.inj) tot_fat,\n",
    "                        sum(nys.num_of_inj) tot_inj, \n",
    "                        sum(length(nys.ext_of_inj::text) - length(replace(nys.ext_of_inj::text, 'A'::text, ''::text))) AS A,\n",
    "                        sum(length(nys.ext_of_inj::text) - length(replace(nys.ext_of_inj::text, 'B'::text, ''::text))) AS B,\n",
    "                        sum(length(nys.ext_of_inj::text) - length(replace(nys.ext_of_inj::text, 'C'::text, ''::text))) AS C,                       \n",
    "                        ABS(sum(length(TRIM(nys.ext_of_inj::text))-(nys.num_of_fat + nys.num_of_inj))) UNK,\n",
    "                        sum(case when nys.accd_type_int= 1 then num_of_inj else 0 end) as Ped,\n",
    "                        sum(case when nys.accd_type_int= 2 then num_of_inj else 0 end) as Bike,\n",
    "                        sum(length(nys.ext_of_inj::text)) AS KSI\n",
    "                        FROM working.study_area sa\n",
    "                        left join nysdot_all nys\n",
    "                        on sa.segmentid = nys.segmentid\n",
    "                        left join fatality_nycdot_current f\n",
    "                        on sa.segmentid = f.segmentid\n",
    "                        where nys.case_yr>2004 and nys.case_yr<2015\n",
    "                        group by id_b\"\"\" \n",
    "                        ))"
   ]
  },
  {
   "cell_type": "code",
   "execution_count": 8,
   "metadata": {},
   "outputs": [],
   "source": [
    "headers=map(str, corridors_crash_data.columns)\n",
    "#headers"
   ]
  },
  {
   "cell_type": "code",
   "execution_count": 9,
   "metadata": {},
   "outputs": [],
   "source": [
    "dictionary = [{i:j} for i,j in zip(headers, new_headers)]\n",
    "for i in dictionary:        \n",
    "    corridors_crash_data=corridors_crash_data.rename(columns=i)\n",
    "\n",
    "#corridors_crash_data.columns\n",
    "#corridors_crash_data"
   ]
  },
  {
   "cell_type": "code",
   "execution_count": 10,
   "metadata": {},
   "outputs": [],
   "source": [
    "#pd.merge(df.loc[:,df.columns[:8]],corridors_crash_data, how='left').shape\n",
    "data = df.loc[:, df.columns[:8]].merge(corridors_crash_data, how='left')"
   ]
  },
  {
   "cell_type": "code",
   "execution_count": 11,
   "metadata": {},
   "outputs": [],
   "source": [
    "data.to_csv('data.csv')"
   ]
  },
  {
   "cell_type": "code",
   "execution_count": null,
   "metadata": {},
   "outputs": [],
   "source": []
  }
 ],
 "metadata": {
  "kernelspec": {
   "display_name": "Python 2",
   "language": "python",
   "name": "python2"
  },
  "language_info": {
   "codemirror_mode": {
    "name": "ipython",
    "version": 2
   },
   "file_extension": ".py",
   "mimetype": "text/x-python",
   "name": "python",
   "nbconvert_exporter": "python",
   "pygments_lexer": "ipython2",
   "version": "2.7.10"
  }
 },
 "nbformat": 4,
 "nbformat_minor": 2
}
