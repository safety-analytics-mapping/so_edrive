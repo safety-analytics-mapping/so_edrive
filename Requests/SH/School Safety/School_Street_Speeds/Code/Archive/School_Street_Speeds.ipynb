{
 "cells": [
  {
   "cell_type": "markdown",
   "metadata": {},
   "source": [
    "\n",
    "## Request: Analyze speeds on streets in front of school buildings \n",
    "\n",
    "### 1. Identify all distinct Schools in NYC\n",
    "### 2. Identify streets adjacent school buildings\n",
    "### 3. Retrieve speeds on adjancent school buildings\n",
    "### 4. Obtain street of max speed\n",
    "### 5. QA in QGIS\n",
    "\n"
   ]
  },
  {
   "cell_type": "code",
   "execution_count": 1,
   "metadata": {},
   "outputs": [
    {
     "name": "stdout",
     "output_type": "stream",
     "text": [
      "Notebook run: 2019-06-21 09:44\n",
      "E:\\RIS\\Staff Folders\\Samuel\\Requests\\SH\\School_Street_Speeds\n"
     ]
    }
   ],
   "source": [
    "from ris import db2  #library designed for SQL database connection and querying\n",
    "from ris import pg_import_export_shps as shp # library designed to import shapefiles as tables and export  tables as shapefiles\n",
    "from IPython.display import clear_output\n",
    "import datetime \n",
    "import pandas as pd\n",
    "from pandas import DataFrame\n",
    "import xlsxwriter\n",
    "import os\n",
    "import numpy\n",
    "\n",
    "clear_output()\n",
    "timestamp = datetime.datetime.now().strftime('%Y-%m-%d %H:%M')\n",
    "print 'Notebook run: {}'.format(timestamp)\n",
    "print os.getcwd()\n",
    "# %load_ext sql "
   ]
  },
  {
   "cell_type": "markdown",
   "metadata": {},
   "source": [
    "### Database connections"
   ]
  },
  {
   "cell_type": "code",
   "execution_count": 2,
   "metadata": {},
   "outputs": [],
   "source": [
    "#db = db2.PostgresDb('dotdevpgsql02', 'GISGRID', quiet = True)\n",
    "pgdb = db2.PostgresDb('dotdevpgsql02', 'CRASHDATA', quiet = True)\n",
    "\n",
    "#DONE FROM CRASHDATABASE"
   ]
  },
  {
   "cell_type": "markdown",
   "metadata": {},
   "source": [
    "### Table created containing all schools and adjacent streets with speed, geometry and id information"
   ]
  },
  {
   "cell_type": "code",
   "execution_count": 3,
   "metadata": {},
   "outputs": [],
   "source": [
    "# This table subqueries to speedcameras.disagg_speeds_20190528 \n",
    "# and joins with speedcameras.raw_school_buildings based on geometric \n",
    "# distances lying within 100 ft. The selection of 20ft is based on the \n",
    "# off of the average width of a street (10.7ft) and sidewalk (5ft) \n",
    "\n",
    "\n",
    "def SSS_table(ft):\n",
    "    \n",
    "    pgdb.query( \"\"\"\n",
    "\n",
    "                DROP TABLE if exists working.school_street_speeds;\n",
    "                CREATE TABLE working.school_street_speeds AS    \n",
    "                            --Table containing School name, School ID, Max Street Speeds, \n",
    "                            --Street names, Street Geometires, Segment IDs\n",
    "\n",
    "                select school, schid, max(street_speed) mx, street, School_Geom,  street_geom, SID\n",
    "                from \n",
    "                (--Subquery table containing School name, School id, Street name, Street Speeds, \n",
    "                --School Geometries, Street Geometries, Distances from school to street and segment ids\n",
    "\n",
    "                select b.site_name School, b.samschool_id schid, \n",
    "                a.street Street, a.avg_mx_speed Street_Speed, \n",
    "                b.wkb_geometry School_Geom, a.geom Street_Geom, \n",
    "                ST_Distance(b.wkb_geometry, a.geom) DIST, a.segmentid sid\n",
    "                from speedcameras.disagg_speeds_20190528 a --Table containing all street/segmment speeds, ids and geometries\n",
    "                join speedcameras.raw_school_buildings b   --Table containing all school ids and geometries\n",
    "                on st_dwithin(b.wkb_geometry, a.geom, {})  --Selects street geometries that are within 50 ft of the location of the school\n",
    "                order by school) x\n",
    "\n",
    "                --where length(school)>0\n",
    "                group by school, schid, sid, street,School_Geom, street_geom, DIST\"\"\".format(ft)\n",
    "              )\n",
    "                        \n",
    "        \n",
    "    print 'school_street_speeds Table Created for tolerance of {}ft'.format(ft)\n",
    "    return \n",
    "#print(qry)"
   ]
  },
  {
   "cell_type": "markdown",
   "metadata": {},
   "source": [
    "### Function selecting max speeds of streets and grouping by schools, adjacent streets, geometry and id information "
   ]
  },
  {
   "cell_type": "code",
   "execution_count": 4,
   "metadata": {},
   "outputs": [],
   "source": [
    "# School names may show as duplicate but based on a.sid, school may differ. \n",
    "# A.sid is distinct per row in generated df.\n",
    "# Geometry field is based of STREET GEOMETRY or School Geomtry\n",
    "# Cannot do School and Street geom simultaneously if mapping to QGIS\n",
    "\n",
    "def SSS_Rtable(ft):\n",
    "    \n",
    "    SSS_table(ft)\n",
    "   \n",
    "    query = \"\"\"    \n",
    "    select distinct(a.school), a.schid, a.st_speed, b.street, a.sid, c.school_geom, b.street_geom, ST_Distance(c.school_geom, b.street_geom) DIST --Result Table\n",
    "    from(\n",
    "\n",
    "    select  x.school, y.schid, x.st_speed, max((y.sid::integer)) SID -->Table a\n",
    "    from (\n",
    "\n",
    "    (select school,max(mx) st_speed -------Table x\n",
    "    from working.school_street_speeds\n",
    "    group by school\n",
    "    order by school asc) x ----------------Table x selects streets of max speed grouped by school\n",
    "    join \n",
    "    (select school, schid, sid ------------Table y\n",
    "    from working.school_street_speeds) y --Table y selects specified columns from SSS table. Joins by school name.\n",
    "    on x.school = y.school\n",
    "\n",
    "    ) \n",
    "    group by x.school, x.st_speed, y.schid\n",
    "    order by x.school asc) a---------------Table a: Grabs school, schid, street speed, and segment id from join of \n",
    "                                         --table 1 and 2. For streets with multiple segments, max segment id is selected.  \n",
    "\n",
    "    join working.school_street_speeds b ---Table b: Necessary for obtaining street name and street geometry fields for \n",
    "    on a.sid = (b.sid::integer)          --result table. Joins by segment id.\n",
    "\n",
    "\n",
    "    join working.school_street_speeds c ---Table c: Necessary for obtaining school geometry of distinct schid. \n",
    "    on a.schid = c.schid\n",
    "\n",
    "    order by a.school----------------------Result Table contains school(a), schid(a), street speed(a), street(b),\n",
    "                                         --segment id (a), street_geom (b). Cant do School and Street geom simultaneously\n",
    "                                         --if mapping to QGIS. Result Table is ordered by school name.\"\"\"\n",
    "\n",
    "    schools = \"select count(samschool_id) cnt from speedcameras.raw_school_buildings \" \n",
    "    \n",
    "    result_table = (db2.query_to_table(pgdb, query))\n",
    "    tot_schools = (db2.query_to_table(pgdb, schools))\n",
    "    \n",
    "    return  result_table, ft, len(result_table),tot_schools.cnt[0],numpy.average(result_table.dist), (len(result_table)/float(tot_schools.cnt[0]))*100\n"
   ]
  },
  {
   "cell_type": "code",
   "execution_count": 5,
   "metadata": {},
   "outputs": [],
   "source": [
    "#ft_x = SSS_Rtable(20)"
   ]
  },
  {
   "cell_type": "code",
   "execution_count": 6,
   "metadata": {},
   "outputs": [
    {
     "name": "stdout",
     "output_type": "stream",
     "text": [
      "starting\n",
      "school_street_speeds Table Created for tolerance of 20ft\n",
      "school_street_speeds Table Created for tolerance of 50ft\n",
      "school_street_speeds Table Created for tolerance of 100ft\n",
      "half way\n",
      "school_street_speeds Table Created for tolerance of 200ft\n",
      "school_street_speeds Table Created for tolerance of 400ft\n",
      "school_street_speeds Table Created for tolerance of 1000ft\n",
      "done\n"
     ]
    }
   ],
   "source": [
    "print 'starting'\n",
    "ft_20 = SSS_Rtable(20)\n",
    "ft_50 = SSS_Rtable(50)\n",
    "ft_100 = SSS_Rtable(100)\n",
    "print 'half way'\n",
    "ft_200 = SSS_Rtable(200)\n",
    "ft_400 = SSS_Rtable(400)\n",
    "ft_1000 = SSS_Rtable(1000)\n",
    "print 'done'"
   ]
  },
  {
   "cell_type": "markdown",
   "metadata": {},
   "source": [
    "## Street Range Stats"
   ]
  },
  {
   "cell_type": "code",
   "execution_count": 7,
   "metadata": {},
   "outputs": [
    {
     "name": "stdout",
     "output_type": "stream",
     "text": [
      "Range: selected_schools, tot_schools, avg_st_from_school_dist, select_accuracy\n",
      "20ft: (20, 65, 2556, 14.093143472816498, 2.543035993740219)\n",
      "50ft: (50, 1997, 2556, 37.48436792973191, 78.12989045383412)\n",
      "100ft: (100, 2335, 2556, 54.350676019002414, 91.35367762128325)\n",
      "200ft: (200, 2451, 2556, 104.4493916638531, 95.89201877934272)\n",
      "400ft: (400, 2514, 2556, 262.4049435210125, 98.35680751173709)\n",
      "1000ft: (1000, 2548, 2556, 688.044244898377, 99.68701095461658)\n"
     ]
    }
   ],
   "source": [
    "x= [ft_20 ,ft_50 ,ft_100,ft_200,ft_400,ft_1000 ]\n",
    "y= ['20ft: ', '50ft: ', '100ft: ', '200ft: ', '400ft: ', '1000ft: ']\n",
    "\n",
    "print 'Range: selected_schools, tot_schools, avg_st_from_school_dist, select_accuracy'\n",
    "for i,j in zip(x,y):\n",
    "    print(j + str(i[1:]))"
   ]
  },
  {
   "cell_type": "markdown",
   "metadata": {},
   "source": [
    "## Filenaming with current date"
   ]
  },
  {
   "cell_type": "code",
   "execution_count": 8,
   "metadata": {},
   "outputs": [],
   "source": [
    "#file_n = str(os.getcwd()) + '\\School_Street_Speeds' + str((datetime.datetime.now().strftime(\"_%Y-%m-%d_%H\")))\n",
    "#print(file_n)"
   ]
  },
  {
   "cell_type": "markdown",
   "metadata": {},
   "source": [
    "## Export to CSV"
   ]
  },
  {
   "cell_type": "code",
   "execution_count": 9,
   "metadata": {},
   "outputs": [],
   "source": [
    "#qry.to_csv(file_n + '.csv',index=False)"
   ]
  },
  {
   "cell_type": "code",
   "execution_count": 10,
   "metadata": {},
   "outputs": [],
   "source": [
    "dfs = {'20ft':ft_20[0], '50ft':ft_50[0], '50ft':ft_50[0],\n",
    "      '100ft':ft_100[0], '200ft':ft_200[0], '400ft':ft_400[0],\n",
    "      '1000ft':ft_1000[0]}\n",
    "\n",
    "writer = pd.ExcelWriter('SSS_620.xlsx', engine='xlsxwriter')\n",
    "for sheet_name in dfs.keys():\n",
    "    dfs[sheet_name].to_excel(writer, sheet_name=sheet_name, index=False)\n",
    "    \n",
    "writer.save()"
   ]
  },
  {
   "cell_type": "markdown",
   "metadata": {},
   "source": [
    "## QGIS View NYC schools and street speeds"
   ]
  },
  {
   "cell_type": "code",
   "execution_count": 11,
   "metadata": {
    "scrolled": false
   },
   "outputs": [],
   "source": [
    "#from IPython.display import Image\n",
    "#PATH = \"C:\\Users\\soge\\Desktop\\Jupyter\\Requests\\SH\\School_Street_Speeds\"\n",
    "#Image(filename = PATH + \"\\SSS_20_620.png\", width=1000, height=1000)"
   ]
  },
  {
   "cell_type": "code",
   "execution_count": 13,
   "metadata": {},
   "outputs": [
    {
     "data": {
      "text/html": [
       "<table><tr><td> <h3 align=center>  2.54303599374% schools selected at 20ft </h3> <img src='SSS_20_620.png'> \n",
       "             </td><td> <h3 align=center>  78.1298904538 schools selected at 50ft </h3> <img src='SSS_50_620.png'></td></tr></table>"
      ],
      "text/plain": [
       "<IPython.core.display.HTML object>"
      ]
     },
     "metadata": {},
     "output_type": "display_data"
    },
    {
     "data": {
      "text/html": [
       "<table><tr><td> <h3 align=center> 91.3536776213% schools selected at 100ft </h3> <img src='SSS_100_620.png'> \n",
       "             </td><td> <h3 align=center>  95.8920187793 schools selected at 200ft </h3> <img src='SSS_200_620.png'></td></tr></table>"
      ],
      "text/plain": [
       "<IPython.core.display.HTML object>"
      ]
     },
     "metadata": {},
     "output_type": "display_data"
    },
    {
     "data": {
      "text/html": [
       "<table><tr><td> <h3 align=center> 98.3568075117% schools selected at 400ft </h3> <img src='SSS_400_620.png'> \n",
       "             </td><td> <h3 align=center>  99.6870109546 schools selected at 1000ft <img src='SSS_1000_620.png'></td></tr></table>"
      ],
      "text/plain": [
       "<IPython.core.display.HTML object>"
      ]
     },
     "metadata": {},
     "output_type": "display_data"
    }
   ],
   "source": [
    "from IPython.display import HTML, display\n",
    "display(HTML(\"\"\"<table><tr><td> <h3 align=center>  {p1}% schools selected at {a}ft </h3> <img src='SSS_{a}_620.png'> \n",
    "             </td><td> <h3 align=center>  {p2} schools selected at {b}ft </h3> <img src='SSS_{b}_620.png'></td></tr></table>\"\"\".format(p1=ft_20[-1],p2=ft_50[-1],a=20,b=50)))\n",
    "\n",
    "display(HTML(\"\"\"<table><tr><td> <h3 align=center> {p1}% schools selected at {a}ft </h3> <img src='SSS_{a}_620.png'> \n",
    "             </td><td> <h3 align=center>  {p2} schools selected at {b}ft </h3> <img src='SSS_{b}_620.png'></td></tr></table>\"\"\".format(p1=ft_100[-1],p2=ft_200[-1],a=100,b=200)))\n",
    "\n",
    "display(HTML(\"\"\"<table><tr><td> <h3 align=center> {p1}% schools selected at {a}ft </h3> <img src='SSS_{a}_620.png'> \n",
    "             </td><td> <h3 align=center>  {p2} schools selected at {b}ft <img src='SSS_{b}_620.png'></td></tr></table>\"\"\".format(p1=ft_400[-1],p2=ft_1000[-1],a=400,b=1000)))"
   ]
  },
  {
   "cell_type": "markdown",
   "metadata": {},
   "source": [
    "## QGIS View of NYC schools and street speeds in Financial District\n"
   ]
  },
  {
   "cell_type": "code",
   "execution_count": 14,
   "metadata": {
    "scrolled": false
   },
   "outputs": [
    {
     "data": {
      "text/html": [
       "<table><tr><td> <h3 align=center> 20 ft</h3> <img src='SSS_Fidi_20_620.png'> \n",
       "             </td><td> <h3 align=center> 50 ft</h3> <img src='SSS_Fidi_50_620.png'></td></tr></table>"
      ],
      "text/plain": [
       "<IPython.core.display.HTML object>"
      ]
     },
     "metadata": {},
     "output_type": "display_data"
    },
    {
     "data": {
      "text/html": [
       "<table><tr><td> <h3 align=center> 100 ft</h3> <img src='SSS_Fidi_100_620.png'> \n",
       "             </td><td> <h3 align=center> 200 ft</h3> <img src='SSS_Fidi_200_620.png'></td></tr></table>"
      ],
      "text/plain": [
       "<IPython.core.display.HTML object>"
      ]
     },
     "metadata": {},
     "output_type": "display_data"
    },
    {
     "data": {
      "text/html": [
       "<table><tr><td> <h3 align=center> 400 ft</h3> <img src='SSS_Fidi_400_620.png'> \n",
       "             </td><td> <h3 align=center> 1000 ft</h3> <img src='SSS_Fidi_1000_620.png'></td></tr></table>"
      ],
      "text/plain": [
       "<IPython.core.display.HTML object>"
      ]
     },
     "metadata": {},
     "output_type": "display_data"
    }
   ],
   "source": [
    "# Green polygons represents schools that were witihin the selected ranged of a street \n",
    "# Red segments represent the streets with the maximum speeds\n",
    "# Gold polygons represents schools that were not witihin the selected ranged of a street \n",
    "\n",
    "\n",
    "from IPython.display import HTML, display\n",
    "display(HTML(\"\"\"<table><tr><td> <h3 align=center> {a} ft</h3> <img src='SSS_Fidi_{a}_620.png'> \n",
    "             </td><td> <h3 align=center> {b} ft</h3> <img src='SSS_Fidi_{b}_620.png'></td></tr></table>\"\"\".format(a=20,b=50)))\n",
    "\n",
    "display(HTML(\"\"\"<table><tr><td> <h3 align=center> {a} ft</h3> <img src='SSS_Fidi_{a}_620.png'> \n",
    "             </td><td> <h3 align=center> {b} ft</h3> <img src='SSS_Fidi_{b}_620.png'></td></tr></table>\"\"\".format(a=100,b=200)))\n",
    "\n",
    "display(HTML(\"\"\"<table><tr><td> <h3 align=center> {a} ft</h3> <img src='SSS_Fidi_{a}_620.png'> \n",
    "             </td><td> <h3 align=center> {b} ft</h3> <img src='SSS_Fidi_{b}_620.png'></td></tr></table>\"\"\".format(a=400,b=1000)))\n"
   ]
  },
  {
   "cell_type": "code",
   "execution_count": 15,
   "metadata": {
    "scrolled": true
   },
   "outputs": [
    {
     "name": "stdout",
     "output_type": "stream",
     "text": [
      "school_street_speeds Table Created for tolerance of 100ft\n"
     ]
    }
   ],
   "source": [
    "ft_x = SSS_Rtable(100)\n"
   ]
  },
  {
   "cell_type": "code",
   "execution_count": 16,
   "metadata": {},
   "outputs": [],
   "source": [
    "file_n = str(os.getcwd()) + '\\SSS' + '_100ft_' + str((datetime.datetime.now().strftime(\"_%Y-%m-%d_%H\")))\n",
    "#print(file_n)\n",
    "ft_x[0].to_csv(file_n + '.csv',index=False)"
   ]
  },
  {
   "cell_type": "markdown",
   "metadata": {},
   "source": [
    "# Range of 300ft Most reasonable\n",
    "\n",
    "\n",
    "#stats: 'selected_schools': 2491, 'tot_schools': 2556, \n",
    "'avg_st_from_school_dist': 176.0398366267446 , 'select_accuracy': 97.46%\n",
    "\n",
    "### Main Takeaway\n",
    "\n",
    "#### Since this script selects the schools and max adjacent street speeds over the entire NYC area, there will be some streets that fall within and out of the range of 300ft leaving some schools without adjacent streets.\n",
    "\n",
    "#### At the 300ft range, only 65 out of 2556 schools were left witout adjacent streets and the average distance between the streets with maximum speeds and schools was ~176ft which is reasonable.\n"
   ]
  },
  {
   "cell_type": "code",
   "execution_count": 17,
   "metadata": {
    "scrolled": false
   },
   "outputs": [
    {
     "data": {
      "text/html": [
       "<table><tr> <h3 align=center>  91.3536776213% schools selected at 300ft </h3> <td>  <img src='SSS_300_620.png'> \n",
       "             </td><td> <img src='SSS_Fidi_300_620.png'></td></tr></table>"
      ],
      "text/plain": [
       "<IPython.core.display.HTML object>"
      ]
     },
     "metadata": {},
     "output_type": "display_data"
    }
   ],
   "source": [
    "from IPython.display import HTML, display\n",
    "display(HTML(\"\"\"<table><tr> <h3 align=center>  {p}% schools selected at {a}ft </h3> <td>  <img src='SSS_{a}_620.png'> \n",
    "             </td><td> <img src='SSS_Fidi_{a}_620.png'></td></tr></table>\"\"\".format(p=ft_x[-1],a=300)))"
   ]
  },
  {
   "cell_type": "markdown",
   "metadata": {},
   "source": [
    "# Next Step\n",
    "\n",
    "### Script function to select nearest streets from school not based on specified range and the selecting max street speed thus eliminating under and over reaching "
   ]
  },
  {
   "cell_type": "markdown",
   "metadata": {},
   "source": [
    "## Dropping of tempory table"
   ]
  },
  {
   "cell_type": "code",
   "execution_count": 22,
   "metadata": {},
   "outputs": [
    {
     "data": {
      "text/plain": [
       "output(data=None, columns=None, desc=None)"
      ]
     },
     "execution_count": 22,
     "metadata": {},
     "output_type": "execute_result"
    }
   ],
   "source": [
    "pgdb.query(\"\"\"\n",
    "                DROP TABLE if exists working.school_street_speeds;\n",
    "                \"\"\")\n",
    "              "
   ]
  },
  {
   "cell_type": "code",
   "execution_count": null,
   "metadata": {},
   "outputs": [],
   "source": []
  }
 ],
 "metadata": {
  "kernelspec": {
   "display_name": "Python 2",
   "language": "python",
   "name": "python2"
  },
  "language_info": {
   "codemirror_mode": {
    "name": "ipython",
    "version": 2
   },
   "file_extension": ".py",
   "mimetype": "text/x-python",
   "name": "python",
   "nbconvert_exporter": "python",
   "pygments_lexer": "ipython2",
   "version": "2.7.10"
  }
 },
 "nbformat": 4,
 "nbformat_minor": 2
}
