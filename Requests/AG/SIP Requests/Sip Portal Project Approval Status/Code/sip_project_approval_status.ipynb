{
 "cells": [
  {
   "cell_type": "markdown",
   "metadata": {},
   "source": [
    "# Default Import"
   ]
  },
  {
   "cell_type": "code",
   "execution_count": 1,
   "metadata": {
    "scrolled": true
   },
   "outputs": [
    {
     "data": {
      "text/markdown": [
       "<strong>Notebook run on: 2020-10-01 17:47 | by soge | Using ris library version: 1.5.6 | File Location: E:\\RIS\\Staff Folders\\Samuel\\Requests\\AG\\SIP Requests\\Sip Portal Project Approval Status"
      ],
      "text/plain": [
       "<IPython.core.display.Markdown object>"
      ]
     },
     "execution_count": 1,
     "metadata": {},
     "output_type": "execute_result"
    }
   ],
   "source": [
    "from ris import pysqldb\n",
    "from IPython.display import Markdown, clear_output\n",
    "from sqlalchemy import create_engine\n",
    "import ris\n",
    "import getpass\n",
    "import datetime \n",
    "import pandas as pd\n",
    "import numpy as np\n",
    "import os\n",
    "import requests\n",
    "\n",
    "timestamp = datetime.datetime.now().strftime('%Y-%m-%d %H:%M')\n",
    "ts = datetime.datetime.now().strftime('%Y-%m-%d')\n",
    "\n",
    "Markdown('<strong>Notebook run on: {} | by {} | Using ris library version: {} | File Location: {}'.format(\n",
    "    timestamp, getpass.getuser(), ris.__version__, os.getcwd()\n",
    "))\n"
   ]
  },
  {
   "cell_type": "markdown",
   "metadata": {},
   "source": [
    "# Db connections"
   ]
  },
  {
   "cell_type": "code",
   "execution_count": 2,
   "metadata": {},
   "outputs": [
    {
     "name": "stdout",
     "output_type": "stream",
     "text": [
      "\n",
      "Additional database connection details required:\n",
      "User name (sip):soge\n",
      "Password (sip)········\n",
      "Database connection (PG) to sip on dotpgsql01 - user: soge \n",
      "Connection established 2020-10-01 17:47:44\n"
     ]
    }
   ],
   "source": [
    "try: \n",
    "    db.params['user']\n",
    "except:\n",
    "    db = pysqldb.DbConnect(type='PG', server='dotpgsql01', database='sip')"
   ]
  },
  {
   "cell_type": "code",
   "execution_count": 3,
   "metadata": {},
   "outputs": [],
   "source": [
    "#sip = pysqldb.DbConnect(server='dotpgsql01', database='sip', type='PG', user = db.params['user'], password = db.params['password'])\n",
    "#forms = pysqldb.DbConnect(server='dot55sql01', database='forms', type='MS', user = 'arcgis', password = 'arcgis')"
   ]
  },
  {
   "cell_type": "code",
   "execution_count": 4,
   "metadata": {},
   "outputs": [
    {
     "name": "stdout",
     "output_type": "stream",
     "text": [
      "Database connection (PG) to sip on dotpgsql01 - user: soge \n",
      "Connection established 2020-10-01 17:47:45\n"
     ]
    }
   ],
   "source": [
    "db.connect()"
   ]
  },
  {
   "cell_type": "code",
   "execution_count": 5,
   "metadata": {},
   "outputs": [],
   "source": [
    "pids =(8642,1772,996,1884,1433,1620,1721,1640,1385,4582,6242\n",
    "       ,2662,1017,7862,1766,1826,1793,2023,9625,4862,1328,4102\n",
    "       ,1812,6642,1808,4042,1996,4182,1614,1923,2091,1651,1673\n",
    "       ,7282,4342,5222,4022,5822,2342,1676,1840,4442,1711,3962\n",
    "       ,3982,9639,1717,3342,8422,9615,1781,5942,1358,3822,5242\n",
    "       ,2053,1638,1789,2054,1311,5582,1470,2302,5522)"
   ]
  },
  {
   "cell_type": "code",
   "execution_count": 6,
   "metadata": {},
   "outputs": [
    {
     "name": "stdout",
     "output_type": "stream",
     "text": [
      "Database connection (PG) to sip on dotpgsql01 - user: soge \n",
      "Connection established 2020-10-01 17:47:47\n"
     ]
    }
   ],
   "source": [
    "db.connect()"
   ]
  },
  {
   "cell_type": "code",
   "execution_count": 7,
   "metadata": {},
   "outputs": [],
   "source": [
    "### SIP PROJECT STATUS \n",
    "\n",
    "project_status = db.dfquery(\"\"\"\n",
    "                            SELECT sp.pid, sp.pjct_name, sp.sip_year,  \n",
    "                                   CASE WHEN approved_date is not null THEN 'Y'\n",
    "                                        WHEN approved_date is null THEN 'N' END approved\n",
    "                                  ,sp.approved_date, description\n",
    "                            FROM public.sip_projects sp\n",
    "                            LEFT JOIN sip_lookup sl\n",
    "                            ON sp.status::int = sl.lookupid::int\n",
    "                            WHERE pid in {p}\n",
    "                      \"\"\".format(p=pids))"
   ]
  },
  {
   "cell_type": "code",
   "execution_count": 8,
   "metadata": {},
   "outputs": [],
   "source": [
    "writer = pd.ExcelWriter('sip_project_approval_status_{}.xlsx'.format(ts), engine='xlsxwriter')    \n",
    "project_status.to_excel(writer, sheet_name='sip_projects_status', index= False)\n",
    "writer.save()"
   ]
  }
 ],
 "metadata": {
  "kernelspec": {
   "display_name": "Python 2",
   "language": "python",
   "name": "python2"
  },
  "language_info": {
   "codemirror_mode": {
    "name": "ipython",
    "version": 2
   },
   "file_extension": ".py",
   "mimetype": "text/x-python",
   "name": "python",
   "nbconvert_exporter": "python",
   "pygments_lexer": "ipython2",
   "version": "2.7.16"
  }
 },
 "nbformat": 4,
 "nbformat_minor": 2
}
