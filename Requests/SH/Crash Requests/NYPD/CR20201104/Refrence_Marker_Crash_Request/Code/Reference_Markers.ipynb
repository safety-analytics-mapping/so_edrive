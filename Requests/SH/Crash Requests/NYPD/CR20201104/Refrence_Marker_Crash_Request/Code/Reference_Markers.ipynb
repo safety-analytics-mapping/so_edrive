{
 "cells": [
  {
   "cell_type": "code",
   "execution_count": 1,
   "metadata": {},
   "outputs": [
    {
     "name": "stdout",
     "output_type": "stream",
     "text": [
      "Notebook run: 2020-01-10_19:58\n",
      "E:\\RIS\\Staff Folders\\Samuel\\Requests\\SH\\Refrence_Marker_Crash_Request\n"
     ]
    }
   ],
   "source": [
    "from ris import pysqldb\n",
    "from IPython.display import clear_output\n",
    "from collections import defaultdict\n",
    "from collections import defaultdict, namedtuple\n",
    "import datetime \n",
    "import pandas as pd\n",
    "import numpy as np\n",
    "import os\n",
    "from sqlalchemy import create_engine\n",
    "\n",
    "clear_output()\n",
    "timestamp = datetime.datetime.now().strftime('%Y-%m-%d_%H:%M')\n",
    "ts = datetime.datetime.now().strftime('%Y-%m-%d')\n",
    "\n",
    "print 'Notebook run: {}'.format(timestamp)\n",
    "print os.getcwd()"
   ]
  },
  {
   "cell_type": "code",
   "execution_count": 2,
   "metadata": {},
   "outputs": [
    {
     "name": "stdout",
     "output_type": "stream",
     "text": [
      "Warning:\n",
      "\tMissing SQL Server Native Client 10.0                 datetime2 will not be interpreted correctly\n",
      "\n",
      "Database connection (MS) to forms on dot55sql01 - user: arcgis \n",
      "Connection established 2020-01-10 19:58:56\n",
      "Query run in 54000 microseconds\n",
      "Warning:\n",
      "\tMissing SQL Server Native Client 10.0                 datetime2 will not be interpreted correctly\n",
      "\n"
     ]
    }
   ],
   "source": [
    "sqldb = pysqldb.DbConnect(server='dot55sql01', database='forms', type='MS', user = 'arcgis', password = 'arcgis')"
   ]
  },
  {
   "cell_type": "code",
   "execution_count": 375,
   "metadata": {},
   "outputs": [
    {
     "name": "stdout",
     "output_type": "stream",
     "text": [
      "Warning:\n",
      "\tMissing SQL Server Native Client 10.0                 datetime2 will not be interpreted correctly\n",
      "\n",
      "Database connection (MS) to forms on dot55sql01 - user: arcgis \n",
      "Connection established 2020-01-14 12:32:12\n"
     ]
    }
   ],
   "source": [
    "sqldb.connect()"
   ]
  },
  {
   "cell_type": "code",
   "execution_count": 379,
   "metadata": {
    "scrolled": true
   },
   "outputs": [
    {
     "name": "stdout",
     "output_type": "stream",
     "text": [
      "Warning:\n",
      "\tMissing SQL Server Native Client 10.0                 datetime2 will not be interpreted correctly\n",
      "\n"
     ]
    }
   ],
   "source": [
    "result = sqldb.dfquery(\"\"\"    \n",
    "\n",
    "\n",
    "with data as(\n",
    "Select\n",
    "core.OFF_STREET\n",
    ",core.integration_id\n",
    ",core.ACCIDENT_DT \n",
    ",row_number() over (partition by core.INTEGRATION_ID order by core.ACCIDENT_DT) as VEH\n",
    ",veh.[ST_OF_REG]\n",
    ",veh.VEHICLE_TYPE_CODE\n",
    ",veh.[VEH_OCCUPANTS]\n",
    ",cast(datediff(DD,veh.[DRIVER_DOB],getdate())/365.25 as int)  DRIVER_AGE\n",
    ",veh.[DRIVER_SEX]\n",
    ",veh.[VIOLATION]\n",
    ",veh.[DIRECTION_OF_TRAVEL]\n",
    ",veh.[PROPERTY_DAMAGED_DESC]\n",
    ",veh.[CONTRIBUTING_FACTOR]\n",
    ",veh.[PRE_ACDNT_ACTION]\n",
    "FROM [FORMS].[dbo].[WC_ACCIDENT_F] core\n",
    "JOIN FORMS.dbo.WC_ACCIDENT_VEHICLE_F veh\n",
    "on core.integration_id = veh.accident_id\n",
    "WHERE core.OFF_STREET in( '907AX5M21121', '907AX5M21122', '907AX5M21123', '907AX5M21124')\n",
    "and YEAR(core.ACCIDENT_DT) between 2017 and 2019 \n",
    "--order by core.OFF_STREET,core.ACCIDENT_DT\n",
    ")\n",
    "\n",
    "Select x.*\n",
    ",d.integration_id int_id\n",
    ",d.[ST_OF_REG]\n",
    ",d.VEH\n",
    ",d.[VEHICLE_TYPE_CODE]\n",
    ",d.[VEH_OCCUPANTS]\n",
    ",d.[DRIVER_AGE]\n",
    ",d.[DRIVER_SEX]\n",
    ",d.[VIOLATION]\n",
    ",d.[DIRECTION_OF_TRAVEL]\n",
    ",d.[PROPERTY_DAMAGED_DESC]\n",
    ",d.[CONTRIBUTING_FACTOR]\n",
    ",d.[PRE_ACDNT_ACTION]\n",
    "FROM (\n",
    "Select \n",
    "core.OFF_STREET\n",
    ",core.integration_id, row_number() over (partition by core.OFF_STREET order by core.integration_id) as case_num\n",
    ",core.ACCIDENT_DT\n",
    ",core.SRC_CROSS_STREET\n",
    ",core.SRC_ON_STREET\n",
    ",core.SRC_DIST_FROM_X_STREET_MILES\n",
    ",core.SRC_DIRECTION_FROM_X_STREET\n",
    ",core.INJURED_CNT\n",
    ",core.VEHICLE_INVOLVED_CNT\n",
    ",core.ACCIDENT_TYPE\n",
    ",core.TRAFFIC_CONTROL\n",
    ",core.ACCIDENT_DIAGRAM\n",
    ",core.ROADWAY_SURFACE_COND\n",
    ",core.ROADWAY_CHARACTER\n",
    ",core.LIGHT_CONDITIONS\n",
    ",core.CONTRIBUTING_FACTOR1\n",
    ",ACCIDENT_DESC\n",
    "FROM [FORMS].[dbo].[WC_ACCIDENT_F] core\n",
    "WHERE core.OFF_STREET in( '907AX5M21121', '907AX5M21122', '907AX5M21123', '907AX5M21124')\n",
    "and YEAR(core.ACCIDENT_DT) between 2017 and 2019\n",
    "--order by core.OFF_STREET\n",
    ") x\n",
    "\n",
    "JOIN (SELECT * FROM data) d\n",
    "ON x.INTEGRATION_ID = d.integration_id\n",
    "order by x.OFF_STREET, case_num\n",
    "\n",
    "    \"\"\")"
   ]
  },
  {
   "cell_type": "code",
   "execution_count": 49,
   "metadata": {},
   "outputs": [
    {
     "data": {
      "text/plain": [
       "u'907AX5M21122'"
      ]
     },
     "execution_count": 49,
     "metadata": {},
     "output_type": "execute_result"
    }
   ],
   "source": [
    "result.OFF_STREET.unique()[1]"
   ]
  },
  {
   "cell_type": "code",
   "execution_count": 50,
   "metadata": {},
   "outputs": [
    {
     "data": {
      "text/plain": [
       "u'907AX5M21121'"
      ]
     },
     "execution_count": 50,
     "metadata": {},
     "output_type": "execute_result"
    }
   ],
   "source": [
    " result.OFF_STREET[0]"
   ]
  },
  {
   "cell_type": "code",
   "execution_count": 369,
   "metadata": {},
   "outputs": [
    {
     "data": {
      "text/html": [
       "<div>\n",
       "<style scoped>\n",
       "    .dataframe tbody tr th:only-of-type {\n",
       "        vertical-align: middle;\n",
       "    }\n",
       "\n",
       "    .dataframe tbody tr th {\n",
       "        vertical-align: top;\n",
       "    }\n",
       "\n",
       "    .dataframe thead th {\n",
       "        text-align: right;\n",
       "    }\n",
       "</style>\n",
       "<table border=\"1\" class=\"dataframe\">\n",
       "  <thead>\n",
       "    <tr style=\"text-align: right;\">\n",
       "      <th></th>\n",
       "      <th>VEH</th>\n",
       "      <th>ST_OF_REG</th>\n",
       "      <th>VEHICLE_TYPE_CODE</th>\n",
       "      <th>VEH_OCCUPANTS</th>\n",
       "      <th>DRIVER_DOB</th>\n",
       "      <th>DRIVER_SEX</th>\n",
       "      <th>VIOLATION</th>\n",
       "      <th>DIRECTION_OF_TRAVEL</th>\n",
       "      <th>PROPERTY_DAMAGED_DESC</th>\n",
       "      <th>CONTRIBUTING_FACTOR</th>\n",
       "    </tr>\n",
       "  </thead>\n",
       "  <tbody>\n",
       "    <tr>\n",
       "      <th>0</th>\n",
       "      <td>1</td>\n",
       "      <td>NY</td>\n",
       "      <td>Motorcycle</td>\n",
       "      <td>1</td>\n",
       "      <td>1992-04-10</td>\n",
       "      <td>M</td>\n",
       "      <td>None</td>\n",
       "      <td>Northeast</td>\n",
       "      <td>None</td>\n",
       "      <td>Unspecified</td>\n",
       "    </tr>\n",
       "  </tbody>\n",
       "</table>\n",
       "</div>"
      ],
      "text/plain": [
       "   VEH ST_OF_REG VEHICLE_TYPE_CODE VEH_OCCUPANTS  DRIVER_DOB DRIVER_SEX  \\\n",
       "0    1        NY        Motorcycle             1  1992-04-10          M   \n",
       "\n",
       "  VIOLATION   DIRECTION_OF_TRAVEL PROPERTY_DAMAGED_DESC CONTRIBUTING_FACTOR  \n",
       "0      None  Northeast                             None         Unspecified  "
      ]
     },
     "execution_count": 369,
     "metadata": {},
     "output_type": "execute_result"
    }
   ],
   "source": [
    "result.iloc[0:1,19::]"
   ]
  },
  {
   "cell_type": "code",
   "execution_count": 71,
   "metadata": {
    "scrolled": true
   },
   "outputs": [
    {
     "data": {
      "text/plain": [
       "119"
      ]
     },
     "execution_count": 71,
     "metadata": {},
     "output_type": "execute_result"
    }
   ],
   "source": [
    "result.loc[result.OFF_STREET==result.OFF_STREET[6]].case_num"
   ]
  },
  {
   "cell_type": "markdown",
   "metadata": {},
   "source": [
    "### test 1"
   ]
  },
  {
   "cell_type": "code",
   "execution_count": 109,
   "metadata": {
    "collapsed": true
   },
   "outputs": [
    {
     "name": "stdout",
     "output_type": "stream",
     "text": [
      "OFF_STREET                                                           907AX5M21121\n",
      "integration_id                                                         0309718105\n",
      "case_num                                                                        1\n",
      "ACCIDENT_DT                                                            2018-06-10\n",
      "SRC_CROSS_STREET                                                             None\n",
      "SRC_ON_STREET                   CROSS ISLAND PARKWAY                          ...\n",
      "SRC_DIST_FROM_X_STREET_MILES                                                 None\n",
      "SRC_DIRECTION_FROM_X_STREET                                                    N \n",
      "INJURED_CNT                                                                     1\n",
      "Name: 0, dtype: object\n",
      "  integration_id  VEH ST_OF_REG VEHICLE_TYPE_CODE VEH_OCCUPANTS  DRIVER_DOB  \\\n",
      "0     0309718105    1        NY        Motorcycle             1  1992-04-10   \n",
      "1     0309718105    2      None             Sedan          None        None   \n",
      "2     0510317105    1        NY             Sedan             1  1992-08-08   \n",
      "3     0510317105    2        NY        Motorcycle             1  1998-03-25   \n",
      "4     0605919105    1        VA             Sedan             3  1999-01-30   \n",
      "\n",
      "  DRIVER_SEX VIOLATION   DIRECTION_OF_TRAVEL PROPERTY_DAMAGED_DESC  \\\n",
      "0          M      None  Northeast                             None   \n",
      "1       None      None  Northeast                             None   \n",
      "2          F      None  North                                 None   \n",
      "3          M    319(1)  North                                 None   \n",
      "4          M      None  North                                 None   \n",
      "\n",
      "              CONTRIBUTING_FACTOR  \n",
      "0                     Unspecified  \n",
      "1  Passing or Lane Usage Improper  \n",
      "2  Reaction to Uninvolved Vehicle  \n",
      "3  Reaction to Uninvolved Vehicle  \n",
      "4                     Unspecified  \n",
      "5\n",
      "OFF_STREET                                                           907AX5M21122\n",
      "integration_id                                                         0003718105\n",
      "case_num                                                                        1\n",
      "ACCIDENT_DT                                                            2018-01-02\n",
      "SRC_CROSS_STREET                                                             None\n",
      "SRC_ON_STREET                   CROSS ISLAND PARKWAY                          ...\n",
      "SRC_DIST_FROM_X_STREET_MILES                                                 None\n",
      "SRC_DIRECTION_FROM_X_STREET                                                    N \n",
      "INJURED_CNT                                                                     0\n",
      "Name: 6, dtype: object\n",
      "    integration_id  VEH ST_OF_REG                    VEHICLE_TYPE_CODE  \\\n",
      "6       0003718105    1        NY  Station Wagon/Sport Utility Vehicle   \n",
      "7       0003718105    2        NY                                Sedan   \n",
      "8       0018317105    1        NY  Station Wagon/Sport Utility Vehicle   \n",
      "9       0018317105    2        OK  Station Wagon/Sport Utility Vehicle   \n",
      "10      0033217105    1        NY                                Sedan   \n",
      "11      0033217105    2        NY                                Sedan   \n",
      "12      0033217105    3        NJ  Station Wagon/Sport Utility Vehicle   \n",
      "13      0039817105    1        NY                        Pick-up Truck   \n",
      "14      0039817105    2        NY  Station Wagon/Sport Utility Vehicle   \n",
      "15      0041818105    1        CT                                Sedan   \n",
      "16      0041818105    2        NY                  Tow Truck / Wrecker   \n",
      "17      0054519105    1        NY                                 Taxi   \n",
      "18      0054519105    2        NY                                Sedan   \n",
      "19      0071618105    1        NY  Station Wagon/Sport Utility Vehicle   \n",
      "20      0071618105    2        NY  Station Wagon/Sport Utility Vehicle   \n",
      "21      0102318105    1        NY                                Sedan   \n",
      "22      0102318105    2        NY  Station Wagon/Sport Utility Vehicle   \n",
      "23      0109519105    1        ND                                Sedan   \n",
      "24      0109519105    2      None                                 None   \n",
      "25      0157317105    1        NY  Station Wagon/Sport Utility Vehicle   \n",
      "26      0157317105    2        NY                                Sedan   \n",
      "27      0158519105    1        NY                                Sedan   \n",
      "28      0158519105    2        FL  Station Wagon/Sport Utility Vehicle   \n",
      "29      0160317105    1        PA                                Sedan   \n",
      "30      0160317105    2        PA                                Sedan   \n",
      "31      0180119105    1        NY                                Sedan   \n",
      "32      0180119105    2        PA  Station Wagon/Sport Utility Vehicle   \n",
      "33      0184019105    1      None                                 None   \n",
      "34      0184019105    2        NY  Station Wagon/Sport Utility Vehicle   \n",
      "35      0204617105    1        NY                                Sedan   \n",
      "..             ...  ...       ...                                  ...   \n",
      "94      0587717105    3        NY                                Sedan   \n",
      "95      0597917105    1        NY  Station Wagon/Sport Utility Vehicle   \n",
      "96      0597917105    2        NY                                Sedan   \n",
      "97      0597917105    3        NY  Station Wagon/Sport Utility Vehicle   \n",
      "98      0610917105    1        NY                                Sedan   \n",
      "99      0610917105    2      None                                 None   \n",
      "100     0630217105    1        NY                                Sedan   \n",
      "101     0630217105    2        NY                                Sedan   \n",
      "102     0644919105    1        NY                                Sedan   \n",
      "103     0644919105    2        NY                                Sedan   \n",
      "104     0647417105    1        NY                        Pick-up Truck   \n",
      "105     0647417105    2        NY                                Sedan   \n",
      "106     0653919105    1        NY  Station Wagon/Sport Utility Vehicle   \n",
      "107     0653919105    2        NY                                Sedan   \n",
      "108     0653919105    3        PA                                Sedan   \n",
      "109     0653919105    4        NY  Station Wagon/Sport Utility Vehicle   \n",
      "110     0665818105    1        NJ  Station Wagon/Sport Utility Vehicle   \n",
      "111     0665818105    2        NY                                Sedan   \n",
      "112     0671219105    1        NJ  Station Wagon/Sport Utility Vehicle   \n",
      "113     0671219105    2        NY                                Sedan   \n",
      "114     0674517105    1        NY  Station Wagon/Sport Utility Vehicle   \n",
      "115     0674517105    2        NY  Station Wagon/Sport Utility Vehicle   \n",
      "116     0696519105    1        NY  Station Wagon/Sport Utility Vehicle   \n",
      "117     0696519105    2      None                        Pick-up Truck   \n",
      "118     0717719105    1        NY                                Sedan   \n",
      "119     0717719105    2      None                                Sedan   \n",
      "120     0727518105    1        NY  Station Wagon/Sport Utility Vehicle   \n",
      "121     0727518105    2        NY  Station Wagon/Sport Utility Vehicle   \n",
      "122     0729019105    1        NY  Station Wagon/Sport Utility Vehicle   \n",
      "123     0729019105    2        NY                                Sedan   \n",
      "\n",
      "    VEH_OCCUPANTS  DRIVER_DOB DRIVER_SEX VIOLATION   DIRECTION_OF_TRAVEL  \\\n",
      "6               1  1986-06-23          F      None  North                  \n",
      "7               1  1991-02-05          M      None  North                  \n",
      "8               2  1970-12-18          M      None  North                  \n",
      "9               1  1962-01-26          M      None  North                  \n",
      "10              2  1994-09-23          M      None  North                  \n",
      "11              1  1994-09-30          M      None  North                  \n",
      "12              3  1984-07-15          M      None  North                  \n",
      "13              1  1955-04-01          M      None  North                  \n",
      "14              1  1962-12-25          M      None  North                  \n",
      "15              2  1977-12-03          F      None  North                  \n",
      "16           None        None       None      None  North                  \n",
      "17              2  1988-09-28          M      None  North                  \n",
      "18              1  1941-03-13          F      None  North                  \n",
      "19              3  1968-10-21          M      None  North                  \n",
      "20              1  1992-05-04          F      None  North                  \n",
      "21              1  1966-06-11          M      None  North                  \n",
      "22              2  1984-10-09          M      None  North                  \n",
      "23              2  1959-06-11          F      None  North                  \n",
      "24           None        None       None      None  North                  \n",
      "25              1  1972-10-03          M      None  North                  \n",
      "26              1  1986-01-12          F      None  North                  \n",
      "27              1  1987-07-01          M      None  North                  \n",
      "28              1  1973-09-25          M      None  North                  \n",
      "29              1  1967-12-28          F      None  North                  \n",
      "30              1  1969-10-18          F      None  North                  \n",
      "31              1  1981-08-13          M      None  North                  \n",
      "32              2  1994-11-04          M      None  North                  \n",
      "33           None        None       None      None                  None   \n",
      "34              1  1976-12-18          M      None  North                  \n",
      "35              1  1952-06-12          F      None  South                  \n",
      "..            ...         ...        ...       ...                   ...   \n",
      "94              1  1986-07-26          M      None  North                  \n",
      "95              1  1973-10-29          F      None  North                  \n",
      "96              1  1970-12-14          F      None  North                  \n",
      "97              3  1967-10-02          F      None  North                  \n",
      "98              1  1961-12-10          M      None  North                  \n",
      "99           None        None       None      None  North                  \n",
      "100             1  1966-06-13          F      None  North                  \n",
      "101             1  1983-04-01          M      None  North                  \n",
      "102             1  1992-11-19          M      None  North                  \n",
      "103             1  1982-09-25          M      None  North                  \n",
      "104             1  1996-01-07          M      None  North                  \n",
      "105             1  1969-05-09          M      None  North                  \n",
      "106             1  1972-12-06          M      None  North                  \n",
      "107             1  1990-04-27          F      None  North                  \n",
      "108             1        None       None      None  North                  \n",
      "109             1  1983-07-16          F      None  North                  \n",
      "110             1  1950-10-17          M      None  North                  \n",
      "111             1  1957-12-28          M      None  North                  \n",
      "112             2  1957-11-06          M      None  North                  \n",
      "113             1  1975-06-29          M      None  North                  \n",
      "114             2  1989-08-15          F      None  North                  \n",
      "115             1  1987-09-03          F      None  North                  \n",
      "116             1  1960-09-12          M      None  North                  \n",
      "117          None        None       None      None  North                  \n",
      "118             2  1991-03-14          F      None  North                  \n",
      "119             1        None       None      None  North                  \n",
      "120             1  1955-05-30          M      None  North                  \n",
      "121             0  1956-04-08          M      None  North                  \n",
      "122             1  1977-04-29          M      None  North                  \n",
      "123             2  1940-05-20          F      None  North                  \n",
      "\n",
      "    PROPERTY_DAMAGED_DESC             CONTRIBUTING_FACTOR  \n",
      "6                    None                     Unspecified  \n",
      "7                    None  Passing or Lane Usage Improper  \n",
      "8                    None                     Unspecified  \n",
      "9                    None           Following Too Closely  \n",
      "10                   None                    Unsafe Speed  \n",
      "11                   None                     Unspecified  \n",
      "12                   None                     Unspecified  \n",
      "13                   None                     Unspecified  \n",
      "14                   None           Following Too Closely  \n",
      "15                   None                     Unspecified  \n",
      "16                   None  Passing or Lane Usage Improper  \n",
      "17                   None                     Unspecified  \n",
      "18                   None  Reaction to Uninvolved Vehicle  \n",
      "19                   None                     Unspecified  \n",
      "20                   None           Following Too Closely  \n",
      "21                   None           Following Too Closely  \n",
      "22                   None  Reaction to Uninvolved Vehicle  \n",
      "23                   None                     Unspecified  \n",
      "24                   None           Following Too Closely  \n",
      "25                   None                     Unspecified  \n",
      "26                   None                     Unspecified  \n",
      "27                   None  Reaction to Uninvolved Vehicle  \n",
      "28                   None                     Unspecified  \n",
      "29                   None                     Unspecified  \n",
      "30                   None           Following Too Closely  \n",
      "31                   None                    Unsafe Speed  \n",
      "32                   None                     Unspecified  \n",
      "33                   None                            None  \n",
      "34                   None                     Unspecified  \n",
      "35                   None                     Unspecified  \n",
      "..                    ...                             ...  \n",
      "94                   None                     Unspecified  \n",
      "95                   None                     Unspecified  \n",
      "96                   None                     Unspecified  \n",
      "97                   None                     Unspecified  \n",
      "98                   None                     Unspecified  \n",
      "99                   None  Driver Inattention/Distraction  \n",
      "100                  None                     Unspecified  \n",
      "101                  None                     Unspecified  \n",
      "102                  None                     Unspecified  \n",
      "103                  None           Following Too Closely  \n",
      "104                  None                     Unspecified  \n",
      "105                  None                     Unspecified  \n",
      "106                  None           Following Too Closely  \n",
      "107                  None                     Unspecified  \n",
      "108                  None                    Unsafe Speed  \n",
      "109                  None                     Unspecified  \n",
      "110                  None                     Unspecified  \n",
      "111                  None           Following Too Closely  \n",
      "112                  None                     Unspecified  \n",
      "113                  None  Driver Inattention/Distraction  \n",
      "114                  None                     Unspecified  \n",
      "115                  None  Passing or Lane Usage Improper  \n",
      "116                  None                     Unspecified  \n",
      "117                  None  Passing or Lane Usage Improper  \n",
      "118                  None                     Unspecified  \n",
      "119                  None                    Unsafe Speed  \n",
      "120                  None                     Unspecified  \n",
      "121                  None                     Unspecified  \n",
      "122                  None                     Unspecified  \n",
      "123                  None           Accelerator Defective  \n",
      "\n"
     ]
    },
    {
     "name": "stdout",
     "output_type": "stream",
     "text": [
      "[118 rows x 11 columns]\n",
      "124\n",
      "OFF_STREET                                                           907AX5M21123\n",
      "integration_id                                                         0001819105\n",
      "case_num                                                                        1\n",
      "ACCIDENT_DT                                                            2019-01-01\n",
      "SRC_CROSS_STREET                                                             None\n",
      "SRC_ON_STREET                   CROSS ISLAND PARKWAY                          ...\n",
      "SRC_DIST_FROM_X_STREET_MILES                                                 None\n",
      "SRC_DIRECTION_FROM_X_STREET                                                    N \n",
      "INJURED_CNT                                                                     0\n",
      "Name: 125, dtype: object\n",
      "    integration_id  VEH ST_OF_REG                    VEHICLE_TYPE_CODE  \\\n",
      "125     0001819105    1        NY                                Sedan   \n",
      "126     0001819105    2        NY  Station Wagon/Sport Utility Vehicle   \n",
      "127     0005519105    1        NY                                Sedan   \n",
      "128     0005519105    2        NY  Station Wagon/Sport Utility Vehicle   \n",
      "129     0061018105    1        NJ                                Sedan   \n",
      "130     0061018105    2        NY                                Sedan   \n",
      "131     0072717105    1        NY                        Pick-up Truck   \n",
      "132     0072717105    2        NY  Station Wagon/Sport Utility Vehicle   \n",
      "133     0092019105    1        NY  Station Wagon/Sport Utility Vehicle   \n",
      "134     0092019105    2        NY  Station Wagon/Sport Utility Vehicle   \n",
      "135     0110818105    1        NY                                Sedan   \n",
      "136     0110818105    2        NY  Station Wagon/Sport Utility Vehicle   \n",
      "137     0116619105    1        NY  Station Wagon/Sport Utility Vehicle   \n",
      "138     0116619105    2        NY                                Sedan   \n",
      "139     0126217105    1        NY  Station Wagon/Sport Utility Vehicle   \n",
      "140     0126217105    2      None                                 None   \n",
      "141     0176818105    1        NY                                Sedan   \n",
      "142     0176818105    2        NY                                Sedan   \n",
      "143     0178419105    1        NY                                Sedan   \n",
      "144     0178419105    2        NY                                Sedan   \n",
      "145     0213417105    1        NY  Station Wagon/Sport Utility Vehicle   \n",
      "146     0213417105    2        NY                                Sedan   \n",
      "147     0213417105    3      None                                 None   \n",
      "148     0315419105    1        NJ                                Sedan   \n",
      "149     0315419105    2        NY  Station Wagon/Sport Utility Vehicle   \n",
      "150     0350417105    1        NY                                Sedan   \n",
      "151     0375219105    1        NY                                Sedan   \n",
      "152     0375219105    2        NY  Station Wagon/Sport Utility Vehicle   \n",
      "153     0432718105    1        NY                                Sedan   \n",
      "154     0432718105    2        NY                                Sedan   \n",
      "155     0475719105    2        NJ                                Sedan   \n",
      "156     0475719105    1        NY                                Sedan   \n",
      "157     0536217105    1        NY                                Sedan   \n",
      "158     0536217105    2        NY                                Sedan   \n",
      "159     0538617105    1        NY                                Sedan   \n",
      "160     0538617105    2        NY                                Sedan   \n",
      "161     0545617105    1        FL                                Sedan   \n",
      "162     0545617105    2        NY  Station Wagon/Sport Utility Vehicle   \n",
      "163     0686119105    1        NJ                                Sedan   \n",
      "164     0686119105    2        NY                                Sedan   \n",
      "165     0692119105    1        NY  Station Wagon/Sport Utility Vehicle   \n",
      "166     0692119105    2        NY  Station Wagon/Sport Utility Vehicle   \n",
      "167     0722019105    1        NY  Station Wagon/Sport Utility Vehicle   \n",
      "168     0722019105    2      None                                 None   \n",
      "169     0722019105    3        NY                           2 dr sedan   \n",
      "170     0739118105    1        NY                                Sedan   \n",
      "\n",
      "    VEH_OCCUPANTS  DRIVER_DOB DRIVER_SEX VIOLATION   DIRECTION_OF_TRAVEL  \\\n",
      "125             1  1979-12-20          M      None  North                  \n",
      "126             2  1986-01-05          M      None  North                  \n",
      "127             1  1984-04-08          M      None  North                  \n",
      "128             1  1963-05-29          M      None  North                  \n",
      "129             1  1996-03-19          M      None  North                  \n",
      "130             1  1965-04-01          M      None  North                  \n",
      "131             1  1960-12-07          M      None  North                  \n",
      "132             2  1969-11-11          F      None  North                  \n",
      "133             1  1979-04-27          M      None  North                  \n",
      "134             1  1963-02-07          M      None  North                  \n",
      "135             2  1978-03-09          F      None  North                  \n",
      "136             1  1967-04-01          M      None  North                  \n",
      "137             2  1971-10-24          F      None  East                   \n",
      "138             1  1965-12-21          F      None  South                  \n",
      "139             1  1984-11-18          M      None  North                  \n",
      "140          None        None       None      None                  None   \n",
      "141             1  1994-11-27          F      None  North                  \n",
      "142             1  1960-09-12          M      None  North                  \n",
      "143             2  1985-01-11          M      None  North                  \n",
      "144             1  1990-03-19          M      None  North                  \n",
      "145             1  1985-11-15          F      None  North                  \n",
      "146             1  1953-01-07          M      None  North                  \n",
      "147          None        None       None      None                  None   \n",
      "148             1  1961-05-27          M      None  North                  \n",
      "149             1  1969-05-16          F      None  North                  \n",
      "150             1  1953-10-05          M      None  North                  \n",
      "151             1  1994-08-22          M      None  North                  \n",
      "152             1  1971-12-20          F      None  North                  \n",
      "153             1  1981-01-08          F      None  North                  \n",
      "154             1  1994-05-19          F      None  North                  \n",
      "155             1  1990-10-24          M      None  North                  \n",
      "156             1  1955-08-04          F      None  North                  \n",
      "157             1  1992-11-04          F      None  North                  \n",
      "158             1        None       None      None  North                  \n",
      "159             1  1981-09-03          F      None  North                  \n",
      "160             1  1993-07-23          F      None  North                  \n",
      "161             2  1942-08-28          M      None  North                  \n",
      "162             1  1976-04-26          M      None  North                  \n",
      "163             1  1946-05-23          F      None  North                  \n",
      "164             1  1983-11-04          M      None  North                  \n",
      "165             1  1956-10-23          M      None  South                  \n",
      "166             1  1971-09-03          M      None  South                  \n",
      "167             2  1960-12-15          M      None  North                  \n",
      "168          None        None       None      None                  None   \n",
      "169             2  1995-12-21          F      None  North                  \n",
      "170             1  1970-11-03          M      None  North                  \n",
      "\n",
      "    PROPERTY_DAMAGED_DESC             CONTRIBUTING_FACTOR  \n",
      "125                  None                     Unspecified  \n",
      "126                  None                     Unspecified  \n",
      "127                  None                     Unspecified  \n",
      "128                  None           Following Too Closely  \n",
      "129                  None  Driver Inattention/Distraction  \n",
      "130                  None  Driver Inattention/Distraction  \n",
      "131                  None                     Unspecified  \n",
      "132                  None            Unsafe Lane Changing  \n",
      "133                  None                     Unspecified  \n",
      "134                  None           Following Too Closely  \n",
      "135                  None                     Unspecified  \n",
      "136                  None  Driver Inattention/Distraction  \n",
      "137                  None   Failure to Yield Right-of-Way  \n",
      "138                  None   Failure to Yield Right-of-Way  \n",
      "139                  None                     Unspecified  \n",
      "140                  None                            None  \n",
      "141                  None  Driver Inattention/Distraction  \n",
      "142                  None  Driver Inattention/Distraction  \n",
      "143                  None                     Unspecified  \n",
      "144                  None  Reaction to Uninvolved Vehicle  \n",
      "145                  None                     Unspecified  \n",
      "146                  None                     Unspecified  \n",
      "147                  None                            None  \n",
      "148                  None           Following Too Closely  \n",
      "149                  None                     Unspecified  \n",
      "150                  None              Lost Consciousness  \n",
      "151                  None           Following Too Closely  \n",
      "152                  None                     Unspecified  \n",
      "153                  None                     Unspecified  \n",
      "154                  None            Unsafe Lane Changing  \n",
      "155                  None                     Unspecified  \n",
      "156                  None  Passing or Lane Usage Improper  \n",
      "157                  None                     Unspecified  \n",
      "158                  None           Following Too Closely  \n",
      "159                  None                     Unspecified  \n",
      "160                  None                     Unspecified  \n",
      "161                  None                     Unspecified  \n",
      "162                  None                     Unspecified  \n",
      "163                  None                     Unspecified  \n",
      "164                  None                     Unspecified  \n",
      "165                  None  Passing or Lane Usage Improper  \n",
      "166                  None                     Unspecified  \n",
      "167                  None                     Unspecified  \n",
      "168                  None                            None  \n",
      "169                  None                     Unspecified  \n"
     ]
    },
    {
     "name": "stdout",
     "output_type": "stream",
     "text": [
      "170                  None                     Unspecified  \n",
      "171\n",
      "OFF_STREET                                                           907AX5M21124\n",
      "integration_id                                                         0062817105\n",
      "case_num                                                                        1\n",
      "ACCIDENT_DT                                                            2017-02-06\n",
      "SRC_CROSS_STREET                                                             None\n",
      "SRC_ON_STREET                   CROSS ISLAND PARKWAY                          ...\n",
      "SRC_DIST_FROM_X_STREET_MILES                                                 None\n",
      "SRC_DIRECTION_FROM_X_STREET                                                    N \n",
      "INJURED_CNT                                                                     1\n",
      "Name: 172, dtype: object\n",
      "    integration_id  VEH ST_OF_REG                    VEHICLE_TYPE_CODE  \\\n",
      "172     0062817105    1        NY  Station Wagon/Sport Utility Vehicle   \n",
      "173     0062817105    2        NY                                Sedan   \n",
      "174     0064117105    1        PA  Station Wagon/Sport Utility Vehicle   \n",
      "175     0064117105    2        NY  Station Wagon/Sport Utility Vehicle   \n",
      "176     0080517105    1        NY                                Sedan   \n",
      "177     0080517105    2        NY                                Sedan   \n",
      "178     0442517105    1        NY                                Sedan   \n",
      "179     0442517105    2        NY  Station Wagon/Sport Utility Vehicle   \n",
      "180     0526018105    1        NY                                Sedan   \n",
      "181     0526018105    2        NY                                Sedan   \n",
      "182     0526419105    1        NY                        Pick-up Truck   \n",
      "183     0526419105    2        NY  Station Wagon/Sport Utility Vehicle   \n",
      "184     0534419105    1        NY  Station Wagon/Sport Utility Vehicle   \n",
      "185     0534419105    2        NY                                Sedan   \n",
      "186     0538319105    1        NY                                Sedan   \n",
      "187     0538319105    2        NY  Station Wagon/Sport Utility Vehicle   \n",
      "188     0577917105    1        NY  Station Wagon/Sport Utility Vehicle   \n",
      "189     0577917105    2        NY                        Pick-up Truck   \n",
      "190     0632518105    1        NY                                Sedan   \n",
      "\n",
      "    VEH_OCCUPANTS  DRIVER_DOB DRIVER_SEX VIOLATION   DIRECTION_OF_TRAVEL  \\\n",
      "172             3  1960-12-15          M      None  South                  \n",
      "173             1  1992-08-07          F      None  South                  \n",
      "174             1  1992-10-11          M      None  North                  \n",
      "175             1  1973-07-21          M      None  North                  \n",
      "176             2  1965-10-24          F      None  North                  \n",
      "177             1  1987-10-06          F      None  Northeast              \n",
      "178             1  1993-09-23          M      None  North                  \n",
      "179             1  1982-06-09          F      None  North                  \n",
      "180             2  1961-01-04          F      None  North                  \n",
      "181             1  1990-05-26          F     319-1  North                  \n",
      "182             1  1970-12-16          M      None  North                  \n",
      "183             1  1997-12-09          M      None  North                  \n",
      "184             1  1972-08-29          F      None  North                  \n",
      "185             3  1985-12-25          F      None  North                  \n",
      "186             1  1995-01-06          M      None  North                  \n",
      "187             1  1991-09-13          F      None  North                  \n",
      "188             1  1998-03-24          F      None  East                   \n",
      "189             1  1964-01-01          M      None  East                   \n",
      "190             1  1990-02-27          F      None  North                  \n",
      "\n",
      "    PROPERTY_DAMAGED_DESC             CONTRIBUTING_FACTOR  \n",
      "172                  None  Reaction to Uninvolved Vehicle  \n",
      "173                  None           Following Too Closely  \n",
      "174                  None                     Unspecified  \n",
      "175                  None            Unsafe Lane Changing  \n",
      "176                  None                     Unspecified  \n",
      "177                  None  Driver Inattention/Distraction  \n",
      "178                  None           Following Too Closely  \n",
      "179                  None                     Unspecified  \n",
      "180                  None  Reaction to Uninvolved Vehicle  \n",
      "181                  None           Following Too Closely  \n",
      "182                  None                     Unspecified  \n",
      "183                  None                     Unspecified  \n",
      "184                  None                     Unspecified  \n",
      "185                  None  Driver Inattention/Distraction  \n",
      "186                  None           Following Too Closely  \n",
      "187                  None                     Unspecified  \n",
      "188                  None                     Unspecified  \n",
      "189                  None                     Unspecified  \n",
      "190                  None                     Unspecified  \n",
      "191\n"
     ]
    }
   ],
   "source": [
    "i = 0\n",
    "j = 0\n",
    "while i < range(len(result.OFF_STREET.unique())-1):\n",
    "    while j<len(result):\n",
    "        try:\n",
    "            if result.OFF_STREET[j] == result.OFF_STREET.unique()[i]:\n",
    "                print(result.iloc[j,0:9])\n",
    "                case_amount = len((result.loc[result.OFF_STREET==result.OFF_STREET[j]].case_num))\n",
    "                print(result.iloc[j:j+case_amount-1,17::])   \n",
    "                print(j+case_amount-1)\n",
    "                i+=1\n",
    "                j+=1\n",
    "            j+=1\n",
    "            #print('i:',i,result.OFF_STREET[i] ,'j:',j, result.OFF_STREET[j])\n",
    "        except:\n",
    "            break\n",
    "    break\n",
    "    \n",
    "\n",
    "\n",
    "    "
   ]
  },
  {
   "cell_type": "markdown",
   "metadata": {},
   "source": [
    "###  test 2"
   ]
  },
  {
   "cell_type": "code",
   "execution_count": 212,
   "metadata": {},
   "outputs": [],
   "source": [
    "writer = pd.ExcelWriter('test.xlsx',engine = 'xlsxwriter')"
   ]
  },
  {
   "cell_type": "code",
   "execution_count": 213,
   "metadata": {},
   "outputs": [
    {
     "name": "stdout",
     "output_type": "stream",
     "text": [
      "0\n",
      "9\n",
      "128\n",
      "175\n"
     ]
    }
   ],
   "source": [
    "i = 0\n",
    "j = 0\n",
    "row = 0\n",
    "while i < range(len(result.OFF_STREET.unique())-1):\n",
    "    while j<len(result):\n",
    "        try:\n",
    "            if result.OFF_STREET[j] == result.OFF_STREET.unique()[i]:\n",
    "                #print(result.iloc[j,0:9])\n",
    "                result.iloc[j:j+1,0:16].to_excel(writer, sheet_name='Sheet1', startrow=row, index = False)\n",
    "                case_amount = len((result.loc[result.OFF_STREET==result.OFF_STREET[j]].case_num))\n",
    "                print (row)\n",
    "                result.iloc[j:j+case_amount,17::].to_excel(writer, sheet_name='Sheet1', startcol=2, startrow=row+2, index = False)       \n",
    "                i+=1\n",
    "                j+=1\n",
    "            j+=1\n",
    "            row=j+3\n",
    "\n",
    "            #print('i:',i,result.OFF_STREET[i] ,'j:',j, result.OFF_STREET[j])\n",
    "        except:\n",
    "            break\n",
    "        \n",
    "    break\n",
    "    \n",
    "writer.save()\n"
   ]
  },
  {
   "cell_type": "markdown",
   "metadata": {},
   "source": [
    "### test 3 - Working Code"
   ]
  },
  {
   "cell_type": "code",
   "execution_count": 380,
   "metadata": {},
   "outputs": [],
   "source": [
    "writer = pd.ExcelWriter('test2.xlsx',engine = 'xlsxwriter')"
   ]
  },
  {
   "cell_type": "code",
   "execution_count": 353,
   "metadata": {},
   "outputs": [],
   "source": [
    "workbook  = writer.book\n",
    "header_format = workbook.add_format({\n",
    "    'bold': True,\n",
    "    'fg_color': '#ffcccc',\n",
    "    'border': 1})"
   ]
  },
  {
   "cell_type": "code",
   "execution_count": 237,
   "metadata": {},
   "outputs": [
    {
     "data": {
      "text/plain": [
       "0    2\n",
       "1    2\n",
       "Name: VEHICLE_INVOLVED_CNT, dtype: int64"
      ]
     },
     "execution_count": 237,
     "metadata": {},
     "output_type": "execute_result"
    }
   ],
   "source": [
    "result.loc[result.integration_id=='0309718105'].VEHICLE_INVOLVED_CNT"
   ]
  },
  {
   "cell_type": "code",
   "execution_count": 247,
   "metadata": {},
   "outputs": [
    {
     "data": {
      "text/plain": [
       "u'0309718105'"
      ]
     },
     "execution_count": 247,
     "metadata": {},
     "output_type": "execute_result"
    }
   ],
   "source": [
    "result.integration_id[0]"
   ]
  },
  {
   "cell_type": "code",
   "execution_count": 249,
   "metadata": {},
   "outputs": [
    {
     "data": {
      "text/plain": [
       "u'0309718105'"
      ]
     },
     "execution_count": 249,
     "metadata": {},
     "output_type": "execute_result"
    }
   ],
   "source": [
    "result.integration_id.unique()[0]"
   ]
  },
  {
   "cell_type": "code",
   "execution_count": 312,
   "metadata": {},
   "outputs": [
    {
     "data": {
      "text/plain": [
       "2"
      ]
     },
     "execution_count": 312,
     "metadata": {},
     "output_type": "execute_result"
    }
   ],
   "source": [
    "int(result.loc[result.integration_id == result.iloc[2].integration_id].VEHICLE_INVOLVED_CNT.head(1))"
   ]
  },
  {
   "cell_type": "code",
   "execution_count": 276,
   "metadata": {},
   "outputs": [
    {
     "data": {
      "text/plain": [
       "u'0033217105'"
      ]
     },
     "execution_count": 276,
     "metadata": {},
     "output_type": "execute_result"
    }
   ],
   "source": [
    "result.integration_id[12]"
   ]
  },
  {
   "cell_type": "code",
   "execution_count": 302,
   "metadata": {
    "collapsed": true
   },
   "outputs": [
    {
     "data": {
      "text/plain": [
       "0      False\n",
       "1      False\n",
       "2       True\n",
       "3       True\n",
       "4      False\n",
       "5      False\n",
       "6      False\n",
       "7      False\n",
       "8      False\n",
       "9      False\n",
       "10     False\n",
       "11     False\n",
       "12     False\n",
       "13     False\n",
       "14     False\n",
       "15     False\n",
       "16     False\n",
       "17     False\n",
       "18     False\n",
       "19     False\n",
       "20     False\n",
       "21     False\n",
       "22     False\n",
       "23     False\n",
       "24     False\n",
       "25     False\n",
       "26     False\n",
       "27     False\n",
       "28     False\n",
       "29     False\n",
       "       ...  \n",
       "162    False\n",
       "163    False\n",
       "164    False\n",
       "165    False\n",
       "166    False\n",
       "167    False\n",
       "168    False\n",
       "169    False\n",
       "170    False\n",
       "171    False\n",
       "172    False\n",
       "173    False\n",
       "174    False\n",
       "175    False\n",
       "176    False\n",
       "177    False\n",
       "178    False\n",
       "179    False\n",
       "180    False\n",
       "181    False\n",
       "182    False\n",
       "183    False\n",
       "184    False\n",
       "185    False\n",
       "186    False\n",
       "187    False\n",
       "188    False\n",
       "189    False\n",
       "190    False\n",
       "191    False\n",
       "Name: integration_id, Length: 192, dtype: bool"
      ]
     },
     "execution_count": 302,
     "metadata": {},
     "output_type": "execute_result"
    }
   ],
   "source": [
    "result.integration_id == result.iloc[2].integration_id"
   ]
  },
  {
   "cell_type": "code",
   "execution_count": 381,
   "metadata": {},
   "outputs": [],
   "source": [
    "i = 0\n",
    "j = 0\n",
    "row = 0\n",
    "count=0\n",
    "while i < range(len(result.integration_id.unique())-1):\n",
    "    while j<len(result):\n",
    "        try:\n",
    "            if result.integration_id[j] == result.integration_id.unique()[i]:\n",
    "                #print(result.iloc[j:j+1,0:16])\n",
    "                result.iloc[j:j+1,0:18].to_excel(writer, sheet_name='Sheet1', startrow=count, index = False)\n",
    "                count+=2\n",
    "                veh_cnt = veh_cnt = int(result.loc[result.integration_id == result.iloc[j].integration_id].VEHICLE_INVOLVED_CNT.head(1))\n",
    "                result.iloc[j:j+veh_cnt,19::].to_excel(writer, sheet_name='Sheet1', startcol=2, startrow=count,index = False)       \n",
    "                #print(result.iloc[j:j+veh_cnt,18::]) \n",
    "                i+=1\n",
    "                #j+=1\n",
    "                count+=veh_cnt+1\n",
    "            #row+=veh_cnt+j+1\n",
    "            j+=1\n",
    "            #print('count:',count,'j:',j)\n",
    "            #print('i:',i,result.integration_id[i] ,'j:',j,result.integration_id[j])\n",
    "        except:\n",
    "            break\n",
    "        \n",
    "    break\n",
    "    \n",
    "writer.save()\n"
   ]
  },
  {
   "cell_type": "code",
   "execution_count": 344,
   "metadata": {},
   "outputs": [],
   "source": [
    "veh_cnt = int(result.loc[result.integration_id == result.iloc[83].integration_id].VEHICLE_INVOLVED_CNT.head(1))\n"
   ]
  },
  {
   "cell_type": "code",
   "execution_count": 345,
   "metadata": {},
   "outputs": [
    {
     "data": {
      "text/plain": [
       "2"
      ]
     },
     "execution_count": 345,
     "metadata": {},
     "output_type": "execute_result"
    }
   ],
   "source": [
    "veh_cnt"
   ]
  },
  {
   "cell_type": "code",
   "execution_count": 347,
   "metadata": {},
   "outputs": [
    {
     "data": {
      "text/html": [
       "<div>\n",
       "<style scoped>\n",
       "    .dataframe tbody tr th:only-of-type {\n",
       "        vertical-align: middle;\n",
       "    }\n",
       "\n",
       "    .dataframe tbody tr th {\n",
       "        vertical-align: top;\n",
       "    }\n",
       "\n",
       "    .dataframe thead th {\n",
       "        text-align: right;\n",
       "    }\n",
       "</style>\n",
       "<table border=\"1\" class=\"dataframe\">\n",
       "  <thead>\n",
       "    <tr style=\"text-align: right;\">\n",
       "      <th></th>\n",
       "      <th>int_id</th>\n",
       "      <th>VEH</th>\n",
       "      <th>ST_OF_REG</th>\n",
       "      <th>VEHICLE_TYPE_CODE</th>\n",
       "      <th>VEH_OCCUPANTS</th>\n",
       "      <th>DRIVER_DOB</th>\n",
       "      <th>DRIVER_SEX</th>\n",
       "      <th>VIOLATION</th>\n",
       "      <th>DIRECTION_OF_TRAVEL</th>\n",
       "      <th>PROPERTY_DAMAGED_DESC</th>\n",
       "      <th>CONTRIBUTING_FACTOR</th>\n",
       "    </tr>\n",
       "  </thead>\n",
       "  <tbody>\n",
       "    <tr>\n",
       "      <th>82</th>\n",
       "      <td>0560617105</td>\n",
       "      <td>1</td>\n",
       "      <td>NY</td>\n",
       "      <td>Station Wagon/Sport Utility Vehicle</td>\n",
       "      <td>1</td>\n",
       "      <td>1964-11-04</td>\n",
       "      <td>F</td>\n",
       "      <td>None</td>\n",
       "      <td>North</td>\n",
       "      <td>None</td>\n",
       "      <td>Unspecified</td>\n",
       "    </tr>\n",
       "    <tr>\n",
       "      <th>83</th>\n",
       "      <td>0560617105</td>\n",
       "      <td>2</td>\n",
       "      <td>NY</td>\n",
       "      <td>Sedan</td>\n",
       "      <td>1</td>\n",
       "      <td>1958-09-29</td>\n",
       "      <td>M</td>\n",
       "      <td>None</td>\n",
       "      <td>North</td>\n",
       "      <td>None</td>\n",
       "      <td>Driver Inattention/Distraction</td>\n",
       "    </tr>\n",
       "  </tbody>\n",
       "</table>\n",
       "</div>"
      ],
      "text/plain": [
       "        int_id  VEH ST_OF_REG                    VEHICLE_TYPE_CODE  \\\n",
       "82  0560617105    1        NY  Station Wagon/Sport Utility Vehicle   \n",
       "83  0560617105    2        NY                                Sedan   \n",
       "\n",
       "   VEH_OCCUPANTS  DRIVER_DOB DRIVER_SEX VIOLATION   DIRECTION_OF_TRAVEL  \\\n",
       "82             1  1964-11-04          F      None  North                  \n",
       "83             1  1958-09-29          M      None  North                  \n",
       "\n",
       "   PROPERTY_DAMAGED_DESC             CONTRIBUTING_FACTOR  \n",
       "82                  None                     Unspecified  \n",
       "83                  None  Driver Inattention/Distraction  "
      ]
     },
     "execution_count": 347,
     "metadata": {},
     "output_type": "execute_result"
    }
   ],
   "source": [
    "result.iloc[82:84,17::]"
   ]
  },
  {
   "cell_type": "code",
   "execution_count": null,
   "metadata": {},
   "outputs": [],
   "source": []
  }
 ],
 "metadata": {
  "kernelspec": {
   "display_name": "Python 2",
   "language": "python",
   "name": "python2"
  },
  "language_info": {
   "codemirror_mode": {
    "name": "ipython",
    "version": 2
   },
   "file_extension": ".py",
   "mimetype": "text/x-python",
   "name": "python",
   "nbconvert_exporter": "python",
   "pygments_lexer": "ipython2",
   "version": "2.7.16"
  }
 },
 "nbformat": 4,
 "nbformat_minor": 2
}
