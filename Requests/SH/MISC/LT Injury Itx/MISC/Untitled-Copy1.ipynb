{
 "cells": [
  {
   "cell_type": "code",
   "execution_count": 1,
   "metadata": {},
   "outputs": [
    {
     "name": "stdout",
     "output_type": "stream",
     "text": [
      "Notebook run: 2019-12-06_16:39\n",
      "E:\\RIS\\Staff Folders\\Samuel\\Requests\\SH\\LT Injury Itx\n"
     ]
    }
   ],
   "source": [
    "from ris import db2  #library designed for SQL database connection and querying\n",
    "from ris14 import pysqldb\n",
    "from IPython.display import clear_output\n",
    "from collections import defaultdict\n",
    "from collections import defaultdict, namedtuple\n",
    "import datetime \n",
    "import pandas as pd\n",
    "import numpy as np\n",
    "import os\n",
    "from sqlalchemy import create_engine\n",
    "from Df_to_PG import* \n",
    "\n",
    "clear_output()\n",
    "timestamp = datetime.datetime.now().strftime('%Y-%m-%d_%H:%M')\n",
    "ts = datetime.datetime.now().strftime('%Y-%m-%d')\n",
    "\n",
    "print 'Notebook run: {}'.format(timestamp)\n",
    "print os.getcwd()"
   ]
  },
  {
   "cell_type": "code",
   "execution_count": 2,
   "metadata": {},
   "outputs": [
    {
     "name": "stdout",
     "output_type": "stream",
     "text": [
      "User name (CRASHDATA):soge\n",
      "Password (CRASHDATA)········\n"
     ]
    }
   ],
   "source": [
    "cdb = db2.PostgresDb('DOTDEVRHPGSQL01', 'CRASHDATA', quiet = True)\n",
    "gdb = db2.SqlDb('dotgissql01', 'gisgrid', user='GISUSER', db_pass='GISUSER') #Database Connection\n",
    "msdb = db2.SqlDb('DOT55SQL01', 'DataWarehouse', user='arcgis', db_pass='arcgis') #Database Connection"
   ]
  },
  {
   "cell_type": "code",
   "execution_count": 3,
   "metadata": {},
   "outputs": [],
   "source": [
    "data =  pd.read_excel('E:\\RIS\\Staff Folders\\Samuel\\Requests\\SH\\LT Injury Itx\\Feasible Locations to Review Crashes.xlsx')"
   ]
  },
  {
   "cell_type": "code",
   "execution_count": 4,
   "metadata": {},
   "outputs": [],
   "source": [
    "x = data.loc[(data['Provide LT Ped & Bike Injuries']=='Yes') | (data['Provide RT Ped & Bike Injuries']=='Yes')]"
   ]
  },
  {
   "cell_type": "code",
   "execution_count": 5,
   "metadata": {},
   "outputs": [],
   "source": [
    "x = x.rename(columns={\"LTTC/RTTC feasible leg(s)\" : \"LTTC/RTTC feasible legs\"})"
   ]
  },
  {
   "cell_type": "code",
   "execution_count": 6,
   "metadata": {},
   "outputs": [],
   "source": [
    "x = x.rename(columns={\"Multilane (Yes/No)\" : \"Multilane Yes/No\"})"
   ]
  },
  {
   "cell_type": "code",
   "execution_count": 7,
   "metadata": {},
   "outputs": [
    {
     "data": {
      "text/plain": [
       "'Complete'"
      ]
     },
     "execution_count": 7,
     "metadata": {},
     "output_type": "execute_result"
    }
   ],
   "source": [
    "df_to_sql(x,'LTRT',cdb)"
   ]
  },
  {
   "cell_type": "code",
   "execution_count": 9,
   "metadata": {},
   "outputs": [],
   "source": [
    "result = cdb.query(\"\"\"    \n",
    "                    select nodeid, count(gid) from public.nysdot_all nys_a\n",
    "                    join public.nysdot_vehicle nys_v\n",
    "                    on nys_a.case_num = nys_v.case_num\n",
    "                    where accd_type_int in (1,2)\n",
    "                    and masterid::bigint in (SELECT masterid FROM working.\"LTRT\")\n",
    "                    and nys_v.pre_accd_actn in ('02', '03')\n",
    "                    and nys_a.case_yr>= 2013 and nys_a.case_yr<=2017\n",
    "                    group by nodeid\n",
    "                    \"\"\")"
   ]
  },
  {
   "cell_type": "code",
   "execution_count": 7,
   "metadata": {},
   "outputs": [],
   "source": [
    "result = cdb.query(\"\"\"    \n",
    "                    with data as(\n",
    "                    select distinct nodeid, nys_a.crashid, num_of_inj from public.nysdot_all nys_a\n",
    "                    join public.nysdot_vehicle nys_v\n",
    "                    on nys_a.crashid = nys_v.crashid\n",
    "                    where accd_type_int in (1,2)\n",
    "                    and masterid::bigint in (SELECT masterid FROM working.\"LTRT\")\n",
    "                    and nys_v.pre_accd_actn in ('02', '03')\n",
    "                    and nys_a.case_yr>= 2013 and nys_a.case_yr<=2017\n",
    "                    and nys_v.veh_typ::int not in (5,6)) \n",
    "\n",
    "                    select nodeid, sum(num_of_inj) from data\n",
    "                    group by nodeid\n",
    "                    \"\"\")"
   ]
  },
  {
   "cell_type": "code",
   "execution_count": 10,
   "metadata": {},
   "outputs": [],
   "source": [
    "y = pd.DataFrame(result.data, columns = ['nodeid','count'])"
   ]
  },
  {
   "cell_type": "code",
   "execution_count": 11,
   "metadata": {},
   "outputs": [],
   "source": [
    "y['nodeid'] = map(int, y['nodeid'])\n",
    "y['count'] = map(int, y['count'])"
   ]
  },
  {
   "cell_type": "code",
   "execution_count": 18,
   "metadata": {},
   "outputs": [
    {
     "data": {
      "text/plain": [
       "[78715, 48694, 27317, 17923, 19789, 42344, 35238, 22190, 19819]"
      ]
     },
     "execution_count": 18,
     "metadata": {},
     "output_type": "execute_result"
    }
   ],
   "source": [
    "map(int,list(y['nodeid'].loc[y['count']>=2]))"
   ]
  },
  {
   "cell_type": "code",
   "execution_count": 42,
   "metadata": {},
   "outputs": [],
   "source": [
    "cases = cdb.query(\"\"\"    \n",
    "                    with data as(\n",
    "                    select distinct nodeid, nys_a.crashid, nys_a.case_num, nys_a.case_yr, num_of_inj from public.nysdot_all nys_a\n",
    "                    join public.nysdot_vehicle nys_v\n",
    "                    on nys_a.crashid = nys_v.crashid\n",
    "                    where accd_type_int in (1,2)\n",
    "                    and masterid::bigint in (SELECT masterid FROM working.\"LTRT\")\n",
    "                    and nys_v.pre_accd_actn in ('02', '03')\n",
    "                    and nys_a.case_yr>= 2013 and nys_a.case_yr<=2017\n",
    "                    and nys_v.veh_typ::int not in (5,6)) \n",
    "\n",
    "                    select data.nodeid, (ltrt.street1, ltrt.street2) as streets, case_num, case_yr from data\n",
    "                    join working.\"LTRT\" ltrt\n",
    "                    on data.nodeid::integer = ltrt.nodeid::integer\n",
    "                    where data.nodeid::integer in (78715, 48694, 27317, 17923, 19789, 42344, 35238, 22190, 19819)\n",
    "                    \"\"\")"
   ]
  },
  {
   "cell_type": "code",
   "execution_count": 43,
   "metadata": {},
   "outputs": [],
   "source": [
    "c = pd.DataFrame(cases.data, columns = ['nodeid','streets','case_num', 'case_yr'])"
   ]
  },
  {
   "cell_type": "code",
   "execution_count": 44,
   "metadata": {},
   "outputs": [],
   "source": [
    "c[['case_num','case_yr']].to_csv('cases_2more.csv', index = False)"
   ]
  },
  {
   "cell_type": "code",
   "execution_count": 38,
   "metadata": {},
   "outputs": [],
   "source": [
    "c.to_csv('cases.csv', index = False)"
   ]
  },
  {
   "cell_type": "code",
   "execution_count": 28,
   "metadata": {},
   "outputs": [],
   "source": [
    "x = x.merge(y, how='left', on='nodeid')"
   ]
  },
  {
   "cell_type": "code",
   "execution_count": 33,
   "metadata": {},
   "outputs": [],
   "source": [
    "x= x.fillna(0)"
   ]
  },
  {
   "cell_type": "code",
   "execution_count": 58,
   "metadata": {},
   "outputs": [],
   "source": [
    "x.to_csv('LT_RT_injuries.csv')\n"
   ]
  }
 ],
 "metadata": {
  "kernelspec": {
   "display_name": "Python 2",
   "language": "python",
   "name": "python2"
  },
  "language_info": {
   "codemirror_mode": {
    "name": "ipython",
    "version": 2
   },
   "file_extension": ".py",
   "mimetype": "text/x-python",
   "name": "python",
   "nbconvert_exporter": "python",
   "pygments_lexer": "ipython2",
   "version": "2.7.16"
  }
 },
 "nbformat": 4,
 "nbformat_minor": 2
}
